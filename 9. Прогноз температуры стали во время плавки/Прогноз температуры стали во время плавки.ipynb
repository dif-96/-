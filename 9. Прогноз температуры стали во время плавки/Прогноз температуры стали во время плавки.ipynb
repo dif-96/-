{
 "cells": [
  {
   "cell_type": "markdown",
   "id": "60fdfeb6",
   "metadata": {},
   "source": [
    "# Прогноз температуры стали во время плавки\n",
    "\n",
    "Цель: построить модель, которая предскажет температуру стали.\n",
    "\n",
    "**Описание этапа обработки**\n",
    "\n",
    "Сталь обрабатывают в металлическом ковше вместимостью около 100 тонн. Чтобы ковш выдерживал высокие температуры, изнутри его облицовывают огнеупорным кирпичом. Расплавленную сталь заливают в ковш и подогревают до нужной температуры графитовыми электродами. Они установлены в крышке ковша. \n",
    "\n",
    "Из сплава выводится сера (десульфурация), добавлением примесей корректируется химический состав и отбираются пробы. Сталь легируют — изменяют её состав — подавая куски сплава из бункера для сыпучих материалов или проволоку через специальный трайб-аппарат (англ. tribe, «масса»).\n",
    "\n",
    "Перед тем как первый раз ввести легирующие добавки, измеряют температуру стали и производят её химический анализ. Потом температуру на несколько минут повышают, добавляют легирующие материалы и продувают сплав инертным газом. Затем его перемешивают и снова проводят измерения. Такой цикл повторяется до достижения целевого химического состава и оптимальной температуры плавки.\n",
    "Тогда расплавленная сталь отправляется на доводку металла или поступает в машину непрерывной разливки. Оттуда готовый продукт выходит в виде заготовок-слябов (англ. slab, «плита»)."
   ]
  },
  {
   "cell_type": "code",
   "execution_count": 1,
   "id": "599dce79",
   "metadata": {},
   "outputs": [],
   "source": [
    "import pandas as pd\n",
    "import numpy as np\n",
    "\n",
    "from sklearn.model_selection import train_test_split, RandomizedSearchCV, cross_val_score\n",
    "from sklearn.feature_selection import f_regression, mutual_info_regression\n",
    "from sklearn.preprocessing import StandardScaler\n",
    "from sklearn.pipeline import Pipeline\n",
    "from sklearn.linear_model import LinearRegression\n",
    "from sklearn.metrics import mean_absolute_error, make_scorer\n",
    "from sklearn.dummy import DummyRegressor\n",
    "\n",
    "from catboost import CatBoostRegressor\n",
    "from lightgbm import LGBMRegressor\n",
    "\n",
    "import matplotlib.pyplot as plt\n",
    "import seaborn as sns\n",
    "\n",
    "import shap\n",
    "\n",
    "import warnings\n",
    "warnings.simplefilter(\"ignore\")"
   ]
  },
  {
   "cell_type": "markdown",
   "id": "60c20758",
   "metadata": {},
   "source": [
    "# 1. Исследовательский анализ данных\n",
    "\n",
    "- `data_arc_new.csv` — данные об электродах;\n",
    "- `data_bulk_new.csv` — данные о подаче сыпучих материалов (объём);\n",
    "- `data_bulk_time_new.csv` — данные о подаче сыпучих материалов (время);\n",
    "- `data_gas_new.csv` — данные о продувке сплава газом;\n",
    "- `data_temp_new.csv` — результаты измерения температуры;\n",
    "- `data_wire_new.csv` — данные о проволочных материалах (объём);\n",
    "- `data_wire_time_new.csv` — данные о проволочных материалах (время)"
   ]
  },
  {
   "cell_type": "code",
   "execution_count": 2,
   "id": "c390392e",
   "metadata": {},
   "outputs": [],
   "source": [
    "try:\n",
    "    data_arc_new = pd.read_csv('data_arc_new.csv', parse_dates=['Начало нагрева дугой', 'Конец нагрева дугой'])\n",
    "    data_bulk_new = pd.read_csv('data_bulk_new.csv')\n",
    "    data_bulk_time_new = pd.read_csv('data_bulk_time_new.csv')\n",
    "    data_gas_new = pd.read_csv('data_gas_new.csv')\n",
    "    data_temp_new = pd.read_csv('data_temp_new.csv', parse_dates=['Время замера'])\n",
    "    data_wire_new = pd.read_csv('data_wire_new.csv')\n",
    "    data_wire_time_new = pd.read_csv('data_wire_time_new.csv')\n",
    "except:\n",
    "    data_arc_new = pd.read_csv('/datasets/data_arc_new.csv', parse_dates=['Начало нагрева дугой', 'Конец нагрева дугой'])\n",
    "    data_bulk_new = pd.read_csv('/datasets/data_bulk_new.csv')\n",
    "    data_bulk_time_new = pd.read_csv('/datasets/data_bulk_time_new.csv')\n",
    "    data_gas_new = pd.read_csv('/datasets/data_gas_new.csv')\n",
    "    data_temp_new = pd.read_csv('/datasets/data_temp_new.csv', parse_dates=['Время замера'])\n",
    "    data_wire_new = pd.read_csv('/datasets/data_wire_new.csv')\n",
    "    data_wire_time_new = pd.read_csv('/datasets/data_wire_time_new.csv')"
   ]
  },
  {
   "cell_type": "markdown",
   "id": "d3d42ca9",
   "metadata": {},
   "source": [
    "## Данные об электродах"
   ]
  },
  {
   "cell_type": "code",
   "execution_count": 3,
   "id": "174efe23",
   "metadata": {},
   "outputs": [
    {
     "data": {
      "text/html": [
       "<div>\n",
       "<style scoped>\n",
       "    .dataframe tbody tr th:only-of-type {\n",
       "        vertical-align: middle;\n",
       "    }\n",
       "\n",
       "    .dataframe tbody tr th {\n",
       "        vertical-align: top;\n",
       "    }\n",
       "\n",
       "    .dataframe thead th {\n",
       "        text-align: right;\n",
       "    }\n",
       "</style>\n",
       "<table border=\"1\" class=\"dataframe\">\n",
       "  <thead>\n",
       "    <tr style=\"text-align: right;\">\n",
       "      <th></th>\n",
       "      <th>key</th>\n",
       "      <th>Начало нагрева дугой</th>\n",
       "      <th>Конец нагрева дугой</th>\n",
       "      <th>Активная мощность</th>\n",
       "      <th>Реактивная мощность</th>\n",
       "    </tr>\n",
       "  </thead>\n",
       "  <tbody>\n",
       "    <tr>\n",
       "      <th>0</th>\n",
       "      <td>1</td>\n",
       "      <td>2019-05-03 11:02:14</td>\n",
       "      <td>2019-05-03 11:06:02</td>\n",
       "      <td>0.305130</td>\n",
       "      <td>0.211253</td>\n",
       "    </tr>\n",
       "    <tr>\n",
       "      <th>1</th>\n",
       "      <td>1</td>\n",
       "      <td>2019-05-03 11:07:28</td>\n",
       "      <td>2019-05-03 11:10:33</td>\n",
       "      <td>0.765658</td>\n",
       "      <td>0.477438</td>\n",
       "    </tr>\n",
       "    <tr>\n",
       "      <th>2</th>\n",
       "      <td>1</td>\n",
       "      <td>2019-05-03 11:11:44</td>\n",
       "      <td>2019-05-03 11:14:36</td>\n",
       "      <td>0.580313</td>\n",
       "      <td>0.430460</td>\n",
       "    </tr>\n",
       "    <tr>\n",
       "      <th>3</th>\n",
       "      <td>1</td>\n",
       "      <td>2019-05-03 11:18:14</td>\n",
       "      <td>2019-05-03 11:24:19</td>\n",
       "      <td>0.518496</td>\n",
       "      <td>0.379979</td>\n",
       "    </tr>\n",
       "    <tr>\n",
       "      <th>4</th>\n",
       "      <td>1</td>\n",
       "      <td>2019-05-03 11:26:09</td>\n",
       "      <td>2019-05-03 11:28:37</td>\n",
       "      <td>0.867133</td>\n",
       "      <td>0.643691</td>\n",
       "    </tr>\n",
       "    <tr>\n",
       "      <th>...</th>\n",
       "      <td>...</td>\n",
       "      <td>...</td>\n",
       "      <td>...</td>\n",
       "      <td>...</td>\n",
       "      <td>...</td>\n",
       "    </tr>\n",
       "    <tr>\n",
       "      <th>14871</th>\n",
       "      <td>3241</td>\n",
       "      <td>2019-09-06 16:49:05</td>\n",
       "      <td>2019-09-06 16:51:42</td>\n",
       "      <td>0.439735</td>\n",
       "      <td>0.299579</td>\n",
       "    </tr>\n",
       "    <tr>\n",
       "      <th>14872</th>\n",
       "      <td>3241</td>\n",
       "      <td>2019-09-06 16:55:11</td>\n",
       "      <td>2019-09-06 16:58:11</td>\n",
       "      <td>0.646498</td>\n",
       "      <td>0.458240</td>\n",
       "    </tr>\n",
       "    <tr>\n",
       "      <th>14873</th>\n",
       "      <td>3241</td>\n",
       "      <td>2019-09-06 17:06:48</td>\n",
       "      <td>2019-09-06 17:09:52</td>\n",
       "      <td>1.039726</td>\n",
       "      <td>0.769302</td>\n",
       "    </tr>\n",
       "    <tr>\n",
       "      <th>14874</th>\n",
       "      <td>3241</td>\n",
       "      <td>2019-09-06 17:21:58</td>\n",
       "      <td>2019-09-06 17:22:55</td>\n",
       "      <td>0.530267</td>\n",
       "      <td>0.361543</td>\n",
       "    </tr>\n",
       "    <tr>\n",
       "      <th>14875</th>\n",
       "      <td>3241</td>\n",
       "      <td>2019-09-06 17:24:54</td>\n",
       "      <td>2019-09-06 17:26:15</td>\n",
       "      <td>0.389057</td>\n",
       "      <td>0.251347</td>\n",
       "    </tr>\n",
       "  </tbody>\n",
       "</table>\n",
       "<p>14876 rows × 5 columns</p>\n",
       "</div>"
      ],
      "text/plain": [
       "        key Начало нагрева дугой Конец нагрева дугой  Активная мощность  \\\n",
       "0         1  2019-05-03 11:02:14 2019-05-03 11:06:02           0.305130   \n",
       "1         1  2019-05-03 11:07:28 2019-05-03 11:10:33           0.765658   \n",
       "2         1  2019-05-03 11:11:44 2019-05-03 11:14:36           0.580313   \n",
       "3         1  2019-05-03 11:18:14 2019-05-03 11:24:19           0.518496   \n",
       "4         1  2019-05-03 11:26:09 2019-05-03 11:28:37           0.867133   \n",
       "...     ...                  ...                 ...                ...   \n",
       "14871  3241  2019-09-06 16:49:05 2019-09-06 16:51:42           0.439735   \n",
       "14872  3241  2019-09-06 16:55:11 2019-09-06 16:58:11           0.646498   \n",
       "14873  3241  2019-09-06 17:06:48 2019-09-06 17:09:52           1.039726   \n",
       "14874  3241  2019-09-06 17:21:58 2019-09-06 17:22:55           0.530267   \n",
       "14875  3241  2019-09-06 17:24:54 2019-09-06 17:26:15           0.389057   \n",
       "\n",
       "       Реактивная мощность  \n",
       "0                 0.211253  \n",
       "1                 0.477438  \n",
       "2                 0.430460  \n",
       "3                 0.379979  \n",
       "4                 0.643691  \n",
       "...                    ...  \n",
       "14871             0.299579  \n",
       "14872             0.458240  \n",
       "14873             0.769302  \n",
       "14874             0.361543  \n",
       "14875             0.251347  \n",
       "\n",
       "[14876 rows x 5 columns]"
      ]
     },
     "execution_count": 3,
     "metadata": {},
     "output_type": "execute_result"
    }
   ],
   "source": [
    "data_arc_new"
   ]
  },
  {
   "cell_type": "markdown",
   "id": "9bf1f9b2",
   "metadata": {},
   "source": [
    "Электроды являются нагревательным элементом. Для каждой партии `'key'` известно начало и конец нагрева, а также активная и реактивная мощность. Всего 3241 партий. \n",
    "Проверю пропуски."
   ]
  },
  {
   "cell_type": "code",
   "execution_count": 4,
   "id": "fb460a83",
   "metadata": {},
   "outputs": [
    {
     "name": "stdout",
     "output_type": "stream",
     "text": [
      "<class 'pandas.core.frame.DataFrame'>\n",
      "RangeIndex: 14876 entries, 0 to 14875\n",
      "Data columns (total 5 columns):\n",
      " #   Column                Non-Null Count  Dtype         \n",
      "---  ------                --------------  -----         \n",
      " 0   key                   14876 non-null  int64         \n",
      " 1   Начало нагрева дугой  14876 non-null  datetime64[ns]\n",
      " 2   Конец нагрева дугой   14876 non-null  datetime64[ns]\n",
      " 3   Активная мощность     14876 non-null  float64       \n",
      " 4   Реактивная мощность   14876 non-null  float64       \n",
      "dtypes: datetime64[ns](2), float64(2), int64(1)\n",
      "memory usage: 581.2 KB\n"
     ]
    }
   ],
   "source": [
    "data_arc_new.info()"
   ]
  },
  {
   "cell_type": "markdown",
   "id": "a71e9e36",
   "metadata": {},
   "source": [
    "Пропусков в таблице нет. Посмотрю распределение количества итераций обработки партий."
   ]
  },
  {
   "cell_type": "code",
   "execution_count": 5,
   "id": "67ee5de3",
   "metadata": {},
   "outputs": [],
   "source": [
    "# Функции визуализации\n",
    "\n",
    "def histplot(df, title, density=True):\n",
    "    '''Функция построения гистограммы плотностей'''\n",
    "    df.hist(bins=int(df.shape[0]/100), density=True, figsize=(10, 6))\n",
    "    plt.ylabel('Плотность')\n",
    "    plt.xlabel(df.name)\n",
    "    plt.title(title)\n",
    "    \n",
    "    plt.axvline(x=df.mean(), label=f'mean={df.mean()}', lw=3, c='r')\n",
    "    plt.axvline(x=df.quantile(0.25), label=f'25%={df.quantile(0.25)}', lw=3, c='g')\n",
    "    plt.axvline(x=df.quantile(0.75), label=f'75%={df.quantile(0.75)}', lw=3, c='g')\n",
    "    \n",
    "    plt.legend()\n",
    "    return\n",
    "\n",
    "def hist_box(df, title, density=True):\n",
    "    '''Функция построения гистограммы плотностей и ящика с усами'''\n",
    "    plt.figure(figsize=(20, 6))\n",
    "    plt.subplot(1,2,1)\n",
    "    histplot(df, title)\n",
    "    \n",
    "    plt.subplot(1,2,2)\n",
    "    sns.boxplot(df)\n",
    "    plt.title('Ящик с усами')\n",
    "    return\n",
    "\n",
    "def barplot(df, title, density=True):\n",
    "    '''Функция построения столбчатой диаграммы'''\n",
    "    df.plot(kind='bar', figsize=(20, 4), grid=True)\n",
    "    plt.ylabel('Количество')\n",
    "    plt.xlabel(df.name)\n",
    "    plt.title(title)\n",
    "    return"
   ]
  },
  {
   "cell_type": "code",
   "execution_count": 6,
   "id": "3ff1fb1d",
   "metadata": {
    "scrolled": false
   },
   "outputs": [
    {
     "data": {
      "image/png": "[encoded data removed]",
      "text/plain": [
       "<Figure size 720x432 with 1 Axes>"
      ]
     },
     "metadata": {
      "needs_background": "light"
     },
     "output_type": "display_data"
    }
   ],
   "source": [
    "histplot(data_arc_new['key'].value_counts(), 'Распределение количества итераций обработки партий')"
   ]
  },
  {
   "cell_type": "code",
   "execution_count": 7,
   "id": "f7309fe9",
   "metadata": {},
   "outputs": [
    {
     "data": {
      "text/plain": [
       "count    3214.000000\n",
       "mean        4.628500\n",
       "std         1.608647\n",
       "min         1.000000\n",
       "25%         4.000000\n",
       "50%         4.000000\n",
       "75%         6.000000\n",
       "max        16.000000\n",
       "Name: key, dtype: float64"
      ]
     },
     "execution_count": 7,
     "metadata": {},
     "output_type": "execute_result"
    }
   ],
   "source": [
    "data_arc_new['key'].value_counts().describe()"
   ]
  },
  {
   "cell_type": "markdown",
   "id": "bfc219f1",
   "metadata": {},
   "source": [
    "Из распределения количества итераций обработки партий можно увидеть, что в основном необходимый состав достигается с помощью 4 итераций нагрыва.\n",
    "\n",
    "Рассчитаю время нагрева каждой итерации, добавив новый столбец '`Время нагрева дугой`'"
   ]
  },
  {
   "cell_type": "code",
   "execution_count": 8,
   "id": "335bdd14",
   "metadata": {},
   "outputs": [],
   "source": [
    "data_arc_new['Время нагрева дугой'] = (data_arc_new['Конец нагрева дугой'] - data_arc_new['Начало нагрева дугой']).dt.seconds"
   ]
  },
  {
   "cell_type": "code",
   "execution_count": 9,
   "id": "4e7a3d00",
   "metadata": {},
   "outputs": [
    {
     "data": {
      "text/html": [
       "<div>\n",
       "<style scoped>\n",
       "    .dataframe tbody tr th:only-of-type {\n",
       "        vertical-align: middle;\n",
       "    }\n",
       "\n",
       "    .dataframe tbody tr th {\n",
       "        vertical-align: top;\n",
       "    }\n",
       "\n",
       "    .dataframe thead th {\n",
       "        text-align: right;\n",
       "    }\n",
       "</style>\n",
       "<table border=\"1\" class=\"dataframe\">\n",
       "  <thead>\n",
       "    <tr style=\"text-align: right;\">\n",
       "      <th></th>\n",
       "      <th>key</th>\n",
       "      <th>Начало нагрева дугой</th>\n",
       "      <th>Конец нагрева дугой</th>\n",
       "      <th>Активная мощность</th>\n",
       "      <th>Реактивная мощность</th>\n",
       "      <th>Время нагрева дугой</th>\n",
       "    </tr>\n",
       "  </thead>\n",
       "  <tbody>\n",
       "    <tr>\n",
       "      <th>0</th>\n",
       "      <td>1</td>\n",
       "      <td>2019-05-03 11:02:14</td>\n",
       "      <td>2019-05-03 11:06:02</td>\n",
       "      <td>0.305130</td>\n",
       "      <td>0.211253</td>\n",
       "      <td>228</td>\n",
       "    </tr>\n",
       "    <tr>\n",
       "      <th>1</th>\n",
       "      <td>1</td>\n",
       "      <td>2019-05-03 11:07:28</td>\n",
       "      <td>2019-05-03 11:10:33</td>\n",
       "      <td>0.765658</td>\n",
       "      <td>0.477438</td>\n",
       "      <td>185</td>\n",
       "    </tr>\n",
       "    <tr>\n",
       "      <th>2</th>\n",
       "      <td>1</td>\n",
       "      <td>2019-05-03 11:11:44</td>\n",
       "      <td>2019-05-03 11:14:36</td>\n",
       "      <td>0.580313</td>\n",
       "      <td>0.430460</td>\n",
       "      <td>172</td>\n",
       "    </tr>\n",
       "    <tr>\n",
       "      <th>3</th>\n",
       "      <td>1</td>\n",
       "      <td>2019-05-03 11:18:14</td>\n",
       "      <td>2019-05-03 11:24:19</td>\n",
       "      <td>0.518496</td>\n",
       "      <td>0.379979</td>\n",
       "      <td>365</td>\n",
       "    </tr>\n",
       "    <tr>\n",
       "      <th>4</th>\n",
       "      <td>1</td>\n",
       "      <td>2019-05-03 11:26:09</td>\n",
       "      <td>2019-05-03 11:28:37</td>\n",
       "      <td>0.867133</td>\n",
       "      <td>0.643691</td>\n",
       "      <td>148</td>\n",
       "    </tr>\n",
       "  </tbody>\n",
       "</table>\n",
       "</div>"
      ],
      "text/plain": [
       "   key Начало нагрева дугой Конец нагрева дугой  Активная мощность  \\\n",
       "0    1  2019-05-03 11:02:14 2019-05-03 11:06:02           0.305130   \n",
       "1    1  2019-05-03 11:07:28 2019-05-03 11:10:33           0.765658   \n",
       "2    1  2019-05-03 11:11:44 2019-05-03 11:14:36           0.580313   \n",
       "3    1  2019-05-03 11:18:14 2019-05-03 11:24:19           0.518496   \n",
       "4    1  2019-05-03 11:26:09 2019-05-03 11:28:37           0.867133   \n",
       "\n",
       "   Реактивная мощность  Время нагрева дугой  \n",
       "0             0.211253                  228  \n",
       "1             0.477438                  185  \n",
       "2             0.430460                  172  \n",
       "3             0.379979                  365  \n",
       "4             0.643691                  148  "
      ]
     },
     "execution_count": 9,
     "metadata": {},
     "output_type": "execute_result"
    }
   ],
   "source": [
    "data_arc_new.head(5)"
   ]
  },
  {
   "cell_type": "code",
   "execution_count": 10,
   "id": "ad70c02a",
   "metadata": {},
   "outputs": [
    {
     "data": {
      "image/png": "[encoded data removed]",
      "text/plain": [
       "<Figure size 720x432 with 2 Axes>"
      ]
     },
     "metadata": {
      "needs_background": "light"
     },
     "output_type": "display_data"
    }
   ],
   "source": [
    "hist_box(data_arc_new['Время нагрева дугой'], 'Распределение времени нагрева дугой каждой итерацией')"
   ]
  },
  {
   "cell_type": "markdown",
   "id": "f615a103",
   "metadata": {},
   "source": [
    "В среднем время нагрева в одной итерации составляет 150 с. По ящику с усами наблюдается много выбросов. Посмотрю распределение суммарного нагрева одной партии"
   ]
  },
  {
   "cell_type": "code",
   "execution_count": 11,
   "id": "ecfd7cb4",
   "metadata": {},
   "outputs": [
    {
     "data": {
      "text/html": [
       "<div>\n",
       "<style scoped>\n",
       "    .dataframe tbody tr th:only-of-type {\n",
       "        vertical-align: middle;\n",
       "    }\n",
       "\n",
       "    .dataframe tbody tr th {\n",
       "        vertical-align: top;\n",
       "    }\n",
       "\n",
       "    .dataframe thead th {\n",
       "        text-align: right;\n",
       "    }\n",
       "</style>\n",
       "<table border=\"1\" class=\"dataframe\">\n",
       "  <thead>\n",
       "    <tr style=\"text-align: right;\">\n",
       "      <th></th>\n",
       "      <th>Активная мощность</th>\n",
       "      <th>Реактивная мощность</th>\n",
       "      <th>Время нагрева дугой</th>\n",
       "    </tr>\n",
       "    <tr>\n",
       "      <th>key</th>\n",
       "      <th></th>\n",
       "      <th></th>\n",
       "      <th></th>\n",
       "    </tr>\n",
       "  </thead>\n",
       "  <tbody>\n",
       "    <tr>\n",
       "      <th>1</th>\n",
       "      <td>3.036730</td>\n",
       "      <td>2.142821</td>\n",
       "      <td>1098</td>\n",
       "    </tr>\n",
       "    <tr>\n",
       "      <th>2</th>\n",
       "      <td>2.139408</td>\n",
       "      <td>1.453357</td>\n",
       "      <td>811</td>\n",
       "    </tr>\n",
       "    <tr>\n",
       "      <th>3</th>\n",
       "      <td>4.063641</td>\n",
       "      <td>2.937457</td>\n",
       "      <td>655</td>\n",
       "    </tr>\n",
       "    <tr>\n",
       "      <th>4</th>\n",
       "      <td>2.706489</td>\n",
       "      <td>2.056992</td>\n",
       "      <td>741</td>\n",
       "    </tr>\n",
       "    <tr>\n",
       "      <th>5</th>\n",
       "      <td>2.252950</td>\n",
       "      <td>1.687991</td>\n",
       "      <td>869</td>\n",
       "    </tr>\n",
       "    <tr>\n",
       "      <th>...</th>\n",
       "      <td>...</td>\n",
       "      <td>...</td>\n",
       "      <td>...</td>\n",
       "    </tr>\n",
       "    <tr>\n",
       "      <th>3237</th>\n",
       "      <td>2.541872</td>\n",
       "      <td>2.025417</td>\n",
       "      <td>909</td>\n",
       "    </tr>\n",
       "    <tr>\n",
       "      <th>3238</th>\n",
       "      <td>1.374821</td>\n",
       "      <td>1.038103</td>\n",
       "      <td>546</td>\n",
       "    </tr>\n",
       "    <tr>\n",
       "      <th>3239</th>\n",
       "      <td>4.848005</td>\n",
       "      <td>3.541541</td>\n",
       "      <td>1216</td>\n",
       "    </tr>\n",
       "    <tr>\n",
       "      <th>3240</th>\n",
       "      <td>3.317679</td>\n",
       "      <td>2.373552</td>\n",
       "      <td>839</td>\n",
       "    </tr>\n",
       "    <tr>\n",
       "      <th>3241</th>\n",
       "      <td>3.045283</td>\n",
       "      <td>2.140011</td>\n",
       "      <td>659</td>\n",
       "    </tr>\n",
       "  </tbody>\n",
       "</table>\n",
       "<p>3214 rows × 3 columns</p>\n",
       "</div>"
      ],
      "text/plain": [
       "      Активная мощность  Реактивная мощность  Время нагрева дугой\n",
       "key                                                              \n",
       "1              3.036730             2.142821                 1098\n",
       "2              2.139408             1.453357                  811\n",
       "3              4.063641             2.937457                  655\n",
       "4              2.706489             2.056992                  741\n",
       "5              2.252950             1.687991                  869\n",
       "...                 ...                  ...                  ...\n",
       "3237           2.541872             2.025417                  909\n",
       "3238           1.374821             1.038103                  546\n",
       "3239           4.848005             3.541541                 1216\n",
       "3240           3.317679             2.373552                  839\n",
       "3241           3.045283             2.140011                  659\n",
       "\n",
       "[3214 rows x 3 columns]"
      ]
     },
     "execution_count": 11,
     "metadata": {},
     "output_type": "execute_result"
    }
   ],
   "source": [
    "data_arc_new.groupby('key').sum()"
   ]
  },
  {
   "cell_type": "code",
   "execution_count": 12,
   "id": "142de799",
   "metadata": {},
   "outputs": [
    {
     "data": {
      "image/png": "[encoded data removed]",
      "text/plain": [
       "<Figure size 720x432 with 2 Axes>"
      ]
     },
     "metadata": {
      "needs_background": "light"
     },
     "output_type": "display_data"
    }
   ],
   "source": [
    "hist_box(data_arc_new.groupby('key').sum()['Время нагрева дугой'], 'Распределение суммарного времени нагрева дугой партии')"
   ]
  },
  {
   "cell_type": "markdown",
   "id": "a93d43be",
   "metadata": {},
   "source": [
    "Распределение суммарного нагрева стало больше походить на стандартное. Количество выбросов меньше, чем в распределении итераций обработки."
   ]
  },
  {
   "cell_type": "code",
   "execution_count": 13,
   "id": "06e2b663",
   "metadata": {},
   "outputs": [
    {
     "data": {
      "image/png": "[encoded data removed]",
      "text/plain": [
       "<Figure size 720x432 with 2 Axes>"
      ]
     },
     "metadata": {
      "needs_background": "light"
     },
     "output_type": "display_data"
    }
   ],
   "source": [
    "for i, s in enumerate(['Активная мощность', 'Реактивная мощность']):\n",
    "    plt.subplot(1, 2, i+1)\n",
    "    histplot(data_arc_new[s], f'{s} партии')"
   ]
  },
  {
   "cell_type": "markdown",
   "id": "f6d093d1",
   "metadata": {},
   "source": [
    "В одной сртоке Реактивная мощность имеет отрицательное значение. Возможно, не корректная запись датчика. Можно предположить, что она на положительна и на три порядка меньше - 0.715. Но лучше перестраховаться и принять выбросом."
   ]
  },
  {
   "cell_type": "code",
   "execution_count": 14,
   "id": "27a26eb5",
   "metadata": {},
   "outputs": [
    {
     "data": {
      "text/html": [
       "<div>\n",
       "<style scoped>\n",
       "    .dataframe tbody tr th:only-of-type {\n",
       "        vertical-align: middle;\n",
       "    }\n",
       "\n",
       "    .dataframe tbody tr th {\n",
       "        vertical-align: top;\n",
       "    }\n",
       "\n",
       "    .dataframe thead th {\n",
       "        text-align: right;\n",
       "    }\n",
       "</style>\n",
       "<table border=\"1\" class=\"dataframe\">\n",
       "  <thead>\n",
       "    <tr style=\"text-align: right;\">\n",
       "      <th></th>\n",
       "      <th>key</th>\n",
       "      <th>Начало нагрева дугой</th>\n",
       "      <th>Конец нагрева дугой</th>\n",
       "      <th>Активная мощность</th>\n",
       "      <th>Реактивная мощность</th>\n",
       "      <th>Время нагрева дугой</th>\n",
       "    </tr>\n",
       "  </thead>\n",
       "  <tbody>\n",
       "    <tr>\n",
       "      <th>9780</th>\n",
       "      <td>2116</td>\n",
       "      <td>2019-07-28 02:22:08</td>\n",
       "      <td>2019-07-28 02:23:57</td>\n",
       "      <td>0.705344</td>\n",
       "      <td>-715.479924</td>\n",
       "      <td>109</td>\n",
       "    </tr>\n",
       "  </tbody>\n",
       "</table>\n",
       "</div>"
      ],
      "text/plain": [
       "       key Начало нагрева дугой Конец нагрева дугой  Активная мощность  \\\n",
       "9780  2116  2019-07-28 02:22:08 2019-07-28 02:23:57           0.705344   \n",
       "\n",
       "      Реактивная мощность  Время нагрева дугой  \n",
       "9780          -715.479924                  109  "
      ]
     },
     "execution_count": 14,
     "metadata": {},
     "output_type": "execute_result"
    }
   ],
   "source": [
    "data_arc_new[data_arc_new['Реактивная мощность'] < 0]"
   ]
  },
  {
   "cell_type": "code",
   "execution_count": 15,
   "id": "54661d41",
   "metadata": {},
   "outputs": [
    {
     "data": {
      "image/png": "[encoded data removed]",
      "text/plain": [
       "<Figure size 720x432 with 1 Axes>"
      ]
     },
     "metadata": {
      "needs_background": "light"
     },
     "output_type": "display_data"
    }
   ],
   "source": [
    "histplot(data_arc_new[data_arc_new['Реактивная мощность'] > 0].groupby('key').sum()['Реактивная мощность'], \n",
    "         'Реактивная мощность партии')"
   ]
  },
  {
   "cell_type": "markdown",
   "id": "fc3cb7c1",
   "metadata": {},
   "source": [
    "**Выводы:**\n",
    "1. Всего 3241 партий\n",
    "2. В каждой партии несколько итераций обработки. Среднее кол-во итерации составляет 4 секунды. Среднее время нагрева каждой итерации 150 с\n",
    "3. Среднее время нагрева всей партии 795 с. Средняя Активная мощность партии - 0.66 каких-то единиц.\n",
    "4. Имеется строка с отрицательной Реактивной мощностью.\n",
    "5. Средняя Реактивная мощность без учета отрицательного значения 2.25 каких-то единиц.\n",
    "6. В таблице приведены данные не по всем партиям `key`."
   ]
  },
  {
   "cell_type": "markdown",
   "id": "63fd0a48",
   "metadata": {},
   "source": [
    "## Данные о подаче сыпучих материалов (объём)"
   ]
  },
  {
   "cell_type": "code",
   "execution_count": 16,
   "id": "f032dce2",
   "metadata": {},
   "outputs": [
    {
     "data": {
      "text/html": [
       "<div>\n",
       "<style scoped>\n",
       "    .dataframe tbody tr th:only-of-type {\n",
       "        vertical-align: middle;\n",
       "    }\n",
       "\n",
       "    .dataframe tbody tr th {\n",
       "        vertical-align: top;\n",
       "    }\n",
       "\n",
       "    .dataframe thead th {\n",
       "        text-align: right;\n",
       "    }\n",
       "</style>\n",
       "<table border=\"1\" class=\"dataframe\">\n",
       "  <thead>\n",
       "    <tr style=\"text-align: right;\">\n",
       "      <th></th>\n",
       "      <th>key</th>\n",
       "      <th>Bulk 1</th>\n",
       "      <th>Bulk 2</th>\n",
       "      <th>Bulk 3</th>\n",
       "      <th>Bulk 4</th>\n",
       "      <th>Bulk 5</th>\n",
       "      <th>Bulk 6</th>\n",
       "      <th>Bulk 7</th>\n",
       "      <th>Bulk 8</th>\n",
       "      <th>Bulk 9</th>\n",
       "      <th>Bulk 10</th>\n",
       "      <th>Bulk 11</th>\n",
       "      <th>Bulk 12</th>\n",
       "      <th>Bulk 13</th>\n",
       "      <th>Bulk 14</th>\n",
       "      <th>Bulk 15</th>\n",
       "    </tr>\n",
       "  </thead>\n",
       "  <tbody>\n",
       "    <tr>\n",
       "      <th>0</th>\n",
       "      <td>1</td>\n",
       "      <td>NaN</td>\n",
       "      <td>NaN</td>\n",
       "      <td>NaN</td>\n",
       "      <td>43.0</td>\n",
       "      <td>NaN</td>\n",
       "      <td>NaN</td>\n",
       "      <td>NaN</td>\n",
       "      <td>NaN</td>\n",
       "      <td>NaN</td>\n",
       "      <td>NaN</td>\n",
       "      <td>NaN</td>\n",
       "      <td>206.0</td>\n",
       "      <td>NaN</td>\n",
       "      <td>150.0</td>\n",
       "      <td>154.0</td>\n",
       "    </tr>\n",
       "    <tr>\n",
       "      <th>1</th>\n",
       "      <td>2</td>\n",
       "      <td>NaN</td>\n",
       "      <td>NaN</td>\n",
       "      <td>NaN</td>\n",
       "      <td>73.0</td>\n",
       "      <td>NaN</td>\n",
       "      <td>NaN</td>\n",
       "      <td>NaN</td>\n",
       "      <td>NaN</td>\n",
       "      <td>NaN</td>\n",
       "      <td>NaN</td>\n",
       "      <td>NaN</td>\n",
       "      <td>206.0</td>\n",
       "      <td>NaN</td>\n",
       "      <td>149.0</td>\n",
       "      <td>154.0</td>\n",
       "    </tr>\n",
       "    <tr>\n",
       "      <th>2</th>\n",
       "      <td>3</td>\n",
       "      <td>NaN</td>\n",
       "      <td>NaN</td>\n",
       "      <td>NaN</td>\n",
       "      <td>34.0</td>\n",
       "      <td>NaN</td>\n",
       "      <td>NaN</td>\n",
       "      <td>NaN</td>\n",
       "      <td>NaN</td>\n",
       "      <td>NaN</td>\n",
       "      <td>NaN</td>\n",
       "      <td>NaN</td>\n",
       "      <td>205.0</td>\n",
       "      <td>NaN</td>\n",
       "      <td>152.0</td>\n",
       "      <td>153.0</td>\n",
       "    </tr>\n",
       "    <tr>\n",
       "      <th>3</th>\n",
       "      <td>4</td>\n",
       "      <td>NaN</td>\n",
       "      <td>NaN</td>\n",
       "      <td>NaN</td>\n",
       "      <td>81.0</td>\n",
       "      <td>NaN</td>\n",
       "      <td>NaN</td>\n",
       "      <td>NaN</td>\n",
       "      <td>NaN</td>\n",
       "      <td>NaN</td>\n",
       "      <td>NaN</td>\n",
       "      <td>NaN</td>\n",
       "      <td>207.0</td>\n",
       "      <td>NaN</td>\n",
       "      <td>153.0</td>\n",
       "      <td>154.0</td>\n",
       "    </tr>\n",
       "    <tr>\n",
       "      <th>4</th>\n",
       "      <td>5</td>\n",
       "      <td>NaN</td>\n",
       "      <td>NaN</td>\n",
       "      <td>NaN</td>\n",
       "      <td>78.0</td>\n",
       "      <td>NaN</td>\n",
       "      <td>NaN</td>\n",
       "      <td>NaN</td>\n",
       "      <td>NaN</td>\n",
       "      <td>NaN</td>\n",
       "      <td>NaN</td>\n",
       "      <td>NaN</td>\n",
       "      <td>203.0</td>\n",
       "      <td>NaN</td>\n",
       "      <td>151.0</td>\n",
       "      <td>152.0</td>\n",
       "    </tr>\n",
       "    <tr>\n",
       "      <th>...</th>\n",
       "      <td>...</td>\n",
       "      <td>...</td>\n",
       "      <td>...</td>\n",
       "      <td>...</td>\n",
       "      <td>...</td>\n",
       "      <td>...</td>\n",
       "      <td>...</td>\n",
       "      <td>...</td>\n",
       "      <td>...</td>\n",
       "      <td>...</td>\n",
       "      <td>...</td>\n",
       "      <td>...</td>\n",
       "      <td>...</td>\n",
       "      <td>...</td>\n",
       "      <td>...</td>\n",
       "      <td>...</td>\n",
       "    </tr>\n",
       "    <tr>\n",
       "      <th>3124</th>\n",
       "      <td>3237</td>\n",
       "      <td>NaN</td>\n",
       "      <td>NaN</td>\n",
       "      <td>170.0</td>\n",
       "      <td>NaN</td>\n",
       "      <td>NaN</td>\n",
       "      <td>NaN</td>\n",
       "      <td>NaN</td>\n",
       "      <td>NaN</td>\n",
       "      <td>NaN</td>\n",
       "      <td>NaN</td>\n",
       "      <td>NaN</td>\n",
       "      <td>252.0</td>\n",
       "      <td>NaN</td>\n",
       "      <td>130.0</td>\n",
       "      <td>206.0</td>\n",
       "    </tr>\n",
       "    <tr>\n",
       "      <th>3125</th>\n",
       "      <td>3238</td>\n",
       "      <td>NaN</td>\n",
       "      <td>NaN</td>\n",
       "      <td>126.0</td>\n",
       "      <td>NaN</td>\n",
       "      <td>NaN</td>\n",
       "      <td>NaN</td>\n",
       "      <td>NaN</td>\n",
       "      <td>NaN</td>\n",
       "      <td>NaN</td>\n",
       "      <td>NaN</td>\n",
       "      <td>NaN</td>\n",
       "      <td>254.0</td>\n",
       "      <td>NaN</td>\n",
       "      <td>108.0</td>\n",
       "      <td>106.0</td>\n",
       "    </tr>\n",
       "    <tr>\n",
       "      <th>3126</th>\n",
       "      <td>3239</td>\n",
       "      <td>NaN</td>\n",
       "      <td>NaN</td>\n",
       "      <td>NaN</td>\n",
       "      <td>NaN</td>\n",
       "      <td>NaN</td>\n",
       "      <td>114.0</td>\n",
       "      <td>NaN</td>\n",
       "      <td>NaN</td>\n",
       "      <td>NaN</td>\n",
       "      <td>NaN</td>\n",
       "      <td>NaN</td>\n",
       "      <td>158.0</td>\n",
       "      <td>NaN</td>\n",
       "      <td>270.0</td>\n",
       "      <td>88.0</td>\n",
       "    </tr>\n",
       "    <tr>\n",
       "      <th>3127</th>\n",
       "      <td>3240</td>\n",
       "      <td>NaN</td>\n",
       "      <td>NaN</td>\n",
       "      <td>NaN</td>\n",
       "      <td>NaN</td>\n",
       "      <td>NaN</td>\n",
       "      <td>26.0</td>\n",
       "      <td>NaN</td>\n",
       "      <td>NaN</td>\n",
       "      <td>NaN</td>\n",
       "      <td>NaN</td>\n",
       "      <td>NaN</td>\n",
       "      <td>NaN</td>\n",
       "      <td>NaN</td>\n",
       "      <td>192.0</td>\n",
       "      <td>54.0</td>\n",
       "    </tr>\n",
       "    <tr>\n",
       "      <th>3128</th>\n",
       "      <td>3241</td>\n",
       "      <td>NaN</td>\n",
       "      <td>NaN</td>\n",
       "      <td>NaN</td>\n",
       "      <td>NaN</td>\n",
       "      <td>NaN</td>\n",
       "      <td>NaN</td>\n",
       "      <td>NaN</td>\n",
       "      <td>NaN</td>\n",
       "      <td>NaN</td>\n",
       "      <td>NaN</td>\n",
       "      <td>NaN</td>\n",
       "      <td>NaN</td>\n",
       "      <td>NaN</td>\n",
       "      <td>180.0</td>\n",
       "      <td>52.0</td>\n",
       "    </tr>\n",
       "  </tbody>\n",
       "</table>\n",
       "<p>3129 rows × 16 columns</p>\n",
       "</div>"
      ],
      "text/plain": [
       "       key  Bulk 1  Bulk 2  Bulk 3  Bulk 4  Bulk 5  Bulk 6  Bulk 7  Bulk 8  \\\n",
       "0        1     NaN     NaN     NaN    43.0     NaN     NaN     NaN     NaN   \n",
       "1        2     NaN     NaN     NaN    73.0     NaN     NaN     NaN     NaN   \n",
       "2        3     NaN     NaN     NaN    34.0     NaN     NaN     NaN     NaN   \n",
       "3        4     NaN     NaN     NaN    81.0     NaN     NaN     NaN     NaN   \n",
       "4        5     NaN     NaN     NaN    78.0     NaN     NaN     NaN     NaN   \n",
       "...    ...     ...     ...     ...     ...     ...     ...     ...     ...   \n",
       "3124  3237     NaN     NaN   170.0     NaN     NaN     NaN     NaN     NaN   \n",
       "3125  3238     NaN     NaN   126.0     NaN     NaN     NaN     NaN     NaN   \n",
       "3126  3239     NaN     NaN     NaN     NaN     NaN   114.0     NaN     NaN   \n",
       "3127  3240     NaN     NaN     NaN     NaN     NaN    26.0     NaN     NaN   \n",
       "3128  3241     NaN     NaN     NaN     NaN     NaN     NaN     NaN     NaN   \n",
       "\n",
       "      Bulk 9  Bulk 10  Bulk 11  Bulk 12  Bulk 13  Bulk 14  Bulk 15  \n",
       "0        NaN      NaN      NaN    206.0      NaN    150.0    154.0  \n",
       "1        NaN      NaN      NaN    206.0      NaN    149.0    154.0  \n",
       "2        NaN      NaN      NaN    205.0      NaN    152.0    153.0  \n",
       "3        NaN      NaN      NaN    207.0      NaN    153.0    154.0  \n",
       "4        NaN      NaN      NaN    203.0      NaN    151.0    152.0  \n",
       "...      ...      ...      ...      ...      ...      ...      ...  \n",
       "3124     NaN      NaN      NaN    252.0      NaN    130.0    206.0  \n",
       "3125     NaN      NaN      NaN    254.0      NaN    108.0    106.0  \n",
       "3126     NaN      NaN      NaN    158.0      NaN    270.0     88.0  \n",
       "3127     NaN      NaN      NaN      NaN      NaN    192.0     54.0  \n",
       "3128     NaN      NaN      NaN      NaN      NaN    180.0     52.0  \n",
       "\n",
       "[3129 rows x 16 columns]"
      ]
     },
     "execution_count": 16,
     "metadata": {},
     "output_type": "execute_result"
    }
   ],
   "source": [
    "data_bulk_new"
   ]
  },
  {
   "cell_type": "code",
   "execution_count": 17,
   "id": "f0f44bba",
   "metadata": {},
   "outputs": [
    {
     "name": "stdout",
     "output_type": "stream",
     "text": [
      "<class 'pandas.core.frame.DataFrame'>\n",
      "RangeIndex: 3129 entries, 0 to 3128\n",
      "Data columns (total 16 columns):\n",
      " #   Column   Non-Null Count  Dtype  \n",
      "---  ------   --------------  -----  \n",
      " 0   key      3129 non-null   int64  \n",
      " 1   Bulk 1   252 non-null    float64\n",
      " 2   Bulk 2   22 non-null     float64\n",
      " 3   Bulk 3   1298 non-null   float64\n",
      " 4   Bulk 4   1014 non-null   float64\n",
      " 5   Bulk 5   77 non-null     float64\n",
      " 6   Bulk 6   576 non-null    float64\n",
      " 7   Bulk 7   25 non-null     float64\n",
      " 8   Bulk 8   1 non-null      float64\n",
      " 9   Bulk 9   19 non-null     float64\n",
      " 10  Bulk 10  176 non-null    float64\n",
      " 11  Bulk 11  177 non-null    float64\n",
      " 12  Bulk 12  2450 non-null   float64\n",
      " 13  Bulk 13  18 non-null     float64\n",
      " 14  Bulk 14  2806 non-null   float64\n",
      " 15  Bulk 15  2248 non-null   float64\n",
      "dtypes: float64(15), int64(1)\n",
      "memory usage: 391.2 KB\n"
     ]
    }
   ],
   "source": [
    "data_bulk_new.info()"
   ]
  },
  {
   "cell_type": "code",
   "execution_count": 18,
   "id": "63148e12",
   "metadata": {},
   "outputs": [
    {
     "data": {
      "text/html": [
       "<div>\n",
       "<style scoped>\n",
       "    .dataframe tbody tr th:only-of-type {\n",
       "        vertical-align: middle;\n",
       "    }\n",
       "\n",
       "    .dataframe tbody tr th {\n",
       "        vertical-align: top;\n",
       "    }\n",
       "\n",
       "    .dataframe thead th {\n",
       "        text-align: right;\n",
       "    }\n",
       "</style>\n",
       "<table border=\"1\" class=\"dataframe\">\n",
       "  <thead>\n",
       "    <tr style=\"text-align: right;\">\n",
       "      <th></th>\n",
       "      <th>key</th>\n",
       "      <th>Bulk 1</th>\n",
       "      <th>Bulk 2</th>\n",
       "      <th>Bulk 3</th>\n",
       "      <th>Bulk 4</th>\n",
       "      <th>Bulk 5</th>\n",
       "      <th>Bulk 6</th>\n",
       "      <th>Bulk 7</th>\n",
       "      <th>Bulk 8</th>\n",
       "      <th>Bulk 9</th>\n",
       "      <th>Bulk 10</th>\n",
       "      <th>Bulk 11</th>\n",
       "      <th>Bulk 12</th>\n",
       "      <th>Bulk 13</th>\n",
       "      <th>Bulk 14</th>\n",
       "      <th>Bulk 15</th>\n",
       "    </tr>\n",
       "  </thead>\n",
       "  <tbody>\n",
       "    <tr>\n",
       "      <th>count</th>\n",
       "      <td>3129.000000</td>\n",
       "      <td>252.000000</td>\n",
       "      <td>22.000000</td>\n",
       "      <td>1298.000000</td>\n",
       "      <td>1014.000000</td>\n",
       "      <td>77.000000</td>\n",
       "      <td>576.000000</td>\n",
       "      <td>25.000000</td>\n",
       "      <td>1.0</td>\n",
       "      <td>19.000000</td>\n",
       "      <td>176.000000</td>\n",
       "      <td>177.000000</td>\n",
       "      <td>2450.000000</td>\n",
       "      <td>18.000000</td>\n",
       "      <td>2806.000000</td>\n",
       "      <td>2248.000000</td>\n",
       "    </tr>\n",
       "    <tr>\n",
       "      <th>mean</th>\n",
       "      <td>1624.383509</td>\n",
       "      <td>39.242063</td>\n",
       "      <td>253.045455</td>\n",
       "      <td>113.879045</td>\n",
       "      <td>104.394477</td>\n",
       "      <td>107.025974</td>\n",
       "      <td>118.925347</td>\n",
       "      <td>305.600000</td>\n",
       "      <td>49.0</td>\n",
       "      <td>76.315789</td>\n",
       "      <td>83.284091</td>\n",
       "      <td>76.819209</td>\n",
       "      <td>260.471020</td>\n",
       "      <td>181.111111</td>\n",
       "      <td>170.284747</td>\n",
       "      <td>160.513345</td>\n",
       "    </tr>\n",
       "    <tr>\n",
       "      <th>std</th>\n",
       "      <td>933.337642</td>\n",
       "      <td>18.277654</td>\n",
       "      <td>21.180578</td>\n",
       "      <td>75.483494</td>\n",
       "      <td>48.184126</td>\n",
       "      <td>81.790646</td>\n",
       "      <td>72.057776</td>\n",
       "      <td>191.022904</td>\n",
       "      <td>NaN</td>\n",
       "      <td>21.720581</td>\n",
       "      <td>26.060347</td>\n",
       "      <td>59.655365</td>\n",
       "      <td>120.649269</td>\n",
       "      <td>46.088009</td>\n",
       "      <td>65.868652</td>\n",
       "      <td>51.765319</td>\n",
       "    </tr>\n",
       "    <tr>\n",
       "      <th>min</th>\n",
       "      <td>1.000000</td>\n",
       "      <td>10.000000</td>\n",
       "      <td>228.000000</td>\n",
       "      <td>6.000000</td>\n",
       "      <td>12.000000</td>\n",
       "      <td>11.000000</td>\n",
       "      <td>17.000000</td>\n",
       "      <td>47.000000</td>\n",
       "      <td>49.0</td>\n",
       "      <td>63.000000</td>\n",
       "      <td>24.000000</td>\n",
       "      <td>8.000000</td>\n",
       "      <td>53.000000</td>\n",
       "      <td>151.000000</td>\n",
       "      <td>16.000000</td>\n",
       "      <td>1.000000</td>\n",
       "    </tr>\n",
       "    <tr>\n",
       "      <th>25%</th>\n",
       "      <td>816.000000</td>\n",
       "      <td>27.000000</td>\n",
       "      <td>242.000000</td>\n",
       "      <td>58.000000</td>\n",
       "      <td>72.000000</td>\n",
       "      <td>70.000000</td>\n",
       "      <td>69.750000</td>\n",
       "      <td>155.000000</td>\n",
       "      <td>49.0</td>\n",
       "      <td>66.000000</td>\n",
       "      <td>64.000000</td>\n",
       "      <td>25.000000</td>\n",
       "      <td>204.000000</td>\n",
       "      <td>153.250000</td>\n",
       "      <td>119.000000</td>\n",
       "      <td>105.000000</td>\n",
       "    </tr>\n",
       "    <tr>\n",
       "      <th>50%</th>\n",
       "      <td>1622.000000</td>\n",
       "      <td>31.000000</td>\n",
       "      <td>251.500000</td>\n",
       "      <td>97.500000</td>\n",
       "      <td>102.000000</td>\n",
       "      <td>86.000000</td>\n",
       "      <td>100.000000</td>\n",
       "      <td>298.000000</td>\n",
       "      <td>49.0</td>\n",
       "      <td>68.000000</td>\n",
       "      <td>86.500000</td>\n",
       "      <td>64.000000</td>\n",
       "      <td>208.000000</td>\n",
       "      <td>155.500000</td>\n",
       "      <td>151.000000</td>\n",
       "      <td>160.000000</td>\n",
       "    </tr>\n",
       "    <tr>\n",
       "      <th>75%</th>\n",
       "      <td>2431.000000</td>\n",
       "      <td>46.000000</td>\n",
       "      <td>257.750000</td>\n",
       "      <td>152.000000</td>\n",
       "      <td>133.000000</td>\n",
       "      <td>132.000000</td>\n",
       "      <td>157.000000</td>\n",
       "      <td>406.000000</td>\n",
       "      <td>49.0</td>\n",
       "      <td>70.500000</td>\n",
       "      <td>102.000000</td>\n",
       "      <td>106.000000</td>\n",
       "      <td>316.000000</td>\n",
       "      <td>203.500000</td>\n",
       "      <td>205.750000</td>\n",
       "      <td>205.000000</td>\n",
       "    </tr>\n",
       "    <tr>\n",
       "      <th>max</th>\n",
       "      <td>3241.000000</td>\n",
       "      <td>185.000000</td>\n",
       "      <td>325.000000</td>\n",
       "      <td>454.000000</td>\n",
       "      <td>281.000000</td>\n",
       "      <td>603.000000</td>\n",
       "      <td>503.000000</td>\n",
       "      <td>772.000000</td>\n",
       "      <td>49.0</td>\n",
       "      <td>147.000000</td>\n",
       "      <td>159.000000</td>\n",
       "      <td>313.000000</td>\n",
       "      <td>1849.000000</td>\n",
       "      <td>305.000000</td>\n",
       "      <td>636.000000</td>\n",
       "      <td>405.000000</td>\n",
       "    </tr>\n",
       "  </tbody>\n",
       "</table>\n",
       "</div>"
      ],
      "text/plain": [
       "               key      Bulk 1      Bulk 2       Bulk 3       Bulk 4  \\\n",
       "count  3129.000000  252.000000   22.000000  1298.000000  1014.000000   \n",
       "mean   1624.383509   39.242063  253.045455   113.879045   104.394477   \n",
       "std     933.337642   18.277654   21.180578    75.483494    48.184126   \n",
       "min       1.000000   10.000000  228.000000     6.000000    12.000000   \n",
       "25%     816.000000   27.000000  242.000000    58.000000    72.000000   \n",
       "50%    1622.000000   31.000000  251.500000    97.500000   102.000000   \n",
       "75%    2431.000000   46.000000  257.750000   152.000000   133.000000   \n",
       "max    3241.000000  185.000000  325.000000   454.000000   281.000000   \n",
       "\n",
       "           Bulk 5      Bulk 6      Bulk 7  Bulk 8      Bulk 9     Bulk 10  \\\n",
       "count   77.000000  576.000000   25.000000     1.0   19.000000  176.000000   \n",
       "mean   107.025974  118.925347  305.600000    49.0   76.315789   83.284091   \n",
       "std     81.790646   72.057776  191.022904     NaN   21.720581   26.060347   \n",
       "min     11.000000   17.000000   47.000000    49.0   63.000000   24.000000   \n",
       "25%     70.000000   69.750000  155.000000    49.0   66.000000   64.000000   \n",
       "50%     86.000000  100.000000  298.000000    49.0   68.000000   86.500000   \n",
       "75%    132.000000  157.000000  406.000000    49.0   70.500000  102.000000   \n",
       "max    603.000000  503.000000  772.000000    49.0  147.000000  159.000000   \n",
       "\n",
       "          Bulk 11      Bulk 12     Bulk 13      Bulk 14      Bulk 15  \n",
       "count  177.000000  2450.000000   18.000000  2806.000000  2248.000000  \n",
       "mean    76.819209   260.471020  181.111111   170.284747   160.513345  \n",
       "std     59.655365   120.649269   46.088009    65.868652    51.765319  \n",
       "min      8.000000    53.000000  151.000000    16.000000     1.000000  \n",
       "25%     25.000000   204.000000  153.250000   119.000000   105.000000  \n",
       "50%     64.000000   208.000000  155.500000   151.000000   160.000000  \n",
       "75%    106.000000   316.000000  203.500000   205.750000   205.000000  \n",
       "max    313.000000  1849.000000  305.000000   636.000000   405.000000  "
      ]
     },
     "execution_count": 18,
     "metadata": {},
     "output_type": "execute_result"
    }
   ],
   "source": [
    "data_bulk_new.describe()"
   ]
  },
  {
   "cell_type": "code",
   "execution_count": 19,
   "id": "35919177",
   "metadata": {},
   "outputs": [
    {
     "data": {
      "image/png": "[encoded data removed]",
      "text/plain": [
       "<Figure size 1440x288 with 1 Axes>"
      ]
     },
     "metadata": {
      "needs_background": "light"
     },
     "output_type": "display_data"
    }
   ],
   "source": [
    "barplot(data_bulk_new.count()[1:], 'Количество использований различных добавок легирования')"
   ]
  },
  {
   "cell_type": "markdown",
   "id": "d1abe13f",
   "metadata": {},
   "source": [
    "**Вывод:**\n",
    "1. В таблице приведены добавки для всей партии, а не итераций обработки. То есть не ясно в какой момент времени она была добавлена (об этом, вероятно, информация есть в `data_bulk_time_new`)\n",
    "2. Можно соеденить с `data_arc_new`, ссумируя общее времи нагрева и мощности последней\n",
    "3. Чаще других используется добавка №14\n",
    "4. Есть партии, в которые не добавляли добавки"
   ]
  },
  {
   "cell_type": "markdown",
   "id": "0051247c",
   "metadata": {},
   "source": [
    "## Данные о подаче сыпучих материалов (время)"
   ]
  },
  {
   "cell_type": "code",
   "execution_count": 20,
   "id": "65f8fc6d",
   "metadata": {},
   "outputs": [
    {
     "data": {
      "text/html": [
       "<div>\n",
       "<style scoped>\n",
       "    .dataframe tbody tr th:only-of-type {\n",
       "        vertical-align: middle;\n",
       "    }\n",
       "\n",
       "    .dataframe tbody tr th {\n",
       "        vertical-align: top;\n",
       "    }\n",
       "\n",
       "    .dataframe thead th {\n",
       "        text-align: right;\n",
       "    }\n",
       "</style>\n",
       "<table border=\"1\" class=\"dataframe\">\n",
       "  <thead>\n",
       "    <tr style=\"text-align: right;\">\n",
       "      <th></th>\n",
       "      <th>key</th>\n",
       "      <th>Bulk 1</th>\n",
       "      <th>Bulk 2</th>\n",
       "      <th>Bulk 3</th>\n",
       "      <th>Bulk 4</th>\n",
       "      <th>Bulk 5</th>\n",
       "      <th>Bulk 6</th>\n",
       "      <th>Bulk 7</th>\n",
       "      <th>Bulk 8</th>\n",
       "      <th>Bulk 9</th>\n",
       "      <th>Bulk 10</th>\n",
       "      <th>Bulk 11</th>\n",
       "      <th>Bulk 12</th>\n",
       "      <th>Bulk 13</th>\n",
       "      <th>Bulk 14</th>\n",
       "      <th>Bulk 15</th>\n",
       "    </tr>\n",
       "  </thead>\n",
       "  <tbody>\n",
       "    <tr>\n",
       "      <th>0</th>\n",
       "      <td>1</td>\n",
       "      <td>NaN</td>\n",
       "      <td>NaN</td>\n",
       "      <td>NaN</td>\n",
       "      <td>2019-05-03 11:28:48</td>\n",
       "      <td>NaN</td>\n",
       "      <td>NaN</td>\n",
       "      <td>NaN</td>\n",
       "      <td>NaN</td>\n",
       "      <td>NaN</td>\n",
       "      <td>NaN</td>\n",
       "      <td>NaN</td>\n",
       "      <td>2019-05-03 11:24:31</td>\n",
       "      <td>NaN</td>\n",
       "      <td>2019-05-03 11:14:50</td>\n",
       "      <td>2019-05-03 11:10:43</td>\n",
       "    </tr>\n",
       "    <tr>\n",
       "      <th>1</th>\n",
       "      <td>2</td>\n",
       "      <td>NaN</td>\n",
       "      <td>NaN</td>\n",
       "      <td>NaN</td>\n",
       "      <td>2019-05-03 11:36:50</td>\n",
       "      <td>NaN</td>\n",
       "      <td>NaN</td>\n",
       "      <td>NaN</td>\n",
       "      <td>NaN</td>\n",
       "      <td>NaN</td>\n",
       "      <td>NaN</td>\n",
       "      <td>NaN</td>\n",
       "      <td>2019-05-03 11:53:30</td>\n",
       "      <td>NaN</td>\n",
       "      <td>2019-05-03 11:48:37</td>\n",
       "      <td>2019-05-03 11:44:39</td>\n",
       "    </tr>\n",
       "    <tr>\n",
       "      <th>2</th>\n",
       "      <td>3</td>\n",
       "      <td>NaN</td>\n",
       "      <td>NaN</td>\n",
       "      <td>NaN</td>\n",
       "      <td>2019-05-03 12:32:39</td>\n",
       "      <td>NaN</td>\n",
       "      <td>NaN</td>\n",
       "      <td>NaN</td>\n",
       "      <td>NaN</td>\n",
       "      <td>NaN</td>\n",
       "      <td>NaN</td>\n",
       "      <td>NaN</td>\n",
       "      <td>2019-05-03 12:27:13</td>\n",
       "      <td>NaN</td>\n",
       "      <td>2019-05-03 12:21:01</td>\n",
       "      <td>2019-05-03 12:16:16</td>\n",
       "    </tr>\n",
       "    <tr>\n",
       "      <th>3</th>\n",
       "      <td>4</td>\n",
       "      <td>NaN</td>\n",
       "      <td>NaN</td>\n",
       "      <td>NaN</td>\n",
       "      <td>2019-05-03 12:43:22</td>\n",
       "      <td>NaN</td>\n",
       "      <td>NaN</td>\n",
       "      <td>NaN</td>\n",
       "      <td>NaN</td>\n",
       "      <td>NaN</td>\n",
       "      <td>NaN</td>\n",
       "      <td>NaN</td>\n",
       "      <td>2019-05-03 12:58:00</td>\n",
       "      <td>NaN</td>\n",
       "      <td>2019-05-03 12:51:11</td>\n",
       "      <td>2019-05-03 12:46:36</td>\n",
       "    </tr>\n",
       "    <tr>\n",
       "      <th>4</th>\n",
       "      <td>5</td>\n",
       "      <td>NaN</td>\n",
       "      <td>NaN</td>\n",
       "      <td>NaN</td>\n",
       "      <td>2019-05-03 13:30:47</td>\n",
       "      <td>NaN</td>\n",
       "      <td>NaN</td>\n",
       "      <td>NaN</td>\n",
       "      <td>NaN</td>\n",
       "      <td>NaN</td>\n",
       "      <td>NaN</td>\n",
       "      <td>NaN</td>\n",
       "      <td>2019-05-03 13:30:47</td>\n",
       "      <td>NaN</td>\n",
       "      <td>2019-05-03 13:34:12</td>\n",
       "      <td>2019-05-03 13:30:47</td>\n",
       "    </tr>\n",
       "    <tr>\n",
       "      <th>...</th>\n",
       "      <td>...</td>\n",
       "      <td>...</td>\n",
       "      <td>...</td>\n",
       "      <td>...</td>\n",
       "      <td>...</td>\n",
       "      <td>...</td>\n",
       "      <td>...</td>\n",
       "      <td>...</td>\n",
       "      <td>...</td>\n",
       "      <td>...</td>\n",
       "      <td>...</td>\n",
       "      <td>...</td>\n",
       "      <td>...</td>\n",
       "      <td>...</td>\n",
       "      <td>...</td>\n",
       "      <td>...</td>\n",
       "    </tr>\n",
       "    <tr>\n",
       "      <th>3124</th>\n",
       "      <td>3237</td>\n",
       "      <td>NaN</td>\n",
       "      <td>NaN</td>\n",
       "      <td>2019-09-06 11:54:15</td>\n",
       "      <td>NaN</td>\n",
       "      <td>NaN</td>\n",
       "      <td>NaN</td>\n",
       "      <td>NaN</td>\n",
       "      <td>NaN</td>\n",
       "      <td>NaN</td>\n",
       "      <td>NaN</td>\n",
       "      <td>NaN</td>\n",
       "      <td>2019-09-06 11:49:45</td>\n",
       "      <td>NaN</td>\n",
       "      <td>2019-09-06 11:45:22</td>\n",
       "      <td>2019-09-06 11:40:06</td>\n",
       "    </tr>\n",
       "    <tr>\n",
       "      <th>3125</th>\n",
       "      <td>3238</td>\n",
       "      <td>NaN</td>\n",
       "      <td>NaN</td>\n",
       "      <td>2019-09-06 12:26:52</td>\n",
       "      <td>NaN</td>\n",
       "      <td>NaN</td>\n",
       "      <td>NaN</td>\n",
       "      <td>NaN</td>\n",
       "      <td>NaN</td>\n",
       "      <td>NaN</td>\n",
       "      <td>NaN</td>\n",
       "      <td>NaN</td>\n",
       "      <td>2019-09-06 12:18:35</td>\n",
       "      <td>NaN</td>\n",
       "      <td>2019-09-06 12:31:49</td>\n",
       "      <td>2019-09-06 12:26:52</td>\n",
       "    </tr>\n",
       "    <tr>\n",
       "      <th>3126</th>\n",
       "      <td>3239</td>\n",
       "      <td>NaN</td>\n",
       "      <td>NaN</td>\n",
       "      <td>NaN</td>\n",
       "      <td>NaN</td>\n",
       "      <td>NaN</td>\n",
       "      <td>2019-09-06 15:06:00</td>\n",
       "      <td>NaN</td>\n",
       "      <td>NaN</td>\n",
       "      <td>NaN</td>\n",
       "      <td>NaN</td>\n",
       "      <td>NaN</td>\n",
       "      <td>2019-09-06 15:01:44</td>\n",
       "      <td>NaN</td>\n",
       "      <td>2019-09-06 14:58:15</td>\n",
       "      <td>2019-09-06 14:48:06</td>\n",
       "    </tr>\n",
       "    <tr>\n",
       "      <th>3127</th>\n",
       "      <td>3240</td>\n",
       "      <td>NaN</td>\n",
       "      <td>NaN</td>\n",
       "      <td>NaN</td>\n",
       "      <td>NaN</td>\n",
       "      <td>NaN</td>\n",
       "      <td>2019-09-06 16:24:28</td>\n",
       "      <td>NaN</td>\n",
       "      <td>NaN</td>\n",
       "      <td>NaN</td>\n",
       "      <td>NaN</td>\n",
       "      <td>NaN</td>\n",
       "      <td>NaN</td>\n",
       "      <td>NaN</td>\n",
       "      <td>2019-09-06 16:07:29</td>\n",
       "      <td>2019-09-06 16:01:34</td>\n",
       "    </tr>\n",
       "    <tr>\n",
       "      <th>3128</th>\n",
       "      <td>3241</td>\n",
       "      <td>NaN</td>\n",
       "      <td>NaN</td>\n",
       "      <td>NaN</td>\n",
       "      <td>NaN</td>\n",
       "      <td>NaN</td>\n",
       "      <td>NaN</td>\n",
       "      <td>NaN</td>\n",
       "      <td>NaN</td>\n",
       "      <td>NaN</td>\n",
       "      <td>NaN</td>\n",
       "      <td>NaN</td>\n",
       "      <td>NaN</td>\n",
       "      <td>NaN</td>\n",
       "      <td>2019-09-06 17:26:33</td>\n",
       "      <td>2019-09-06 17:23:15</td>\n",
       "    </tr>\n",
       "  </tbody>\n",
       "</table>\n",
       "<p>3129 rows × 16 columns</p>\n",
       "</div>"
      ],
      "text/plain": [
       "       key Bulk 1 Bulk 2               Bulk 3               Bulk 4 Bulk 5  \\\n",
       "0        1    NaN    NaN                  NaN  2019-05-03 11:28:48    NaN   \n",
       "1        2    NaN    NaN                  NaN  2019-05-03 11:36:50    NaN   \n",
       "2        3    NaN    NaN                  NaN  2019-05-03 12:32:39    NaN   \n",
       "3        4    NaN    NaN                  NaN  2019-05-03 12:43:22    NaN   \n",
       "4        5    NaN    NaN                  NaN  2019-05-03 13:30:47    NaN   \n",
       "...    ...    ...    ...                  ...                  ...    ...   \n",
       "3124  3237    NaN    NaN  2019-09-06 11:54:15                  NaN    NaN   \n",
       "3125  3238    NaN    NaN  2019-09-06 12:26:52                  NaN    NaN   \n",
       "3126  3239    NaN    NaN                  NaN                  NaN    NaN   \n",
       "3127  3240    NaN    NaN                  NaN                  NaN    NaN   \n",
       "3128  3241    NaN    NaN                  NaN                  NaN    NaN   \n",
       "\n",
       "                   Bulk 6 Bulk 7 Bulk 8 Bulk 9 Bulk 10 Bulk 11  \\\n",
       "0                     NaN    NaN    NaN    NaN     NaN     NaN   \n",
       "1                     NaN    NaN    NaN    NaN     NaN     NaN   \n",
       "2                     NaN    NaN    NaN    NaN     NaN     NaN   \n",
       "3                     NaN    NaN    NaN    NaN     NaN     NaN   \n",
       "4                     NaN    NaN    NaN    NaN     NaN     NaN   \n",
       "...                   ...    ...    ...    ...     ...     ...   \n",
       "3124                  NaN    NaN    NaN    NaN     NaN     NaN   \n",
       "3125                  NaN    NaN    NaN    NaN     NaN     NaN   \n",
       "3126  2019-09-06 15:06:00    NaN    NaN    NaN     NaN     NaN   \n",
       "3127  2019-09-06 16:24:28    NaN    NaN    NaN     NaN     NaN   \n",
       "3128                  NaN    NaN    NaN    NaN     NaN     NaN   \n",
       "\n",
       "                  Bulk 12 Bulk 13              Bulk 14              Bulk 15  \n",
       "0     2019-05-03 11:24:31     NaN  2019-05-03 11:14:50  2019-05-03 11:10:43  \n",
       "1     2019-05-03 11:53:30     NaN  2019-05-03 11:48:37  2019-05-03 11:44:39  \n",
       "2     2019-05-03 12:27:13     NaN  2019-05-03 12:21:01  2019-05-03 12:16:16  \n",
       "3     2019-05-03 12:58:00     NaN  2019-05-03 12:51:11  2019-05-03 12:46:36  \n",
       "4     2019-05-03 13:30:47     NaN  2019-05-03 13:34:12  2019-05-03 13:30:47  \n",
       "...                   ...     ...                  ...                  ...  \n",
       "3124  2019-09-06 11:49:45     NaN  2019-09-06 11:45:22  2019-09-06 11:40:06  \n",
       "3125  2019-09-06 12:18:35     NaN  2019-09-06 12:31:49  2019-09-06 12:26:52  \n",
       "3126  2019-09-06 15:01:44     NaN  2019-09-06 14:58:15  2019-09-06 14:48:06  \n",
       "3127                  NaN     NaN  2019-09-06 16:07:29  2019-09-06 16:01:34  \n",
       "3128                  NaN     NaN  2019-09-06 17:26:33  2019-09-06 17:23:15  \n",
       "\n",
       "[3129 rows x 16 columns]"
      ]
     },
     "execution_count": 20,
     "metadata": {},
     "output_type": "execute_result"
    }
   ],
   "source": [
    "data_bulk_time_new"
   ]
  },
  {
   "cell_type": "code",
   "execution_count": 21,
   "id": "30603c64",
   "metadata": {},
   "outputs": [
    {
     "name": "stdout",
     "output_type": "stream",
     "text": [
      "<class 'pandas.core.frame.DataFrame'>\n",
      "RangeIndex: 3129 entries, 0 to 3128\n",
      "Data columns (total 16 columns):\n",
      " #   Column   Non-Null Count  Dtype \n",
      "---  ------   --------------  ----- \n",
      " 0   key      3129 non-null   int64 \n",
      " 1   Bulk 1   252 non-null    object\n",
      " 2   Bulk 2   22 non-null     object\n",
      " 3   Bulk 3   1298 non-null   object\n",
      " 4   Bulk 4   1014 non-null   object\n",
      " 5   Bulk 5   77 non-null     object\n",
      " 6   Bulk 6   576 non-null    object\n",
      " 7   Bulk 7   25 non-null     object\n",
      " 8   Bulk 8   1 non-null      object\n",
      " 9   Bulk 9   19 non-null     object\n",
      " 10  Bulk 10  176 non-null    object\n",
      " 11  Bulk 11  177 non-null    object\n",
      " 12  Bulk 12  2450 non-null   object\n",
      " 13  Bulk 13  18 non-null     object\n",
      " 14  Bulk 14  2806 non-null   object\n",
      " 15  Bulk 15  2248 non-null   object\n",
      "dtypes: int64(1), object(15)\n",
      "memory usage: 391.2+ KB\n"
     ]
    }
   ],
   "source": [
    "data_bulk_time_new.info()"
   ]
  },
  {
   "cell_type": "markdown",
   "id": "9ca6ce65",
   "metadata": {},
   "source": [
    "**Вывод:**\n",
    "Действительно, таблица совпадает с `data_bulk_new`, только вместо объемов указано время добавления. В теории, по времени добавления лигирующего материала можно соотнести с итерацией нагрева в `data_arc_new`"
   ]
  },
  {
   "cell_type": "markdown",
   "id": "8a2cf0f2",
   "metadata": {},
   "source": [
    "## Данные о продувке сплава газом"
   ]
  },
  {
   "cell_type": "code",
   "execution_count": 22,
   "id": "4854d35e",
   "metadata": {},
   "outputs": [
    {
     "data": {
      "text/html": [
       "<div>\n",
       "<style scoped>\n",
       "    .dataframe tbody tr th:only-of-type {\n",
       "        vertical-align: middle;\n",
       "    }\n",
       "\n",
       "    .dataframe tbody tr th {\n",
       "        vertical-align: top;\n",
       "    }\n",
       "\n",
       "    .dataframe thead th {\n",
       "        text-align: right;\n",
       "    }\n",
       "</style>\n",
       "<table border=\"1\" class=\"dataframe\">\n",
       "  <thead>\n",
       "    <tr style=\"text-align: right;\">\n",
       "      <th></th>\n",
       "      <th>key</th>\n",
       "      <th>Газ 1</th>\n",
       "    </tr>\n",
       "  </thead>\n",
       "  <tbody>\n",
       "    <tr>\n",
       "      <th>0</th>\n",
       "      <td>1</td>\n",
       "      <td>29.749986</td>\n",
       "    </tr>\n",
       "    <tr>\n",
       "      <th>1</th>\n",
       "      <td>2</td>\n",
       "      <td>12.555561</td>\n",
       "    </tr>\n",
       "    <tr>\n",
       "      <th>2</th>\n",
       "      <td>3</td>\n",
       "      <td>28.554793</td>\n",
       "    </tr>\n",
       "    <tr>\n",
       "      <th>3</th>\n",
       "      <td>4</td>\n",
       "      <td>18.841219</td>\n",
       "    </tr>\n",
       "    <tr>\n",
       "      <th>4</th>\n",
       "      <td>5</td>\n",
       "      <td>5.413692</td>\n",
       "    </tr>\n",
       "    <tr>\n",
       "      <th>...</th>\n",
       "      <td>...</td>\n",
       "      <td>...</td>\n",
       "    </tr>\n",
       "    <tr>\n",
       "      <th>3234</th>\n",
       "      <td>3237</td>\n",
       "      <td>5.543905</td>\n",
       "    </tr>\n",
       "    <tr>\n",
       "      <th>3235</th>\n",
       "      <td>3238</td>\n",
       "      <td>6.745669</td>\n",
       "    </tr>\n",
       "    <tr>\n",
       "      <th>3236</th>\n",
       "      <td>3239</td>\n",
       "      <td>16.023518</td>\n",
       "    </tr>\n",
       "    <tr>\n",
       "      <th>3237</th>\n",
       "      <td>3240</td>\n",
       "      <td>11.863103</td>\n",
       "    </tr>\n",
       "    <tr>\n",
       "      <th>3238</th>\n",
       "      <td>3241</td>\n",
       "      <td>12.680959</td>\n",
       "    </tr>\n",
       "  </tbody>\n",
       "</table>\n",
       "<p>3239 rows × 2 columns</p>\n",
       "</div>"
      ],
      "text/plain": [
       "       key      Газ 1\n",
       "0        1  29.749986\n",
       "1        2  12.555561\n",
       "2        3  28.554793\n",
       "3        4  18.841219\n",
       "4        5   5.413692\n",
       "...    ...        ...\n",
       "3234  3237   5.543905\n",
       "3235  3238   6.745669\n",
       "3236  3239  16.023518\n",
       "3237  3240  11.863103\n",
       "3238  3241  12.680959\n",
       "\n",
       "[3239 rows x 2 columns]"
      ]
     },
     "execution_count": 22,
     "metadata": {},
     "output_type": "execute_result"
    }
   ],
   "source": [
    "data_gas_new"
   ]
  },
  {
   "cell_type": "code",
   "execution_count": 23,
   "id": "5fc87817",
   "metadata": {},
   "outputs": [
    {
     "data": {
      "image/png": "[encoded data removed]",
      "text/plain": [
       "<Figure size 720x432 with 2 Axes>"
      ]
     },
     "metadata": {
      "needs_background": "light"
     },
     "output_type": "display_data"
    }
   ],
   "source": [
    "hist_box(data_gas_new['Газ 1'], 'Распределение продувки сплава газом')"
   ]
  },
  {
   "cell_type": "markdown",
   "id": "2b5a4f4b",
   "metadata": {},
   "source": [
    "**Выводы:**\n",
    "1. В таблице приведены данные не по всем партиям `key`\n",
    "2. Делать выводы по данной таблице преждевременно из-за непонятности данных. Степень важности данных определить не удалось\n"
   ]
  },
  {
   "cell_type": "markdown",
   "id": "2fac8e09",
   "metadata": {},
   "source": [
    "## Результаты измерения температуры"
   ]
  },
  {
   "cell_type": "code",
   "execution_count": 24,
   "id": "542ee6d1",
   "metadata": {},
   "outputs": [
    {
     "data": {
      "text/html": [
       "<div>\n",
       "<style scoped>\n",
       "    .dataframe tbody tr th:only-of-type {\n",
       "        vertical-align: middle;\n",
       "    }\n",
       "\n",
       "    .dataframe tbody tr th {\n",
       "        vertical-align: top;\n",
       "    }\n",
       "\n",
       "    .dataframe thead th {\n",
       "        text-align: right;\n",
       "    }\n",
       "</style>\n",
       "<table border=\"1\" class=\"dataframe\">\n",
       "  <thead>\n",
       "    <tr style=\"text-align: right;\">\n",
       "      <th></th>\n",
       "      <th>key</th>\n",
       "      <th>Время замера</th>\n",
       "      <th>Температура</th>\n",
       "    </tr>\n",
       "  </thead>\n",
       "  <tbody>\n",
       "    <tr>\n",
       "      <th>0</th>\n",
       "      <td>1</td>\n",
       "      <td>2019-05-03 11:02:04</td>\n",
       "      <td>1571.0</td>\n",
       "    </tr>\n",
       "    <tr>\n",
       "      <th>1</th>\n",
       "      <td>1</td>\n",
       "      <td>2019-05-03 11:07:18</td>\n",
       "      <td>1604.0</td>\n",
       "    </tr>\n",
       "    <tr>\n",
       "      <th>2</th>\n",
       "      <td>1</td>\n",
       "      <td>2019-05-03 11:11:34</td>\n",
       "      <td>1618.0</td>\n",
       "    </tr>\n",
       "    <tr>\n",
       "      <th>3</th>\n",
       "      <td>1</td>\n",
       "      <td>2019-05-03 11:18:04</td>\n",
       "      <td>1601.0</td>\n",
       "    </tr>\n",
       "    <tr>\n",
       "      <th>4</th>\n",
       "      <td>1</td>\n",
       "      <td>2019-05-03 11:25:59</td>\n",
       "      <td>1606.0</td>\n",
       "    </tr>\n",
       "    <tr>\n",
       "      <th>...</th>\n",
       "      <td>...</td>\n",
       "      <td>...</td>\n",
       "      <td>...</td>\n",
       "    </tr>\n",
       "    <tr>\n",
       "      <th>18087</th>\n",
       "      <td>3241</td>\n",
       "      <td>2019-09-06 16:55:01</td>\n",
       "      <td>NaN</td>\n",
       "    </tr>\n",
       "    <tr>\n",
       "      <th>18088</th>\n",
       "      <td>3241</td>\n",
       "      <td>2019-09-06 17:06:38</td>\n",
       "      <td>NaN</td>\n",
       "    </tr>\n",
       "    <tr>\n",
       "      <th>18089</th>\n",
       "      <td>3241</td>\n",
       "      <td>2019-09-06 17:21:48</td>\n",
       "      <td>NaN</td>\n",
       "    </tr>\n",
       "    <tr>\n",
       "      <th>18090</th>\n",
       "      <td>3241</td>\n",
       "      <td>2019-09-06 17:24:44</td>\n",
       "      <td>NaN</td>\n",
       "    </tr>\n",
       "    <tr>\n",
       "      <th>18091</th>\n",
       "      <td>3241</td>\n",
       "      <td>2019-09-06 17:30:05</td>\n",
       "      <td>NaN</td>\n",
       "    </tr>\n",
       "  </tbody>\n",
       "</table>\n",
       "<p>18092 rows × 3 columns</p>\n",
       "</div>"
      ],
      "text/plain": [
       "        key        Время замера  Температура\n",
       "0         1 2019-05-03 11:02:04       1571.0\n",
       "1         1 2019-05-03 11:07:18       1604.0\n",
       "2         1 2019-05-03 11:11:34       1618.0\n",
       "3         1 2019-05-03 11:18:04       1601.0\n",
       "4         1 2019-05-03 11:25:59       1606.0\n",
       "...     ...                 ...          ...\n",
       "18087  3241 2019-09-06 16:55:01          NaN\n",
       "18088  3241 2019-09-06 17:06:38          NaN\n",
       "18089  3241 2019-09-06 17:21:48          NaN\n",
       "18090  3241 2019-09-06 17:24:44          NaN\n",
       "18091  3241 2019-09-06 17:30:05          NaN\n",
       "\n",
       "[18092 rows x 3 columns]"
      ]
     },
     "execution_count": 24,
     "metadata": {},
     "output_type": "execute_result"
    }
   ],
   "source": [
    "data_temp_new"
   ]
  },
  {
   "cell_type": "code",
   "execution_count": 25,
   "id": "46216bd7",
   "metadata": {},
   "outputs": [
    {
     "name": "stdout",
     "output_type": "stream",
     "text": [
      "<class 'pandas.core.frame.DataFrame'>\n",
      "RangeIndex: 18092 entries, 0 to 18091\n",
      "Data columns (total 3 columns):\n",
      " #   Column        Non-Null Count  Dtype         \n",
      "---  ------        --------------  -----         \n",
      " 0   key           18092 non-null  int64         \n",
      " 1   Время замера  18092 non-null  datetime64[ns]\n",
      " 2   Температура   14665 non-null  float64       \n",
      "dtypes: datetime64[ns](1), float64(1), int64(1)\n",
      "memory usage: 424.2 KB\n"
     ]
    }
   ],
   "source": [
    "data_temp_new.info()"
   ]
  },
  {
   "cell_type": "code",
   "execution_count": 26,
   "id": "afc05912",
   "metadata": {},
   "outputs": [
    {
     "data": {
      "text/html": [
       "<div>\n",
       "<style scoped>\n",
       "    .dataframe tbody tr th:only-of-type {\n",
       "        vertical-align: middle;\n",
       "    }\n",
       "\n",
       "    .dataframe tbody tr th {\n",
       "        vertical-align: top;\n",
       "    }\n",
       "\n",
       "    .dataframe thead th {\n",
       "        text-align: right;\n",
       "    }\n",
       "</style>\n",
       "<table border=\"1\" class=\"dataframe\">\n",
       "  <thead>\n",
       "    <tr style=\"text-align: right;\">\n",
       "      <th></th>\n",
       "      <th>Температура</th>\n",
       "    </tr>\n",
       "    <tr>\n",
       "      <th>key</th>\n",
       "      <th></th>\n",
       "    </tr>\n",
       "  </thead>\n",
       "  <tbody>\n",
       "    <tr>\n",
       "      <th>1</th>\n",
       "      <td>1602.166667</td>\n",
       "    </tr>\n",
       "    <tr>\n",
       "      <th>2</th>\n",
       "      <td>1590.600000</td>\n",
       "    </tr>\n",
       "    <tr>\n",
       "      <th>3</th>\n",
       "      <td>1598.166667</td>\n",
       "    </tr>\n",
       "    <tr>\n",
       "      <th>4</th>\n",
       "      <td>1616.800000</td>\n",
       "    </tr>\n",
       "    <tr>\n",
       "      <th>5</th>\n",
       "      <td>1589.000000</td>\n",
       "    </tr>\n",
       "    <tr>\n",
       "      <th>...</th>\n",
       "      <td>...</td>\n",
       "    </tr>\n",
       "    <tr>\n",
       "      <th>3237</th>\n",
       "      <td>1569.000000</td>\n",
       "    </tr>\n",
       "    <tr>\n",
       "      <th>3238</th>\n",
       "      <td>1584.000000</td>\n",
       "    </tr>\n",
       "    <tr>\n",
       "      <th>3239</th>\n",
       "      <td>1598.000000</td>\n",
       "    </tr>\n",
       "    <tr>\n",
       "      <th>3240</th>\n",
       "      <td>1617.000000</td>\n",
       "    </tr>\n",
       "    <tr>\n",
       "      <th>3241</th>\n",
       "      <td>1586.000000</td>\n",
       "    </tr>\n",
       "  </tbody>\n",
       "</table>\n",
       "<p>3216 rows × 1 columns</p>\n",
       "</div>"
      ],
      "text/plain": [
       "      Температура\n",
       "key              \n",
       "1     1602.166667\n",
       "2     1590.600000\n",
       "3     1598.166667\n",
       "4     1616.800000\n",
       "5     1589.000000\n",
       "...           ...\n",
       "3237  1569.000000\n",
       "3238  1584.000000\n",
       "3239  1598.000000\n",
       "3240  1617.000000\n",
       "3241  1586.000000\n",
       "\n",
       "[3216 rows x 1 columns]"
      ]
     },
     "execution_count": 26,
     "metadata": {},
     "output_type": "execute_result"
    }
   ],
   "source": [
    "data_temp_new.groupby('key').mean()"
   ]
  },
  {
   "cell_type": "code",
   "execution_count": 27,
   "id": "e09358e0",
   "metadata": {},
   "outputs": [
    {
     "data": {
      "image/png": "[encoded data removed]",
      "text/plain": [
       "<Figure size 720x432 with 2 Axes>"
      ]
     },
     "metadata": {
      "needs_background": "light"
     },
     "output_type": "display_data"
    }
   ],
   "source": [
    "hist_box(data_temp_new.groupby('key').mean()['Температура'], 'Распределение средней температуры для каждой партии')"
   ]
  },
  {
   "cell_type": "markdown",
   "id": "741f5bc8",
   "metadata": {},
   "source": [
    "**Выводы:**\n",
    "1. Целевая переменная располагается в данной таблице - последняя температура итерации.\n",
    "2. Для каждой итерации обработки можно сопоставить температуру по времени замера.\n",
    "3. Имеются пропуски замеров температур.\n",
    "4. Количество данных по итерациям меньше, чем в данных об электродах.\n",
    "5. С каждой итерацией изменение температуры не монотонное\n",
    "6. Количество партий не соответствует в данных об электродах.\n",
    "7. Распределение средней температуры обработки каждой партии подобно стандартному распределению. Имеются выбросы. Выбросы могут говорить о нештатных ситуациях во время обработки."
   ]
  },
  {
   "cell_type": "markdown",
   "id": "4a2a2464",
   "metadata": {},
   "source": [
    "## Данные о проволочных материалах (объём)"
   ]
  },
  {
   "cell_type": "code",
   "execution_count": 28,
   "id": "5ab31eec",
   "metadata": {},
   "outputs": [
    {
     "data": {
      "text/html": [
       "<div>\n",
       "<style scoped>\n",
       "    .dataframe tbody tr th:only-of-type {\n",
       "        vertical-align: middle;\n",
       "    }\n",
       "\n",
       "    .dataframe tbody tr th {\n",
       "        vertical-align: top;\n",
       "    }\n",
       "\n",
       "    .dataframe thead th {\n",
       "        text-align: right;\n",
       "    }\n",
       "</style>\n",
       "<table border=\"1\" class=\"dataframe\">\n",
       "  <thead>\n",
       "    <tr style=\"text-align: right;\">\n",
       "      <th></th>\n",
       "      <th>key</th>\n",
       "      <th>Wire 1</th>\n",
       "      <th>Wire 2</th>\n",
       "      <th>Wire 3</th>\n",
       "      <th>Wire 4</th>\n",
       "      <th>Wire 5</th>\n",
       "      <th>Wire 6</th>\n",
       "      <th>Wire 7</th>\n",
       "      <th>Wire 8</th>\n",
       "      <th>Wire 9</th>\n",
       "    </tr>\n",
       "  </thead>\n",
       "  <tbody>\n",
       "    <tr>\n",
       "      <th>0</th>\n",
       "      <td>1</td>\n",
       "      <td>60.059998</td>\n",
       "      <td>NaN</td>\n",
       "      <td>NaN</td>\n",
       "      <td>NaN</td>\n",
       "      <td>NaN</td>\n",
       "      <td>NaN</td>\n",
       "      <td>NaN</td>\n",
       "      <td>NaN</td>\n",
       "      <td>NaN</td>\n",
       "    </tr>\n",
       "    <tr>\n",
       "      <th>1</th>\n",
       "      <td>2</td>\n",
       "      <td>96.052315</td>\n",
       "      <td>NaN</td>\n",
       "      <td>NaN</td>\n",
       "      <td>NaN</td>\n",
       "      <td>NaN</td>\n",
       "      <td>NaN</td>\n",
       "      <td>NaN</td>\n",
       "      <td>NaN</td>\n",
       "      <td>NaN</td>\n",
       "    </tr>\n",
       "    <tr>\n",
       "      <th>2</th>\n",
       "      <td>3</td>\n",
       "      <td>91.160157</td>\n",
       "      <td>NaN</td>\n",
       "      <td>NaN</td>\n",
       "      <td>NaN</td>\n",
       "      <td>NaN</td>\n",
       "      <td>NaN</td>\n",
       "      <td>NaN</td>\n",
       "      <td>NaN</td>\n",
       "      <td>NaN</td>\n",
       "    </tr>\n",
       "    <tr>\n",
       "      <th>3</th>\n",
       "      <td>4</td>\n",
       "      <td>89.063515</td>\n",
       "      <td>NaN</td>\n",
       "      <td>NaN</td>\n",
       "      <td>NaN</td>\n",
       "      <td>NaN</td>\n",
       "      <td>NaN</td>\n",
       "      <td>NaN</td>\n",
       "      <td>NaN</td>\n",
       "      <td>NaN</td>\n",
       "    </tr>\n",
       "    <tr>\n",
       "      <th>4</th>\n",
       "      <td>5</td>\n",
       "      <td>89.238236</td>\n",
       "      <td>9.11456</td>\n",
       "      <td>NaN</td>\n",
       "      <td>NaN</td>\n",
       "      <td>NaN</td>\n",
       "      <td>NaN</td>\n",
       "      <td>NaN</td>\n",
       "      <td>NaN</td>\n",
       "      <td>NaN</td>\n",
       "    </tr>\n",
       "    <tr>\n",
       "      <th>...</th>\n",
       "      <td>...</td>\n",
       "      <td>...</td>\n",
       "      <td>...</td>\n",
       "      <td>...</td>\n",
       "      <td>...</td>\n",
       "      <td>...</td>\n",
       "      <td>...</td>\n",
       "      <td>...</td>\n",
       "      <td>...</td>\n",
       "      <td>...</td>\n",
       "    </tr>\n",
       "    <tr>\n",
       "      <th>3076</th>\n",
       "      <td>3237</td>\n",
       "      <td>38.088959</td>\n",
       "      <td>NaN</td>\n",
       "      <td>NaN</td>\n",
       "      <td>NaN</td>\n",
       "      <td>NaN</td>\n",
       "      <td>NaN</td>\n",
       "      <td>NaN</td>\n",
       "      <td>NaN</td>\n",
       "      <td>NaN</td>\n",
       "    </tr>\n",
       "    <tr>\n",
       "      <th>3077</th>\n",
       "      <td>3238</td>\n",
       "      <td>56.128799</td>\n",
       "      <td>NaN</td>\n",
       "      <td>NaN</td>\n",
       "      <td>NaN</td>\n",
       "      <td>NaN</td>\n",
       "      <td>NaN</td>\n",
       "      <td>NaN</td>\n",
       "      <td>NaN</td>\n",
       "      <td>NaN</td>\n",
       "    </tr>\n",
       "    <tr>\n",
       "      <th>3078</th>\n",
       "      <td>3239</td>\n",
       "      <td>143.357761</td>\n",
       "      <td>NaN</td>\n",
       "      <td>NaN</td>\n",
       "      <td>NaN</td>\n",
       "      <td>NaN</td>\n",
       "      <td>NaN</td>\n",
       "      <td>NaN</td>\n",
       "      <td>NaN</td>\n",
       "      <td>NaN</td>\n",
       "    </tr>\n",
       "    <tr>\n",
       "      <th>3079</th>\n",
       "      <td>3240</td>\n",
       "      <td>34.070400</td>\n",
       "      <td>NaN</td>\n",
       "      <td>NaN</td>\n",
       "      <td>NaN</td>\n",
       "      <td>NaN</td>\n",
       "      <td>NaN</td>\n",
       "      <td>NaN</td>\n",
       "      <td>NaN</td>\n",
       "      <td>NaN</td>\n",
       "    </tr>\n",
       "    <tr>\n",
       "      <th>3080</th>\n",
       "      <td>3241</td>\n",
       "      <td>63.117595</td>\n",
       "      <td>NaN</td>\n",
       "      <td>NaN</td>\n",
       "      <td>NaN</td>\n",
       "      <td>NaN</td>\n",
       "      <td>NaN</td>\n",
       "      <td>NaN</td>\n",
       "      <td>NaN</td>\n",
       "      <td>NaN</td>\n",
       "    </tr>\n",
       "  </tbody>\n",
       "</table>\n",
       "<p>3081 rows × 10 columns</p>\n",
       "</div>"
      ],
      "text/plain": [
       "       key      Wire 1   Wire 2  Wire 3  Wire 4  Wire 5  Wire 6  Wire 7  \\\n",
       "0        1   60.059998      NaN     NaN     NaN     NaN     NaN     NaN   \n",
       "1        2   96.052315      NaN     NaN     NaN     NaN     NaN     NaN   \n",
       "2        3   91.160157      NaN     NaN     NaN     NaN     NaN     NaN   \n",
       "3        4   89.063515      NaN     NaN     NaN     NaN     NaN     NaN   \n",
       "4        5   89.238236  9.11456     NaN     NaN     NaN     NaN     NaN   \n",
       "...    ...         ...      ...     ...     ...     ...     ...     ...   \n",
       "3076  3237   38.088959      NaN     NaN     NaN     NaN     NaN     NaN   \n",
       "3077  3238   56.128799      NaN     NaN     NaN     NaN     NaN     NaN   \n",
       "3078  3239  143.357761      NaN     NaN     NaN     NaN     NaN     NaN   \n",
       "3079  3240   34.070400      NaN     NaN     NaN     NaN     NaN     NaN   \n",
       "3080  3241   63.117595      NaN     NaN     NaN     NaN     NaN     NaN   \n",
       "\n",
       "      Wire 8  Wire 9  \n",
       "0        NaN     NaN  \n",
       "1        NaN     NaN  \n",
       "2        NaN     NaN  \n",
       "3        NaN     NaN  \n",
       "4        NaN     NaN  \n",
       "...      ...     ...  \n",
       "3076     NaN     NaN  \n",
       "3077     NaN     NaN  \n",
       "3078     NaN     NaN  \n",
       "3079     NaN     NaN  \n",
       "3080     NaN     NaN  \n",
       "\n",
       "[3081 rows x 10 columns]"
      ]
     },
     "execution_count": 28,
     "metadata": {},
     "output_type": "execute_result"
    }
   ],
   "source": [
    "data_wire_new"
   ]
  },
  {
   "cell_type": "code",
   "execution_count": 29,
   "id": "c0e3adcc",
   "metadata": {},
   "outputs": [
    {
     "name": "stdout",
     "output_type": "stream",
     "text": [
      "<class 'pandas.core.frame.DataFrame'>\n",
      "RangeIndex: 3081 entries, 0 to 3080\n",
      "Data columns (total 10 columns):\n",
      " #   Column  Non-Null Count  Dtype  \n",
      "---  ------  --------------  -----  \n",
      " 0   key     3081 non-null   int64  \n",
      " 1   Wire 1  3055 non-null   float64\n",
      " 2   Wire 2  1079 non-null   float64\n",
      " 3   Wire 3  63 non-null     float64\n",
      " 4   Wire 4  14 non-null     float64\n",
      " 5   Wire 5  1 non-null      float64\n",
      " 6   Wire 6  73 non-null     float64\n",
      " 7   Wire 7  11 non-null     float64\n",
      " 8   Wire 8  19 non-null     float64\n",
      " 9   Wire 9  29 non-null     float64\n",
      "dtypes: float64(9), int64(1)\n",
      "memory usage: 240.8 KB\n"
     ]
    }
   ],
   "source": [
    "data_wire_new.info()"
   ]
  },
  {
   "cell_type": "code",
   "execution_count": 30,
   "id": "6158c07b",
   "metadata": {},
   "outputs": [
    {
     "data": {
      "text/html": [
       "<div>\n",
       "<style scoped>\n",
       "    .dataframe tbody tr th:only-of-type {\n",
       "        vertical-align: middle;\n",
       "    }\n",
       "\n",
       "    .dataframe tbody tr th {\n",
       "        vertical-align: top;\n",
       "    }\n",
       "\n",
       "    .dataframe thead th {\n",
       "        text-align: right;\n",
       "    }\n",
       "</style>\n",
       "<table border=\"1\" class=\"dataframe\">\n",
       "  <thead>\n",
       "    <tr style=\"text-align: right;\">\n",
       "      <th></th>\n",
       "      <th>key</th>\n",
       "      <th>Wire 1</th>\n",
       "      <th>Wire 2</th>\n",
       "      <th>Wire 3</th>\n",
       "      <th>Wire 4</th>\n",
       "      <th>Wire 5</th>\n",
       "      <th>Wire 6</th>\n",
       "      <th>Wire 7</th>\n",
       "      <th>Wire 8</th>\n",
       "      <th>Wire 9</th>\n",
       "    </tr>\n",
       "  </thead>\n",
       "  <tbody>\n",
       "    <tr>\n",
       "      <th>count</th>\n",
       "      <td>3081.000000</td>\n",
       "      <td>3055.000000</td>\n",
       "      <td>1079.000000</td>\n",
       "      <td>63.000000</td>\n",
       "      <td>14.000000</td>\n",
       "      <td>1.000</td>\n",
       "      <td>73.000000</td>\n",
       "      <td>11.000000</td>\n",
       "      <td>19.000000</td>\n",
       "      <td>29.000000</td>\n",
       "    </tr>\n",
       "    <tr>\n",
       "      <th>mean</th>\n",
       "      <td>1623.426485</td>\n",
       "      <td>100.895853</td>\n",
       "      <td>50.577323</td>\n",
       "      <td>189.482681</td>\n",
       "      <td>57.442842</td>\n",
       "      <td>15.132</td>\n",
       "      <td>48.016974</td>\n",
       "      <td>10.039007</td>\n",
       "      <td>53.625193</td>\n",
       "      <td>34.155752</td>\n",
       "    </tr>\n",
       "    <tr>\n",
       "      <th>std</th>\n",
       "      <td>932.996726</td>\n",
       "      <td>42.012518</td>\n",
       "      <td>39.320216</td>\n",
       "      <td>99.513444</td>\n",
       "      <td>28.824667</td>\n",
       "      <td>NaN</td>\n",
       "      <td>33.919845</td>\n",
       "      <td>8.610584</td>\n",
       "      <td>16.881728</td>\n",
       "      <td>19.931616</td>\n",
       "    </tr>\n",
       "    <tr>\n",
       "      <th>min</th>\n",
       "      <td>1.000000</td>\n",
       "      <td>1.918800</td>\n",
       "      <td>0.030160</td>\n",
       "      <td>0.144144</td>\n",
       "      <td>24.148801</td>\n",
       "      <td>15.132</td>\n",
       "      <td>0.034320</td>\n",
       "      <td>0.234208</td>\n",
       "      <td>45.076721</td>\n",
       "      <td>4.622800</td>\n",
       "    </tr>\n",
       "    <tr>\n",
       "      <th>25%</th>\n",
       "      <td>823.000000</td>\n",
       "      <td>72.115684</td>\n",
       "      <td>20.193680</td>\n",
       "      <td>95.135044</td>\n",
       "      <td>40.807002</td>\n",
       "      <td>15.132</td>\n",
       "      <td>25.053600</td>\n",
       "      <td>6.762756</td>\n",
       "      <td>46.094879</td>\n",
       "      <td>22.058401</td>\n",
       "    </tr>\n",
       "    <tr>\n",
       "      <th>50%</th>\n",
       "      <td>1619.000000</td>\n",
       "      <td>100.158234</td>\n",
       "      <td>40.142956</td>\n",
       "      <td>235.194977</td>\n",
       "      <td>45.234282</td>\n",
       "      <td>15.132</td>\n",
       "      <td>42.076324</td>\n",
       "      <td>9.017009</td>\n",
       "      <td>46.279999</td>\n",
       "      <td>30.066399</td>\n",
       "    </tr>\n",
       "    <tr>\n",
       "      <th>75%</th>\n",
       "      <td>2434.000000</td>\n",
       "      <td>126.060483</td>\n",
       "      <td>70.227558</td>\n",
       "      <td>276.252014</td>\n",
       "      <td>76.124619</td>\n",
       "      <td>15.132</td>\n",
       "      <td>64.212723</td>\n",
       "      <td>11.886057</td>\n",
       "      <td>48.089603</td>\n",
       "      <td>43.862003</td>\n",
       "    </tr>\n",
       "    <tr>\n",
       "      <th>max</th>\n",
       "      <td>3241.000000</td>\n",
       "      <td>330.314424</td>\n",
       "      <td>282.780152</td>\n",
       "      <td>385.008668</td>\n",
       "      <td>113.231044</td>\n",
       "      <td>15.132</td>\n",
       "      <td>180.454575</td>\n",
       "      <td>32.847674</td>\n",
       "      <td>102.762401</td>\n",
       "      <td>90.053604</td>\n",
       "    </tr>\n",
       "  </tbody>\n",
       "</table>\n",
       "</div>"
      ],
      "text/plain": [
       "               key       Wire 1       Wire 2      Wire 3      Wire 4  Wire 5  \\\n",
       "count  3081.000000  3055.000000  1079.000000   63.000000   14.000000   1.000   \n",
       "mean   1623.426485   100.895853    50.577323  189.482681   57.442842  15.132   \n",
       "std     932.996726    42.012518    39.320216   99.513444   28.824667     NaN   \n",
       "min       1.000000     1.918800     0.030160    0.144144   24.148801  15.132   \n",
       "25%     823.000000    72.115684    20.193680   95.135044   40.807002  15.132   \n",
       "50%    1619.000000   100.158234    40.142956  235.194977   45.234282  15.132   \n",
       "75%    2434.000000   126.060483    70.227558  276.252014   76.124619  15.132   \n",
       "max    3241.000000   330.314424   282.780152  385.008668  113.231044  15.132   \n",
       "\n",
       "           Wire 6     Wire 7      Wire 8     Wire 9  \n",
       "count   73.000000  11.000000   19.000000  29.000000  \n",
       "mean    48.016974  10.039007   53.625193  34.155752  \n",
       "std     33.919845   8.610584   16.881728  19.931616  \n",
       "min      0.034320   0.234208   45.076721   4.622800  \n",
       "25%     25.053600   6.762756   46.094879  22.058401  \n",
       "50%     42.076324   9.017009   46.279999  30.066399  \n",
       "75%     64.212723  11.886057   48.089603  43.862003  \n",
       "max    180.454575  32.847674  102.762401  90.053604  "
      ]
     },
     "execution_count": 30,
     "metadata": {},
     "output_type": "execute_result"
    }
   ],
   "source": [
    "data_wire_new.describe()"
   ]
  },
  {
   "cell_type": "code",
   "execution_count": 31,
   "id": "a4f64272",
   "metadata": {},
   "outputs": [
    {
     "data": {
      "image/png": "[encoded data removed]",
      "text/plain": [
       "<Figure size 1440x288 with 1 Axes>"
      ]
     },
     "metadata": {
      "needs_background": "light"
     },
     "output_type": "display_data"
    }
   ],
   "source": [
    "barplot(data_wire_new.count()[1:], 'Количество использований проволочных материалов')"
   ]
  },
  {
   "cell_type": "markdown",
   "id": "bd5579ea",
   "metadata": {},
   "source": [
    "**Вывод:**\n",
    "1. В таблице приведены добавки для всей партии, а не итераций обработки\n",
    "2. Можно соеденить с `data_arc_new`, ссумируя общее времи нагрева и мощности последней\n",
    "3. Чаще других используется добавка 1\n",
    "4. Есть партии, в которые не добавляли добавки"
   ]
  },
  {
   "cell_type": "markdown",
   "id": "99327ac5",
   "metadata": {},
   "source": [
    "## Данные о проволочных материалах (время)"
   ]
  },
  {
   "cell_type": "code",
   "execution_count": 32,
   "id": "6709b3f1",
   "metadata": {},
   "outputs": [
    {
     "data": {
      "text/html": [
       "<div>\n",
       "<style scoped>\n",
       "    .dataframe tbody tr th:only-of-type {\n",
       "        vertical-align: middle;\n",
       "    }\n",
       "\n",
       "    .dataframe tbody tr th {\n",
       "        vertical-align: top;\n",
       "    }\n",
       "\n",
       "    .dataframe thead th {\n",
       "        text-align: right;\n",
       "    }\n",
       "</style>\n",
       "<table border=\"1\" class=\"dataframe\">\n",
       "  <thead>\n",
       "    <tr style=\"text-align: right;\">\n",
       "      <th></th>\n",
       "      <th>key</th>\n",
       "      <th>Wire 1</th>\n",
       "      <th>Wire 2</th>\n",
       "      <th>Wire 3</th>\n",
       "      <th>Wire 4</th>\n",
       "      <th>Wire 5</th>\n",
       "      <th>Wire 6</th>\n",
       "      <th>Wire 7</th>\n",
       "      <th>Wire 8</th>\n",
       "      <th>Wire 9</th>\n",
       "    </tr>\n",
       "  </thead>\n",
       "  <tbody>\n",
       "    <tr>\n",
       "      <th>0</th>\n",
       "      <td>1</td>\n",
       "      <td>2019-05-03 11:06:19</td>\n",
       "      <td>NaN</td>\n",
       "      <td>NaN</td>\n",
       "      <td>NaN</td>\n",
       "      <td>NaN</td>\n",
       "      <td>NaN</td>\n",
       "      <td>NaN</td>\n",
       "      <td>NaN</td>\n",
       "      <td>NaN</td>\n",
       "    </tr>\n",
       "    <tr>\n",
       "      <th>1</th>\n",
       "      <td>2</td>\n",
       "      <td>2019-05-03 11:36:50</td>\n",
       "      <td>NaN</td>\n",
       "      <td>NaN</td>\n",
       "      <td>NaN</td>\n",
       "      <td>NaN</td>\n",
       "      <td>NaN</td>\n",
       "      <td>NaN</td>\n",
       "      <td>NaN</td>\n",
       "      <td>NaN</td>\n",
       "    </tr>\n",
       "    <tr>\n",
       "      <th>2</th>\n",
       "      <td>3</td>\n",
       "      <td>2019-05-03 12:11:46</td>\n",
       "      <td>NaN</td>\n",
       "      <td>NaN</td>\n",
       "      <td>NaN</td>\n",
       "      <td>NaN</td>\n",
       "      <td>NaN</td>\n",
       "      <td>NaN</td>\n",
       "      <td>NaN</td>\n",
       "      <td>NaN</td>\n",
       "    </tr>\n",
       "    <tr>\n",
       "      <th>3</th>\n",
       "      <td>4</td>\n",
       "      <td>2019-05-03 12:43:22</td>\n",
       "      <td>NaN</td>\n",
       "      <td>NaN</td>\n",
       "      <td>NaN</td>\n",
       "      <td>NaN</td>\n",
       "      <td>NaN</td>\n",
       "      <td>NaN</td>\n",
       "      <td>NaN</td>\n",
       "      <td>NaN</td>\n",
       "    </tr>\n",
       "    <tr>\n",
       "      <th>4</th>\n",
       "      <td>5</td>\n",
       "      <td>2019-05-03 13:20:44</td>\n",
       "      <td>2019-05-03 13:15:34</td>\n",
       "      <td>NaN</td>\n",
       "      <td>NaN</td>\n",
       "      <td>NaN</td>\n",
       "      <td>NaN</td>\n",
       "      <td>NaN</td>\n",
       "      <td>NaN</td>\n",
       "      <td>NaN</td>\n",
       "    </tr>\n",
       "    <tr>\n",
       "      <th>...</th>\n",
       "      <td>...</td>\n",
       "      <td>...</td>\n",
       "      <td>...</td>\n",
       "      <td>...</td>\n",
       "      <td>...</td>\n",
       "      <td>...</td>\n",
       "      <td>...</td>\n",
       "      <td>...</td>\n",
       "      <td>...</td>\n",
       "      <td>...</td>\n",
       "    </tr>\n",
       "    <tr>\n",
       "      <th>3076</th>\n",
       "      <td>3237</td>\n",
       "      <td>2019-09-06 11:33:38</td>\n",
       "      <td>NaN</td>\n",
       "      <td>NaN</td>\n",
       "      <td>NaN</td>\n",
       "      <td>NaN</td>\n",
       "      <td>NaN</td>\n",
       "      <td>NaN</td>\n",
       "      <td>NaN</td>\n",
       "      <td>NaN</td>\n",
       "    </tr>\n",
       "    <tr>\n",
       "      <th>3077</th>\n",
       "      <td>3238</td>\n",
       "      <td>2019-09-06 12:18:35</td>\n",
       "      <td>NaN</td>\n",
       "      <td>NaN</td>\n",
       "      <td>NaN</td>\n",
       "      <td>NaN</td>\n",
       "      <td>NaN</td>\n",
       "      <td>NaN</td>\n",
       "      <td>NaN</td>\n",
       "      <td>NaN</td>\n",
       "    </tr>\n",
       "    <tr>\n",
       "      <th>3078</th>\n",
       "      <td>3239</td>\n",
       "      <td>2019-09-06 14:36:11</td>\n",
       "      <td>NaN</td>\n",
       "      <td>NaN</td>\n",
       "      <td>NaN</td>\n",
       "      <td>NaN</td>\n",
       "      <td>NaN</td>\n",
       "      <td>NaN</td>\n",
       "      <td>NaN</td>\n",
       "      <td>NaN</td>\n",
       "    </tr>\n",
       "    <tr>\n",
       "      <th>3079</th>\n",
       "      <td>3240</td>\n",
       "      <td>2019-09-06 15:33:55</td>\n",
       "      <td>NaN</td>\n",
       "      <td>NaN</td>\n",
       "      <td>NaN</td>\n",
       "      <td>NaN</td>\n",
       "      <td>NaN</td>\n",
       "      <td>NaN</td>\n",
       "      <td>NaN</td>\n",
       "      <td>NaN</td>\n",
       "    </tr>\n",
       "    <tr>\n",
       "      <th>3080</th>\n",
       "      <td>3241</td>\n",
       "      <td>2019-09-06 17:10:06</td>\n",
       "      <td>NaN</td>\n",
       "      <td>NaN</td>\n",
       "      <td>NaN</td>\n",
       "      <td>NaN</td>\n",
       "      <td>NaN</td>\n",
       "      <td>NaN</td>\n",
       "      <td>NaN</td>\n",
       "      <td>NaN</td>\n",
       "    </tr>\n",
       "  </tbody>\n",
       "</table>\n",
       "<p>3081 rows × 10 columns</p>\n",
       "</div>"
      ],
      "text/plain": [
       "       key               Wire 1               Wire 2 Wire 3 Wire 4 Wire 5  \\\n",
       "0        1  2019-05-03 11:06:19                  NaN    NaN    NaN    NaN   \n",
       "1        2  2019-05-03 11:36:50                  NaN    NaN    NaN    NaN   \n",
       "2        3  2019-05-03 12:11:46                  NaN    NaN    NaN    NaN   \n",
       "3        4  2019-05-03 12:43:22                  NaN    NaN    NaN    NaN   \n",
       "4        5  2019-05-03 13:20:44  2019-05-03 13:15:34    NaN    NaN    NaN   \n",
       "...    ...                  ...                  ...    ...    ...    ...   \n",
       "3076  3237  2019-09-06 11:33:38                  NaN    NaN    NaN    NaN   \n",
       "3077  3238  2019-09-06 12:18:35                  NaN    NaN    NaN    NaN   \n",
       "3078  3239  2019-09-06 14:36:11                  NaN    NaN    NaN    NaN   \n",
       "3079  3240  2019-09-06 15:33:55                  NaN    NaN    NaN    NaN   \n",
       "3080  3241  2019-09-06 17:10:06                  NaN    NaN    NaN    NaN   \n",
       "\n",
       "     Wire 6 Wire 7 Wire 8 Wire 9  \n",
       "0       NaN    NaN    NaN    NaN  \n",
       "1       NaN    NaN    NaN    NaN  \n",
       "2       NaN    NaN    NaN    NaN  \n",
       "3       NaN    NaN    NaN    NaN  \n",
       "4       NaN    NaN    NaN    NaN  \n",
       "...     ...    ...    ...    ...  \n",
       "3076    NaN    NaN    NaN    NaN  \n",
       "3077    NaN    NaN    NaN    NaN  \n",
       "3078    NaN    NaN    NaN    NaN  \n",
       "3079    NaN    NaN    NaN    NaN  \n",
       "3080    NaN    NaN    NaN    NaN  \n",
       "\n",
       "[3081 rows x 10 columns]"
      ]
     },
     "execution_count": 32,
     "metadata": {},
     "output_type": "execute_result"
    }
   ],
   "source": [
    "data_wire_time_new"
   ]
  },
  {
   "cell_type": "code",
   "execution_count": 33,
   "id": "32868582",
   "metadata": {},
   "outputs": [
    {
     "name": "stdout",
     "output_type": "stream",
     "text": [
      "<class 'pandas.core.frame.DataFrame'>\n",
      "RangeIndex: 3081 entries, 0 to 3080\n",
      "Data columns (total 10 columns):\n",
      " #   Column  Non-Null Count  Dtype \n",
      "---  ------  --------------  ----- \n",
      " 0   key     3081 non-null   int64 \n",
      " 1   Wire 1  3055 non-null   object\n",
      " 2   Wire 2  1079 non-null   object\n",
      " 3   Wire 3  63 non-null     object\n",
      " 4   Wire 4  14 non-null     object\n",
      " 5   Wire 5  1 non-null      object\n",
      " 6   Wire 6  73 non-null     object\n",
      " 7   Wire 7  11 non-null     object\n",
      " 8   Wire 8  19 non-null     object\n",
      " 9   Wire 9  29 non-null     object\n",
      "dtypes: int64(1), object(9)\n",
      "memory usage: 240.8+ KB\n"
     ]
    }
   ],
   "source": [
    "data_wire_time_new.info()"
   ]
  },
  {
   "cell_type": "markdown",
   "id": "578bf9e3",
   "metadata": {},
   "source": [
    "**Вывод:**\n",
    "Таблица совпадает с `data_wire_new`, только вместо объемов указано время добавления. В теории, по времени добавления проволочных материалов можно соотнести с итерацией нагрева в `data_arc_new`"
   ]
  },
  {
   "cell_type": "markdown",
   "id": "2dc18f15",
   "metadata": {},
   "source": [
    "# Общий вывод:\n",
    "1. Всего 3241 партий\n",
    "2. В каждой партии несколько итераций обработки. По времени нагрева каждой итераци обработки можно соотнести количество сыпучих и проволочных материалов, а также температуру в ковше. \n",
    "3. Имеется строка с отрицательной Реактивной мощностью.\n",
    "4. Во всех таблицах приведены данные не по всем партиям `key`. \n",
    "5. Имеются пропуски замеров температур.\n",
    "6. Распределение средней температуры обработки каждой партии подобно стандартному распределению. Имеются выбросы. Выбросы могут говорить о нештатных ситуациях во время обработки."
   ]
  },
  {
   "cell_type": "markdown",
   "id": "bf4075c1",
   "metadata": {},
   "source": [
    "# План работы\n",
    "\n",
    "Предсказание температуры стали поможет уменьшить время нагрева, и, следовательно, электроэнергии. Целевой является конечная температура каждой итерации обработки.Поэтому датасеты со сременем добавления сыпучих материалов и проволок являются лишними благодаря тому, что отпала необходимость сопоставлять их добавляение с итерациями.\n",
    "\n",
    "1. Удаление партии с некоректными значениями температуры сплава и реактивной мощности. \n",
    "2. Для каждой партии определяются первая и последняя измеренные температуры стали. Удаляляюся полностью вся партия в случае некоректности данных одной итерации. \n",
    "3. Создаются новые признаки.\n",
    "4. Объединение таблицы `data_temp_min_max`, `data_arc_total`, `data_wire_new`, `data_bulk_new` и `data_gas_new`, соотнося по времени нагрева каждой итераци обработки количество сыпучих и проволочных материалов, а также температуру в ковше.\n",
    "5. Удаление партии с пропущенными значениями температуры в ковше, количеством сыпучих и проволочных материалов. Заполняются пропуски нулями в итерациях обработки.\n",
    "6. Удаление столбцов с информацией о времени и номере партии `'key'`. \n",
    "7. Разделение датасет на обучающую и тестовую выборки. Выделяются признаки и целевая переменная - конечная температура.\n",
    "8. Масштабирование признаков\n",
    "9. Обучение несколько моделей, решая задачу регрессии с ипользованием кросс-валидации. По оценке кросс-валидации (заказчику важна метрика MAE) выберем лучшую модель и построим прогноз.\n",
    "11. Проверка модель на простейшей dummy модели\n",
    "12. Оценка экономии электроэнергии."
   ]
  },
  {
   "cell_type": "markdown",
   "id": "2dad8824",
   "metadata": {},
   "source": [
    "# Предобработка данных"
   ]
  },
  {
   "cell_type": "code",
   "execution_count": 34,
   "id": "ebf3db2b",
   "metadata": {},
   "outputs": [
    {
     "data": {
      "text/html": [
       "<div>\n",
       "<style scoped>\n",
       "    .dataframe tbody tr th:only-of-type {\n",
       "        vertical-align: middle;\n",
       "    }\n",
       "\n",
       "    .dataframe tbody tr th {\n",
       "        vertical-align: top;\n",
       "    }\n",
       "\n",
       "    .dataframe thead th {\n",
       "        text-align: right;\n",
       "    }\n",
       "</style>\n",
       "<table border=\"1\" class=\"dataframe\">\n",
       "  <thead>\n",
       "    <tr style=\"text-align: right;\">\n",
       "      <th></th>\n",
       "      <th>key</th>\n",
       "      <th>Время замера</th>\n",
       "      <th>Температура</th>\n",
       "    </tr>\n",
       "  </thead>\n",
       "  <tbody>\n",
       "    <tr>\n",
       "      <th>0</th>\n",
       "      <td>1</td>\n",
       "      <td>2019-05-03 11:02:04</td>\n",
       "      <td>1571.0</td>\n",
       "    </tr>\n",
       "    <tr>\n",
       "      <th>1</th>\n",
       "      <td>1</td>\n",
       "      <td>2019-05-03 11:07:18</td>\n",
       "      <td>1604.0</td>\n",
       "    </tr>\n",
       "    <tr>\n",
       "      <th>2</th>\n",
       "      <td>1</td>\n",
       "      <td>2019-05-03 11:11:34</td>\n",
       "      <td>1618.0</td>\n",
       "    </tr>\n",
       "    <tr>\n",
       "      <th>3</th>\n",
       "      <td>1</td>\n",
       "      <td>2019-05-03 11:18:04</td>\n",
       "      <td>1601.0</td>\n",
       "    </tr>\n",
       "    <tr>\n",
       "      <th>4</th>\n",
       "      <td>1</td>\n",
       "      <td>2019-05-03 11:25:59</td>\n",
       "      <td>1606.0</td>\n",
       "    </tr>\n",
       "    <tr>\n",
       "      <th>...</th>\n",
       "      <td>...</td>\n",
       "      <td>...</td>\n",
       "      <td>...</td>\n",
       "    </tr>\n",
       "    <tr>\n",
       "      <th>18087</th>\n",
       "      <td>3241</td>\n",
       "      <td>2019-09-06 16:55:01</td>\n",
       "      <td>NaN</td>\n",
       "    </tr>\n",
       "    <tr>\n",
       "      <th>18088</th>\n",
       "      <td>3241</td>\n",
       "      <td>2019-09-06 17:06:38</td>\n",
       "      <td>NaN</td>\n",
       "    </tr>\n",
       "    <tr>\n",
       "      <th>18089</th>\n",
       "      <td>3241</td>\n",
       "      <td>2019-09-06 17:21:48</td>\n",
       "      <td>NaN</td>\n",
       "    </tr>\n",
       "    <tr>\n",
       "      <th>18090</th>\n",
       "      <td>3241</td>\n",
       "      <td>2019-09-06 17:24:44</td>\n",
       "      <td>NaN</td>\n",
       "    </tr>\n",
       "    <tr>\n",
       "      <th>18091</th>\n",
       "      <td>3241</td>\n",
       "      <td>2019-09-06 17:30:05</td>\n",
       "      <td>NaN</td>\n",
       "    </tr>\n",
       "  </tbody>\n",
       "</table>\n",
       "<p>18092 rows × 3 columns</p>\n",
       "</div>"
      ],
      "text/plain": [
       "        key        Время замера  Температура\n",
       "0         1 2019-05-03 11:02:04       1571.0\n",
       "1         1 2019-05-03 11:07:18       1604.0\n",
       "2         1 2019-05-03 11:11:34       1618.0\n",
       "3         1 2019-05-03 11:18:04       1601.0\n",
       "4         1 2019-05-03 11:25:59       1606.0\n",
       "...     ...                 ...          ...\n",
       "18087  3241 2019-09-06 16:55:01          NaN\n",
       "18088  3241 2019-09-06 17:06:38          NaN\n",
       "18089  3241 2019-09-06 17:21:48          NaN\n",
       "18090  3241 2019-09-06 17:24:44          NaN\n",
       "18091  3241 2019-09-06 17:30:05          NaN\n",
       "\n",
       "[18092 rows x 3 columns]"
      ]
     },
     "execution_count": 34,
     "metadata": {},
     "output_type": "execute_result"
    }
   ],
   "source": [
    "data_temp_new"
   ]
  },
  {
   "cell_type": "markdown",
   "id": "48e81480",
   "metadata": {},
   "source": [
    "Удалю из `data_temp_new` партии с температорой сплава < 1400 - данное значение соответствует температуре плавления стали."
   ]
  },
  {
   "cell_type": "code",
   "execution_count": 35,
   "id": "327309a1",
   "metadata": {},
   "outputs": [
    {
     "data": {
      "text/plain": [
       "[867, 1214, 1619, 2052, 2561]"
      ]
     },
     "execution_count": 35,
     "metadata": {},
     "output_type": "execute_result"
    }
   ],
   "source": [
    "# список партий с температурой \n",
    "list(data_temp_new[data_temp_new['Температура'] < 1400]['key'])"
   ]
  },
  {
   "cell_type": "code",
   "execution_count": 36,
   "id": "b408aa2b",
   "metadata": {
    "scrolled": true
   },
   "outputs": [
    {
     "data": {
      "text/plain": [
       "739"
      ]
     },
     "execution_count": 36,
     "metadata": {},
     "output_type": "execute_result"
    }
   ],
   "source": [
    "# количество партий без температур \n",
    "data_temp_new[data_temp_new['Температура'].isna()]['key'].nunique()"
   ]
  },
  {
   "cell_type": "code",
   "execution_count": 37,
   "id": "d29b3f0c",
   "metadata": {},
   "outputs": [
    {
     "data": {
      "text/html": [
       "<div>\n",
       "<style scoped>\n",
       "    .dataframe tbody tr th:only-of-type {\n",
       "        vertical-align: middle;\n",
       "    }\n",
       "\n",
       "    .dataframe tbody tr th {\n",
       "        vertical-align: top;\n",
       "    }\n",
       "\n",
       "    .dataframe thead th {\n",
       "        text-align: right;\n",
       "    }\n",
       "</style>\n",
       "<table border=\"1\" class=\"dataframe\">\n",
       "  <thead>\n",
       "    <tr style=\"text-align: right;\">\n",
       "      <th></th>\n",
       "      <th>key</th>\n",
       "      <th>Время замера</th>\n",
       "      <th>Температура</th>\n",
       "    </tr>\n",
       "  </thead>\n",
       "  <tbody>\n",
       "    <tr>\n",
       "      <th>0</th>\n",
       "      <td>1</td>\n",
       "      <td>2019-05-03 11:02:04</td>\n",
       "      <td>1571.0</td>\n",
       "    </tr>\n",
       "    <tr>\n",
       "      <th>1</th>\n",
       "      <td>1</td>\n",
       "      <td>2019-05-03 11:07:18</td>\n",
       "      <td>1604.0</td>\n",
       "    </tr>\n",
       "    <tr>\n",
       "      <th>2</th>\n",
       "      <td>1</td>\n",
       "      <td>2019-05-03 11:11:34</td>\n",
       "      <td>1618.0</td>\n",
       "    </tr>\n",
       "    <tr>\n",
       "      <th>3</th>\n",
       "      <td>1</td>\n",
       "      <td>2019-05-03 11:18:04</td>\n",
       "      <td>1601.0</td>\n",
       "    </tr>\n",
       "    <tr>\n",
       "      <th>4</th>\n",
       "      <td>1</td>\n",
       "      <td>2019-05-03 11:25:59</td>\n",
       "      <td>1606.0</td>\n",
       "    </tr>\n",
       "    <tr>\n",
       "      <th>...</th>\n",
       "      <td>...</td>\n",
       "      <td>...</td>\n",
       "      <td>...</td>\n",
       "    </tr>\n",
       "    <tr>\n",
       "      <th>13921</th>\n",
       "      <td>2499</td>\n",
       "      <td>2019-08-10 13:33:21</td>\n",
       "      <td>1569.0</td>\n",
       "    </tr>\n",
       "    <tr>\n",
       "      <th>13922</th>\n",
       "      <td>2499</td>\n",
       "      <td>2019-08-10 13:41:34</td>\n",
       "      <td>1604.0</td>\n",
       "    </tr>\n",
       "    <tr>\n",
       "      <th>13923</th>\n",
       "      <td>2499</td>\n",
       "      <td>2019-08-10 13:46:28</td>\n",
       "      <td>1593.0</td>\n",
       "    </tr>\n",
       "    <tr>\n",
       "      <th>13924</th>\n",
       "      <td>2499</td>\n",
       "      <td>2019-08-10 13:54:56</td>\n",
       "      <td>1588.0</td>\n",
       "    </tr>\n",
       "    <tr>\n",
       "      <th>13925</th>\n",
       "      <td>2499</td>\n",
       "      <td>2019-08-10 13:58:58</td>\n",
       "      <td>1603.0</td>\n",
       "    </tr>\n",
       "  </tbody>\n",
       "</table>\n",
       "<p>13905 rows × 3 columns</p>\n",
       "</div>"
      ],
      "text/plain": [
       "        key        Время замера  Температура\n",
       "0         1 2019-05-03 11:02:04       1571.0\n",
       "1         1 2019-05-03 11:07:18       1604.0\n",
       "2         1 2019-05-03 11:11:34       1618.0\n",
       "3         1 2019-05-03 11:18:04       1601.0\n",
       "4         1 2019-05-03 11:25:59       1606.0\n",
       "...     ...                 ...          ...\n",
       "13921  2499 2019-08-10 13:33:21       1569.0\n",
       "13922  2499 2019-08-10 13:41:34       1604.0\n",
       "13923  2499 2019-08-10 13:46:28       1593.0\n",
       "13924  2499 2019-08-10 13:54:56       1588.0\n",
       "13925  2499 2019-08-10 13:58:58       1603.0\n",
       "\n",
       "[13905 rows x 3 columns]"
      ]
     },
     "execution_count": 37,
     "metadata": {},
     "output_type": "execute_result"
    }
   ],
   "source": [
    "data_temp_new = data_temp_new.loc[~data_temp_new['key'].isin(list(data_temp_new[data_temp_new['Температура'] < 1400]['key']))]\n",
    "data_temp_new = data_temp_new.loc[~data_temp_new['key'].isin(list(data_temp_new[data_temp_new['Температура'].isna()]['key'].unique()))]\n",
    "data_temp_new"
   ]
  },
  {
   "cell_type": "markdown",
   "id": "af4ea259",
   "metadata": {},
   "source": [
    "Для каждой партии определию первую и последнюю измеренные температуры стали, выделив их в отдельный датасет `data_temp_min_max`."
   ]
  },
  {
   "cell_type": "code",
   "execution_count": 38,
   "id": "604e2757",
   "metadata": {},
   "outputs": [],
   "source": [
    "def min_max(df):\n",
    "    '''Функция извлечения первой и последней температуры каждой итерации обработки'''\n",
    "    df['Первая температура'] = df.loc[df['Время замера'] == df['Время замера'].min(), 'Температура']\n",
    "    df['Целевая температура'] = df.loc[df['Время замера'] == df['Время замера'].max(), 'Температура']\n",
    "    return df"
   ]
  },
  {
   "cell_type": "code",
   "execution_count": 39,
   "id": "cd7d57f0",
   "metadata": {},
   "outputs": [
    {
     "data": {
      "text/html": [
       "<div>\n",
       "<style scoped>\n",
       "    .dataframe tbody tr th:only-of-type {\n",
       "        vertical-align: middle;\n",
       "    }\n",
       "\n",
       "    .dataframe tbody tr th {\n",
       "        vertical-align: top;\n",
       "    }\n",
       "\n",
       "    .dataframe thead th {\n",
       "        text-align: right;\n",
       "    }\n",
       "</style>\n",
       "<table border=\"1\" class=\"dataframe\">\n",
       "  <thead>\n",
       "    <tr style=\"text-align: right;\">\n",
       "      <th></th>\n",
       "      <th>key</th>\n",
       "      <th>Первая температура</th>\n",
       "      <th>Целевая температура</th>\n",
       "    </tr>\n",
       "  </thead>\n",
       "  <tbody>\n",
       "    <tr>\n",
       "      <th>0</th>\n",
       "      <td>1</td>\n",
       "      <td>1571.0</td>\n",
       "      <td>1613.0</td>\n",
       "    </tr>\n",
       "    <tr>\n",
       "      <th>1</th>\n",
       "      <td>2</td>\n",
       "      <td>1581.0</td>\n",
       "      <td>1602.0</td>\n",
       "    </tr>\n",
       "    <tr>\n",
       "      <th>2</th>\n",
       "      <td>3</td>\n",
       "      <td>1596.0</td>\n",
       "      <td>1599.0</td>\n",
       "    </tr>\n",
       "    <tr>\n",
       "      <th>3</th>\n",
       "      <td>4</td>\n",
       "      <td>1601.0</td>\n",
       "      <td>1625.0</td>\n",
       "    </tr>\n",
       "    <tr>\n",
       "      <th>4</th>\n",
       "      <td>5</td>\n",
       "      <td>1576.0</td>\n",
       "      <td>1602.0</td>\n",
       "    </tr>\n",
       "    <tr>\n",
       "      <th>...</th>\n",
       "      <td>...</td>\n",
       "      <td>...</td>\n",
       "      <td>...</td>\n",
       "    </tr>\n",
       "    <tr>\n",
       "      <th>2468</th>\n",
       "      <td>2495</td>\n",
       "      <td>1570.0</td>\n",
       "      <td>1591.0</td>\n",
       "    </tr>\n",
       "    <tr>\n",
       "      <th>2469</th>\n",
       "      <td>2496</td>\n",
       "      <td>1554.0</td>\n",
       "      <td>1591.0</td>\n",
       "    </tr>\n",
       "    <tr>\n",
       "      <th>2470</th>\n",
       "      <td>2497</td>\n",
       "      <td>1571.0</td>\n",
       "      <td>1589.0</td>\n",
       "    </tr>\n",
       "    <tr>\n",
       "      <th>2471</th>\n",
       "      <td>2498</td>\n",
       "      <td>1591.0</td>\n",
       "      <td>1594.0</td>\n",
       "    </tr>\n",
       "    <tr>\n",
       "      <th>2472</th>\n",
       "      <td>2499</td>\n",
       "      <td>1569.0</td>\n",
       "      <td>1603.0</td>\n",
       "    </tr>\n",
       "  </tbody>\n",
       "</table>\n",
       "<p>2473 rows × 3 columns</p>\n",
       "</div>"
      ],
      "text/plain": [
       "       key  Первая температура  Целевая температура\n",
       "0        1              1571.0               1613.0\n",
       "1        2              1581.0               1602.0\n",
       "2        3              1596.0               1599.0\n",
       "3        4              1601.0               1625.0\n",
       "4        5              1576.0               1602.0\n",
       "...    ...                 ...                  ...\n",
       "2468  2495              1570.0               1591.0\n",
       "2469  2496              1554.0               1591.0\n",
       "2470  2497              1571.0               1589.0\n",
       "2471  2498              1591.0               1594.0\n",
       "2472  2499              1569.0               1603.0\n",
       "\n",
       "[2473 rows x 3 columns]"
      ]
     },
     "execution_count": 39,
     "metadata": {},
     "output_type": "execute_result"
    }
   ],
   "source": [
    "data_temp_min_max = data_temp_new.groupby('key').apply(min_max)\n",
    "data_temp_min_max = data_temp_min_max.groupby('key').sum()[['Первая температура', 'Целевая температура']].reset_index()\n",
    "data_temp_min_max"
   ]
  },
  {
   "cell_type": "code",
   "execution_count": 40,
   "id": "8a60cbe3",
   "metadata": {},
   "outputs": [
    {
     "data": {
      "image/png": "[encoded data removed]",
      "text/plain": [
       "<Figure size 720x432 with 2 Axes>"
      ]
     },
     "metadata": {
      "needs_background": "light"
     },
     "output_type": "display_data"
    }
   ],
   "source": [
    "plt.figure()\n",
    "plt.subplot(1,2,1)\n",
    "histplot(data_temp_min_max['Первая температура'], 'Распределение первых теператур')\n",
    "plt.subplot(1,2,2)\n",
    "histplot(data_temp_min_max['Целевая температура'], 'Распределение целевой тепературы')"
   ]
  },
  {
   "attachments": {
    "image.png": {
     "image/png": "[encoded data removed]"
    }
   },
   "cell_type": "markdown",
   "id": "8bf5bcc5",
   "metadata": {},
   "source": [
    "Для того, чтобы нагреть сплав, необходимо подвести теплоту, которая равна произведению активной мощности на время нагрева. Выделю ее в отдельный признак. Также создам признак полной мощности.\n",
    "![image.png](attachment:image.png)"
   ]
  },
  {
   "cell_type": "code",
   "execution_count": 41,
   "id": "82180bfe",
   "metadata": {},
   "outputs": [
    {
     "data": {
      "text/html": [
       "<div>\n",
       "<style scoped>\n",
       "    .dataframe tbody tr th:only-of-type {\n",
       "        vertical-align: middle;\n",
       "    }\n",
       "\n",
       "    .dataframe tbody tr th {\n",
       "        vertical-align: top;\n",
       "    }\n",
       "\n",
       "    .dataframe thead th {\n",
       "        text-align: right;\n",
       "    }\n",
       "</style>\n",
       "<table border=\"1\" class=\"dataframe\">\n",
       "  <thead>\n",
       "    <tr style=\"text-align: right;\">\n",
       "      <th></th>\n",
       "      <th>key</th>\n",
       "      <th>Активная мощность</th>\n",
       "      <th>Реактивная мощность</th>\n",
       "      <th>Время нагрева дугой</th>\n",
       "      <th>Теплота</th>\n",
       "      <th>Полная мощность</th>\n",
       "    </tr>\n",
       "  </thead>\n",
       "  <tbody>\n",
       "    <tr>\n",
       "      <th>0</th>\n",
       "      <td>1</td>\n",
       "      <td>3.036730</td>\n",
       "      <td>2.142821</td>\n",
       "      <td>1098</td>\n",
       "      <td>3334.329540</td>\n",
       "      <td>3.716640</td>\n",
       "    </tr>\n",
       "    <tr>\n",
       "      <th>1</th>\n",
       "      <td>2</td>\n",
       "      <td>2.139408</td>\n",
       "      <td>1.453357</td>\n",
       "      <td>811</td>\n",
       "      <td>1735.059888</td>\n",
       "      <td>2.586371</td>\n",
       "    </tr>\n",
       "    <tr>\n",
       "      <th>2</th>\n",
       "      <td>3</td>\n",
       "      <td>4.063641</td>\n",
       "      <td>2.937457</td>\n",
       "      <td>655</td>\n",
       "      <td>2661.684855</td>\n",
       "      <td>5.014163</td>\n",
       "    </tr>\n",
       "    <tr>\n",
       "      <th>3</th>\n",
       "      <td>4</td>\n",
       "      <td>2.706489</td>\n",
       "      <td>2.056992</td>\n",
       "      <td>741</td>\n",
       "      <td>2005.508349</td>\n",
       "      <td>3.399456</td>\n",
       "    </tr>\n",
       "    <tr>\n",
       "      <th>4</th>\n",
       "      <td>5</td>\n",
       "      <td>2.252950</td>\n",
       "      <td>1.687991</td>\n",
       "      <td>869</td>\n",
       "      <td>1957.813550</td>\n",
       "      <td>2.815155</td>\n",
       "    </tr>\n",
       "    <tr>\n",
       "      <th>...</th>\n",
       "      <td>...</td>\n",
       "      <td>...</td>\n",
       "      <td>...</td>\n",
       "      <td>...</td>\n",
       "      <td>...</td>\n",
       "      <td>...</td>\n",
       "    </tr>\n",
       "    <tr>\n",
       "      <th>3208</th>\n",
       "      <td>3237</td>\n",
       "      <td>2.541872</td>\n",
       "      <td>2.025417</td>\n",
       "      <td>909</td>\n",
       "      <td>2310.561648</td>\n",
       "      <td>3.250143</td>\n",
       "    </tr>\n",
       "    <tr>\n",
       "      <th>3209</th>\n",
       "      <td>3238</td>\n",
       "      <td>1.374821</td>\n",
       "      <td>1.038103</td>\n",
       "      <td>546</td>\n",
       "      <td>750.652266</td>\n",
       "      <td>1.722728</td>\n",
       "    </tr>\n",
       "    <tr>\n",
       "      <th>3210</th>\n",
       "      <td>3239</td>\n",
       "      <td>4.848005</td>\n",
       "      <td>3.541541</td>\n",
       "      <td>1216</td>\n",
       "      <td>5895.174080</td>\n",
       "      <td>6.003804</td>\n",
       "    </tr>\n",
       "    <tr>\n",
       "      <th>3211</th>\n",
       "      <td>3240</td>\n",
       "      <td>3.317679</td>\n",
       "      <td>2.373552</td>\n",
       "      <td>839</td>\n",
       "      <td>2783.532681</td>\n",
       "      <td>4.079307</td>\n",
       "    </tr>\n",
       "    <tr>\n",
       "      <th>3212</th>\n",
       "      <td>3241</td>\n",
       "      <td>3.045283</td>\n",
       "      <td>2.140011</td>\n",
       "      <td>659</td>\n",
       "      <td>2006.841497</td>\n",
       "      <td>3.722015</td>\n",
       "    </tr>\n",
       "  </tbody>\n",
       "</table>\n",
       "<p>3213 rows × 6 columns</p>\n",
       "</div>"
      ],
      "text/plain": [
       "       key  Активная мощность  Реактивная мощность  Время нагрева дугой  \\\n",
       "0        1           3.036730             2.142821                 1098   \n",
       "1        2           2.139408             1.453357                  811   \n",
       "2        3           4.063641             2.937457                  655   \n",
       "3        4           2.706489             2.056992                  741   \n",
       "4        5           2.252950             1.687991                  869   \n",
       "...    ...                ...                  ...                  ...   \n",
       "3208  3237           2.541872             2.025417                  909   \n",
       "3209  3238           1.374821             1.038103                  546   \n",
       "3210  3239           4.848005             3.541541                 1216   \n",
       "3211  3240           3.317679             2.373552                  839   \n",
       "3212  3241           3.045283             2.140011                  659   \n",
       "\n",
       "          Теплота  Полная мощность  \n",
       "0     3334.329540         3.716640  \n",
       "1     1735.059888         2.586371  \n",
       "2     2661.684855         5.014163  \n",
       "3     2005.508349         3.399456  \n",
       "4     1957.813550         2.815155  \n",
       "...           ...              ...  \n",
       "3208  2310.561648         3.250143  \n",
       "3209   750.652266         1.722728  \n",
       "3210  5895.174080         6.003804  \n",
       "3211  2783.532681         4.079307  \n",
       "3212  2006.841497         3.722015  \n",
       "\n",
       "[3213 rows x 6 columns]"
      ]
     },
     "execution_count": 41,
     "metadata": {},
     "output_type": "execute_result"
    }
   ],
   "source": [
    "data_arc_total = data_arc_new.groupby('key').sum()[data_arc_new.groupby('key').sum()['Реактивная мощность'] > 0].reset_index()\n",
    "data_arc_total['Теплота'] = data_arc_total['Активная мощность'] * data_arc_total['Время нагрева дугой']\n",
    "data_arc_total['Полная мощность'] = np.sqrt(data_arc_total['Активная мощность']**2 + data_arc_total['Реактивная мощность']**2)\n",
    "data_arc_total"
   ]
  },
  {
   "cell_type": "markdown",
   "id": "d70237ce",
   "metadata": {},
   "source": [
    "Объединим таблицы `data_temp_min_max`, `data_arc_total`, `data_wire_new`, `data_bulk_new` и `data_gas_new`, оставив пересекающие партии"
   ]
  },
  {
   "cell_type": "code",
   "execution_count": 42,
   "id": "e8661976",
   "metadata": {},
   "outputs": [
    {
     "data": {
      "text/html": [
       "<div>\n",
       "<style scoped>\n",
       "    .dataframe tbody tr th:only-of-type {\n",
       "        vertical-align: middle;\n",
       "    }\n",
       "\n",
       "    .dataframe tbody tr th {\n",
       "        vertical-align: top;\n",
       "    }\n",
       "\n",
       "    .dataframe thead th {\n",
       "        text-align: right;\n",
       "    }\n",
       "</style>\n",
       "<table border=\"1\" class=\"dataframe\">\n",
       "  <thead>\n",
       "    <tr style=\"text-align: right;\">\n",
       "      <th></th>\n",
       "      <th>Первая температура</th>\n",
       "      <th>Целевая температура</th>\n",
       "      <th>Активная мощность</th>\n",
       "      <th>Реактивная мощность</th>\n",
       "      <th>Время нагрева дугой</th>\n",
       "      <th>Теплота</th>\n",
       "      <th>Полная мощность</th>\n",
       "      <th>Wire 1</th>\n",
       "      <th>Wire 2</th>\n",
       "      <th>Wire 3</th>\n",
       "      <th>...</th>\n",
       "      <th>Bulk 7</th>\n",
       "      <th>Bulk 8</th>\n",
       "      <th>Bulk 9</th>\n",
       "      <th>Bulk 10</th>\n",
       "      <th>Bulk 11</th>\n",
       "      <th>Bulk 12</th>\n",
       "      <th>Bulk 13</th>\n",
       "      <th>Bulk 14</th>\n",
       "      <th>Bulk 15</th>\n",
       "      <th>Газ 1</th>\n",
       "    </tr>\n",
       "  </thead>\n",
       "  <tbody>\n",
       "    <tr>\n",
       "      <th>0</th>\n",
       "      <td>1571.0</td>\n",
       "      <td>1613.0</td>\n",
       "      <td>3.036730</td>\n",
       "      <td>2.142821</td>\n",
       "      <td>1098</td>\n",
       "      <td>3334.329540</td>\n",
       "      <td>3.716640</td>\n",
       "      <td>60.059998</td>\n",
       "      <td>0.00000</td>\n",
       "      <td>0.0</td>\n",
       "      <td>...</td>\n",
       "      <td>0.0</td>\n",
       "      <td>0.0</td>\n",
       "      <td>0.0</td>\n",
       "      <td>0.0</td>\n",
       "      <td>0.0</td>\n",
       "      <td>206.0</td>\n",
       "      <td>0.0</td>\n",
       "      <td>150.0</td>\n",
       "      <td>154.0</td>\n",
       "      <td>29.749986</td>\n",
       "    </tr>\n",
       "    <tr>\n",
       "      <th>1</th>\n",
       "      <td>1581.0</td>\n",
       "      <td>1602.0</td>\n",
       "      <td>2.139408</td>\n",
       "      <td>1.453357</td>\n",
       "      <td>811</td>\n",
       "      <td>1735.059888</td>\n",
       "      <td>2.586371</td>\n",
       "      <td>96.052315</td>\n",
       "      <td>0.00000</td>\n",
       "      <td>0.0</td>\n",
       "      <td>...</td>\n",
       "      <td>0.0</td>\n",
       "      <td>0.0</td>\n",
       "      <td>0.0</td>\n",
       "      <td>0.0</td>\n",
       "      <td>0.0</td>\n",
       "      <td>206.0</td>\n",
       "      <td>0.0</td>\n",
       "      <td>149.0</td>\n",
       "      <td>154.0</td>\n",
       "      <td>12.555561</td>\n",
       "    </tr>\n",
       "    <tr>\n",
       "      <th>2</th>\n",
       "      <td>1596.0</td>\n",
       "      <td>1599.0</td>\n",
       "      <td>4.063641</td>\n",
       "      <td>2.937457</td>\n",
       "      <td>655</td>\n",
       "      <td>2661.684855</td>\n",
       "      <td>5.014163</td>\n",
       "      <td>91.160157</td>\n",
       "      <td>0.00000</td>\n",
       "      <td>0.0</td>\n",
       "      <td>...</td>\n",
       "      <td>0.0</td>\n",
       "      <td>0.0</td>\n",
       "      <td>0.0</td>\n",
       "      <td>0.0</td>\n",
       "      <td>0.0</td>\n",
       "      <td>205.0</td>\n",
       "      <td>0.0</td>\n",
       "      <td>152.0</td>\n",
       "      <td>153.0</td>\n",
       "      <td>28.554793</td>\n",
       "    </tr>\n",
       "    <tr>\n",
       "      <th>3</th>\n",
       "      <td>1601.0</td>\n",
       "      <td>1625.0</td>\n",
       "      <td>2.706489</td>\n",
       "      <td>2.056992</td>\n",
       "      <td>741</td>\n",
       "      <td>2005.508349</td>\n",
       "      <td>3.399456</td>\n",
       "      <td>89.063515</td>\n",
       "      <td>0.00000</td>\n",
       "      <td>0.0</td>\n",
       "      <td>...</td>\n",
       "      <td>0.0</td>\n",
       "      <td>0.0</td>\n",
       "      <td>0.0</td>\n",
       "      <td>0.0</td>\n",
       "      <td>0.0</td>\n",
       "      <td>207.0</td>\n",
       "      <td>0.0</td>\n",
       "      <td>153.0</td>\n",
       "      <td>154.0</td>\n",
       "      <td>18.841219</td>\n",
       "    </tr>\n",
       "    <tr>\n",
       "      <th>4</th>\n",
       "      <td>1576.0</td>\n",
       "      <td>1602.0</td>\n",
       "      <td>2.252950</td>\n",
       "      <td>1.687991</td>\n",
       "      <td>869</td>\n",
       "      <td>1957.813550</td>\n",
       "      <td>2.815155</td>\n",
       "      <td>89.238236</td>\n",
       "      <td>9.11456</td>\n",
       "      <td>0.0</td>\n",
       "      <td>...</td>\n",
       "      <td>0.0</td>\n",
       "      <td>0.0</td>\n",
       "      <td>0.0</td>\n",
       "      <td>0.0</td>\n",
       "      <td>0.0</td>\n",
       "      <td>203.0</td>\n",
       "      <td>0.0</td>\n",
       "      <td>151.0</td>\n",
       "      <td>152.0</td>\n",
       "      <td>5.413692</td>\n",
       "    </tr>\n",
       "    <tr>\n",
       "      <th>...</th>\n",
       "      <td>...</td>\n",
       "      <td>...</td>\n",
       "      <td>...</td>\n",
       "      <td>...</td>\n",
       "      <td>...</td>\n",
       "      <td>...</td>\n",
       "      <td>...</td>\n",
       "      <td>...</td>\n",
       "      <td>...</td>\n",
       "      <td>...</td>\n",
       "      <td>...</td>\n",
       "      <td>...</td>\n",
       "      <td>...</td>\n",
       "      <td>...</td>\n",
       "      <td>...</td>\n",
       "      <td>...</td>\n",
       "      <td>...</td>\n",
       "      <td>...</td>\n",
       "      <td>...</td>\n",
       "      <td>...</td>\n",
       "      <td>...</td>\n",
       "    </tr>\n",
       "    <tr>\n",
       "      <th>2319</th>\n",
       "      <td>1570.0</td>\n",
       "      <td>1591.0</td>\n",
       "      <td>3.168133</td>\n",
       "      <td>2.210936</td>\n",
       "      <td>723</td>\n",
       "      <td>2290.560159</td>\n",
       "      <td>3.863328</td>\n",
       "      <td>89.150879</td>\n",
       "      <td>0.00000</td>\n",
       "      <td>0.0</td>\n",
       "      <td>...</td>\n",
       "      <td>0.0</td>\n",
       "      <td>0.0</td>\n",
       "      <td>0.0</td>\n",
       "      <td>90.0</td>\n",
       "      <td>0.0</td>\n",
       "      <td>256.0</td>\n",
       "      <td>0.0</td>\n",
       "      <td>129.0</td>\n",
       "      <td>223.0</td>\n",
       "      <td>7.125735</td>\n",
       "    </tr>\n",
       "    <tr>\n",
       "      <th>2320</th>\n",
       "      <td>1554.0</td>\n",
       "      <td>1591.0</td>\n",
       "      <td>4.174918</td>\n",
       "      <td>2.872031</td>\n",
       "      <td>940</td>\n",
       "      <td>3924.422920</td>\n",
       "      <td>5.067396</td>\n",
       "      <td>114.179527</td>\n",
       "      <td>0.00000</td>\n",
       "      <td>0.0</td>\n",
       "      <td>...</td>\n",
       "      <td>0.0</td>\n",
       "      <td>0.0</td>\n",
       "      <td>0.0</td>\n",
       "      <td>122.0</td>\n",
       "      <td>0.0</td>\n",
       "      <td>256.0</td>\n",
       "      <td>0.0</td>\n",
       "      <td>129.0</td>\n",
       "      <td>226.0</td>\n",
       "      <td>9.412616</td>\n",
       "    </tr>\n",
       "    <tr>\n",
       "      <th>2321</th>\n",
       "      <td>1571.0</td>\n",
       "      <td>1589.0</td>\n",
       "      <td>3.605239</td>\n",
       "      <td>2.452092</td>\n",
       "      <td>569</td>\n",
       "      <td>2051.380991</td>\n",
       "      <td>4.360104</td>\n",
       "      <td>94.086723</td>\n",
       "      <td>9.04800</td>\n",
       "      <td>0.0</td>\n",
       "      <td>...</td>\n",
       "      <td>0.0</td>\n",
       "      <td>0.0</td>\n",
       "      <td>0.0</td>\n",
       "      <td>0.0</td>\n",
       "      <td>0.0</td>\n",
       "      <td>230.0</td>\n",
       "      <td>0.0</td>\n",
       "      <td>124.0</td>\n",
       "      <td>226.0</td>\n",
       "      <td>6.271699</td>\n",
       "    </tr>\n",
       "    <tr>\n",
       "      <th>2322</th>\n",
       "      <td>1591.0</td>\n",
       "      <td>1594.0</td>\n",
       "      <td>3.202310</td>\n",
       "      <td>2.239820</td>\n",
       "      <td>750</td>\n",
       "      <td>2401.732500</td>\n",
       "      <td>3.907887</td>\n",
       "      <td>118.110717</td>\n",
       "      <td>0.00000</td>\n",
       "      <td>0.0</td>\n",
       "      <td>...</td>\n",
       "      <td>0.0</td>\n",
       "      <td>0.0</td>\n",
       "      <td>0.0</td>\n",
       "      <td>101.0</td>\n",
       "      <td>0.0</td>\n",
       "      <td>206.0</td>\n",
       "      <td>0.0</td>\n",
       "      <td>129.0</td>\n",
       "      <td>207.0</td>\n",
       "      <td>14.953657</td>\n",
       "    </tr>\n",
       "    <tr>\n",
       "      <th>2323</th>\n",
       "      <td>1569.0</td>\n",
       "      <td>1603.0</td>\n",
       "      <td>1.737084</td>\n",
       "      <td>1.296836</td>\n",
       "      <td>883</td>\n",
       "      <td>1533.845172</td>\n",
       "      <td>2.167774</td>\n",
       "      <td>110.160958</td>\n",
       "      <td>50.00528</td>\n",
       "      <td>0.0</td>\n",
       "      <td>...</td>\n",
       "      <td>0.0</td>\n",
       "      <td>0.0</td>\n",
       "      <td>0.0</td>\n",
       "      <td>0.0</td>\n",
       "      <td>0.0</td>\n",
       "      <td>233.0</td>\n",
       "      <td>0.0</td>\n",
       "      <td>126.0</td>\n",
       "      <td>227.0</td>\n",
       "      <td>11.336151</td>\n",
       "    </tr>\n",
       "  </tbody>\n",
       "</table>\n",
       "<p>2324 rows × 32 columns</p>\n",
       "</div>"
      ],
      "text/plain": [
       "      Первая температура  Целевая температура  Активная мощность  \\\n",
       "0                 1571.0               1613.0           3.036730   \n",
       "1                 1581.0               1602.0           2.139408   \n",
       "2                 1596.0               1599.0           4.063641   \n",
       "3                 1601.0               1625.0           2.706489   \n",
       "4                 1576.0               1602.0           2.252950   \n",
       "...                  ...                  ...                ...   \n",
       "2319              1570.0               1591.0           3.168133   \n",
       "2320              1554.0               1591.0           4.174918   \n",
       "2321              1571.0               1589.0           3.605239   \n",
       "2322              1591.0               1594.0           3.202310   \n",
       "2323              1569.0               1603.0           1.737084   \n",
       "\n",
       "      Реактивная мощность  Время нагрева дугой      Теплота  Полная мощность  \\\n",
       "0                2.142821                 1098  3334.329540         3.716640   \n",
       "1                1.453357                  811  1735.059888         2.586371   \n",
       "2                2.937457                  655  2661.684855         5.014163   \n",
       "3                2.056992                  741  2005.508349         3.399456   \n",
       "4                1.687991                  869  1957.813550         2.815155   \n",
       "...                   ...                  ...          ...              ...   \n",
       "2319             2.210936                  723  2290.560159         3.863328   \n",
       "2320             2.872031                  940  3924.422920         5.067396   \n",
       "2321             2.452092                  569  2051.380991         4.360104   \n",
       "2322             2.239820                  750  2401.732500         3.907887   \n",
       "2323             1.296836                  883  1533.845172         2.167774   \n",
       "\n",
       "          Wire 1    Wire 2  Wire 3  ...  Bulk 7  Bulk 8  Bulk 9  Bulk 10  \\\n",
       "0      60.059998   0.00000     0.0  ...     0.0     0.0     0.0      0.0   \n",
       "1      96.052315   0.00000     0.0  ...     0.0     0.0     0.0      0.0   \n",
       "2      91.160157   0.00000     0.0  ...     0.0     0.0     0.0      0.0   \n",
       "3      89.063515   0.00000     0.0  ...     0.0     0.0     0.0      0.0   \n",
       "4      89.238236   9.11456     0.0  ...     0.0     0.0     0.0      0.0   \n",
       "...          ...       ...     ...  ...     ...     ...     ...      ...   \n",
       "2319   89.150879   0.00000     0.0  ...     0.0     0.0     0.0     90.0   \n",
       "2320  114.179527   0.00000     0.0  ...     0.0     0.0     0.0    122.0   \n",
       "2321   94.086723   9.04800     0.0  ...     0.0     0.0     0.0      0.0   \n",
       "2322  118.110717   0.00000     0.0  ...     0.0     0.0     0.0    101.0   \n",
       "2323  110.160958  50.00528     0.0  ...     0.0     0.0     0.0      0.0   \n",
       "\n",
       "      Bulk 11  Bulk 12  Bulk 13  Bulk 14  Bulk 15      Газ 1  \n",
       "0         0.0    206.0      0.0    150.0    154.0  29.749986  \n",
       "1         0.0    206.0      0.0    149.0    154.0  12.555561  \n",
       "2         0.0    205.0      0.0    152.0    153.0  28.554793  \n",
       "3         0.0    207.0      0.0    153.0    154.0  18.841219  \n",
       "4         0.0    203.0      0.0    151.0    152.0   5.413692  \n",
       "...       ...      ...      ...      ...      ...        ...  \n",
       "2319      0.0    256.0      0.0    129.0    223.0   7.125735  \n",
       "2320      0.0    256.0      0.0    129.0    226.0   9.412616  \n",
       "2321      0.0    230.0      0.0    124.0    226.0   6.271699  \n",
       "2322      0.0    206.0      0.0    129.0    207.0  14.953657  \n",
       "2323      0.0    233.0      0.0    126.0    227.0  11.336151  \n",
       "\n",
       "[2324 rows x 32 columns]"
      ]
     },
     "execution_count": 42,
     "metadata": {},
     "output_type": "execute_result"
    }
   ],
   "source": [
    "data_wire_new.fillna(0, inplace=True)\n",
    "data_bulk_new.fillna(0, inplace=True)\n",
    "\n",
    "wire = data_wire_new.groupby('key').sum().reset_index()\n",
    "bulk = data_bulk_new.groupby('key').sum().reset_index()\n",
    "wire_bulk = wire.merge(bulk, on='key', how='inner')\n",
    "\n",
    "total_df = data_temp_min_max.merge(data_arc_total, on='key', how='inner')\n",
    "total_df = total_df.merge(wire_bulk, on='key', how='inner')\n",
    "total_df = total_df.merge(data_gas_new, on='key', how='inner')\n",
    "total_df.drop('key', inplace=True, axis=1)\n",
    "total_df"
   ]
  },
  {
   "cell_type": "markdown",
   "id": "5875ca68",
   "metadata": {},
   "source": [
    "Таким образом из 3241 партии после объединения таблиц, чистки и удаления пропусков для обучения осталось 2324 партии. Посмотрю линейную корреляцию признаков."
   ]
  },
  {
   "cell_type": "code",
   "execution_count": 43,
   "id": "e0906e07",
   "metadata": {},
   "outputs": [
    {
     "data": {
      "image/png": "[encoded data removed]",
      "text/plain": [
       "<Figure size 1152x720 with 2 Axes>"
      ]
     },
     "metadata": {
      "needs_background": "light"
     },
     "output_type": "display_data"
    }
   ],
   "source": [
    "plt.figure(figsize=(16, 10))\n",
    "sns.heatmap(total_df.corr())\n",
    "plt.title('Мультиколлинеарность по коэффициенту Пирсона');"
   ]
  },
  {
   "cell_type": "markdown",
   "id": "1c029b38",
   "metadata": {},
   "source": [
    "Активная и реактивная мощности имеют сильную корреляци. Каждая из них имеет сильную корреляцию с полной мощностью, что ожидаемо. Удалю данные мощности, оставив только полную. Удалю и время нагрева дугой, так как она является составляющей теплоты. Также удалю `'Wire 5'`, посколько он полностью равен нулю.\n",
    "\n",
    "\n",
    "P.S.: Забегая вперед можно сказать, что у лучшей модели признаки `'Wire 9'`, `'Wire 8'`, `'Wire 7'`, `'Bulk 7'`, `'Bulk 8'`, `'Wire 4'`, `'Bulk 13'`, `'Wire 3'`, `'Bulk 2'` имели нулевой вес. Удалю и их."
   ]
  },
  {
   "cell_type": "code",
   "execution_count": 44,
   "id": "21be7588",
   "metadata": {},
   "outputs": [],
   "source": [
    "total_df.drop(['Активная мощность', 'Реактивная мощность', 'Wire 5', 'Bulk 9'], inplace=True, axis=1)\n",
    "\n",
    "total_df.drop(['Wire 9', 'Wire 8', 'Wire 7', 'Bulk 7', 'Bulk 8', 'Wire 4', 'Bulk 13', 'Wire 3', 'Bulk 2'], inplace=True, axis=1)"
   ]
  },
  {
   "cell_type": "code",
   "execution_count": 45,
   "id": "34cfd170",
   "metadata": {},
   "outputs": [
    {
     "data": {
      "image/png": "[encoded data removed]",
      "text/plain": [
       "<Figure size 1152x720 with 2 Axes>"
      ]
     },
     "metadata": {
      "needs_background": "light"
     },
     "output_type": "display_data"
    }
   ],
   "source": [
    "plt.figure(figsize=(16, 10))\n",
    "sns.heatmap(total_df.corr(), annot=True)\n",
    "plt.title('Мультиколлинеарность по коэффициенту Пирсона');"
   ]
  },
  {
   "cell_type": "markdown",
   "id": "bcac5db8",
   "metadata": {},
   "source": [
    "Признаков к коэффициентом корреляции > 0.9 нет. Взглянем на рапределения, убедившись, что данные готовы к обучению"
   ]
  },
  {
   "cell_type": "code",
   "execution_count": 46,
   "id": "8eafaef1",
   "metadata": {},
   "outputs": [
    {
     "data": {
      "image/png": "[encoded data removed]",
      "text/plain": [
       "<Figure size 1440x1440 with 20 Axes>"
      ]
     },
     "metadata": {
      "needs_background": "light"
     },
     "output_type": "display_data"
    }
   ],
   "source": [
    "total_df.hist(figsize=(20,20), bins=30);"
   ]
  },
  {
   "cell_type": "markdown",
   "id": "03859db4",
   "metadata": {},
   "source": [
    "## Построение моделей"
   ]
  },
  {
   "cell_type": "markdown",
   "id": "3df2b5a7",
   "metadata": {},
   "source": [
    "Разобъю итоговый набор данных на выборки, оставив для теста 25% данных."
   ]
  },
  {
   "cell_type": "code",
   "execution_count": 47,
   "id": "d78f2be6",
   "metadata": {},
   "outputs": [
    {
     "name": "stdout",
     "output_type": "stream",
     "text": [
      "X_train: (1743, 18)\n",
      "X_test: (581, 18)\n",
      "y_train: (1743,)\n",
      "y_test: (581,)\n"
     ]
    }
   ],
   "source": [
    "RANDOM_STATE = 280823\n",
    "\n",
    "features = total_df.drop('Целевая температура', axis=1)\n",
    "target = total_df['Целевая температура']\n",
    "\n",
    "X_train, X_test, y_train, y_test = train_test_split(features, target, \n",
    "                                                    test_size=0.25, \n",
    "                                                    random_state=RANDOM_STATE)\n",
    "\n",
    "print(f'X_train: {X_train.shape}')\n",
    "print(f'X_test: {X_test.shape}')\n",
    "print(f'y_train: {y_train.shape}')\n",
    "print(f'y_test: {y_test.shape}')"
   ]
  },
  {
   "cell_type": "code",
   "execution_count": 48,
   "id": "a96f5ab4",
   "metadata": {},
   "outputs": [
    {
     "data": {
      "text/plain": [
       "Время нагрева дугой    202.597157\n",
       "Первая температура     190.941279\n",
       "Wire 1                 188.620351\n",
       "Теплота                160.873453\n",
       "Bulk 12                147.746655\n",
       "Bulk 15                147.578521\n",
       "Wire 2                  95.019972\n",
       "Полная мощность         90.106236\n",
       "Bulk 4                  69.065908\n",
       "Bulk 6                  62.288703\n",
       "Bulk 14                 20.722106\n",
       "Bulk 11                 18.701824\n",
       "Bulk 10                  9.670236\n",
       "Газ 1                    8.995900\n",
       "Bulk 1                   5.636579\n",
       "dtype: float64"
      ]
     },
     "execution_count": 48,
     "metadata": {},
     "output_type": "execute_result"
    }
   ],
   "source": [
    "# F-тест\n",
    "freg = f_regression(X_train, y_train)\n",
    "freg = pd.Series(freg[0], index=X_train.columns).sort_values(ascending=False)\n",
    "freg.head(15)"
   ]
  },
  {
   "cell_type": "code",
   "execution_count": 49,
   "id": "dfa71e03",
   "metadata": {},
   "outputs": [
    {
     "data": {
      "text/plain": [
       "Первая температура     0.091690\n",
       "Wire 1                 0.084295\n",
       "Полная мощность        0.076261\n",
       "Bulk 4                 0.072095\n",
       "Теплота                0.071542\n",
       "Bulk 14                0.061862\n",
       "Bulk 12                0.060792\n",
       "Время нагрева дугой    0.059270\n",
       "Bulk 6                 0.059045\n",
       "Bulk 15                0.049652\n",
       "Wire 2                 0.031498\n",
       "Газ 1                  0.028573\n",
       "Bulk 3                 0.020982\n",
       "Bulk 10                0.011152\n",
       "Bulk 11                0.008842\n",
       "dtype: float64"
      ]
     },
     "execution_count": 49,
     "metadata": {},
     "output_type": "execute_result"
    }
   ],
   "source": [
    "# Тест на взаимную ифнормацию\n",
    "mir = mutual_info_regression(X_train, y_train)\n",
    "mir = pd.Series(mir, index=X_train.columns).sort_values(ascending=False)\n",
    "mir.head(15)"
   ]
  },
  {
   "cell_type": "markdown",
   "id": "af223be5",
   "metadata": {},
   "source": [
    "В этой работе обучу три модели:\n",
    "- LinearRegression,\n",
    "- CatBoostRegressor,\n",
    "- LGBMRegressor.\n",
    "\n",
    "Для LinearRegression и LGBMRegressor применю масштабирование данных. CatBoostRegressor не нуждается в этом, так как имеет встроеное масштабирование.\n",
    "\n",
    "Оценка модели будет проводиться с применением кросс-валидации по метрики MAE. Для моделей градиентного бустинга кросс-валидация будет осуществляться с помощью RandomizedSearchCV.\n",
    "\n",
    "Использую гиперпараметры моделей градиентного бустинга:\n",
    "- количество деревье\n",
    "- грубина деревьев\n",
    "- скорость обучения\n",
    "\n",
    "Оберну вышеперечисленное в Pipeline с помощью функции `pipe_model`"
   ]
  },
  {
   "cell_type": "code",
   "execution_count": 50,
   "id": "fe30c27e",
   "metadata": {},
   "outputs": [],
   "source": [
    "def pipe_model(X_tr, y_tr, clf, param_grid, scale, linear):\n",
    "    if scale == True:\n",
    "        pipe = Pipeline([('scaler', StandardScaler()),\n",
    "                         ('regression', clf)])\n",
    "    else:\n",
    "        pipe = Pipeline([('regression', clf)])\n",
    "        \n",
    "    if linear == True:\n",
    "        scores = cross_val_score(pipe, X_tr, y_tr, cv=5, scoring='neg_mean_absolute_error')\n",
    "        print('MAE кросс-валидации:', -scores.mean())\n",
    "        model = pipe.fit(X_tr, y_tr)\n",
    "    else:\n",
    "        grid = RandomizedSearchCV(pipe, param_grid, n_jobs=-1, cv=5, \n",
    "                              scoring='neg_mean_absolute_error',\n",
    "                              random_state=RANDOM_STATE)\n",
    "        model = grid.fit(X_tr, y_tr)\n",
    "        print('MAE кросс-валидации:', -grid.best_score_)\n",
    "    return model"
   ]
  },
  {
   "cell_type": "code",
   "execution_count": 51,
   "id": "8e877e1a",
   "metadata": {},
   "outputs": [
    {
     "name": "stdout",
     "output_type": "stream",
     "text": [
      "-----------LinearRegression-----------\n",
      "MAE кросс-валидации: 6.172244622134357\n",
      "-----------Catboost-----------\n",
      "MAE кросс-валидации: 6.051470127812055\n",
      "-----------LightGBM-----------\n",
      "MAE кросс-валидации: 6.011273603881902\n",
      "Wall time: 8min 33s\n"
     ]
    }
   ],
   "source": [
    "%%time\n",
    "param_grid_cat={'regression__iterations': range(4, 301, 4),\n",
    "                'regression__depth': range(2, 21),\n",
    "                'regression__learning_rate': np.arange(0, 1.2, 0.1)}\n",
    "\n",
    "param_grid_lgmb={'regression__n_estimators': range(4, 301, 4),\n",
    "                 'regression__max_depth': range(2, 21),\n",
    "                 'regression__learning_rate': np.arange(0, 1.1, 0.1)}\n",
    "\n",
    "\n",
    "\n",
    "print('-----------LinearRegression-----------')\n",
    "lin = pipe_model(X_train, y_train,\n",
    "                LinearRegression(),\n",
    "                param_grid=None, \n",
    "                scale=True,\n",
    "                linear=True)\n",
    "\n",
    "print('-----------Catboost-----------')\n",
    "cat = pipe_model(X_train, y_train,\n",
    "                CatBoostRegressor(random_state=RANDOM_STATE,  verbose=False, loss_function='MAE', eval_metric='MAE'),\n",
    "                param_grid_cat, \n",
    "                scale=False,\n",
    "                linear=False)\n",
    "\n",
    "print('-----------LightGBM-----------')\n",
    "lgbm = pipe_model(X_train, y_train,\n",
    "                 LGBMRegressor(random_state=RANDOM_STATE, n_jobs=-1, objective='mae', metric='mae'),\n",
    "                 param_grid_lgmb, \n",
    "                 scale=True,\n",
    "                 linear=False)"
   ]
  },
  {
   "cell_type": "code",
   "execution_count": 52,
   "id": "6286e6f5",
   "metadata": {},
   "outputs": [
    {
     "name": "stdout",
     "output_type": "stream",
     "text": [
      "-----------Лучшая модель-----------\n"
     ]
    },
    {
     "data": {
      "text/plain": [
       "Pipeline(steps=[('scaler', StandardScaler()),\n",
       "                ('regression',\n",
       "                 LGBMRegressor(max_depth=7, metric='mae', n_estimators=88,\n",
       "                               objective='mae', random_state=280823))])"
      ]
     },
     "execution_count": 52,
     "metadata": {},
     "output_type": "execute_result"
    }
   ],
   "source": [
    "print('-----------Лучшая модель-----------')\n",
    "lgbm.best_estimator_"
   ]
  },
  {
   "cell_type": "markdown",
   "id": "f1e4c87c",
   "metadata": {},
   "source": [
    "Лучшей моделью из оценки кросс-валидации оказалась LGBMRegressor. К тому же, она заметно быстрее CatBoostRegressor.\n",
    "\n",
    "Определю оценку прогноза"
   ]
  },
  {
   "cell_type": "code",
   "execution_count": 53,
   "id": "bf1900e6",
   "metadata": {},
   "outputs": [
    {
     "name": "stdout",
     "output_type": "stream",
     "text": [
      "МАЕ предсказания: 6.6801862422577125\n"
     ]
    }
   ],
   "source": [
    "pred = lgbm.predict(X_test)\n",
    "print('МАЕ предсказания:', mean_absolute_error(y_test, pred))"
   ]
  },
  {
   "cell_type": "markdown",
   "id": "b9db0ad4",
   "metadata": {},
   "source": [
    "Проверю предсказания на адекватность с помощью простейшей константной модели `DummyRegressor`"
   ]
  },
  {
   "cell_type": "code",
   "execution_count": 54,
   "id": "0e8a8987",
   "metadata": {},
   "outputs": [
    {
     "name": "stdout",
     "output_type": "stream",
     "text": [
      "-----------DummyRegressor-----------\n",
      "MAE кросс-валидации: 8.040992973247686\n",
      "МАЕ предсказания констанстной модели: 8.258009663438608\n"
     ]
    }
   ],
   "source": [
    "print('-----------DummyRegressor-----------')\n",
    "dummy = pipe_model(X_train, y_train,\n",
    "                DummyRegressor(),\n",
    "                param_grid=None, \n",
    "                scale=True,\n",
    "                linear=True)\n",
    "pred_dummy = dummy.predict(X_test)\n",
    "print('МАЕ предсказания констанстной модели:', mean_absolute_error(y_test, pred_dummy))"
   ]
  },
  {
   "cell_type": "markdown",
   "id": "834b4e93",
   "metadata": {},
   "source": [
    "Константная простейшая модель предсказывает конечную температуру сплава со значительно большей ошибкой. Это говорит об адекватности наших моделей и их оценке. В противном случае это бы означало, что любая рандомная модель могла предсказать целевую переменную лучше нашей модели."
   ]
  },
  {
   "cell_type": "markdown",
   "id": "54824d3b",
   "metadata": {},
   "source": [
    "## Анализ важности признаков"
   ]
  },
  {
   "cell_type": "code",
   "execution_count": 55,
   "id": "95f57493",
   "metadata": {},
   "outputs": [
    {
     "data": {
      "text/html": [
       "<div>\n",
       "<style scoped>\n",
       "    .dataframe tbody tr th:only-of-type {\n",
       "        vertical-align: middle;\n",
       "    }\n",
       "\n",
       "    .dataframe tbody tr th {\n",
       "        vertical-align: top;\n",
       "    }\n",
       "\n",
       "    .dataframe thead th {\n",
       "        text-align: right;\n",
       "    }\n",
       "</style>\n",
       "<table border=\"1\" class=\"dataframe\">\n",
       "  <thead>\n",
       "    <tr style=\"text-align: right;\">\n",
       "      <th></th>\n",
       "      <th>Время нагрева дугой</th>\n",
       "      <th>Первая температура</th>\n",
       "      <th>Газ 1</th>\n",
       "      <th>Bulk 14</th>\n",
       "      <th>Wire 1</th>\n",
       "      <th>Полная мощность</th>\n",
       "      <th>Теплота</th>\n",
       "      <th>Bulk 12</th>\n",
       "      <th>Bulk 15</th>\n",
       "      <th>Wire 2</th>\n",
       "      <th>Bulk 3</th>\n",
       "      <th>Bulk 4</th>\n",
       "      <th>Bulk 6</th>\n",
       "      <th>Bulk 1</th>\n",
       "      <th>Bulk 11</th>\n",
       "      <th>Bulk 10</th>\n",
       "      <th>Wire 6</th>\n",
       "      <th>Bulk 5</th>\n",
       "    </tr>\n",
       "  </thead>\n",
       "  <tbody>\n",
       "    <tr>\n",
       "      <th>Веса</th>\n",
       "      <td>309</td>\n",
       "      <td>242</td>\n",
       "      <td>233</td>\n",
       "      <td>184</td>\n",
       "      <td>176</td>\n",
       "      <td>175</td>\n",
       "      <td>119</td>\n",
       "      <td>109</td>\n",
       "      <td>107</td>\n",
       "      <td>102</td>\n",
       "      <td>90</td>\n",
       "      <td>69</td>\n",
       "      <td>58</td>\n",
       "      <td>42</td>\n",
       "      <td>17</td>\n",
       "      <td>12</td>\n",
       "      <td>3</td>\n",
       "      <td>1</td>\n",
       "    </tr>\n",
       "  </tbody>\n",
       "</table>\n",
       "</div>"
      ],
      "text/plain": [
       "      Время нагрева дугой  Первая температура  Газ 1  Bulk 14  Wire 1  \\\n",
       "Веса                  309                 242    233      184     176   \n",
       "\n",
       "      Полная мощность  Теплота  Bulk 12  Bulk 15  Wire 2  Bulk 3  Bulk 4  \\\n",
       "Веса              175      119      109      107     102      90      69   \n",
       "\n",
       "      Bulk 6  Bulk 1  Bulk 11  Bulk 10  Wire 6  Bulk 5  \n",
       "Веса      58      42       17       12       3       1  "
      ]
     },
     "execution_count": 55,
     "metadata": {},
     "output_type": "execute_result"
    }
   ],
   "source": [
    "features_weights = lgbm.best_estimator_._final_estimator.feature_importances_\n",
    "\n",
    "weights = pd.DataFrame(features_weights, X_test.columns, columns = ['Веса']).sort_values(by='Веса', ascending=False)\n",
    "weights.T"
   ]
  },
  {
   "cell_type": "code",
   "execution_count": 56,
   "id": "808d89ba",
   "metadata": {},
   "outputs": [
    {
     "data": {
      "image/png": "[encoded data removed]",
      "text/plain": [
       "<Figure size 1440x288 with 1 Axes>"
      ]
     },
     "metadata": {
      "needs_background": "light"
     },
     "output_type": "display_data"
    }
   ],
   "source": [
    "weights['Веса'].plot(kind='bar', figsize=(20, 4), grid=True)\n",
    "plt.ylabel('Вес')\n",
    "plt.xlabel('Признаки')\n",
    "plt.title('Анализ важности признаков');"
   ]
  },
  {
   "cell_type": "code",
   "execution_count": 57,
   "id": "48ef1daa",
   "metadata": {},
   "outputs": [
    {
     "data": {
      "image/png": "[encoded data removed]",
      "text/plain": [
       "<Figure size 576x468 with 1 Axes>"
      ]
     },
     "metadata": {},
     "output_type": "display_data"
    }
   ],
   "source": [
    "explainer = shap.Explainer(lgbm.best_estimator_._final_estimator)\n",
    "shap_values = explainer(X_train)\n",
    "\n",
    "\n",
    "shap.plots.bar(shap_values)"
   ]
  },
  {
   "cell_type": "markdown",
   "id": "e9e9db12",
   "metadata": {},
   "source": [
    "Согласно лучшей модели LGBMRegression наиболее важным признаками являются:\n",
    "- Время нагрева сплава\n",
    "- Температура сплава до обработки\n",
    "- Объем газов при продувки\n",
    "- Объем сыпучего материала Bulk 14\n",
    "- Объем проволочного материала Wire 1\n",
    "- Полная мощность.\n",
    "\n",
    "Примечательно, что время нагрева важнее температуры сплава до обработки."
   ]
  },
  {
   "cell_type": "markdown",
   "id": "70f6779b",
   "metadata": {},
   "source": [
    "Для предприятия важно контролиролировать диапазон нагрева сплава, ведь чем меньше недогрева и перегрева, а также продувки (которая, очевидно, охлаждает), тем ниже затратов на электроэнергию. Попробую сколько бы получилось сэкономить, применив в производстве обученную модель. \n",
    "\n",
    "Если в тренировочном датасете посчитать разницу целевой и начальной температур, а потом поделить полную мощность на данную разницу - получим мощность, необходимая для нагрева на 1 градус. Найду среднюю мощность, необходимую для нагрева на 1 градус. По распределению целевой температуры найду медианную - будем считать, что медианная температура и есть та, вокруг которой необходимо контролировать диапазон. Вычту из предсказанных температур медианную и умножу на среднюю мощность, необходимая для нагрева на 1 градус - получу перерасход мощности. \n",
    "\n",
    "Буду считать перерасходом только перегрев. Недогрев до необходимой температуры не учту, так как все равно придется потратить энергию на догрев."
   ]
  },
  {
   "cell_type": "code",
   "execution_count": 58,
   "id": "348d4da4",
   "metadata": {},
   "outputs": [
    {
     "name": "stdout",
     "output_type": "stream",
     "text": [
      "Средняя температура перегрева: 20.268500948766604\n"
     ]
    }
   ],
   "source": [
    "temp_range = y_train - X_train['Первая температура']\n",
    "ind = temp_range[temp_range > 0].index\n",
    "mean_temp_range = temp_range[temp_range > 0].mean()\n",
    "print('Средняя температура перегрева:', mean_temp_range)"
   ]
  },
  {
   "cell_type": "code",
   "execution_count": 59,
   "id": "9d3f6239",
   "metadata": {},
   "outputs": [
    {
     "name": "stdout",
     "output_type": "stream",
     "text": [
      "Средняя можность на нагрев на 1 градус: 0.4693691005524956\n"
     ]
    }
   ],
   "source": [
    "relative_power = (X_train.loc[ind, 'Полная мощность'] / temp_range[ind]).mean()\n",
    "print('Средняя можность на нагрев на 1 градус:', relative_power)"
   ]
  },
  {
   "cell_type": "code",
   "execution_count": 60,
   "id": "cb192518",
   "metadata": {},
   "outputs": [
    {
     "name": "stdout",
     "output_type": "stream",
     "text": [
      "Суммарный перерасход мощности на перегрев: 1891.0881061260047\n"
     ]
    }
   ],
   "source": [
    "delta = X_test['Первая температура'] - y_test.median()\n",
    "overheat = (delta[delta > 0] * relative_power).sum()\n",
    "print('Суммарный перерасход мощности на перегрев:', overheat)"
   ]
  },
  {
   "cell_type": "code",
   "execution_count": 61,
   "id": "2094952d",
   "metadata": {},
   "outputs": [
    {
     "name": "stdout",
     "output_type": "stream",
     "text": [
      "То есть можно cэкономить 17.119609776691366 %\n"
     ]
    }
   ],
   "source": [
    "ec = (X_test['Полная мощность'].sum() - overheat) * 100 / X_test['Полная мощность'].sum()\n",
    "print(f'То есть можно cэкономить {ec} %')"
   ]
  },
  {
   "cell_type": "markdown",
   "id": "d17ad56c",
   "metadata": {},
   "source": [
    "## Отчет"
   ]
  },
  {
   "cell_type": "markdown",
   "id": "81d53211",
   "metadata": {},
   "source": [
    "Ключевым шагом в решении задачи стоит выделить определение целевой переменной (конечной температуры). В зависимости от цели существенно изменяется предобработка данных. Также существенным является удаление/не удаление выбрасов. В данной случае было принято их не удалять, учтя в модели несовершенность производственного процесса в широком диапазоне полученных данных. Применение масштабирования признаков в пайлайне позволило исключить утечку данных и избавиться от применения fit и transform на выборках. \n",
    "\n",
    "Итоговый набор признаков, используемый в лучшей модели:\n",
    "- Первая измеренная температура партии (до обработки)\n",
    "- Время нагрева партии дугой в секундах \n",
    "- Теплота = Актиная мощность * нагрева партии дугой\n",
    "- Полная мощность - евклидово расстояние между векторами активной и реактивной мощности, \n",
    "- Объем сыпучих материалов (Wire 1, Wire 2, Wire 6), \n",
    "- Объем проволочных материалов (Bulk 1, Bulk 3, Bulk 4, Bulk 5, Bulk 6, Bulk 10, Bulk 11, Bulk 12, Bulk 14, Bulk 15), \n",
    "- Объем газа продувки (Газ 1)\n",
    "Удалялись партии с температурой менее 1400 градусов - температура плавления стали. Также удалялись партии с отрицательной реактивной мощностью. Признаки Активная, Реактивная мощность и Wire 5 из-за высокой линейной корреляции были исключены. Признаки Wire 9, Wire 8, Wire 7, Bulk 7, Bulk 8, Wire 4, Bulk 13, Wire 3 и Bulk 2 не влияли на результат модели, поэтому также были исключены.\n",
    "\n",
    "В задачи использовались три модели:\n",
    "- LinearRegression,\n",
    "- CatBoostRegressor,\n",
    "- LGBMRegressor.\n",
    "\n",
    "Для LinearRegression и LGBMRegressor применили масштабирование данных. CatBoostRegressor не нуждается в этом, так как имеет встроеное масштабирование.\n",
    "\n",
    "Оценка модели проводилась с применением кросс-валидации по метрики MAE. Для моделей градиентного бустинга кросс-валидация осуществлялась с помощью RandomizedSearchCV.\n",
    "\n",
    "Используемые гиперпараметры моделей градиентного бустинга:\n",
    "- количество деревьев\n",
    "- глубина деревьев\n",
    "- скорость обучения\n",
    "\n",
    "Лучшей моделью оказалась LGBMRegressor с MAE кросс-валидации 6.011. Лучшая модель имела следующие гиперпараметры:\n",
    "- максимальная глубина деревьев - 7, \n",
    "- функция потерь - mae,\n",
    "- количество деревьев - 88,\n",
    "- random_state - 280823.\n",
    "\n",
    "Оценка МАЕ прогноза лучшей модели составила 6.68, что соответствует требованию заказчика. \n",
    "\n",
    "Модель была впроверена на корректность с помощью простейшей Dummу модели. \n",
    "\n",
    "Согласно лучшей модели LGBMRegression наиболее важным признаками являются:\n",
    "- Время нагрева сплава\n",
    "- Температура сплава до обработки\n",
    "- Объем газов при продувки\n",
    "- Объем сыпучего материала Bulk 14\n",
    "- Объем проволочного материала Wire 1\n",
    "- Полная мощность.\n",
    "\n",
    "Улучшить модель можно попытаться с помощью химического состава сплава на каждой итерации, а также информации о рекомендуемой конечной температуре сплава. В таком случае можно будет предсказывать температуру на каждой итерации обработки, корректируя нагрев, исключив перегрев, что сэкономит электроэнергию."
   ]
  },
  {
   "cell_type": "code",
   "execution_count": null,
   "id": "3dae12f5",
   "metadata": {},
   "outputs": [],
   "source": []
  }
 ],
 "metadata": {
  "ExecuteTimeLog": [
   {
    "duration": 1294,
    "start_time": "2023-08-30T05:39:14.580Z"
   },
   {
    "duration": 583,
    "start_time": "2023-08-30T05:39:16.452Z"
   },
   {
    "duration": 20,
    "start_time": "2023-08-30T06:05:40.826Z"
   },
   {
    "duration": 14,
    "start_time": "2023-08-30T06:07:18.010Z"
   },
   {
    "duration": 7,
    "start_time": "2023-08-30T06:07:21.341Z"
   },
   {
    "duration": 450,
    "start_time": "2023-08-30T06:07:24.089Z"
   },
   {
    "duration": 8,
    "start_time": "2023-08-30T06:07:28.733Z"
   },
   {
    "duration": 105,
    "start_time": "2023-08-30T06:07:54.291Z"
   },
   {
    "duration": 10,
    "start_time": "2023-08-30T06:08:30.477Z"
   },
   {
    "duration": 1872,
    "start_time": "2023-08-30T06:08:31.560Z"
   },
   {
    "duration": 27,
    "start_time": "2023-08-30T06:11:02.116Z"
   },
   {
    "duration": 13,
    "start_time": "2023-08-30T06:11:02.874Z"
   },
   {
    "duration": 44,
    "start_time": "2023-08-30T06:11:03.685Z"
   },
   {
    "duration": 193,
    "start_time": "2023-08-30T06:11:04.291Z"
   },
   {
    "duration": 24,
    "start_time": "2023-08-30T06:11:31.339Z"
   },
   {
    "duration": 12,
    "start_time": "2023-08-30T06:11:31.915Z"
   },
   {
    "duration": 86,
    "start_time": "2023-08-30T06:29:19.866Z"
   },
   {
    "duration": 1466,
    "start_time": "2023-08-30T07:00:53.254Z"
   },
   {
    "duration": 637,
    "start_time": "2023-08-30T07:00:54.722Z"
   },
   {
    "duration": 23,
    "start_time": "2023-08-30T07:00:55.361Z"
   },
   {
    "duration": 23,
    "start_time": "2023-08-30T07:00:55.387Z"
   },
   {
    "duration": 29,
    "start_time": "2023-08-30T07:00:55.412Z"
   },
   {
    "duration": 454,
    "start_time": "2023-08-30T07:00:55.443Z"
   },
   {
    "duration": 14,
    "start_time": "2023-08-30T07:00:55.900Z"
   },
   {
    "duration": 139,
    "start_time": "2023-08-30T07:00:55.916Z"
   },
   {
    "duration": 0,
    "start_time": "2023-08-30T07:00:56.058Z"
   },
   {
    "duration": 0,
    "start_time": "2023-08-30T07:00:56.060Z"
   },
   {
    "duration": 0,
    "start_time": "2023-08-30T07:00:56.062Z"
   },
   {
    "duration": 0,
    "start_time": "2023-08-30T07:00:56.063Z"
   },
   {
    "duration": 0,
    "start_time": "2023-08-30T07:00:56.065Z"
   },
   {
    "duration": 0,
    "start_time": "2023-08-30T07:00:56.066Z"
   },
   {
    "duration": 0,
    "start_time": "2023-08-30T07:00:56.067Z"
   },
   {
    "duration": 0,
    "start_time": "2023-08-30T07:00:56.068Z"
   },
   {
    "duration": 0,
    "start_time": "2023-08-30T07:00:56.069Z"
   },
   {
    "duration": 0,
    "start_time": "2023-08-30T07:00:56.070Z"
   },
   {
    "duration": 0,
    "start_time": "2023-08-30T07:00:56.072Z"
   },
   {
    "duration": 0,
    "start_time": "2023-08-30T07:00:56.073Z"
   },
   {
    "duration": 0,
    "start_time": "2023-08-30T07:00:56.074Z"
   },
   {
    "duration": 0,
    "start_time": "2023-08-30T07:00:56.112Z"
   },
   {
    "duration": 0,
    "start_time": "2023-08-30T07:00:56.113Z"
   },
   {
    "duration": 0,
    "start_time": "2023-08-30T07:00:56.114Z"
   },
   {
    "duration": 0,
    "start_time": "2023-08-30T07:00:56.115Z"
   },
   {
    "duration": 0,
    "start_time": "2023-08-30T07:00:56.117Z"
   },
   {
    "duration": 0,
    "start_time": "2023-08-30T07:00:56.118Z"
   },
   {
    "duration": 0,
    "start_time": "2023-08-30T07:00:56.119Z"
   },
   {
    "duration": 0,
    "start_time": "2023-08-30T07:00:56.121Z"
   },
   {
    "duration": 0,
    "start_time": "2023-08-30T07:00:56.122Z"
   },
   {
    "duration": 0,
    "start_time": "2023-08-30T07:00:56.123Z"
   },
   {
    "duration": 0,
    "start_time": "2023-08-30T07:00:56.124Z"
   },
   {
    "duration": 0,
    "start_time": "2023-08-30T07:00:56.126Z"
   },
   {
    "duration": 19,
    "start_time": "2023-08-30T07:01:43.854Z"
   },
   {
    "duration": 1232,
    "start_time": "2023-08-30T07:02:37.205Z"
   },
   {
    "duration": 251,
    "start_time": "2023-08-30T07:02:38.439Z"
   },
   {
    "duration": 20,
    "start_time": "2023-08-30T07:02:38.693Z"
   },
   {
    "duration": 14,
    "start_time": "2023-08-30T07:02:38.715Z"
   },
   {
    "duration": 9,
    "start_time": "2023-08-30T07:02:38.731Z"
   },
   {
    "duration": 493,
    "start_time": "2023-08-30T07:02:38.742Z"
   },
   {
    "duration": 11,
    "start_time": "2023-08-30T07:02:39.237Z"
   },
   {
    "duration": 6,
    "start_time": "2023-08-30T07:02:39.250Z"
   },
   {
    "duration": 11,
    "start_time": "2023-08-30T07:02:39.258Z"
   },
   {
    "duration": 624,
    "start_time": "2023-08-30T07:02:39.270Z"
   },
   {
    "duration": 23,
    "start_time": "2023-08-30T07:02:39.896Z"
   },
   {
    "duration": 423,
    "start_time": "2023-08-30T07:02:39.921Z"
   },
   {
    "duration": 1180,
    "start_time": "2023-08-30T07:02:40.346Z"
   },
   {
    "duration": 14,
    "start_time": "2023-08-30T07:02:41.531Z"
   },
   {
    "duration": 424,
    "start_time": "2023-08-30T07:02:41.547Z"
   },
   {
    "duration": 47,
    "start_time": "2023-08-30T07:02:41.974Z"
   },
   {
    "duration": 19,
    "start_time": "2023-08-30T07:02:42.024Z"
   },
   {
    "duration": 74,
    "start_time": "2023-08-30T07:02:42.046Z"
   },
   {
    "duration": 228,
    "start_time": "2023-08-30T07:02:42.122Z"
   },
   {
    "duration": 29,
    "start_time": "2023-08-30T07:02:42.352Z"
   },
   {
    "duration": 39,
    "start_time": "2023-08-30T07:02:42.384Z"
   },
   {
    "duration": 15,
    "start_time": "2023-08-30T07:02:42.426Z"
   },
   {
    "duration": 514,
    "start_time": "2023-08-30T07:02:42.443Z"
   },
   {
    "duration": 17,
    "start_time": "2023-08-30T07:02:42.959Z"
   },
   {
    "duration": 38,
    "start_time": "2023-08-30T07:02:42.978Z"
   },
   {
    "duration": 17,
    "start_time": "2023-08-30T07:02:43.019Z"
   },
   {
    "duration": 531,
    "start_time": "2023-08-30T07:02:43.038Z"
   },
   {
    "duration": 18,
    "start_time": "2023-08-30T07:02:43.570Z"
   },
   {
    "duration": 28,
    "start_time": "2023-08-30T07:02:43.590Z"
   },
   {
    "duration": 37,
    "start_time": "2023-08-30T07:02:43.620Z"
   },
   {
    "duration": 277,
    "start_time": "2023-08-30T07:02:43.659Z"
   },
   {
    "duration": 17,
    "start_time": "2023-08-30T07:02:43.937Z"
   },
   {
    "duration": 13,
    "start_time": "2023-08-30T07:02:43.956Z"
   },
   {
    "duration": 1296,
    "start_time": "2023-08-30T17:26:29.755Z"
   },
   {
    "duration": 833,
    "start_time": "2023-08-30T17:26:31.175Z"
   },
   {
    "duration": 15,
    "start_time": "2023-08-30T17:26:32.009Z"
   },
   {
    "duration": 10,
    "start_time": "2023-08-30T17:26:33.124Z"
   },
   {
    "duration": 7,
    "start_time": "2023-08-30T17:26:33.606Z"
   },
   {
    "duration": 352,
    "start_time": "2023-08-30T17:26:34.265Z"
   },
   {
    "duration": 8,
    "start_time": "2023-08-30T17:26:35.430Z"
   },
   {
    "duration": 6,
    "start_time": "2023-08-30T17:26:37.219Z"
   },
   {
    "duration": 12,
    "start_time": "2023-08-30T17:26:56.120Z"
   },
   {
    "duration": 490,
    "start_time": "2023-08-30T17:26:57.538Z"
   },
   {
    "duration": 13,
    "start_time": "2023-08-30T17:26:59.091Z"
   },
   {
    "duration": 350,
    "start_time": "2023-08-30T17:26:59.599Z"
   },
   {
    "duration": 1025,
    "start_time": "2023-08-30T17:27:00.068Z"
   },
   {
    "duration": 10,
    "start_time": "2023-08-30T17:27:01.094Z"
   },
   {
    "duration": 347,
    "start_time": "2023-08-30T17:27:01.105Z"
   },
   {
    "duration": 18,
    "start_time": "2023-08-30T17:27:03.084Z"
   },
   {
    "duration": 11,
    "start_time": "2023-08-30T17:27:03.273Z"
   },
   {
    "duration": 47,
    "start_time": "2023-08-30T17:27:03.729Z"
   },
   {
    "duration": 179,
    "start_time": "2023-08-30T17:27:03.939Z"
   },
   {
    "duration": 16,
    "start_time": "2023-08-30T17:27:04.867Z"
   },
   {
    "duration": 12,
    "start_time": "2023-08-30T17:27:05.072Z"
   },
   {
    "duration": 8,
    "start_time": "2023-08-30T17:27:05.874Z"
   },
   {
    "duration": 366,
    "start_time": "2023-08-30T17:27:06.065Z"
   },
   {
    "duration": 10,
    "start_time": "2023-08-30T17:27:06.885Z"
   },
   {
    "duration": 10,
    "start_time": "2023-08-30T17:27:07.226Z"
   },
   {
    "duration": 9,
    "start_time": "2023-08-30T17:27:07.393Z"
   },
   {
    "duration": 398,
    "start_time": "2023-08-30T17:27:07.543Z"
   },
   {
    "duration": 13,
    "start_time": "2023-08-30T17:27:09.255Z"
   },
   {
    "duration": 10,
    "start_time": "2023-08-30T17:27:09.428Z"
   },
   {
    "duration": 33,
    "start_time": "2023-08-30T17:27:09.613Z"
   },
   {
    "duration": 166,
    "start_time": "2023-08-30T17:27:09.737Z"
   },
   {
    "duration": 15,
    "start_time": "2023-08-30T17:27:10.380Z"
   },
   {
    "duration": 11,
    "start_time": "2023-08-30T17:27:10.571Z"
   },
   {
    "duration": 9027,
    "start_time": "2023-09-01T20:17:10.493Z"
   },
   {
    "duration": 2999,
    "start_time": "2023-09-01T20:17:28.790Z"
   },
   {
    "duration": 288,
    "start_time": "2023-09-01T20:17:33.515Z"
   },
   {
    "duration": 14,
    "start_time": "2023-09-01T20:17:35.415Z"
   },
   {
    "duration": 14,
    "start_time": "2023-09-01T20:17:37.535Z"
   },
   {
    "duration": 12,
    "start_time": "2023-09-01T20:17:38.206Z"
   },
   {
    "duration": 495,
    "start_time": "2023-09-01T20:17:38.442Z"
   },
   {
    "duration": 12,
    "start_time": "2023-09-01T20:17:39.137Z"
   },
   {
    "duration": 12,
    "start_time": "2023-09-01T20:17:39.907Z"
   },
   {
    "duration": 11,
    "start_time": "2023-09-01T20:17:40.606Z"
   },
   {
    "duration": 698,
    "start_time": "2023-09-01T20:17:41.962Z"
   },
   {
    "duration": 277,
    "start_time": "2023-09-01T20:17:42.662Z"
   },
   {
    "duration": 0,
    "start_time": "2023-09-01T20:17:42.941Z"
   },
   {
    "duration": 1376,
    "start_time": "2023-09-01T20:17:43.417Z"
   },
   {
    "duration": 16,
    "start_time": "2023-09-01T20:17:44.803Z"
   },
   {
    "duration": 37,
    "start_time": "2023-09-01T20:17:44.822Z"
   },
   {
    "duration": 22,
    "start_time": "2023-09-01T20:17:46.432Z"
   },
   {
    "duration": 11,
    "start_time": "2023-09-01T20:17:46.661Z"
   },
   {
    "duration": 77,
    "start_time": "2023-09-01T20:17:47.149Z"
   },
   {
    "duration": 247,
    "start_time": "2023-09-01T20:17:47.354Z"
   },
   {
    "duration": 30,
    "start_time": "2023-09-01T20:17:48.166Z"
   },
   {
    "duration": 11,
    "start_time": "2023-09-01T20:17:48.650Z"
   },
   {
    "duration": 11,
    "start_time": "2023-09-01T20:17:49.919Z"
   },
   {
    "duration": 447,
    "start_time": "2023-09-01T20:17:50.565Z"
   },
   {
    "duration": 15,
    "start_time": "2023-09-01T20:17:52.526Z"
   },
   {
    "duration": 14,
    "start_time": "2023-09-01T20:17:52.802Z"
   },
   {
    "duration": 29,
    "start_time": "2023-09-01T20:17:53.201Z"
   },
   {
    "duration": 518,
    "start_time": "2023-09-01T20:17:53.419Z"
   },
   {
    "duration": 22,
    "start_time": "2023-09-01T20:17:58.268Z"
   },
   {
    "duration": 13,
    "start_time": "2023-09-01T20:17:59.102Z"
   },
   {
    "duration": 60,
    "start_time": "2023-09-01T20:17:59.556Z"
   },
   {
    "duration": 213,
    "start_time": "2023-09-01T20:18:00.121Z"
   },
   {
    "duration": 14,
    "start_time": "2023-09-01T20:18:04.027Z"
   },
   {
    "duration": 14,
    "start_time": "2023-09-01T20:18:04.514Z"
   },
   {
    "duration": 11,
    "start_time": "2023-09-01T20:18:11.856Z"
   },
   {
    "duration": 7,
    "start_time": "2023-09-01T20:31:48.853Z"
   },
   {
    "duration": 6,
    "start_time": "2023-09-01T20:31:52.544Z"
   },
   {
    "duration": 16,
    "start_time": "2023-09-01T20:31:54.324Z"
   },
   {
    "duration": 5,
    "start_time": "2023-09-01T20:32:37.707Z"
   },
   {
    "duration": 5640,
    "start_time": "2023-09-01T20:32:46.735Z"
   },
   {
    "duration": 0,
    "start_time": "2023-09-01T20:32:52.377Z"
   },
   {
    "duration": 1822,
    "start_time": "2023-09-02T03:33:50.230Z"
   },
   {
    "duration": 689,
    "start_time": "2023-09-02T03:33:52.054Z"
   },
   {
    "duration": 19,
    "start_time": "2023-09-02T03:33:52.745Z"
   },
   {
    "duration": 13,
    "start_time": "2023-09-02T03:33:52.767Z"
   },
   {
    "duration": 8,
    "start_time": "2023-09-02T03:33:52.782Z"
   },
   {
    "duration": 428,
    "start_time": "2023-09-02T03:33:52.792Z"
   },
   {
    "duration": 9,
    "start_time": "2023-09-02T03:33:53.222Z"
   },
   {
    "duration": 9,
    "start_time": "2023-09-02T03:33:53.233Z"
   },
   {
    "duration": 25,
    "start_time": "2023-09-02T03:33:53.243Z"
   },
   {
    "duration": 685,
    "start_time": "2023-09-02T03:33:53.271Z"
   },
   {
    "duration": 14,
    "start_time": "2023-09-02T03:33:53.958Z"
   },
   {
    "duration": 484,
    "start_time": "2023-09-02T03:33:53.974Z"
   },
   {
    "duration": 1109,
    "start_time": "2023-09-02T03:33:54.460Z"
   },
   {
    "duration": 11,
    "start_time": "2023-09-02T03:33:55.571Z"
   },
   {
    "duration": 370,
    "start_time": "2023-09-02T03:33:55.584Z"
   },
   {
    "duration": 22,
    "start_time": "2023-09-02T03:33:55.956Z"
   },
   {
    "duration": 30,
    "start_time": "2023-09-02T03:33:55.980Z"
   },
   {
    "duration": 54,
    "start_time": "2023-09-02T03:33:56.012Z"
   },
   {
    "duration": 219,
    "start_time": "2023-09-02T03:33:56.067Z"
   },
   {
    "duration": 30,
    "start_time": "2023-09-02T03:33:56.288Z"
   },
   {
    "duration": 15,
    "start_time": "2023-09-02T03:33:56.319Z"
   },
   {
    "duration": 10,
    "start_time": "2023-09-02T03:33:56.335Z"
   },
   {
    "duration": 550,
    "start_time": "2023-09-02T03:33:56.347Z"
   },
   {
    "duration": 12,
    "start_time": "2023-09-02T03:33:56.913Z"
   },
   {
    "duration": 12,
    "start_time": "2023-09-02T03:33:56.927Z"
   },
   {
    "duration": 10,
    "start_time": "2023-09-02T03:33:56.941Z"
   },
   {
    "duration": 485,
    "start_time": "2023-09-02T03:33:56.953Z"
   },
   {
    "duration": 16,
    "start_time": "2023-09-02T03:33:57.443Z"
   },
   {
    "duration": 13,
    "start_time": "2023-09-02T03:33:57.461Z"
   },
   {
    "duration": 58,
    "start_time": "2023-09-02T03:33:57.476Z"
   },
   {
    "duration": 204,
    "start_time": "2023-09-02T03:33:57.535Z"
   },
   {
    "duration": 16,
    "start_time": "2023-09-02T03:33:57.741Z"
   },
   {
    "duration": 31,
    "start_time": "2023-09-02T03:33:57.758Z"
   },
   {
    "duration": 24,
    "start_time": "2023-09-02T03:33:57.791Z"
   },
   {
    "duration": 8,
    "start_time": "2023-09-02T03:33:57.817Z"
   },
   {
    "duration": 6,
    "start_time": "2023-09-02T03:33:57.826Z"
   },
   {
    "duration": 16,
    "start_time": "2023-09-02T03:33:57.834Z"
   },
   {
    "duration": 3,
    "start_time": "2023-09-02T03:33:57.852Z"
   },
   {
    "duration": 5691,
    "start_time": "2023-09-02T03:33:57.856Z"
   },
   {
    "duration": 808,
    "start_time": "2023-09-02T03:34:03.549Z"
   },
   {
    "duration": 26,
    "start_time": "2023-09-02T03:34:04.359Z"
   },
   {
    "duration": 54,
    "start_time": "2023-09-02T03:34:04.405Z"
   },
   {
    "duration": 1018,
    "start_time": "2023-09-02T03:34:04.461Z"
   },
   {
    "duration": 5,
    "start_time": "2023-09-02T03:34:05.481Z"
   },
   {
    "duration": 2382,
    "start_time": "2023-09-02T03:34:05.488Z"
   },
   {
    "duration": 2824,
    "start_time": "2023-09-02T03:34:07.872Z"
   },
   {
    "duration": 16,
    "start_time": "2023-09-02T03:34:10.706Z"
   },
   {
    "duration": 142,
    "start_time": "2023-09-02T03:34:10.723Z"
   },
   {
    "duration": 1795,
    "start_time": "2023-09-02T03:34:27.581Z"
   },
   {
    "duration": 319,
    "start_time": "2023-09-02T03:34:29.378Z"
   },
   {
    "duration": 24,
    "start_time": "2023-09-02T03:34:29.698Z"
   },
   {
    "duration": 12,
    "start_time": "2023-09-02T03:34:29.724Z"
   },
   {
    "duration": 8,
    "start_time": "2023-09-02T03:34:29.738Z"
   },
   {
    "duration": 405,
    "start_time": "2023-09-02T03:34:29.748Z"
   },
   {
    "duration": 9,
    "start_time": "2023-09-02T03:34:30.154Z"
   },
   {
    "duration": 49,
    "start_time": "2023-09-02T03:34:30.165Z"
   },
   {
    "duration": 22,
    "start_time": "2023-09-02T03:34:30.216Z"
   },
   {
    "duration": 714,
    "start_time": "2023-09-02T03:34:30.241Z"
   },
   {
    "duration": 15,
    "start_time": "2023-09-02T03:34:30.957Z"
   },
   {
    "duration": 460,
    "start_time": "2023-09-02T03:34:30.973Z"
   },
   {
    "duration": 1138,
    "start_time": "2023-09-02T03:34:31.435Z"
   },
   {
    "duration": 11,
    "start_time": "2023-09-02T03:34:32.575Z"
   },
   {
    "duration": 357,
    "start_time": "2023-09-02T03:34:32.588Z"
   },
   {
    "duration": 23,
    "start_time": "2023-09-02T03:34:32.946Z"
   },
   {
    "duration": 44,
    "start_time": "2023-09-02T03:34:32.970Z"
   },
   {
    "duration": 51,
    "start_time": "2023-09-02T03:34:33.016Z"
   },
   {
    "duration": 239,
    "start_time": "2023-09-02T03:34:33.069Z"
   },
   {
    "duration": 18,
    "start_time": "2023-09-02T03:34:33.314Z"
   },
   {
    "duration": 22,
    "start_time": "2023-09-02T03:34:33.334Z"
   },
   {
    "duration": 11,
    "start_time": "2023-09-02T03:34:33.358Z"
   },
   {
    "duration": 563,
    "start_time": "2023-09-02T03:34:33.371Z"
   },
   {
    "duration": 11,
    "start_time": "2023-09-02T03:34:33.936Z"
   },
   {
    "duration": 11,
    "start_time": "2023-09-02T03:34:33.948Z"
   },
   {
    "duration": 11,
    "start_time": "2023-09-02T03:34:33.961Z"
   },
   {
    "duration": 452,
    "start_time": "2023-09-02T03:34:33.975Z"
   },
   {
    "duration": 16,
    "start_time": "2023-09-02T03:34:34.431Z"
   },
   {
    "duration": 45,
    "start_time": "2023-09-02T03:34:34.449Z"
   },
   {
    "duration": 68,
    "start_time": "2023-09-02T03:34:34.496Z"
   },
   {
    "duration": 218,
    "start_time": "2023-09-02T03:34:34.567Z"
   },
   {
    "duration": 28,
    "start_time": "2023-09-02T03:34:34.787Z"
   },
   {
    "duration": 79,
    "start_time": "2023-09-02T03:34:34.817Z"
   },
   {
    "duration": 45,
    "start_time": "2023-09-02T03:34:34.898Z"
   },
   {
    "duration": 21,
    "start_time": "2023-09-02T03:34:34.945Z"
   },
   {
    "duration": 18,
    "start_time": "2023-09-02T03:34:34.968Z"
   },
   {
    "duration": 37,
    "start_time": "2023-09-02T03:34:34.988Z"
   },
   {
    "duration": 5,
    "start_time": "2023-09-02T03:34:35.027Z"
   },
   {
    "duration": 5673,
    "start_time": "2023-09-02T03:34:35.033Z"
   },
   {
    "duration": 680,
    "start_time": "2023-09-02T03:34:40.708Z"
   },
   {
    "duration": 32,
    "start_time": "2023-09-02T03:34:41.389Z"
   },
   {
    "duration": 53,
    "start_time": "2023-09-02T03:34:41.423Z"
   },
   {
    "duration": 1121,
    "start_time": "2023-09-02T03:34:41.477Z"
   },
   {
    "duration": 18,
    "start_time": "2023-09-02T03:34:42.600Z"
   },
   {
    "duration": 2518,
    "start_time": "2023-09-02T03:34:42.620Z"
   },
   {
    "duration": 2789,
    "start_time": "2023-09-02T03:34:45.140Z"
   },
   {
    "duration": 9,
    "start_time": "2023-09-02T03:34:47.931Z"
   },
   {
    "duration": 6,
    "start_time": "2023-09-02T03:34:47.941Z"
   },
   {
    "duration": 1384460,
    "start_time": "2023-09-02T03:34:47.949Z"
   },
   {
    "duration": 8,
    "start_time": "2023-09-02T03:57:52.414Z"
   },
   {
    "duration": 16,
    "start_time": "2023-09-02T03:57:52.423Z"
   },
   {
    "duration": 87,
    "start_time": "2023-09-02T03:57:52.441Z"
   },
   {
    "duration": 11,
    "start_time": "2023-09-02T03:57:52.530Z"
   },
   {
    "duration": 414,
    "start_time": "2023-09-02T03:57:52.543Z"
   },
   {
    "duration": 6,
    "start_time": "2023-09-02T04:11:43.091Z"
   },
   {
    "duration": 1742,
    "start_time": "2023-09-02T04:12:13.401Z"
   },
   {
    "duration": 8,
    "start_time": "2023-09-02T04:12:25.614Z"
   },
   {
    "duration": 5,
    "start_time": "2023-09-02T04:12:32.977Z"
   },
   {
    "duration": 5,
    "start_time": "2023-09-02T04:12:55.677Z"
   },
   {
    "duration": 5,
    "start_time": "2023-09-02T04:13:27.372Z"
   },
   {
    "duration": 7,
    "start_time": "2023-09-02T04:14:15.032Z"
   },
   {
    "duration": 6,
    "start_time": "2023-09-02T04:14:30.860Z"
   },
   {
    "duration": 7,
    "start_time": "2023-09-02T04:14:46.869Z"
   },
   {
    "duration": 1851,
    "start_time": "2023-09-02T04:15:55.412Z"
   },
   {
    "duration": 1595,
    "start_time": "2023-09-02T04:16:02.698Z"
   },
   {
    "duration": 8,
    "start_time": "2023-09-02T04:16:05.317Z"
   },
   {
    "duration": 230,
    "start_time": "2023-09-02T04:17:11.841Z"
   },
   {
    "duration": 9,
    "start_time": "2023-09-02T04:17:25.117Z"
   },
   {
    "duration": 241,
    "start_time": "2023-09-02T04:17:51.596Z"
   },
   {
    "duration": 6,
    "start_time": "2023-09-02T04:18:04.943Z"
   },
   {
    "duration": 9,
    "start_time": "2023-09-02T04:18:25.748Z"
   },
   {
    "duration": 4,
    "start_time": "2023-09-02T04:18:45.478Z"
   },
   {
    "duration": 4,
    "start_time": "2023-09-02T04:18:55.231Z"
   },
   {
    "duration": 1656,
    "start_time": "2023-09-02T04:24:50.082Z"
   },
   {
    "duration": 247,
    "start_time": "2023-09-02T04:24:51.739Z"
   },
   {
    "duration": 27,
    "start_time": "2023-09-02T04:24:51.988Z"
   },
   {
    "duration": 93,
    "start_time": "2023-09-02T04:24:52.017Z"
   },
   {
    "duration": 24,
    "start_time": "2023-09-02T04:24:52.112Z"
   },
   {
    "duration": 470,
    "start_time": "2023-09-02T04:24:52.138Z"
   },
   {
    "duration": 11,
    "start_time": "2023-09-02T04:24:52.614Z"
   },
   {
    "duration": 22,
    "start_time": "2023-09-02T04:24:52.627Z"
   },
   {
    "duration": 31,
    "start_time": "2023-09-02T04:24:52.651Z"
   },
   {
    "duration": 756,
    "start_time": "2023-09-02T04:24:52.685Z"
   },
   {
    "duration": 15,
    "start_time": "2023-09-02T04:24:53.443Z"
   },
   {
    "duration": 483,
    "start_time": "2023-09-02T04:24:53.459Z"
   },
   {
    "duration": 1204,
    "start_time": "2023-09-02T04:24:53.943Z"
   },
   {
    "duration": 12,
    "start_time": "2023-09-02T04:24:55.149Z"
   },
   {
    "duration": 379,
    "start_time": "2023-09-02T04:24:55.162Z"
   },
   {
    "duration": 22,
    "start_time": "2023-09-02T04:24:55.543Z"
   },
   {
    "duration": 52,
    "start_time": "2023-09-02T04:24:55.566Z"
   },
   {
    "duration": 64,
    "start_time": "2023-09-02T04:24:55.620Z"
   },
   {
    "duration": 255,
    "start_time": "2023-09-02T04:24:55.686Z"
   },
   {
    "duration": 19,
    "start_time": "2023-09-02T04:24:55.942Z"
   },
   {
    "duration": 16,
    "start_time": "2023-09-02T04:24:55.963Z"
   },
   {
    "duration": 39,
    "start_time": "2023-09-02T04:24:55.980Z"
   },
   {
    "duration": 620,
    "start_time": "2023-09-02T04:24:56.021Z"
   },
   {
    "duration": 12,
    "start_time": "2023-09-02T04:24:56.642Z"
   },
   {
    "duration": 34,
    "start_time": "2023-09-02T04:24:56.656Z"
   },
   {
    "duration": 23,
    "start_time": "2023-09-02T04:24:56.693Z"
   },
   {
    "duration": 433,
    "start_time": "2023-09-02T04:24:56.718Z"
   },
   {
    "duration": 17,
    "start_time": "2023-09-02T04:24:57.155Z"
   },
   {
    "duration": 15,
    "start_time": "2023-09-02T04:24:57.173Z"
   },
   {
    "duration": 45,
    "start_time": "2023-09-02T04:24:57.201Z"
   },
   {
    "duration": 203,
    "start_time": "2023-09-02T04:24:57.248Z"
   },
   {
    "duration": 17,
    "start_time": "2023-09-02T04:24:57.454Z"
   },
   {
    "duration": 148,
    "start_time": "2023-09-02T04:24:57.474Z"
   },
   {
    "duration": 12,
    "start_time": "2023-09-02T04:24:57.624Z"
   },
   {
    "duration": 71,
    "start_time": "2023-09-02T04:24:57.638Z"
   },
   {
    "duration": 19,
    "start_time": "2023-09-02T04:24:57.715Z"
   },
   {
    "duration": 22,
    "start_time": "2023-09-02T04:24:57.736Z"
   },
   {
    "duration": 5,
    "start_time": "2023-09-02T04:24:57.759Z"
   },
   {
    "duration": 5989,
    "start_time": "2023-09-02T04:24:57.766Z"
   },
   {
    "duration": 629,
    "start_time": "2023-09-02T04:25:03.756Z"
   },
   {
    "duration": 38,
    "start_time": "2023-09-02T04:25:04.387Z"
   },
   {
    "duration": 53,
    "start_time": "2023-09-02T04:25:04.427Z"
   },
   {
    "duration": 1154,
    "start_time": "2023-09-02T04:25:04.482Z"
   },
   {
    "duration": 5,
    "start_time": "2023-09-02T04:25:05.638Z"
   },
   {
    "duration": 2466,
    "start_time": "2023-09-02T04:25:05.645Z"
   },
   {
    "duration": 2957,
    "start_time": "2023-09-02T04:25:08.113Z"
   },
   {
    "duration": 9,
    "start_time": "2023-09-02T04:25:11.072Z"
   },
   {
    "duration": 35,
    "start_time": "2023-09-02T04:25:11.083Z"
   }
  ],
  "kernelspec": {
   "display_name": "Python 3 (ipykernel)",
   "language": "python",
   "name": "python3"
  },
  "language_info": {
   "codemirror_mode": {
    "name": "ipython",
    "version": 3
   },
   "file_extension": ".py",
   "mimetype": "text/x-python",
   "name": "python",
   "nbconvert_exporter": "python",
   "pygments_lexer": "ipython3",
   "version": "3.9.7"
  },
  "toc": {
   "base_numbering": 1,
   "nav_menu": {},
   "number_sections": true,
   "sideBar": true,
   "skip_h1_title": true,
   "title_cell": "Table of Contents",
   "title_sidebar": "Contents",
   "toc_cell": false,
   "toc_position": {},
   "toc_section_display": true,
   "toc_window_display": false
  }
 },
 "nbformat": 4,
 "nbformat_minor": 5
}
