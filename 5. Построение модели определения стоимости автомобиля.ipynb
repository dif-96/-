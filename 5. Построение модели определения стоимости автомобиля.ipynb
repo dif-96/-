{
 "cells": [
  {
   "cell_type": "markdown",
   "metadata": {},
   "source": [
    "# Определение стоимости автомобилей"
   ]
  },
  {
   "cell_type": "markdown",
   "metadata": {},
   "source": [
    "Сервис по продаже автомобилей с пробегом «Не бит, не крашен» разрабатывает приложение для привлечения новых клиентов. В нём можно быстро узнать рыночную стоимость своего автомобиля. В вашем распоряжении исторические данные: технические характеристики, комплектации и цены автомобилей. Вам нужно построить модель для определения стоимости. \n",
    "\n",
    "Заказчику важны:\n",
    "\n",
    "- качество предсказания;\n",
    "- скорость предсказания;\n",
    "- время обучения."
   ]
  },
  {
   "cell_type": "code",
   "execution_count": 1,
   "metadata": {},
   "outputs": [],
   "source": [
    "# ! pip install skimpy\n",
    "# ! pip install pandas-profiling\n",
    "\n",
    "from skimpy import clean_columns\n",
    "import ydata_profiling\n",
    "import time\n",
    "\n",
    "import numpy as np\n",
    "import pandas as pd\n",
    "\n",
    "from sklearn.model_selection import train_test_split\n",
    "from sklearn.metrics import mean_squared_error, make_scorer\n",
    "from sklearn.model_selection import RandomizedSearchCV, cross_val_score\n",
    "from sklearn.preprocessing import StandardScaler, OneHotEncoder\n",
    "from sklearn.ensemble import RandomForestRegressor\n",
    "from sklearn.linear_model import LinearRegression\n",
    "from sklearn.dummy import DummyRegressor\n",
    "\n",
    "from catboost import CatBoostRegressor\n",
    "from lightgbm import LGBMRegressor\n",
    "\n",
    "import matplotlib.pyplot as plt\n",
    "import seaborn as sns\n",
    "\n",
    "import warnings\n",
    "warnings.simplefilter(\"ignore\")"
   ]
  },
  {
   "cell_type": "markdown",
   "metadata": {},
   "source": [
    "## Подготовка данных"
   ]
  },
  {
   "cell_type": "code",
   "execution_count": 2,
   "metadata": {},
   "outputs": [
    {
     "data": {
      "text/html": [
       "<div>\n",
       "<style scoped>\n",
       "    .dataframe tbody tr th:only-of-type {\n",
       "        vertical-align: middle;\n",
       "    }\n",
       "\n",
       "    .dataframe tbody tr th {\n",
       "        vertical-align: top;\n",
       "    }\n",
       "\n",
       "    .dataframe thead th {\n",
       "        text-align: right;\n",
       "    }\n",
       "</style>\n",
       "<table border=\"1\" class=\"dataframe\">\n",
       "  <thead>\n",
       "    <tr style=\"text-align: right;\">\n",
       "      <th></th>\n",
       "      <th>DateCrawled</th>\n",
       "      <th>Price</th>\n",
       "      <th>VehicleType</th>\n",
       "      <th>RegistrationYear</th>\n",
       "      <th>Gearbox</th>\n",
       "      <th>Power</th>\n",
       "      <th>Model</th>\n",
       "      <th>Kilometer</th>\n",
       "      <th>RegistrationMonth</th>\n",
       "      <th>FuelType</th>\n",
       "      <th>Brand</th>\n",
       "      <th>Repaired</th>\n",
       "      <th>DateCreated</th>\n",
       "      <th>NumberOfPictures</th>\n",
       "      <th>PostalCode</th>\n",
       "      <th>LastSeen</th>\n",
       "    </tr>\n",
       "  </thead>\n",
       "  <tbody>\n",
       "    <tr>\n",
       "      <th>0</th>\n",
       "      <td>2016-03-24 11:52:17</td>\n",
       "      <td>480</td>\n",
       "      <td>NaN</td>\n",
       "      <td>1993</td>\n",
       "      <td>manual</td>\n",
       "      <td>0</td>\n",
       "      <td>golf</td>\n",
       "      <td>150000</td>\n",
       "      <td>0</td>\n",
       "      <td>petrol</td>\n",
       "      <td>volkswagen</td>\n",
       "      <td>NaN</td>\n",
       "      <td>2016-03-24 00:00:00</td>\n",
       "      <td>0</td>\n",
       "      <td>70435</td>\n",
       "      <td>2016-04-07 03:16:57</td>\n",
       "    </tr>\n",
       "    <tr>\n",
       "      <th>1</th>\n",
       "      <td>2016-03-24 10:58:45</td>\n",
       "      <td>18300</td>\n",
       "      <td>coupe</td>\n",
       "      <td>2011</td>\n",
       "      <td>manual</td>\n",
       "      <td>190</td>\n",
       "      <td>NaN</td>\n",
       "      <td>125000</td>\n",
       "      <td>5</td>\n",
       "      <td>gasoline</td>\n",
       "      <td>audi</td>\n",
       "      <td>yes</td>\n",
       "      <td>2016-03-24 00:00:00</td>\n",
       "      <td>0</td>\n",
       "      <td>66954</td>\n",
       "      <td>2016-04-07 01:46:50</td>\n",
       "    </tr>\n",
       "    <tr>\n",
       "      <th>2</th>\n",
       "      <td>2016-03-14 12:52:21</td>\n",
       "      <td>9800</td>\n",
       "      <td>suv</td>\n",
       "      <td>2004</td>\n",
       "      <td>auto</td>\n",
       "      <td>163</td>\n",
       "      <td>grand</td>\n",
       "      <td>125000</td>\n",
       "      <td>8</td>\n",
       "      <td>gasoline</td>\n",
       "      <td>jeep</td>\n",
       "      <td>NaN</td>\n",
       "      <td>2016-03-14 00:00:00</td>\n",
       "      <td>0</td>\n",
       "      <td>90480</td>\n",
       "      <td>2016-04-05 12:47:46</td>\n",
       "    </tr>\n",
       "    <tr>\n",
       "      <th>3</th>\n",
       "      <td>2016-03-17 16:54:04</td>\n",
       "      <td>1500</td>\n",
       "      <td>small</td>\n",
       "      <td>2001</td>\n",
       "      <td>manual</td>\n",
       "      <td>75</td>\n",
       "      <td>golf</td>\n",
       "      <td>150000</td>\n",
       "      <td>6</td>\n",
       "      <td>petrol</td>\n",
       "      <td>volkswagen</td>\n",
       "      <td>no</td>\n",
       "      <td>2016-03-17 00:00:00</td>\n",
       "      <td>0</td>\n",
       "      <td>91074</td>\n",
       "      <td>2016-03-17 17:40:17</td>\n",
       "    </tr>\n",
       "    <tr>\n",
       "      <th>4</th>\n",
       "      <td>2016-03-31 17:25:20</td>\n",
       "      <td>3600</td>\n",
       "      <td>small</td>\n",
       "      <td>2008</td>\n",
       "      <td>manual</td>\n",
       "      <td>69</td>\n",
       "      <td>fabia</td>\n",
       "      <td>90000</td>\n",
       "      <td>7</td>\n",
       "      <td>gasoline</td>\n",
       "      <td>skoda</td>\n",
       "      <td>no</td>\n",
       "      <td>2016-03-31 00:00:00</td>\n",
       "      <td>0</td>\n",
       "      <td>60437</td>\n",
       "      <td>2016-04-06 10:17:21</td>\n",
       "    </tr>\n",
       "  </tbody>\n",
       "</table>\n",
       "</div>"
      ],
      "text/plain": [
       "           DateCrawled  Price VehicleType  RegistrationYear Gearbox  Power  \\\n",
       "0  2016-03-24 11:52:17    480         NaN              1993  manual      0   \n",
       "1  2016-03-24 10:58:45  18300       coupe              2011  manual    190   \n",
       "2  2016-03-14 12:52:21   9800         suv              2004    auto    163   \n",
       "3  2016-03-17 16:54:04   1500       small              2001  manual     75   \n",
       "4  2016-03-31 17:25:20   3600       small              2008  manual     69   \n",
       "\n",
       "   Model  Kilometer  RegistrationMonth  FuelType       Brand Repaired  \\\n",
       "0   golf     150000                  0    petrol  volkswagen      NaN   \n",
       "1    NaN     125000                  5  gasoline        audi      yes   \n",
       "2  grand     125000                  8  gasoline        jeep      NaN   \n",
       "3   golf     150000                  6    petrol  volkswagen       no   \n",
       "4  fabia      90000                  7  gasoline       skoda       no   \n",
       "\n",
       "           DateCreated  NumberOfPictures  PostalCode             LastSeen  \n",
       "0  2016-03-24 00:00:00                 0       70435  2016-04-07 03:16:57  \n",
       "1  2016-03-24 00:00:00                 0       66954  2016-04-07 01:46:50  \n",
       "2  2016-03-14 00:00:00                 0       90480  2016-04-05 12:47:46  \n",
       "3  2016-03-17 00:00:00                 0       91074  2016-03-17 17:40:17  \n",
       "4  2016-03-31 00:00:00                 0       60437  2016-04-06 10:17:21  "
      ]
     },
     "execution_count": 2,
     "metadata": {},
     "output_type": "execute_result"
    }
   ],
   "source": [
    "try:\n",
    "    df = pd.read_csv('/datasets/autos.csv')\n",
    "except:\n",
    "    df = pd.read_csv('autos.csv')\n",
    "df.head()"
   ]
  },
  {
   "cell_type": "markdown",
   "metadata": {},
   "source": [
    "В датафрейме имеем:\n",
    "\n",
    "- `'DateCrawled'` — дата скачивания анкеты из базы\n",
    "- `'VehicleType'` — тип автомобильного кузова\n",
    "- `'RegistrationYear'` — год регистрации автомобиля\n",
    "- `'Gearbox'` — тип коробки передач\n",
    "- `'Power'` — мощность (л. с.)\n",
    "- `'Model'` — модель автомобиля\n",
    "- `'Kilometer'` — пробег (км)\n",
    "- `'RegistrationMonth'` — месяц регистрации автомобиля\n",
    "- `'FuelType'` — тип топлива\n",
    "- `'Brand'` — марка автомобиля\n",
    "- `'Repaired'` — была машина в ремонте или нет\n",
    "- `'DateCreated'` — дата создания анкеты\n",
    "- `'NumberOfPictures'` — количество фотографий автомобиля\n",
    "- `'PostalCode'` — почтовый индекс владельца анкеты (пользователя)\n",
    "- `'LastSeen'` — дата последней активности пользователя\n",
    "- `'Price'` — цена (евро)\n",
    "\n",
    "Представим названия колонок в виде snake_case с помощью `skimpy`"
   ]
  },
  {
   "cell_type": "code",
   "execution_count": 3,
   "metadata": {},
   "outputs": [
    {
     "data": {
      "text/html": [
       "<pre style=\"white-space:pre;overflow-x:auto;line-height:normal;font-family:Menlo,'DejaVu Sans Mono',consolas,'Courier New',monospace\"><span style=\"color: #008080; text-decoration-color: #008080; font-weight: bold\">16</span> column names have been cleaned\n",
       "</pre>\n"
      ],
      "text/plain": [
       "\u001b[1;36m16\u001b[0m column names have been cleaned\n"
      ]
     },
     "metadata": {},
     "output_type": "display_data"
    },
    {
     "data": {
      "text/html": [
       "<div>\n",
       "<style scoped>\n",
       "    .dataframe tbody tr th:only-of-type {\n",
       "        vertical-align: middle;\n",
       "    }\n",
       "\n",
       "    .dataframe tbody tr th {\n",
       "        vertical-align: top;\n",
       "    }\n",
       "\n",
       "    .dataframe thead th {\n",
       "        text-align: right;\n",
       "    }\n",
       "</style>\n",
       "<table border=\"1\" class=\"dataframe\">\n",
       "  <thead>\n",
       "    <tr style=\"text-align: right;\">\n",
       "      <th></th>\n",
       "      <th>date_crawled</th>\n",
       "      <th>price</th>\n",
       "      <th>vehicle_type</th>\n",
       "      <th>registration_year</th>\n",
       "      <th>gearbox</th>\n",
       "      <th>power</th>\n",
       "      <th>model</th>\n",
       "      <th>kilometer</th>\n",
       "      <th>registration_month</th>\n",
       "      <th>fuel_type</th>\n",
       "      <th>brand</th>\n",
       "      <th>repaired</th>\n",
       "      <th>date_created</th>\n",
       "      <th>number_of_pictures</th>\n",
       "      <th>postal_code</th>\n",
       "      <th>last_seen</th>\n",
       "    </tr>\n",
       "  </thead>\n",
       "  <tbody>\n",
       "    <tr>\n",
       "      <th>0</th>\n",
       "      <td>2016-03-24 11:52:17</td>\n",
       "      <td>480</td>\n",
       "      <td>NaN</td>\n",
       "      <td>1993</td>\n",
       "      <td>manual</td>\n",
       "      <td>0</td>\n",
       "      <td>golf</td>\n",
       "      <td>150000</td>\n",
       "      <td>0</td>\n",
       "      <td>petrol</td>\n",
       "      <td>volkswagen</td>\n",
       "      <td>NaN</td>\n",
       "      <td>2016-03-24 00:00:00</td>\n",
       "      <td>0</td>\n",
       "      <td>70435</td>\n",
       "      <td>2016-04-07 03:16:57</td>\n",
       "    </tr>\n",
       "    <tr>\n",
       "      <th>1</th>\n",
       "      <td>2016-03-24 10:58:45</td>\n",
       "      <td>18300</td>\n",
       "      <td>coupe</td>\n",
       "      <td>2011</td>\n",
       "      <td>manual</td>\n",
       "      <td>190</td>\n",
       "      <td>NaN</td>\n",
       "      <td>125000</td>\n",
       "      <td>5</td>\n",
       "      <td>gasoline</td>\n",
       "      <td>audi</td>\n",
       "      <td>yes</td>\n",
       "      <td>2016-03-24 00:00:00</td>\n",
       "      <td>0</td>\n",
       "      <td>66954</td>\n",
       "      <td>2016-04-07 01:46:50</td>\n",
       "    </tr>\n",
       "    <tr>\n",
       "      <th>2</th>\n",
       "      <td>2016-03-14 12:52:21</td>\n",
       "      <td>9800</td>\n",
       "      <td>suv</td>\n",
       "      <td>2004</td>\n",
       "      <td>auto</td>\n",
       "      <td>163</td>\n",
       "      <td>grand</td>\n",
       "      <td>125000</td>\n",
       "      <td>8</td>\n",
       "      <td>gasoline</td>\n",
       "      <td>jeep</td>\n",
       "      <td>NaN</td>\n",
       "      <td>2016-03-14 00:00:00</td>\n",
       "      <td>0</td>\n",
       "      <td>90480</td>\n",
       "      <td>2016-04-05 12:47:46</td>\n",
       "    </tr>\n",
       "    <tr>\n",
       "      <th>3</th>\n",
       "      <td>2016-03-17 16:54:04</td>\n",
       "      <td>1500</td>\n",
       "      <td>small</td>\n",
       "      <td>2001</td>\n",
       "      <td>manual</td>\n",
       "      <td>75</td>\n",
       "      <td>golf</td>\n",
       "      <td>150000</td>\n",
       "      <td>6</td>\n",
       "      <td>petrol</td>\n",
       "      <td>volkswagen</td>\n",
       "      <td>no</td>\n",
       "      <td>2016-03-17 00:00:00</td>\n",
       "      <td>0</td>\n",
       "      <td>91074</td>\n",
       "      <td>2016-03-17 17:40:17</td>\n",
       "    </tr>\n",
       "    <tr>\n",
       "      <th>4</th>\n",
       "      <td>2016-03-31 17:25:20</td>\n",
       "      <td>3600</td>\n",
       "      <td>small</td>\n",
       "      <td>2008</td>\n",
       "      <td>manual</td>\n",
       "      <td>69</td>\n",
       "      <td>fabia</td>\n",
       "      <td>90000</td>\n",
       "      <td>7</td>\n",
       "      <td>gasoline</td>\n",
       "      <td>skoda</td>\n",
       "      <td>no</td>\n",
       "      <td>2016-03-31 00:00:00</td>\n",
       "      <td>0</td>\n",
       "      <td>60437</td>\n",
       "      <td>2016-04-06 10:17:21</td>\n",
       "    </tr>\n",
       "  </tbody>\n",
       "</table>\n",
       "</div>"
      ],
      "text/plain": [
       "          date_crawled  price vehicle_type  registration_year gearbox  power  \\\n",
       "0  2016-03-24 11:52:17    480          NaN               1993  manual      0   \n",
       "1  2016-03-24 10:58:45  18300        coupe               2011  manual    190   \n",
       "2  2016-03-14 12:52:21   9800          suv               2004    auto    163   \n",
       "3  2016-03-17 16:54:04   1500        small               2001  manual     75   \n",
       "4  2016-03-31 17:25:20   3600        small               2008  manual     69   \n",
       "\n",
       "   model  kilometer  registration_month fuel_type       brand repaired  \\\n",
       "0   golf     150000                   0    petrol  volkswagen      NaN   \n",
       "1    NaN     125000                   5  gasoline        audi      yes   \n",
       "2  grand     125000                   8  gasoline        jeep      NaN   \n",
       "3   golf     150000                   6    petrol  volkswagen       no   \n",
       "4  fabia      90000                   7  gasoline       skoda       no   \n",
       "\n",
       "          date_created  number_of_pictures  postal_code            last_seen  \n",
       "0  2016-03-24 00:00:00                   0        70435  2016-04-07 03:16:57  \n",
       "1  2016-03-24 00:00:00                   0        66954  2016-04-07 01:46:50  \n",
       "2  2016-03-14 00:00:00                   0        90480  2016-04-05 12:47:46  \n",
       "3  2016-03-17 00:00:00                   0        91074  2016-03-17 17:40:17  \n",
       "4  2016-03-31 00:00:00                   0        60437  2016-04-06 10:17:21  "
      ]
     },
     "execution_count": 3,
     "metadata": {},
     "output_type": "execute_result"
    }
   ],
   "source": [
    "df = clean_columns(df)\n",
    "df.head()"
   ]
  },
  {
   "cell_type": "code",
   "execution_count": 4,
   "metadata": {},
   "outputs": [
    {
     "name": "stdout",
     "output_type": "stream",
     "text": [
      "<class 'pandas.core.frame.DataFrame'>\n",
      "RangeIndex: 354369 entries, 0 to 354368\n",
      "Data columns (total 16 columns):\n",
      " #   Column              Non-Null Count   Dtype \n",
      "---  ------              --------------   ----- \n",
      " 0   date_crawled        354369 non-null  object\n",
      " 1   price               354369 non-null  int64 \n",
      " 2   vehicle_type        316879 non-null  object\n",
      " 3   registration_year   354369 non-null  int64 \n",
      " 4   gearbox             334536 non-null  object\n",
      " 5   power               354369 non-null  int64 \n",
      " 6   model               334664 non-null  object\n",
      " 7   kilometer           354369 non-null  int64 \n",
      " 8   registration_month  354369 non-null  int64 \n",
      " 9   fuel_type           321474 non-null  object\n",
      " 10  brand               354369 non-null  object\n",
      " 11  repaired            283215 non-null  object\n",
      " 12  date_created        354369 non-null  object\n",
      " 13  number_of_pictures  354369 non-null  int64 \n",
      " 14  postal_code         354369 non-null  int64 \n",
      " 15  last_seen           354369 non-null  object\n",
      "dtypes: int64(7), object(9)\n",
      "memory usage: 43.3+ MB\n"
     ]
    }
   ],
   "source": [
    "df.info()"
   ]
  },
  {
   "cell_type": "code",
   "execution_count": 5,
   "metadata": {},
   "outputs": [
    {
     "data": {
      "text/plain": [
       "date_crawled           0.000000\n",
       "price                  0.000000\n",
       "vehicle_type          10.579368\n",
       "registration_year      0.000000\n",
       "gearbox                5.596709\n",
       "power                  0.000000\n",
       "model                  5.560588\n",
       "kilometer              0.000000\n",
       "registration_month     0.000000\n",
       "fuel_type              9.282697\n",
       "brand                  0.000000\n",
       "repaired              20.079070\n",
       "date_created           0.000000\n",
       "number_of_pictures     0.000000\n",
       "postal_code            0.000000\n",
       "last_seen              0.000000\n",
       "dtype: float64"
      ]
     },
     "execution_count": 5,
     "metadata": {},
     "output_type": "execute_result"
    }
   ],
   "source": [
    "df.isna().sum() / len(df) *100"
   ]
  },
  {
   "cell_type": "markdown",
   "metadata": {},
   "source": [
    "Проведем предварительный анализ с помощью `pandas_profiling`"
   ]
  },
  {
   "cell_type": "code",
   "execution_count": 6,
   "metadata": {
    "scrolled": false
   },
   "outputs": [],
   "source": [
    "# profile = df.profile_report(progress_bar=True)\n",
    "# profile.to_widgets()"
   ]
  },
  {
   "cell_type": "markdown",
   "metadata": {},
   "source": [
    "Замечаем:\n",
    "- `'price'` e 3% данных нулевая цена, что странно. Максимальная цена 20000т руб.\n",
    "- в колонке типа кузова `'vehicle_type'` 10.6% пропусков. Разделяются (по мере уменьшения численности): 'седаны', 'компактные авто', 'фургоны', 'автобусы', 'с откидной крышей', 'купе', 'кроссоверы' и 'другие'.\n",
    "- приведены авто с годами регистрации `'registration_year'` от 1000 (чего???) до 9999 (как???). Необходимо прояснить этот момент.\n",
    "- колонка `'gearbox'` имеет две категории: `manual` (ручная) и `auto`. Также имеется 5.6% пропусков\n",
    "- в колонке мощность, несмотря на отсутствие пропусков, имеются 11.4% авто с нулевой мощностью (что очень странно). Максимальная мощность 20000 л.с. (еще страннее)\n",
    "- в `'model'` имеется 5.6% пропусков.\n",
    "- представлены преимущественно авто с пробегом (среднее значение 128211 км. максимальное - 150000 км). Хотя имеются и новые авто\n",
    "- в `'fuel_type'` имеется 9.3% процента пропусков. Наиболее популярны авто на бензине и на газу.\n",
    "- Топ 5 наиболее популярных брендов: Volkswagen, Opel, BMW, Mercedes_Benz и Audi (одни немцы).\n",
    "- 20% пропусков в колонке `'repaired'`. Будем считать, что пропуск у авто, не учавствовашие в ремонте"
   ]
  },
  {
   "cell_type": "code",
   "execution_count": 7,
   "metadata": {},
   "outputs": [
    {
     "data": {
      "text/plain": [
       "count    354369.000000\n",
       "mean       2015.999924\n",
       "std           0.009046\n",
       "min        2014.000000\n",
       "25%        2016.000000\n",
       "50%        2016.000000\n",
       "75%        2016.000000\n",
       "max        2016.000000\n",
       "Name: date_created, dtype: float64"
      ]
     },
     "execution_count": 7,
     "metadata": {},
     "output_type": "execute_result"
    }
   ],
   "source": [
    "df['date_created'] = pd.to_datetime(df['date_created'], format='%Y-%m-%d').dt.year\n",
    "df['date_created'].describe()"
   ]
  },
  {
   "cell_type": "markdown",
   "metadata": {},
   "source": [
    "Последнее объявление разместились в 2016 году"
   ]
  },
  {
   "cell_type": "code",
   "execution_count": 8,
   "metadata": {},
   "outputs": [
    {
     "data": {
      "text/plain": [
       "2017    10441\n",
       "2018     3959\n",
       "9999       26\n",
       "2019       25\n",
       "5000       17\n",
       "3000        7\n",
       "6000        5\n",
       "7000        4\n",
       "2500        4\n",
       "4000        3\n",
       "9000        3\n",
       "8000        2\n",
       "4500        2\n",
       "5911        2\n",
       "2222        2\n",
       "5555        2\n",
       "2800        2\n",
       "7800        1\n",
       "8455        1\n",
       "9229        1\n",
       "9996        1\n",
       "7100        1\n",
       "8200        1\n",
       "5600        1\n",
       "7500        1\n",
       "9450        1\n",
       "3700        1\n",
       "2290        1\n",
       "6500        1\n",
       "4800        1\n",
       "3800        1\n",
       "8500        1\n",
       "5900        1\n",
       "2900        1\n",
       "5300        1\n",
       "2066        1\n",
       "4100        1\n",
       "2200        1\n",
       "8888        1\n",
       "3200        1\n",
       "3500        1\n",
       "Name: registration_year, dtype: int64"
      ]
     },
     "execution_count": 8,
     "metadata": {},
     "output_type": "execute_result"
    }
   ],
   "source": [
    "df[df['registration_year'] > 2016]['registration_year'].value_counts()"
   ]
  },
  {
   "cell_type": "markdown",
   "metadata": {},
   "source": [
    "Выяснилось, что существует большое количество авто, год регистрации которых превышает год публикации, что странно. Причины этого стоит обсудить с заказчиком, предоставивший данные. Самая реалистичная последняя дата - 2019 год. Все авто, у которых год регистрации превышает 2019 год, `'registration_month'` приравняем к 2019 году."
   ]
  },
  {
   "cell_type": "code",
   "execution_count": 9,
   "metadata": {},
   "outputs": [],
   "source": [
    "df.loc[df['registration_year'] >= 2019, 'registration_year'] = 2019"
   ]
  },
  {
   "cell_type": "code",
   "execution_count": 10,
   "metadata": {},
   "outputs": [
    {
     "data": {
      "text/plain": [
       "count    354369.000000\n",
       "mean       2002.936566\n",
       "std          13.977028\n",
       "min        1000.000000\n",
       "25%        1999.000000\n",
       "50%        2003.000000\n",
       "75%        2008.000000\n",
       "max        2019.000000\n",
       "Name: registration_year, dtype: float64"
      ]
     },
     "execution_count": 10,
     "metadata": {},
     "output_type": "execute_result"
    }
   ],
   "source": [
    "df['registration_year'].describe()"
   ]
  },
  {
   "cell_type": "code",
   "execution_count": 11,
   "metadata": {},
   "outputs": [
    {
     "data": {
      "text/plain": [
       "1971.0"
      ]
     },
     "execution_count": 11,
     "metadata": {},
     "output_type": "execute_result"
    }
   ],
   "source": [
    "df['registration_year'].quantile(0.005)"
   ]
  },
  {
   "cell_type": "code",
   "execution_count": 12,
   "metadata": {},
   "outputs": [
    {
     "data": {
      "text/plain": [
       "0.9741258405786059"
      ]
     },
     "execution_count": 12,
     "metadata": {},
     "output_type": "execute_result"
    }
   ],
   "source": [
    "len(df[df['registration_year'] < df['registration_year'].quantile(0.01)]) / len(df) *100"
   ]
  },
  {
   "cell_type": "markdown",
   "metadata": {},
   "source": [
    "Удалим авто с датой регистрации выше 1971 года (0.005 квантиль)"
   ]
  },
  {
   "cell_type": "code",
   "execution_count": 13,
   "metadata": {},
   "outputs": [],
   "source": [
    "df = df.loc[df['registration_year'] >= df['registration_year'].quantile(0.005)]"
   ]
  },
  {
   "cell_type": "code",
   "execution_count": 14,
   "metadata": {},
   "outputs": [
    {
     "data": {
      "text/plain": [
       "4"
      ]
     },
     "execution_count": 14,
     "metadata": {},
     "output_type": "execute_result"
    }
   ],
   "source": [
    "df.duplicated().sum()"
   ]
  },
  {
   "cell_type": "markdown",
   "metadata": {},
   "source": [
    "Удалим дубликаты"
   ]
  },
  {
   "cell_type": "code",
   "execution_count": 15,
   "metadata": {},
   "outputs": [],
   "source": [
    "df = df.drop_duplicates()"
   ]
  },
  {
   "cell_type": "markdown",
   "metadata": {},
   "source": [
    "Сразу удалим те столбцы, от которых цена авто не зависит. Это:\n",
    "- `'date_crawled'` — дата скачивания анкеты из базы\n",
    "- `'registration_month'` — месяц регистрации автомобиля. Достаточно года\n",
    "- `'date_created'` — дата создания анкеты\n",
    "- `'number_of_pictures'` — количество фотографий автомобиля\n",
    "- `'postal_code'` — почтовый индекс владельца анкеты (пользователя)\n",
    "- `'last_seen'` — дата последней активности пользователя"
   ]
  },
  {
   "cell_type": "code",
   "execution_count": 16,
   "metadata": {},
   "outputs": [
    {
     "data": {
      "text/html": [
       "<div>\n",
       "<style scoped>\n",
       "    .dataframe tbody tr th:only-of-type {\n",
       "        vertical-align: middle;\n",
       "    }\n",
       "\n",
       "    .dataframe tbody tr th {\n",
       "        vertical-align: top;\n",
       "    }\n",
       "\n",
       "    .dataframe thead th {\n",
       "        text-align: right;\n",
       "    }\n",
       "</style>\n",
       "<table border=\"1\" class=\"dataframe\">\n",
       "  <thead>\n",
       "    <tr style=\"text-align: right;\">\n",
       "      <th></th>\n",
       "      <th>price</th>\n",
       "      <th>vehicle_type</th>\n",
       "      <th>registration_year</th>\n",
       "      <th>gearbox</th>\n",
       "      <th>power</th>\n",
       "      <th>model</th>\n",
       "      <th>kilometer</th>\n",
       "      <th>fuel_type</th>\n",
       "      <th>brand</th>\n",
       "      <th>repaired</th>\n",
       "    </tr>\n",
       "  </thead>\n",
       "  <tbody>\n",
       "    <tr>\n",
       "      <th>0</th>\n",
       "      <td>480</td>\n",
       "      <td>NaN</td>\n",
       "      <td>1993</td>\n",
       "      <td>manual</td>\n",
       "      <td>0</td>\n",
       "      <td>golf</td>\n",
       "      <td>150000</td>\n",
       "      <td>petrol</td>\n",
       "      <td>volkswagen</td>\n",
       "      <td>NaN</td>\n",
       "    </tr>\n",
       "    <tr>\n",
       "      <th>1</th>\n",
       "      <td>18300</td>\n",
       "      <td>coupe</td>\n",
       "      <td>2011</td>\n",
       "      <td>manual</td>\n",
       "      <td>190</td>\n",
       "      <td>NaN</td>\n",
       "      <td>125000</td>\n",
       "      <td>gasoline</td>\n",
       "      <td>audi</td>\n",
       "      <td>yes</td>\n",
       "    </tr>\n",
       "    <tr>\n",
       "      <th>2</th>\n",
       "      <td>9800</td>\n",
       "      <td>suv</td>\n",
       "      <td>2004</td>\n",
       "      <td>auto</td>\n",
       "      <td>163</td>\n",
       "      <td>grand</td>\n",
       "      <td>125000</td>\n",
       "      <td>gasoline</td>\n",
       "      <td>jeep</td>\n",
       "      <td>NaN</td>\n",
       "    </tr>\n",
       "    <tr>\n",
       "      <th>3</th>\n",
       "      <td>1500</td>\n",
       "      <td>small</td>\n",
       "      <td>2001</td>\n",
       "      <td>manual</td>\n",
       "      <td>75</td>\n",
       "      <td>golf</td>\n",
       "      <td>150000</td>\n",
       "      <td>petrol</td>\n",
       "      <td>volkswagen</td>\n",
       "      <td>no</td>\n",
       "    </tr>\n",
       "    <tr>\n",
       "      <th>4</th>\n",
       "      <td>3600</td>\n",
       "      <td>small</td>\n",
       "      <td>2008</td>\n",
       "      <td>manual</td>\n",
       "      <td>69</td>\n",
       "      <td>fabia</td>\n",
       "      <td>90000</td>\n",
       "      <td>gasoline</td>\n",
       "      <td>skoda</td>\n",
       "      <td>no</td>\n",
       "    </tr>\n",
       "  </tbody>\n",
       "</table>\n",
       "</div>"
      ],
      "text/plain": [
       "   price vehicle_type  registration_year gearbox  power  model  kilometer  \\\n",
       "0    480          NaN               1993  manual      0   golf     150000   \n",
       "1  18300        coupe               2011  manual    190    NaN     125000   \n",
       "2   9800          suv               2004    auto    163  grand     125000   \n",
       "3   1500        small               2001  manual     75   golf     150000   \n",
       "4   3600        small               2008  manual     69  fabia      90000   \n",
       "\n",
       "  fuel_type       brand repaired  \n",
       "0    petrol  volkswagen      NaN  \n",
       "1  gasoline        audi      yes  \n",
       "2  gasoline        jeep      NaN  \n",
       "3    petrol  volkswagen       no  \n",
       "4  gasoline       skoda       no  "
      ]
     },
     "execution_count": 16,
     "metadata": {},
     "output_type": "execute_result"
    }
   ],
   "source": [
    "ml = df.drop(columns=['date_crawled', 'registration_month', 'date_created', 'number_of_pictures', 'postal_code', 'last_seen'])\n",
    "ml.head()"
   ]
  },
  {
   "cell_type": "markdown",
   "metadata": {},
   "source": [
    "<div class=\"alert alert-success\">\n",
    "<font size=\"4\"><b>✔️ Комментарий ревьюера</b></font>\n",
    "    <br /> \n",
    "    <font size=\"3\", color = \"black\">\n",
    "<br />    \n",
    "Неинформативные признаки определены верно"
   ]
  },
  {
   "cell_type": "markdown",
   "metadata": {},
   "source": [
    "У одних и тех же моделей авто могут быть разные типы корпусов. Пуречислять пропуски к `'other'` означает исключение других типов корпусов. Поэтому заполним пропуски значением 'no_info'.\n",
    "Пропуски в колонке с ремонтом заполним `False`- ремонта не было"
   ]
  },
  {
   "cell_type": "code",
   "execution_count": 17,
   "metadata": {},
   "outputs": [],
   "source": [
    "ml['vehicle_type'] = ml['vehicle_type'].fillna('no_info')\n",
    "ml['repaired'] = ml['repaired'].fillna('no')"
   ]
  },
  {
   "cell_type": "markdown",
   "metadata": {},
   "source": [
    "<div class=\"alert alert-success\">\n",
    "<font size=\"4\"><b>✔️ Комментарий ревьюера</b></font>\n",
    "    <br /> \n",
    "    <font size=\"3\", color = \"black\">\n",
    "<br />    \n",
    "На мой скромный взгляд, заполнять ремонт тоже лучше заглушкой (ведь владелец может просто скрывать факт ремонта), но и заглушка, и мода - разумные методы заполнения категориальных признаков."
   ]
  },
  {
   "cell_type": "code",
   "execution_count": 18,
   "metadata": {},
   "outputs": [
    {
     "data": {
      "text/plain": [
       "array(['petrol', 'gasoline', nan, 'lpg', 'other', 'hybrid', 'cng',\n",
       "       'electric'], dtype=object)"
      ]
     },
     "execution_count": 18,
     "metadata": {},
     "output_type": "execute_result"
    }
   ],
   "source": [
    "ml['fuel_type'].unique()"
   ]
  },
  {
   "cell_type": "markdown",
   "metadata": {},
   "source": [
    "У электрических и гибридных авто не может быть механическая коробка передач. Заполним их 'auto'"
   ]
  },
  {
   "cell_type": "code",
   "execution_count": 19,
   "metadata": {},
   "outputs": [],
   "source": [
    "ml.loc[(ml['gearbox'].isna()) & ((ml['fuel_type'] == 'electric') | (ml['fuel_type'] == 'hybrid')), 'gearbox'] = ml.loc[(ml['gearbox'].isna()) & ((ml['fuel_type'] == 'electric') | (ml['fuel_type'] == 'hybrid')), 'gearbox'].fillna('auto')"
   ]
  },
  {
   "cell_type": "code",
   "execution_count": 20,
   "metadata": {},
   "outputs": [
    {
     "data": {
      "image/png": "[encoded data removed]",
      "text/plain": [
       "<Figure size 1080x432 with 1 Axes>"
      ]
     },
     "metadata": {
      "needs_background": "light"
     },
     "output_type": "display_data"
    }
   ],
   "source": [
    "plt.figure(figsize=(15, 6))\n",
    "ml.loc[(ml['gearbox'] == 'auto'), 'registration_year'].plot(alpha=0.5, bins=20, legend=True, kind='hist', label='auto')\n",
    "ml.loc[(ml['gearbox'] == 'manual'), 'registration_year'].plot(alpha=0.5, bins=20, legend=True, kind='hist', label='manual')\n",
    "plt.title('распределение различных видов коробок передач в зависимости от года регистрации')\n",
    "plt.xlabel('Год выпуска');"
   ]
  },
  {
   "cell_type": "code",
   "execution_count": 21,
   "metadata": {},
   "outputs": [
    {
     "data": {
      "image/png": "[encoded data removed]",
      "text/plain": [
       "<Figure size 1080x432 with 1 Axes>"
      ]
     },
     "metadata": {
      "needs_background": "light"
     },
     "output_type": "display_data"
    }
   ],
   "source": [
    "plt.figure(figsize=(15, 6))\n",
    "ml.loc[(ml['gearbox'] == 'auto'), 'price'].plot(alpha=0.5, bins=20, legend=True, kind='hist', label='auto')\n",
    "ml.loc[(ml['gearbox'] == 'manual'), 'price'].plot(alpha=0.5, bins=20, legend=True, kind='hist', label='manual')\n",
    "plt.title('распределение различных видов коробок передач в зависимости от стоимости авто')\n",
    "plt.xlabel('Стоимость');"
   ]
  },
  {
   "cell_type": "markdown",
   "metadata": {},
   "source": [
    "Удивительно, что авто стоимостью более 15000т одинаковое количество на ручной и автоматической коробке передач. Поэтому заполним пропуски значением `manual`"
   ]
  },
  {
   "cell_type": "code",
   "execution_count": 22,
   "metadata": {},
   "outputs": [],
   "source": [
    "ml['gearbox'] = ml['gearbox'].fillna('manual')"
   ]
  },
  {
   "cell_type": "code",
   "execution_count": 23,
   "metadata": {},
   "outputs": [
    {
     "data": {
      "image/png": "[encoded data removed]",
      "text/plain": [
       "<Figure size 1080x432 with 1 Axes>"
      ]
     },
     "metadata": {
      "needs_background": "light"
     },
     "output_type": "display_data"
    }
   ],
   "source": [
    "plt.figure(figsize=(15, 6))\n",
    "ml.loc[(ml['gearbox'] == 'auto'), 'price'].plot(alpha=0.5, bins=20, legend=True, kind='hist', label='auto')\n",
    "ml.loc[(ml['gearbox'] == 'manual'), 'price'].plot(alpha=0.5, bins=20, legend=True, kind='hist', label='manual')\n",
    "plt.title('распределение различных видов коробок передач в зависимости от стоимости авто')\n",
    "plt.xlabel('Стоимость');"
   ]
  },
  {
   "cell_type": "markdown",
   "metadata": {},
   "source": [
    "На распределении это не отразилось"
   ]
  },
  {
   "cell_type": "code",
   "execution_count": 24,
   "metadata": {},
   "outputs": [
    {
     "data": {
      "text/plain": [
       "count    352694.000000\n",
       "mean        110.279534\n",
       "std         188.143562\n",
       "min           0.000000\n",
       "25%          69.000000\n",
       "50%         105.000000\n",
       "75%         143.000000\n",
       "max       20000.000000\n",
       "Name: power, dtype: float64"
      ]
     },
     "execution_count": 24,
     "metadata": {},
     "output_type": "execute_result"
    }
   ],
   "source": [
    "ml['power'].describe()"
   ]
  },
  {
   "cell_type": "markdown",
   "metadata": {},
   "source": [
    "Предположим, что у некоторых авто с мощностью более 1000 л.с. ошибка в порядке величины. Исправим это, удалив данные свыше 0.995 квантиля"
   ]
  },
  {
   "cell_type": "code",
   "execution_count": 25,
   "metadata": {},
   "outputs": [],
   "source": [
    "ml.loc[ml['power'] > 1000, 'power'] = ml.loc[ml['power'] > 1000, 'power'] / 10\n",
    "ml.loc[ml['power'] > 1000, 'power'] = ml.loc[ml['power'] > 1000, 'power'] / 10\n",
    "ml = ml[ml['power'] <= ml['power'].quantile(0.995)]"
   ]
  },
  {
   "cell_type": "markdown",
   "metadata": {},
   "source": [
    "Нулевую мощность авто заменим на медианное значение мощности каждой модели"
   ]
  },
  {
   "cell_type": "code",
   "execution_count": 26,
   "metadata": {},
   "outputs": [
    {
     "data": {
      "text/html": [
       "<div>\n",
       "<style scoped>\n",
       "    .dataframe tbody tr th:only-of-type {\n",
       "        vertical-align: middle;\n",
       "    }\n",
       "\n",
       "    .dataframe tbody tr th {\n",
       "        vertical-align: top;\n",
       "    }\n",
       "\n",
       "    .dataframe thead th {\n",
       "        text-align: right;\n",
       "    }\n",
       "</style>\n",
       "<table border=\"1\" class=\"dataframe\">\n",
       "  <thead>\n",
       "    <tr style=\"text-align: right;\">\n",
       "      <th></th>\n",
       "      <th>price</th>\n",
       "      <th>vehicle_type</th>\n",
       "      <th>registration_year</th>\n",
       "      <th>gearbox</th>\n",
       "      <th>power</th>\n",
       "      <th>model</th>\n",
       "      <th>kilometer</th>\n",
       "      <th>fuel_type</th>\n",
       "      <th>brand</th>\n",
       "      <th>repaired</th>\n",
       "    </tr>\n",
       "  </thead>\n",
       "  <tbody>\n",
       "  </tbody>\n",
       "</table>\n",
       "</div>"
      ],
      "text/plain": [
       "Empty DataFrame\n",
       "Columns: [price, vehicle_type, registration_year, gearbox, power, model, kilometer, fuel_type, brand, repaired]\n",
       "Index: []"
      ]
     },
     "execution_count": 26,
     "metadata": {},
     "output_type": "execute_result"
    }
   ],
   "source": [
    "def add_median_power(df):\n",
    "    median = df['power'].median()\n",
    "    df.loc[df['power'] == 0, 'power'] = median\n",
    "    df.loc[pd.isna(df['power']), 'power'] = median\n",
    "    return df\n",
    "\n",
    "ml = ml.groupby('model').apply(add_median_power)\n",
    "\n",
    "ml.loc[(ml['model'] == 'samara') & (ml['power'] == 0), 'power'] = ml[(ml['model'] == 'samara') & (ml['power'] > 0)]['power'].median()\n",
    "ml.loc[(ml['model'] == '911') & (ml['power'] == 0), 'power'] = ml[(ml['model'] == '911') & (ml['power'] > 0)]['power'].median()\n",
    "ml.loc[(ml['model'] == 'serie_1') & (ml['power'] == 0), 'power'] = ml[(ml['model'] == 'serie_1') & (ml['power'] > 0)]['power'].median()\n",
    "ml[ml['power'] == 0]"
   ]
  },
  {
   "cell_type": "code",
   "execution_count": 27,
   "metadata": {},
   "outputs": [
    {
     "data": {
      "image/png": "[encoded data removed]",
      "text/plain": [
       "<Figure size 1080x720 with 4 Axes>"
      ]
     },
     "metadata": {
      "needs_background": "light"
     },
     "output_type": "display_data"
    }
   ],
   "source": [
    "ml[ml['price'] < 1000].hist(bins=20, figsize=(15, 10));"
   ]
  },
  {
   "cell_type": "markdown",
   "metadata": {},
   "source": [
    "У авто с нулевой ценой мощность также указана нулевая. Так как таких авто всего 3%, удалим их."
   ]
  },
  {
   "cell_type": "code",
   "execution_count": 28,
   "metadata": {},
   "outputs": [
    {
     "data": {
      "image/png": "[encoded data removed]",
      "text/plain": [
       "<Figure size 1080x720 with 4 Axes>"
      ]
     },
     "metadata": {
      "needs_background": "light"
     },
     "output_type": "display_data"
    }
   ],
   "source": [
    "ml = ml[ml['price'] > ml['price'].quantile(0.005)]\n",
    "ml[ml['price'] < 1000].hist(bins=30, figsize=(15, 10));"
   ]
  },
  {
   "cell_type": "code",
   "execution_count": 29,
   "metadata": {},
   "outputs": [
    {
     "data": {
      "text/plain": [
       "price                0.000000\n",
       "vehicle_type         0.000000\n",
       "registration_year    0.000000\n",
       "gearbox              0.000000\n",
       "power                0.000309\n",
       "model                0.000000\n",
       "kilometer            0.000000\n",
       "fuel_type            7.174582\n",
       "brand                0.000000\n",
       "repaired             0.000000\n",
       "dtype: float64"
      ]
     },
     "execution_count": 29,
     "metadata": {},
     "output_type": "execute_result"
    }
   ],
   "source": [
    "ml.isna().sum() / len(ml) *100"
   ]
  },
  {
   "cell_type": "code",
   "execution_count": 30,
   "metadata": {},
   "outputs": [
    {
     "data": {
      "text/html": [
       "<div>\n",
       "<style scoped>\n",
       "    .dataframe tbody tr th:only-of-type {\n",
       "        vertical-align: middle;\n",
       "    }\n",
       "\n",
       "    .dataframe tbody tr th {\n",
       "        vertical-align: top;\n",
       "    }\n",
       "\n",
       "    .dataframe thead th {\n",
       "        text-align: right;\n",
       "    }\n",
       "</style>\n",
       "<table border=\"1\" class=\"dataframe\">\n",
       "  <thead>\n",
       "    <tr style=\"text-align: right;\">\n",
       "      <th></th>\n",
       "      <th>price</th>\n",
       "      <th>vehicle_type</th>\n",
       "      <th>registration_year</th>\n",
       "      <th>gearbox</th>\n",
       "      <th>power</th>\n",
       "      <th>model</th>\n",
       "      <th>kilometer</th>\n",
       "      <th>fuel_type</th>\n",
       "      <th>brand</th>\n",
       "      <th>repaired</th>\n",
       "    </tr>\n",
       "  </thead>\n",
       "  <tbody>\n",
       "    <tr>\n",
       "      <th>234296</th>\n",
       "      <td>3800</td>\n",
       "      <td>wagon</td>\n",
       "      <td>1978</td>\n",
       "      <td>manual</td>\n",
       "      <td>NaN</td>\n",
       "      <td>serie_1</td>\n",
       "      <td>30000</td>\n",
       "      <td>gasoline</td>\n",
       "      <td>land_rover</td>\n",
       "      <td>no</td>\n",
       "    </tr>\n",
       "  </tbody>\n",
       "</table>\n",
       "</div>"
      ],
      "text/plain": [
       "        price vehicle_type  registration_year gearbox  power    model  \\\n",
       "234296   3800        wagon               1978  manual    NaN  serie_1   \n",
       "\n",
       "        kilometer fuel_type       brand repaired  \n",
       "234296      30000  gasoline  land_rover       no  "
      ]
     },
     "execution_count": 30,
     "metadata": {},
     "output_type": "execute_result"
    }
   ],
   "source": [
    "ml[ml['power'].isna()]"
   ]
  },
  {
   "cell_type": "code",
   "execution_count": 31,
   "metadata": {},
   "outputs": [],
   "source": [
    "ml = ml.dropna(subset='power')"
   ]
  },
  {
   "cell_type": "code",
   "execution_count": 32,
   "metadata": {},
   "outputs": [],
   "source": [
    "ml['fuel_type'] = ml['fuel_type'].fillna('petrol')"
   ]
  },
  {
   "cell_type": "code",
   "execution_count": 33,
   "metadata": {},
   "outputs": [
    {
     "data": {
      "text/plain": [
       "54653"
      ]
     },
     "execution_count": 33,
     "metadata": {},
     "output_type": "execute_result"
    }
   ],
   "source": [
    "# КОД РЕВЬЮЕРА\n",
    "ml.duplicated().sum()"
   ]
  },
  {
   "cell_type": "code",
   "execution_count": 34,
   "metadata": {},
   "outputs": [],
   "source": [
    "ml = ml.drop_duplicates()"
   ]
  },
  {
   "cell_type": "code",
   "execution_count": 35,
   "metadata": {},
   "outputs": [
    {
     "data": {
      "text/plain": [
       "24.12118441511532"
      ]
     },
     "execution_count": 35,
     "metadata": {},
     "output_type": "execute_result"
    }
   ],
   "source": [
    "(354369 - len(ml)) / 354369 * 100"
   ]
  },
  {
   "cell_type": "markdown",
   "metadata": {},
   "source": [
    "Таким образом по возможности заполнили пропуски. Удалили 24.12% даных.\n",
    "\n",
    "Разделим данные на тестовую и обучающую выборки со стратификацией по `'model'`."
   ]
  },
  {
   "cell_type": "code",
   "execution_count": 36,
   "metadata": {},
   "outputs": [
    {
     "data": {
      "text/plain": [
       "golf                  21397\n",
       "other                 21119\n",
       "3er                   15464\n",
       "polo                   8993\n",
       "astra                  8517\n",
       "                      ...  \n",
       "kalina                    7\n",
       "rangerover                4\n",
       "serie_2                   4\n",
       "serie_3                   3\n",
       "range_rover_evoque        1\n",
       "Name: model, Length: 249, dtype: int64"
      ]
     },
     "execution_count": 36,
     "metadata": {},
     "output_type": "execute_result"
    }
   ],
   "source": [
    "ml['model'].value_counts()"
   ]
  },
  {
   "cell_type": "code",
   "execution_count": 37,
   "metadata": {},
   "outputs": [
    {
     "data": {
      "text/html": [
       "<div>\n",
       "<style scoped>\n",
       "    .dataframe tbody tr th:only-of-type {\n",
       "        vertical-align: middle;\n",
       "    }\n",
       "\n",
       "    .dataframe tbody tr th {\n",
       "        vertical-align: top;\n",
       "    }\n",
       "\n",
       "    .dataframe thead th {\n",
       "        text-align: right;\n",
       "    }\n",
       "</style>\n",
       "<table border=\"1\" class=\"dataframe\">\n",
       "  <thead>\n",
       "    <tr style=\"text-align: right;\">\n",
       "      <th></th>\n",
       "      <th>price</th>\n",
       "      <th>vehicle_type</th>\n",
       "      <th>registration_year</th>\n",
       "      <th>gearbox</th>\n",
       "      <th>power</th>\n",
       "      <th>model</th>\n",
       "      <th>kilometer</th>\n",
       "      <th>fuel_type</th>\n",
       "      <th>brand</th>\n",
       "      <th>repaired</th>\n",
       "    </tr>\n",
       "  </thead>\n",
       "  <tbody>\n",
       "    <tr>\n",
       "      <th>31129</th>\n",
       "      <td>12500</td>\n",
       "      <td>suv</td>\n",
       "      <td>2005</td>\n",
       "      <td>auto</td>\n",
       "      <td>296.0</td>\n",
       "      <td>range_rover_evoque</td>\n",
       "      <td>150000</td>\n",
       "      <td>gasoline</td>\n",
       "      <td>land_rover</td>\n",
       "      <td>no</td>\n",
       "    </tr>\n",
       "  </tbody>\n",
       "</table>\n",
       "</div>"
      ],
      "text/plain": [
       "       price vehicle_type  registration_year gearbox  power  \\\n",
       "31129  12500          suv               2005    auto  296.0   \n",
       "\n",
       "                    model  kilometer fuel_type       brand repaired  \n",
       "31129  range_rover_evoque     150000  gasoline  land_rover       no  "
      ]
     },
     "execution_count": 37,
     "metadata": {},
     "output_type": "execute_result"
    }
   ],
   "source": [
    "ml[ml['model'] == 'range_rover_evoque']"
   ]
  },
  {
   "cell_type": "code",
   "execution_count": 38,
   "metadata": {},
   "outputs": [],
   "source": [
    "ml = ml.drop(labels = [31129],axis = 0)"
   ]
  },
  {
   "cell_type": "code",
   "execution_count": 39,
   "metadata": {},
   "outputs": [
    {
     "data": {
      "text/html": [
       "<div>\n",
       "<style scoped>\n",
       "    .dataframe tbody tr th:only-of-type {\n",
       "        vertical-align: middle;\n",
       "    }\n",
       "\n",
       "    .dataframe tbody tr th {\n",
       "        vertical-align: top;\n",
       "    }\n",
       "\n",
       "    .dataframe thead th {\n",
       "        text-align: right;\n",
       "    }\n",
       "</style>\n",
       "<table border=\"1\" class=\"dataframe\">\n",
       "  <thead>\n",
       "    <tr style=\"text-align: right;\">\n",
       "      <th></th>\n",
       "      <th>price</th>\n",
       "      <th>vehicle_type</th>\n",
       "      <th>registration_year</th>\n",
       "      <th>gearbox</th>\n",
       "      <th>power</th>\n",
       "      <th>model</th>\n",
       "      <th>kilometer</th>\n",
       "      <th>fuel_type</th>\n",
       "      <th>brand</th>\n",
       "      <th>repaired</th>\n",
       "    </tr>\n",
       "  </thead>\n",
       "  <tbody>\n",
       "  </tbody>\n",
       "</table>\n",
       "</div>"
      ],
      "text/plain": [
       "Empty DataFrame\n",
       "Columns: [price, vehicle_type, registration_year, gearbox, power, model, kilometer, fuel_type, brand, repaired]\n",
       "Index: []"
      ]
     },
     "execution_count": 39,
     "metadata": {},
     "output_type": "execute_result"
    }
   ],
   "source": [
    "ml[ml['model'] == 'range_rover_evoque']"
   ]
  },
  {
   "cell_type": "code",
   "execution_count": 40,
   "metadata": {},
   "outputs": [],
   "source": [
    "features = ml[ml.columns[1:]]\n",
    "target = ml['price']\n",
    "\n",
    "X_train, X_test, y_train, y_test = train_test_split(features, target, \n",
    "                                                    test_size=0.25, \n",
    "                                                    random_state=42, \n",
    "                                                    stratify=features['model'])"
   ]
  },
  {
   "cell_type": "markdown",
   "metadata": {},
   "source": [
    "Отмасштабируем численные признаки с помощью `StandardScaler`. "
   ]
  },
  {
   "cell_type": "code",
   "execution_count": 41,
   "metadata": {},
   "outputs": [],
   "source": [
    "scaler = StandardScaler()\n",
    "# Обучаемся и трансформируем только численные признаки\n",
    "scaler.fit(X_train[['kilometer', 'registration_year', 'power']])\n",
    "X_train_scal = scaler.transform(X_train[['kilometer', 'registration_year', 'power']])\n",
    "X_test_scal = scaler.transform(X_test[['kilometer', 'registration_year', 'power']])\n",
    "\n",
    "# Создаем датасеты с отмасштабированными численными признаками\n",
    "X_train_scal = pd.DataFrame(X_train_scal, index=X_train[['kilometer', 'registration_year', 'power']].index, columns=['kilometer', 'registration_year', 'power'])\n",
    "X_test_scal = pd.DataFrame(X_test_scal, index=X_test[['kilometer', 'registration_year', 'power']].index, columns=['kilometer', 'registration_year', 'power'])\n",
    "\n",
    "# Удаляем не отмасштабированные численные признаки из выборок\n",
    "X_train = X_train.drop(['kilometer', 'registration_year', 'power'], axis=1)\n",
    "X_test = X_test.drop(['kilometer', 'registration_year', 'power'], axis=1)\n",
    "\n",
    "# Добавляем отмасштабированные численные признаки к выборкам\n",
    "X_train = X_train.merge(X_train_scal, left_index=True, right_index=True)\n",
    "X_test = X_test.merge(X_test_scal, left_index=True, right_index=True)"
   ]
  },
  {
   "cell_type": "markdown",
   "metadata": {},
   "source": [
    "LightGBM и CatBoost умеют работать с категориальными признаками, однако модели линейной регрессии и случайного леса нет. Для них создадим отдельные выборки с применением `OneHotEncoder`."
   ]
  },
  {
   "cell_type": "code",
   "execution_count": 42,
   "metadata": {},
   "outputs": [
    {
     "data": {
      "text/plain": [
       "vehicle_type      9\n",
       "gearbox           2\n",
       "model           248\n",
       "fuel_type         7\n",
       "brand            39\n",
       "repaired          2\n",
       "dtype: int64"
      ]
     },
     "execution_count": 42,
     "metadata": {},
     "output_type": "execute_result"
    }
   ],
   "source": [
    "X_train[X_train.columns[:-3]].nunique()"
   ]
  },
  {
   "cell_type": "code",
   "execution_count": 43,
   "metadata": {},
   "outputs": [
    {
     "data": {
      "text/plain": [
       "vehicle_type      9\n",
       "gearbox           2\n",
       "model           248\n",
       "fuel_type         7\n",
       "brand            39\n",
       "repaired          2\n",
       "dtype: int64"
      ]
     },
     "execution_count": 43,
     "metadata": {},
     "output_type": "execute_result"
    }
   ],
   "source": [
    "X_test[X_test.columns[:-3]].nunique()"
   ]
  },
  {
   "cell_type": "code",
   "execution_count": 44,
   "metadata": {},
   "outputs": [],
   "source": [
    "ohe = OneHotEncoder(drop='first', sparse=False)\n",
    "ohe.fit(X_train[X_test.columns[:-3]])\n",
    "X_train_ohe = ohe.transform(X_train[X_test.columns[:-3]])\n",
    "X_test_ohe = ohe.transform(X_test[X_test.columns[:-3]])\n",
    "\n",
    "# Объединяем с численным массивом\n",
    "X_train_ohe = np.hstack([X_train_ohe, np.array(X_train[X_test.columns[-3:]])])\n",
    "X_test_ohe = np.hstack([X_test_ohe, np.array(X_test[X_test.columns[-3:]])])"
   ]
  },
  {
   "cell_type": "markdown",
   "metadata": {},
   "source": [
    "## Обучение моделей"
   ]
  },
  {
   "cell_type": "markdown",
   "metadata": {},
   "source": [
    "В работе будем обучать следующие модели:\n",
    "- две модели градиентного бустинга (CatBoost и LightGBM)\n",
    "- случайный лес\n",
    "- линейная регрессия\n",
    "\n",
    "Изменяемыми гиперпараметрами в моделях градиентного бустинга выступали:\n",
    "- количество делевьев\n",
    "- глубина дерева\n",
    "- скорость обучения\n",
    "\n",
    "Изменяемыми гиперпараметрами в модели случайного леса выступали:\n",
    "- количество делевьев\n",
    "- глубина дерева\n",
    "- минимальное количество выборок, необходимое для разделения внутреннего узла\n",
    "- минимальное количество выборок, необходимое для конечного узла\n",
    "\n",
    "Для всех моделей применялась кросс-валидация м разделением на 5 выборок, оценивающаяся по RMSE. Для случайного леса и градиентного бустинга подбор гиперпараметров осуществлялся с помощью `RandomizedSearchCV`.\n",
    "Для оценки качества моделей применим метрику RMSE.\n",
    "\n",
    "С помощью атрибута `time()` будем замерать время обучения каждой модели, время предказания, а также RMSE кросс-валидации, RMSE на тестовой и обучающей выборках."
   ]
  },
  {
   "cell_type": "code",
   "execution_count": 50,
   "metadata": {},
   "outputs": [],
   "source": [
    "def grid_search_random(model, param, X_tr, y_tr):\n",
    "    '''Функция подбора гиперпараметров с помощью RandomizedGridSearchCV.\n",
    "       На входе принимает модель, словарь с гиперпараметрами, фичи и таргет.\n",
    "       На выходе - словарь с лучшими гиперпараметрами'''\n",
    "    \n",
    "    grid = RandomizedSearchCV(model, param, n_jobs=-1, cv=5, \n",
    "                              scoring='neg_mean_squared_error',\n",
    "                              random_state=42)\n",
    "    grid.fit(X_tr, y_tr)\n",
    "    best_score = (-grid.best_score_)**0.5\n",
    "    print('RMSE кросс-валидации:', best_score)\n",
    "    return best_score, grid.best_params_\n",
    "\n",
    "\n",
    "def cat_boost(X_tr, y_tr, X_te, y_te, param):\n",
    "    '''Функция cat_boost.\n",
    "       На входе принимает фичи и таргеты обучающей и тестовой выборок.\n",
    "       На выходе - оценка RMSE, время обучения и время предсказания'''\n",
    "    print('=============== CatBoost ===============')\n",
    "    start_train = time.time()\n",
    "    clf = CatBoostRegressor(random_state=42, verbose=False, loss_function='RMSE')\n",
    "    score_cv, m = grid_search_random(clf, param, X_tr, y_tr)\n",
    "    clf = CatBoostRegressor(random_state=42,\n",
    "                            verbose=False,\n",
    "                            iterations=m['iterations'],\n",
    "                            depth=m['depth'],\n",
    "                            learning_rate=m['learning_rate'])\n",
    "    clf.fit(X_tr, y_tr)\n",
    "    end_train = time.time()\n",
    "    print('RMSE на обучающей выборке:', mean_squared_error(clf.predict(X_tr), y_tr, squared=False))\n",
    "    time_train = end_train - start_train\n",
    "    print(f'Время обучения: {time_train:.2f} c')\n",
    "    \n",
    "    start_predict = time.time()\n",
    "    predict = clf.predict(X_te)\n",
    "    end_predict = time.time()\n",
    "    time_predict = end_predict - start_predict\n",
    "    print(f'Время предсказания: {time_predict:.2f} c')\n",
    "    return score_cv, time_train, time_predict, m\n",
    "\n",
    "def LGBM(X_tr, y_tr, X_te, y_te, param):\n",
    "    '''Функция LightGBM.\n",
    "       На входе принимает фичи и таргеты обучающей и тестовой выборок.\n",
    "       На выходе - оценка RMSE, время обучения и время предсказания'''\n",
    "    print('=============== LightGBM ===============')\n",
    "    start_train = time.time()\n",
    "    clf = LGBMRegressor(random_state=42, n_jobs=-1)\n",
    "    score_cv, m = grid_search_random(clf, param, X_tr, y_tr)\n",
    "    clf = LGBMRegressor(random_state=42,\n",
    "                            n_jobs=-1,\n",
    "                            n_estimators=m['n_estimators'],\n",
    "                            max_depth=m['max_depth'],\n",
    "                            learning_rate=m['learning_rate'])\n",
    "    clf.fit(X_tr, y_tr)\n",
    "    end_train = time.time()\n",
    "    print('RMSE на обучающей выборке:', mean_squared_error(clf.predict(X_tr), y_tr, squared=False))\n",
    "    time_train = end_train - start_train\n",
    "    print(f'Время обучения: {time_train:.2f} c')\n",
    "    \n",
    "    start_predict = time.time()\n",
    "    predict = clf.predict(X_te)\n",
    "    end_predict = time.time()\n",
    "    time_predict = end_predict - start_predict\n",
    "    print(f'Время предсказания: {time_predict:.2f} c')\n",
    "    return score_cv, time_train, time_predict, m\n",
    "\n",
    "def random_forest_tree(X_tr, y_tr, X_te, y_te, param):\n",
    "    '''Функция случайного леса.\n",
    "       На входе принимает фичи и таргеты обучающей и тестовой выборок.\n",
    "       На выходе - оценка RMSE, время обучения и время предсказания'''\n",
    "    print('=============== случайный лес ===============')\n",
    "    start_train = time.time()\n",
    "    clf = RandomForestRegressor(random_state=42)\n",
    "    score_cv, m = grid_search_random(clf, param, X_tr, y_tr)\n",
    "    clf = RandomForestRegressor(random_state=42,\n",
    "                                n_estimators=m['n_estimators'],\n",
    "                                max_depth=m['max_depth'],\n",
    "                                min_samples_split=m['min_samples_split'],\n",
    "                                min_samples_leaf=m['min_samples_leaf'])\n",
    "    clf.fit(X_tr, y_tr)\n",
    "    end_train = time.time()\n",
    "    print('RMSE на обучающей выборке:', mean_squared_error(clf.predict(X_tr), y_tr, squared=False))\n",
    "    time_train = end_train - start_train\n",
    "    print(f'Время обучения: {time_train:.2f} c')\n",
    "    \n",
    "    start_predict = time.time()\n",
    "    predict = clf.predict(X_te)\n",
    "    end_predict = time.time()\n",
    "    time_predict = end_predict - start_predict\n",
    "    print(f'Время предсказания: {time_predict:.2f} c')\n",
    "    return score_cv, time_train, time_predict, m\n",
    "\n",
    "\n",
    "def linear_regression(X_tr, y_tr, X_te, y_te):\n",
    "    '''Функция линейной регрессии.\n",
    "       На входе принимает фичи и таргеты обучающей и тестовой выборок.\n",
    "       На выходе - оценка RMSE, время обучения и время предсказания'''\n",
    "    print('=============== линейная регрессия ===============')\n",
    "    start_train = time.time()\n",
    "    clf = LinearRegression()\n",
    "    scores = cross_val_score(clf, X_tr, y_tr, cv=5, scoring='neg_mean_squared_error')\n",
    "    score_cv = (-scores.mean())**0.5\n",
    "    print('RMSE кросс-валидации:', score_cv)\n",
    "    clf.fit(X_tr, y_tr)\n",
    "    end_train = time.time()\n",
    "    time_train = end_train - start_train\n",
    "    print('RMSE на обучающей выборке:', mean_squared_error(clf.predict(X_tr), y_tr, squared=False))\n",
    "    print(f'Время обучения: {time_train:.2f} c')\n",
    "    \n",
    "    start_predict = time.time()\n",
    "    predict = clf.predict(X_te)\n",
    "    end_predict = time.time()\n",
    "    time_predict = end_predict - start_predict\n",
    "    print(f'Время предсказания: {time_predict:.2f} c')\n",
    "    return score_cv, time_train, time_predict"
   ]
  },
  {
   "cell_type": "code",
   "execution_count": 46,
   "metadata": {
    "scrolled": false
   },
   "outputs": [
    {
     "name": "stdout",
     "output_type": "stream",
     "text": [
      "=============== CatBoost ===============\n",
      "RMSE кросс-валидации: 1726.4703291131132\n",
      "RMSE на обучающей выборке: 1623.936769379784\n",
      "Время обучения: 825.52 c\n",
      "Время предсказания: 4.39 c\n"
     ]
    }
   ],
   "source": [
    "rmse_cat_boost, time_train_cat_boost, time_predict_cat_boost, best_cat_boost = cat_boost(X_train_ohe, y_train, \n",
    "                                                                                         X_test_ohe, y_test,\n",
    "                                                                                        {'iterations': range(4, 101, 4),\n",
    "                                                                                         'depth': range(2, 11),\n",
    "                                                                                         'learning_rate': np.arange(0, 1.1, 0.1)})"
   ]
  },
  {
   "cell_type": "code",
   "execution_count": 47,
   "metadata": {},
   "outputs": [
    {
     "name": "stdout",
     "output_type": "stream",
     "text": [
      "=============== LightGBM ===============\n",
      "RMSE кросс-валидации: 1718.3729519235956\n",
      "RMSE на обучающей выборке: 1654.1696537259215\n",
      "Время обучения: 471.51 c\n",
      "Время предсказания: 0.40 c\n"
     ]
    }
   ],
   "source": [
    "rmse_LGBM, time_train_LGBM, time_predict_LGBM, best_LGBM = LGBM(X_train_ohe, y_train, X_test_ohe, y_test,\n",
    "                                                                            {'n_estimators': range(4, 101, 4),\n",
    "                                                                             'max_depth': range(2, 11),\n",
    "                                                                             'learning_rate': np.arange(0, 1.1, 0.1)})"
   ]
  },
  {
   "cell_type": "code",
   "execution_count": 48,
   "metadata": {},
   "outputs": [
    {
     "name": "stdout",
     "output_type": "stream",
     "text": [
      "=============== случайный лес ===============\n",
      "RMSE кросс-валидации: 1964.1011876650507\n",
      "RMSE на обучающей выборке: 1909.9150806813677\n",
      "Время обучения: 3413.95 c\n",
      "Время предсказания: 0.60 c\n"
     ]
    }
   ],
   "source": [
    "rmse_tree, time_train_tree, time_predict_tree, best_tree = random_forest_tree(X_train_ohe, y_train, X_test_ohe, y_test,\n",
    "                                                                    {'n_estimators' : range(1, 101, 20),\n",
    "                                                                     'max_depth' : range(1, 11),\n",
    "                                                                     'min_samples_split' : range(2, 11, 2),\n",
    "                                                                     'min_samples_leaf' : range(1, 11, 2)})"
   ]
  },
  {
   "cell_type": "code",
   "execution_count": 51,
   "metadata": {},
   "outputs": [
    {
     "name": "stdout",
     "output_type": "stream",
     "text": [
      "=============== линейная регрессия ===============\n",
      "RMSE кросс-валидации: 2598.9753038739937\n",
      "RMSE на обучающей выборке: 2592.6844045186654\n",
      "Время обучения: 85.14 c\n",
      "Время предсказания: 0.19 c\n"
     ]
    }
   ],
   "source": [
    "rmse_linear, time_train_linear, time_predict_linear = linear_regression(X_train_ohe, y_train, X_test_ohe, y_test)"
   ]
  },
  {
   "cell_type": "markdown",
   "metadata": {},
   "source": [
    "## Анализ моделей"
   ]
  },
  {
   "cell_type": "code",
   "execution_count": 52,
   "metadata": {},
   "outputs": [
    {
     "data": {
      "text/html": [
       "<div>\n",
       "<style scoped>\n",
       "    .dataframe tbody tr th:only-of-type {\n",
       "        vertical-align: middle;\n",
       "    }\n",
       "\n",
       "    .dataframe tbody tr th {\n",
       "        vertical-align: top;\n",
       "    }\n",
       "\n",
       "    .dataframe thead th {\n",
       "        text-align: right;\n",
       "    }\n",
       "</style>\n",
       "<table border=\"1\" class=\"dataframe\">\n",
       "  <thead>\n",
       "    <tr style=\"text-align: right;\">\n",
       "      <th></th>\n",
       "      <th>RMSE_cv</th>\n",
       "      <th>time_train</th>\n",
       "      <th>time_predict</th>\n",
       "    </tr>\n",
       "  </thead>\n",
       "  <tbody>\n",
       "    <tr>\n",
       "      <th>CatBoost</th>\n",
       "      <td>1726.470329</td>\n",
       "      <td>825.519293</td>\n",
       "      <td>4.390032</td>\n",
       "    </tr>\n",
       "    <tr>\n",
       "      <th>LightGBM</th>\n",
       "      <td>1718.372952</td>\n",
       "      <td>471.511752</td>\n",
       "      <td>0.399626</td>\n",
       "    </tr>\n",
       "    <tr>\n",
       "      <th>decision_tree</th>\n",
       "      <td>1964.101188</td>\n",
       "      <td>3413.954047</td>\n",
       "      <td>0.601217</td>\n",
       "    </tr>\n",
       "    <tr>\n",
       "      <th>linear</th>\n",
       "      <td>2598.975304</td>\n",
       "      <td>85.137525</td>\n",
       "      <td>0.191653</td>\n",
       "    </tr>\n",
       "  </tbody>\n",
       "</table>\n",
       "</div>"
      ],
      "text/plain": [
       "                   RMSE_cv   time_train  time_predict\n",
       "CatBoost       1726.470329   825.519293      4.390032\n",
       "LightGBM       1718.372952   471.511752      0.399626\n",
       "decision_tree  1964.101188  3413.954047      0.601217\n",
       "linear         2598.975304    85.137525      0.191653"
      ]
     },
     "execution_count": 52,
     "metadata": {},
     "output_type": "execute_result"
    }
   ],
   "source": [
    "table = pd.DataFrame({'CatBoost' : [rmse_cat_boost, time_train_cat_boost, time_predict_cat_boost], \n",
    "                            'LightGBM' : [rmse_LGBM, time_train_LGBM, time_predict_LGBM],\n",
    "                            'decision_tree' : [rmse_tree, time_train_tree, time_predict_tree],\n",
    "                            'linear' : [rmse_linear, time_train_linear, time_predict_linear]},\n",
    "                            index=['RMSE_cv', 'time_train', 'time_predict']).T\n",
    "table"
   ]
  },
  {
   "cell_type": "code",
   "execution_count": 54,
   "metadata": {},
   "outputs": [
    {
     "data": {
      "image/png": "[encoded data removed]",
      "text/plain": [
       "<Figure size 1296x720 with 2 Axes>"
      ]
     },
     "metadata": {
      "needs_background": "light"
     },
     "output_type": "display_data"
    },
    {
     "data": {
      "image/png": "[encoded data removed]",
      "text/plain": [
       "<Figure size 1296x288 with 1 Axes>"
      ]
     },
     "metadata": {
      "needs_background": "light"
     },
     "output_type": "display_data"
    }
   ],
   "source": [
    "plt.figure(figsize=(18, 10))\n",
    "plt.subplot(2, 2, 1)\n",
    "table['time_train'].sort_values().plot(title='Время обучения, c', kind='bar', grid=True)\n",
    "plt.xticks(rotation=0)\n",
    "plt.subplot(2, 2, 2)\n",
    "table['time_predict'].sort_values().plot(title='Время предсказания, c', kind='bar', grid=True)\n",
    "plt.xticks(rotation=0)\n",
    "plt.show()\n",
    "table['RMSE_cv'].sort_values().plot(title='RMSE кросс-валидации', kind='bar', grid=True, figsize=(18, 4))\n",
    "plt.xticks(rotation=0);"
   ]
  },
  {
   "cell_type": "markdown",
   "metadata": {},
   "source": [
    "Самую низкую RMSE-оценку кросс-валидации, а также скорости обучения и предсказания дала модель LightGBM. RMSE-оценка кросс-валидации CatBoost несколько больше, однако скорость обучения и предсказания почти в 8 раз ниже LightGBM. Самое долгое обучение у случайного леса, однако предсказание у данной модели в 2 раза быстрее LightGBM. Самой быстрой моделью оказалась линейная регрессия, которая дала худшую RMSE-оценку кросс-валидации. Таким образом лучшей моделью для предсказания стоимости автомобиля из использованных является LightGBM."
   ]
  },
  {
   "cell_type": "code",
   "execution_count": 56,
   "metadata": {},
   "outputs": [
    {
     "data": {
      "text/plain": [
       "{'n_estimators': 84, 'max_depth': 9, 'learning_rate': 0.4}"
      ]
     },
     "execution_count": 56,
     "metadata": {},
     "output_type": "execute_result"
    }
   ],
   "source": [
    "best_LGBM"
   ]
  },
  {
   "cell_type": "code",
   "execution_count": 55,
   "metadata": {},
   "outputs": [
    {
     "name": "stdout",
     "output_type": "stream",
     "text": [
      "RMSE на тестовой выборке: 1680.3662746884302\n"
     ]
    }
   ],
   "source": [
    "clf = LGBMRegressor(random_state=42,\n",
    "                            n_jobs=-1,\n",
    "                            n_estimators=best_LGBM['n_estimators'],\n",
    "                            max_depth=best_LGBM['max_depth'],\n",
    "                            learning_rate=best_LGBM['learning_rate'])\n",
    "clf.fit(X_train_ohe, y_train)\n",
    "print('RMSE на тестовой выборке:', mean_squared_error(clf.predict(X_test_ohe), y_test, squared=False))"
   ]
  },
  {
   "cell_type": "markdown",
   "metadata": {},
   "source": [
    "Проверим предсказания на адекватность с помощью простейшей константной модели `DummyRegressor`"
   ]
  },
  {
   "cell_type": "code",
   "execution_count": 57,
   "metadata": {},
   "outputs": [
    {
     "name": "stdout",
     "output_type": "stream",
     "text": [
      "RMSE константной модели: 4585.270306870105\n"
     ]
    }
   ],
   "source": [
    "clf = DummyRegressor()\n",
    "clf.fit(X_train_ohe, y_train)\n",
    "predict_dummy = clf.predict(X_test_ohe)\n",
    "rmse_dummy = mean_squared_error(predict_dummy, y_test, squared=False)\n",
    "print('RMSE константной модели:', rmse_dummy)"
   ]
  },
  {
   "cell_type": "markdown",
   "metadata": {},
   "source": [
    "Константная простейшая модель предсказывает цену автомобилей со значительно большей ошибкой. Это говорит об адекватности наших моделей и их оценке. В противном случае это бы означало, что любая рандомная модель могла предсказать целевую переменную лучше наших моделей.\n",
    "\n",
    "Таким образом наилучшая модель - LightGBM - предсказывает цену автомобиля с RMSE ошибкой 1680.36."
   ]
  },
  {
   "cell_type": "code",
   "execution_count": null,
   "metadata": {},
   "outputs": [],
   "source": []
  }
 ],
 "metadata": {
  "ExecuteTimeLog": [
   {
    "duration": 1468,
    "start_time": "2023-06-09T17:06:33.902Z"
   },
   {
    "duration": 3348,
    "start_time": "2023-06-09T17:07:38.205Z"
   },
   {
    "duration": 119,
    "start_time": "2023-06-09T17:12:04.843Z"
   },
   {
    "duration": 32958,
    "start_time": "2023-06-09T17:12:11.900Z"
   },
   {
    "duration": 14,
    "start_time": "2023-06-09T17:13:16.695Z"
   },
   {
    "duration": 10,
    "start_time": "2023-06-09T17:13:47.402Z"
   },
   {
    "duration": 4,
    "start_time": "2023-06-09T17:14:11.943Z"
   },
   {
    "duration": 178,
    "start_time": "2023-06-09T17:14:32.038Z"
   },
   {
    "duration": 140,
    "start_time": "2023-06-09T17:16:51.669Z"
   },
   {
    "duration": 139,
    "start_time": "2023-06-09T17:17:26.314Z"
   },
   {
    "duration": 162,
    "start_time": "2023-06-09T17:19:10.178Z"
   },
   {
    "duration": 165,
    "start_time": "2023-06-09T17:19:44.473Z"
   },
   {
    "duration": 136,
    "start_time": "2023-06-09T17:19:55.713Z"
   },
   {
    "duration": 4,
    "start_time": "2023-06-09T17:19:58.213Z"
   },
   {
    "duration": 168,
    "start_time": "2023-06-09T17:20:10.554Z"
   },
   {
    "duration": 156,
    "start_time": "2023-06-09T17:20:21.244Z"
   },
   {
    "duration": 143,
    "start_time": "2023-06-09T17:23:37.402Z"
   },
   {
    "duration": 1854,
    "start_time": "2023-06-09T17:23:46.815Z"
   },
   {
    "duration": 975,
    "start_time": "2023-06-09T17:23:48.672Z"
   },
   {
    "duration": 112,
    "start_time": "2023-06-09T17:23:49.649Z"
   },
   {
    "duration": 491,
    "start_time": "2023-06-09T17:23:49.763Z"
   },
   {
    "duration": 428,
    "start_time": "2023-06-09T17:23:50.256Z"
   },
   {
    "duration": 9,
    "start_time": "2023-06-09T17:23:50.690Z"
   },
   {
    "duration": 395,
    "start_time": "2023-06-09T17:24:01.063Z"
   },
   {
    "duration": 126,
    "start_time": "2023-06-09T17:25:55.904Z"
   },
   {
    "duration": 0,
    "start_time": "2023-06-09T17:26:25.114Z"
   },
   {
    "duration": 18,
    "start_time": "2023-06-09T17:27:44.696Z"
   },
   {
    "duration": 12,
    "start_time": "2023-06-09T17:28:03.558Z"
   },
   {
    "duration": 2249,
    "start_time": "2023-06-09T17:28:27.633Z"
   },
   {
    "duration": 1052,
    "start_time": "2023-06-09T17:28:29.891Z"
   },
   {
    "duration": 160,
    "start_time": "2023-06-09T17:28:30.945Z"
   },
   {
    "duration": 414,
    "start_time": "2023-06-09T17:28:31.107Z"
   },
   {
    "duration": 449,
    "start_time": "2023-06-09T17:28:31.522Z"
   },
   {
    "duration": 69242,
    "start_time": "2023-06-09T17:28:31.977Z"
   },
   {
    "duration": 7,
    "start_time": "2023-06-09T17:35:49.288Z"
   },
   {
    "duration": 6,
    "start_time": "2023-06-09T17:35:54.376Z"
   },
   {
    "duration": 20,
    "start_time": "2023-06-09T17:57:12.614Z"
   },
   {
    "duration": 234,
    "start_time": "2023-06-09T18:10:07.051Z"
   },
   {
    "duration": 231,
    "start_time": "2023-06-09T18:10:12.528Z"
   },
   {
    "duration": 31,
    "start_time": "2023-06-09T18:10:48.519Z"
   },
   {
    "duration": 196,
    "start_time": "2023-06-09T18:24:25.775Z"
   },
   {
    "duration": 16,
    "start_time": "2023-06-09T18:25:07.854Z"
   },
   {
    "duration": 1800,
    "start_time": "2023-06-09T18:25:19.403Z"
   },
   {
    "duration": 947,
    "start_time": "2023-06-09T18:25:21.205Z"
   },
   {
    "duration": 149,
    "start_time": "2023-06-09T18:25:22.153Z"
   },
   {
    "duration": 389,
    "start_time": "2023-06-09T18:25:22.304Z"
   },
   {
    "duration": 370,
    "start_time": "2023-06-09T18:25:22.695Z"
   },
   {
    "duration": 2,
    "start_time": "2023-06-09T18:25:23.067Z"
   },
   {
    "duration": 184,
    "start_time": "2023-06-09T18:25:23.071Z"
   },
   {
    "duration": 0,
    "start_time": "2023-06-09T18:25:23.257Z"
   },
   {
    "duration": 0,
    "start_time": "2023-06-09T18:25:23.259Z"
   },
   {
    "duration": 0,
    "start_time": "2023-06-09T18:25:23.260Z"
   },
   {
    "duration": 16,
    "start_time": "2023-06-09T18:26:53.646Z"
   },
   {
    "duration": 23,
    "start_time": "2023-06-09T18:27:05.618Z"
   },
   {
    "duration": 337,
    "start_time": "2023-06-09T18:27:47.468Z"
   },
   {
    "duration": 26,
    "start_time": "2023-06-09T18:27:56.294Z"
   },
   {
    "duration": 15,
    "start_time": "2023-06-09T18:28:30.523Z"
   },
   {
    "duration": 36,
    "start_time": "2023-06-09T18:28:34.399Z"
   },
   {
    "duration": 79,
    "start_time": "2023-06-09T18:28:49.231Z"
   },
   {
    "duration": 24,
    "start_time": "2023-06-09T18:28:59.815Z"
   },
   {
    "duration": 51,
    "start_time": "2023-06-09T18:29:11.545Z"
   },
   {
    "duration": 17,
    "start_time": "2023-06-09T18:29:34.725Z"
   },
   {
    "duration": 20,
    "start_time": "2023-06-09T18:29:39.013Z"
   },
   {
    "duration": 4,
    "start_time": "2023-06-09T18:29:59.901Z"
   },
   {
    "duration": 16,
    "start_time": "2023-06-09T18:30:04.299Z"
   },
   {
    "duration": 126,
    "start_time": "2023-06-09T18:30:24.348Z"
   },
   {
    "duration": 18,
    "start_time": "2023-06-09T18:31:39.124Z"
   },
   {
    "duration": 43,
    "start_time": "2023-06-09T18:32:05.046Z"
   },
   {
    "duration": 65,
    "start_time": "2023-06-09T18:34:17.469Z"
   },
   {
    "duration": 18,
    "start_time": "2023-06-09T18:34:33.763Z"
   },
   {
    "duration": 6,
    "start_time": "2023-06-09T18:35:00.010Z"
   },
   {
    "duration": 92,
    "start_time": "2023-06-09T18:35:22.424Z"
   },
   {
    "duration": 31,
    "start_time": "2023-06-09T18:36:17.264Z"
   },
   {
    "duration": 61,
    "start_time": "2023-06-09T18:37:04.149Z"
   },
   {
    "duration": 61,
    "start_time": "2023-06-09T18:38:21.392Z"
   },
   {
    "duration": 56,
    "start_time": "2023-06-09T18:38:47.814Z"
   },
   {
    "duration": 125,
    "start_time": "2023-06-09T18:39:18.659Z"
   },
   {
    "duration": 59,
    "start_time": "2023-06-09T18:39:46.510Z"
   },
   {
    "duration": 98,
    "start_time": "2023-06-09T18:39:54.020Z"
   },
   {
    "duration": 122,
    "start_time": "2023-06-09T18:40:30.245Z"
   },
   {
    "duration": 66,
    "start_time": "2023-06-09T18:40:32.232Z"
   },
   {
    "duration": 79,
    "start_time": "2023-06-09T18:44:38.482Z"
   },
   {
    "duration": 7,
    "start_time": "2023-06-09T18:46:13.703Z"
   },
   {
    "duration": 1119,
    "start_time": "2023-06-09T18:46:13.713Z"
   },
   {
    "duration": 88,
    "start_time": "2023-06-09T18:46:14.833Z"
   },
   {
    "duration": 482,
    "start_time": "2023-06-09T18:46:14.923Z"
   },
   {
    "duration": 593,
    "start_time": "2023-06-09T18:46:15.408Z"
   },
   {
    "duration": 2,
    "start_time": "2023-06-09T18:46:16.002Z"
   },
   {
    "duration": 28,
    "start_time": "2023-06-09T18:46:16.006Z"
   },
   {
    "duration": 277,
    "start_time": "2023-06-09T18:46:16.036Z"
   },
   {
    "duration": 22,
    "start_time": "2023-06-09T18:46:16.316Z"
   },
   {
    "duration": 277,
    "start_time": "2023-06-09T18:46:19.967Z"
   },
   {
    "duration": 59,
    "start_time": "2023-06-09T18:46:47.030Z"
   },
   {
    "duration": 46,
    "start_time": "2023-06-09T18:47:23.235Z"
   },
   {
    "duration": 39,
    "start_time": "2023-06-09T18:47:29.355Z"
   },
   {
    "duration": 42,
    "start_time": "2023-06-09T18:47:40.867Z"
   },
   {
    "duration": 161,
    "start_time": "2023-06-09T18:49:18.330Z"
   },
   {
    "duration": 79,
    "start_time": "2023-06-09T18:49:19.927Z"
   },
   {
    "duration": 33,
    "start_time": "2023-06-09T18:49:29.903Z"
   },
   {
    "duration": 21,
    "start_time": "2023-06-09T18:51:30.212Z"
   },
   {
    "duration": 4,
    "start_time": "2023-06-09T18:52:08.206Z"
   },
   {
    "duration": 27,
    "start_time": "2023-06-09T18:52:21.011Z"
   },
   {
    "duration": 183,
    "start_time": "2023-06-09T18:52:28.110Z"
   },
   {
    "duration": 175,
    "start_time": "2023-06-09T18:52:43.636Z"
   },
   {
    "duration": 168,
    "start_time": "2023-06-09T18:53:05.131Z"
   },
   {
    "duration": 172,
    "start_time": "2023-06-09T18:53:19.260Z"
   },
   {
    "duration": 167,
    "start_time": "2023-06-09T18:53:34.951Z"
   },
   {
    "duration": 2200,
    "start_time": "2023-06-09T18:54:03.564Z"
   },
   {
    "duration": 1104,
    "start_time": "2023-06-09T18:54:05.767Z"
   },
   {
    "duration": 150,
    "start_time": "2023-06-09T18:54:06.872Z"
   },
   {
    "duration": 482,
    "start_time": "2023-06-09T18:54:07.025Z"
   },
   {
    "duration": 455,
    "start_time": "2023-06-09T18:54:07.509Z"
   },
   {
    "duration": 74433,
    "start_time": "2023-06-09T18:54:07.967Z"
   },
   {
    "duration": 86,
    "start_time": "2023-06-09T18:55:22.403Z"
   },
   {
    "duration": 520,
    "start_time": "2023-06-09T18:55:22.492Z"
   },
   {
    "duration": 16,
    "start_time": "2023-06-09T18:55:23.014Z"
   },
   {
    "duration": 178,
    "start_time": "2023-06-09T18:55:23.032Z"
   },
   {
    "duration": 19,
    "start_time": "2023-06-09T18:55:23.212Z"
   },
   {
    "duration": 334,
    "start_time": "2023-06-09T18:55:23.288Z"
   },
   {
    "duration": 405,
    "start_time": "2023-06-09T18:55:23.624Z"
   },
   {
    "duration": 226,
    "start_time": "2023-06-09T18:56:58.475Z"
   },
   {
    "duration": 13,
    "start_time": "2023-06-09T18:58:03.336Z"
   },
   {
    "duration": 92,
    "start_time": "2023-06-09T18:58:13.995Z"
   },
   {
    "duration": 25,
    "start_time": "2023-06-09T18:58:20.400Z"
   },
   {
    "duration": 31,
    "start_time": "2023-06-09T18:58:44.333Z"
   },
   {
    "duration": 255,
    "start_time": "2023-06-09T18:59:40.208Z"
   },
   {
    "duration": 848,
    "start_time": "2023-06-09T18:59:43.496Z"
   },
   {
    "duration": 19,
    "start_time": "2023-06-09T18:59:47.421Z"
   },
   {
    "duration": 26,
    "start_time": "2023-06-09T19:00:03.334Z"
   },
   {
    "duration": 25,
    "start_time": "2023-06-09T19:00:14.502Z"
   },
   {
    "duration": 21,
    "start_time": "2023-06-09T19:00:22.216Z"
   },
   {
    "duration": 28,
    "start_time": "2023-06-09T19:00:24.590Z"
   },
   {
    "duration": 49,
    "start_time": "2023-06-09T19:01:41.191Z"
   },
   {
    "duration": 23,
    "start_time": "2023-06-09T19:01:46.262Z"
   },
   {
    "duration": 36,
    "start_time": "2023-06-09T19:02:08.668Z"
   },
   {
    "duration": 29,
    "start_time": "2023-06-09T19:02:38.458Z"
   },
   {
    "duration": 36,
    "start_time": "2023-06-09T19:02:57.396Z"
   },
   {
    "duration": 227,
    "start_time": "2023-06-09T19:03:03.158Z"
   },
   {
    "duration": 192,
    "start_time": "2023-06-09T19:03:06.127Z"
   },
   {
    "duration": 52,
    "start_time": "2023-06-09T19:06:32.262Z"
   },
   {
    "duration": 56,
    "start_time": "2023-06-09T19:06:41.996Z"
   },
   {
    "duration": 47,
    "start_time": "2023-06-09T19:06:57.860Z"
   },
   {
    "duration": 46,
    "start_time": "2023-06-09T19:07:05.049Z"
   },
   {
    "duration": 1789,
    "start_time": "2023-06-09T19:07:12.236Z"
   },
   {
    "duration": 1014,
    "start_time": "2023-06-09T19:07:14.028Z"
   },
   {
    "duration": 147,
    "start_time": "2023-06-09T19:07:15.043Z"
   },
   {
    "duration": 359,
    "start_time": "2023-06-09T19:07:15.192Z"
   },
   {
    "duration": 373,
    "start_time": "2023-06-09T19:07:15.553Z"
   },
   {
    "duration": 2,
    "start_time": "2023-06-09T19:07:15.928Z"
   },
   {
    "duration": 104,
    "start_time": "2023-06-09T19:07:15.932Z"
   },
   {
    "duration": 43,
    "start_time": "2023-06-09T19:07:16.038Z"
   },
   {
    "duration": 321,
    "start_time": "2023-06-09T19:07:16.087Z"
   },
   {
    "duration": 16,
    "start_time": "2023-06-09T19:07:16.410Z"
   },
   {
    "duration": 90,
    "start_time": "2023-06-09T19:07:16.427Z"
   },
   {
    "duration": 18,
    "start_time": "2023-06-09T19:07:16.519Z"
   },
   {
    "duration": 126,
    "start_time": "2023-06-09T19:07:16.539Z"
   },
   {
    "duration": 177,
    "start_time": "2023-06-09T19:07:16.667Z"
   },
   {
    "duration": 44,
    "start_time": "2023-06-09T19:07:35.736Z"
   },
   {
    "duration": 38,
    "start_time": "2023-06-09T19:07:41.638Z"
   },
   {
    "duration": 4,
    "start_time": "2023-06-09T19:07:54.875Z"
   },
   {
    "duration": 933,
    "start_time": "2023-06-09T19:07:54.881Z"
   },
   {
    "duration": 75,
    "start_time": "2023-06-09T19:07:55.816Z"
   },
   {
    "duration": 419,
    "start_time": "2023-06-09T19:07:55.893Z"
   },
   {
    "duration": 371,
    "start_time": "2023-06-09T19:07:56.315Z"
   },
   {
    "duration": 3,
    "start_time": "2023-06-09T19:07:56.689Z"
   },
   {
    "duration": 2,
    "start_time": "2023-06-09T19:08:01.792Z"
   },
   {
    "duration": 99,
    "start_time": "2023-06-09T19:08:02.638Z"
   },
   {
    "duration": 7,
    "start_time": "2023-06-09T19:10:29.503Z"
   },
   {
    "duration": 117,
    "start_time": "2023-06-09T19:10:39.624Z"
   },
   {
    "duration": 3,
    "start_time": "2023-06-09T19:11:18.555Z"
   },
   {
    "duration": 859,
    "start_time": "2023-06-09T19:11:18.560Z"
   },
   {
    "duration": 82,
    "start_time": "2023-06-09T19:11:19.423Z"
   },
   {
    "duration": 365,
    "start_time": "2023-06-09T19:11:19.507Z"
   },
   {
    "duration": 378,
    "start_time": "2023-06-09T19:11:19.873Z"
   },
   {
    "duration": 2,
    "start_time": "2023-06-09T19:11:20.253Z"
   },
   {
    "duration": 114,
    "start_time": "2023-06-09T19:11:20.257Z"
   },
   {
    "duration": 128,
    "start_time": "2023-06-09T19:11:23.490Z"
   },
   {
    "duration": 27,
    "start_time": "2023-06-09T19:11:53.203Z"
   },
   {
    "duration": 25,
    "start_time": "2023-06-09T19:12:07.427Z"
   },
   {
    "duration": 671,
    "start_time": "2023-06-09T19:12:30.531Z"
   },
   {
    "duration": 176,
    "start_time": "2023-06-09T19:12:42.959Z"
   },
   {
    "duration": 169,
    "start_time": "2023-06-09T19:13:20.460Z"
   },
   {
    "duration": 19,
    "start_time": "2023-06-09T19:13:59.670Z"
   },
   {
    "duration": 16,
    "start_time": "2023-06-09T19:14:34.596Z"
   },
   {
    "duration": 15,
    "start_time": "2023-06-09T19:14:46.609Z"
   },
   {
    "duration": 20,
    "start_time": "2023-06-09T19:22:15.372Z"
   },
   {
    "duration": 7,
    "start_time": "2023-06-09T19:23:11.564Z"
   },
   {
    "duration": 6,
    "start_time": "2023-06-09T19:23:19.546Z"
   },
   {
    "duration": 4,
    "start_time": "2023-06-09T19:23:43.371Z"
   },
   {
    "duration": 15,
    "start_time": "2023-06-09T19:23:52.719Z"
   },
   {
    "duration": 23,
    "start_time": "2023-06-09T19:23:58.822Z"
   },
   {
    "duration": 204,
    "start_time": "2023-06-09T19:24:00.974Z"
   },
   {
    "duration": 16,
    "start_time": "2023-06-09T19:24:03.163Z"
   },
   {
    "duration": 65,
    "start_time": "2023-06-09T19:24:04.604Z"
   },
   {
    "duration": 20,
    "start_time": "2023-06-09T19:24:05.399Z"
   },
   {
    "duration": 118,
    "start_time": "2023-06-09T19:24:09.625Z"
   },
   {
    "duration": 295,
    "start_time": "2023-06-09T19:24:19.938Z"
   },
   {
    "duration": 172,
    "start_time": "2023-06-09T19:24:44.367Z"
   },
   {
    "duration": 179,
    "start_time": "2023-06-09T19:25:01.052Z"
   },
   {
    "duration": 154,
    "start_time": "2023-06-09T19:25:12.608Z"
   },
   {
    "duration": 175,
    "start_time": "2023-06-09T19:25:38.422Z"
   },
   {
    "duration": 219,
    "start_time": "2023-06-09T19:25:54.723Z"
   },
   {
    "duration": 214,
    "start_time": "2023-06-09T19:26:13.374Z"
   },
   {
    "duration": 29,
    "start_time": "2023-06-09T19:26:50.582Z"
   },
   {
    "duration": 28,
    "start_time": "2023-06-09T19:27:02.417Z"
   },
   {
    "duration": 28,
    "start_time": "2023-06-09T19:27:10.037Z"
   },
   {
    "duration": 37,
    "start_time": "2023-06-09T19:27:15.858Z"
   },
   {
    "duration": 25,
    "start_time": "2023-06-09T19:27:19.548Z"
   },
   {
    "duration": 228,
    "start_time": "2023-06-09T19:28:27.508Z"
   },
   {
    "duration": 283,
    "start_time": "2023-06-09T19:28:44.017Z"
   },
   {
    "duration": 252,
    "start_time": "2023-06-09T19:29:01.942Z"
   },
   {
    "duration": 235,
    "start_time": "2023-06-09T19:29:07.472Z"
   },
   {
    "duration": 235,
    "start_time": "2023-06-09T19:31:07.193Z"
   },
   {
    "duration": 259,
    "start_time": "2023-06-09T19:31:21.575Z"
   },
   {
    "duration": 286,
    "start_time": "2023-06-09T19:31:38.774Z"
   },
   {
    "duration": 46,
    "start_time": "2023-06-09T19:31:53.385Z"
   },
   {
    "duration": 292,
    "start_time": "2023-06-09T19:31:56.153Z"
   },
   {
    "duration": 419,
    "start_time": "2023-06-09T19:33:17.935Z"
   },
   {
    "duration": 335,
    "start_time": "2023-06-09T19:33:34.024Z"
   },
   {
    "duration": 314,
    "start_time": "2023-06-09T19:34:13.533Z"
   },
   {
    "duration": 310,
    "start_time": "2023-06-09T19:34:18.515Z"
   },
   {
    "duration": 273,
    "start_time": "2023-06-09T19:37:05.068Z"
   },
   {
    "duration": 291,
    "start_time": "2023-06-09T19:37:54.221Z"
   },
   {
    "duration": 326,
    "start_time": "2023-06-09T19:38:24.939Z"
   },
   {
    "duration": 296,
    "start_time": "2023-06-09T19:41:06.492Z"
   },
   {
    "duration": 320,
    "start_time": "2023-06-09T19:41:58.817Z"
   },
   {
    "duration": 347,
    "start_time": "2023-06-09T19:42:17.254Z"
   },
   {
    "duration": 362,
    "start_time": "2023-06-09T19:42:44.831Z"
   },
   {
    "duration": 336,
    "start_time": "2023-06-09T19:42:52.265Z"
   },
   {
    "duration": 315,
    "start_time": "2023-06-09T19:43:04.947Z"
   },
   {
    "duration": 316,
    "start_time": "2023-06-09T19:43:12.027Z"
   },
   {
    "duration": 516,
    "start_time": "2023-06-09T19:43:15.610Z"
   },
   {
    "duration": 29,
    "start_time": "2023-06-09T19:44:11.239Z"
   },
   {
    "duration": 331,
    "start_time": "2023-06-09T19:44:27.464Z"
   },
   {
    "duration": 347,
    "start_time": "2023-06-09T19:44:58.390Z"
   },
   {
    "duration": 159,
    "start_time": "2023-06-09T19:48:30.701Z"
   },
   {
    "duration": 8,
    "start_time": "2023-06-09T19:48:52.135Z"
   },
   {
    "duration": 18,
    "start_time": "2023-06-09T19:50:10.188Z"
   },
   {
    "duration": 18,
    "start_time": "2023-06-09T19:50:18.101Z"
   },
   {
    "duration": 31,
    "start_time": "2023-06-09T19:51:57.788Z"
   },
   {
    "duration": 29,
    "start_time": "2023-06-09T19:52:06.585Z"
   },
   {
    "duration": 26,
    "start_time": "2023-06-09T19:52:14.892Z"
   },
   {
    "duration": 740,
    "start_time": "2023-06-09T19:53:16.454Z"
   },
   {
    "duration": 204,
    "start_time": "2023-06-09T19:53:25.497Z"
   },
   {
    "duration": 188,
    "start_time": "2023-06-09T19:53:45.088Z"
   },
   {
    "duration": 28,
    "start_time": "2023-06-09T19:54:06.065Z"
   },
   {
    "duration": 28,
    "start_time": "2023-06-09T19:55:53.889Z"
   },
   {
    "duration": 3,
    "start_time": "2023-06-09T19:56:15.205Z"
   },
   {
    "duration": 842,
    "start_time": "2023-06-09T19:56:15.210Z"
   },
   {
    "duration": 72,
    "start_time": "2023-06-09T19:56:16.054Z"
   },
   {
    "duration": 377,
    "start_time": "2023-06-09T19:56:16.128Z"
   },
   {
    "duration": 362,
    "start_time": "2023-06-09T19:56:16.508Z"
   },
   {
    "duration": 7,
    "start_time": "2023-06-09T19:56:16.871Z"
   },
   {
    "duration": 115,
    "start_time": "2023-06-09T19:56:16.879Z"
   },
   {
    "duration": 27,
    "start_time": "2023-06-09T19:56:16.995Z"
   },
   {
    "duration": 3,
    "start_time": "2023-06-09T19:56:17.024Z"
   },
   {
    "duration": 17,
    "start_time": "2023-06-09T19:56:17.029Z"
   },
   {
    "duration": 17,
    "start_time": "2023-06-09T19:56:19.009Z"
   },
   {
    "duration": 21,
    "start_time": "2023-06-09T19:56:20.876Z"
   },
   {
    "duration": 21,
    "start_time": "2023-06-09T19:56:25.723Z"
   },
   {
    "duration": 17,
    "start_time": "2023-06-09T19:56:29.271Z"
   },
   {
    "duration": 11,
    "start_time": "2023-06-09T19:56:40.553Z"
   },
   {
    "duration": 54,
    "start_time": "2023-06-09T19:57:34.372Z"
   },
   {
    "duration": 1824,
    "start_time": "2023-06-09T19:59:27.722Z"
   },
   {
    "duration": 926,
    "start_time": "2023-06-09T19:59:29.548Z"
   },
   {
    "duration": 137,
    "start_time": "2023-06-09T19:59:30.479Z"
   },
   {
    "duration": 367,
    "start_time": "2023-06-09T19:59:30.619Z"
   },
   {
    "duration": 352,
    "start_time": "2023-06-09T19:59:30.988Z"
   },
   {
    "duration": 2,
    "start_time": "2023-06-09T19:59:31.342Z"
   },
   {
    "duration": 115,
    "start_time": "2023-06-09T19:59:31.346Z"
   },
   {
    "duration": 40,
    "start_time": "2023-06-09T19:59:31.463Z"
   },
   {
    "duration": 5,
    "start_time": "2023-06-09T19:59:31.505Z"
   },
   {
    "duration": 37,
    "start_time": "2023-06-09T19:59:31.512Z"
   },
   {
    "duration": 10,
    "start_time": "2023-06-09T19:59:31.551Z"
   },
   {
    "duration": 39,
    "start_time": "2023-06-09T19:59:31.562Z"
   },
   {
    "duration": 57,
    "start_time": "2023-06-09T19:59:31.603Z"
   },
   {
    "duration": 32,
    "start_time": "2023-06-09T19:59:31.661Z"
   },
   {
    "duration": 320,
    "start_time": "2023-06-09T19:59:31.695Z"
   },
   {
    "duration": 14,
    "start_time": "2023-06-09T19:59:32.017Z"
   },
   {
    "duration": 83,
    "start_time": "2023-06-09T19:59:32.032Z"
   },
   {
    "duration": 18,
    "start_time": "2023-06-09T19:59:32.117Z"
   },
   {
    "duration": 122,
    "start_time": "2023-06-09T19:59:32.137Z"
   },
   {
    "duration": 334,
    "start_time": "2023-06-09T19:59:32.261Z"
   },
   {
    "duration": 324,
    "start_time": "2023-06-09T19:59:32.597Z"
   },
   {
    "duration": 27,
    "start_time": "2023-06-09T19:59:32.922Z"
   },
   {
    "duration": 340,
    "start_time": "2023-06-09T19:59:32.951Z"
   },
   {
    "duration": 160,
    "start_time": "2023-06-09T20:00:48.307Z"
   },
   {
    "duration": 263,
    "start_time": "2023-06-09T20:01:14.725Z"
   },
   {
    "duration": 396,
    "start_time": "2023-06-09T20:02:01.536Z"
   },
   {
    "duration": 559,
    "start_time": "2023-06-09T20:02:22.709Z"
   },
   {
    "duration": 548,
    "start_time": "2023-06-09T20:02:45.688Z"
   },
   {
    "duration": 711,
    "start_time": "2023-06-09T20:03:13.432Z"
   },
   {
    "duration": 630,
    "start_time": "2023-06-09T20:03:50.903Z"
   },
   {
    "duration": 839,
    "start_time": "2023-06-09T20:03:55.810Z"
   },
   {
    "duration": 584,
    "start_time": "2023-06-09T20:07:01.825Z"
   },
   {
    "duration": 651,
    "start_time": "2023-06-09T20:07:07.682Z"
   },
   {
    "duration": 695,
    "start_time": "2023-06-09T20:07:44.273Z"
   },
   {
    "duration": 5,
    "start_time": "2023-06-09T20:08:16.312Z"
   },
   {
    "duration": 176,
    "start_time": "2023-06-09T20:08:32.026Z"
   },
   {
    "duration": 16,
    "start_time": "2023-06-09T20:08:49.623Z"
   },
   {
    "duration": 10,
    "start_time": "2023-06-09T20:09:32.062Z"
   },
   {
    "duration": 9,
    "start_time": "2023-06-09T20:09:37.295Z"
   },
   {
    "duration": 10,
    "start_time": "2023-06-09T20:09:44.122Z"
   },
   {
    "duration": 9,
    "start_time": "2023-06-09T20:09:52.287Z"
   },
   {
    "duration": 17,
    "start_time": "2023-06-09T20:10:20.557Z"
   },
   {
    "duration": 559,
    "start_time": "2023-06-09T20:11:03.737Z"
   },
   {
    "duration": 150,
    "start_time": "2023-06-09T20:11:12.145Z"
   },
   {
    "duration": 204,
    "start_time": "2023-06-09T20:11:23.991Z"
   },
   {
    "duration": 177,
    "start_time": "2023-06-09T20:12:16.873Z"
   },
   {
    "duration": 155,
    "start_time": "2023-06-09T20:12:21.069Z"
   },
   {
    "duration": 157,
    "start_time": "2023-06-09T20:12:28.475Z"
   },
   {
    "duration": 187,
    "start_time": "2023-06-09T20:13:08.542Z"
   },
   {
    "duration": 6,
    "start_time": "2023-06-09T20:14:55.890Z"
   },
   {
    "duration": 17,
    "start_time": "2023-06-09T20:15:03.982Z"
   },
   {
    "duration": 6,
    "start_time": "2023-06-09T20:16:30.543Z"
   },
   {
    "duration": 9,
    "start_time": "2023-06-09T20:16:41.204Z"
   },
   {
    "duration": 11,
    "start_time": "2023-06-09T20:17:06.121Z"
   },
   {
    "duration": 3,
    "start_time": "2023-06-09T20:17:15.149Z"
   },
   {
    "duration": 979,
    "start_time": "2023-06-09T20:17:15.154Z"
   },
   {
    "duration": 68,
    "start_time": "2023-06-09T20:17:16.135Z"
   },
   {
    "duration": 380,
    "start_time": "2023-06-09T20:17:16.205Z"
   },
   {
    "duration": 363,
    "start_time": "2023-06-09T20:17:16.588Z"
   },
   {
    "duration": 2,
    "start_time": "2023-06-09T20:17:16.953Z"
   },
   {
    "duration": 107,
    "start_time": "2023-06-09T20:17:16.957Z"
   },
   {
    "duration": 36,
    "start_time": "2023-06-09T20:17:17.066Z"
   },
   {
    "duration": 4,
    "start_time": "2023-06-09T20:17:17.104Z"
   },
   {
    "duration": 43,
    "start_time": "2023-06-09T20:17:17.110Z"
   },
   {
    "duration": 10,
    "start_time": "2023-06-09T20:17:17.155Z"
   },
   {
    "duration": 27,
    "start_time": "2023-06-09T20:17:17.166Z"
   },
   {
    "duration": 39,
    "start_time": "2023-06-09T20:17:17.194Z"
   },
   {
    "duration": 25,
    "start_time": "2023-06-09T20:17:17.236Z"
   },
   {
    "duration": 72,
    "start_time": "2023-06-09T20:17:17.263Z"
   },
   {
    "duration": 19,
    "start_time": "2023-06-09T20:17:17.337Z"
   },
   {
    "duration": 141,
    "start_time": "2023-06-09T20:17:17.357Z"
   },
   {
    "duration": 357,
    "start_time": "2023-06-09T20:17:17.500Z"
   },
   {
    "duration": 350,
    "start_time": "2023-06-09T20:17:17.859Z"
   },
   {
    "duration": 30,
    "start_time": "2023-06-09T20:17:18.211Z"
   },
   {
    "duration": 393,
    "start_time": "2023-06-09T20:17:18.244Z"
   },
   {
    "duration": 17,
    "start_time": "2023-06-09T20:17:18.639Z"
   },
   {
    "duration": 6,
    "start_time": "2023-06-09T20:17:18.658Z"
   },
   {
    "duration": 57,
    "start_time": "2023-06-09T20:17:18.678Z"
   },
   {
    "duration": 1917,
    "start_time": "2023-06-09T20:17:28.056Z"
   },
   {
    "duration": 1033,
    "start_time": "2023-06-09T20:17:29.975Z"
   },
   {
    "duration": 133,
    "start_time": "2023-06-09T20:17:31.010Z"
   },
   {
    "duration": 385,
    "start_time": "2023-06-09T20:17:31.146Z"
   },
   {
    "duration": 381,
    "start_time": "2023-06-09T20:17:31.533Z"
   },
   {
    "duration": 2,
    "start_time": "2023-06-09T20:17:31.916Z"
   },
   {
    "duration": 127,
    "start_time": "2023-06-09T20:17:31.920Z"
   },
   {
    "duration": 42,
    "start_time": "2023-06-09T20:17:32.049Z"
   },
   {
    "duration": 5,
    "start_time": "2023-06-09T20:17:32.093Z"
   },
   {
    "duration": 20,
    "start_time": "2023-06-09T20:17:32.101Z"
   },
   {
    "duration": 9,
    "start_time": "2023-06-09T20:17:32.123Z"
   },
   {
    "duration": 21,
    "start_time": "2023-06-09T20:17:32.133Z"
   },
   {
    "duration": 74,
    "start_time": "2023-06-09T20:17:32.155Z"
   },
   {
    "duration": 24,
    "start_time": "2023-06-09T20:17:32.231Z"
   },
   {
    "duration": 104,
    "start_time": "2023-06-09T20:17:32.258Z"
   },
   {
    "duration": 33,
    "start_time": "2023-06-09T20:17:32.364Z"
   },
   {
    "duration": 127,
    "start_time": "2023-06-09T20:17:32.399Z"
   },
   {
    "duration": 445,
    "start_time": "2023-06-09T20:17:32.528Z"
   },
   {
    "duration": 329,
    "start_time": "2023-06-09T20:17:32.975Z"
   },
   {
    "duration": 33,
    "start_time": "2023-06-09T20:17:33.306Z"
   },
   {
    "duration": 366,
    "start_time": "2023-06-09T20:17:33.341Z"
   },
   {
    "duration": 17,
    "start_time": "2023-06-09T20:17:33.709Z"
   },
   {
    "duration": 8,
    "start_time": "2023-06-09T20:17:33.727Z"
   },
   {
    "duration": 90,
    "start_time": "2023-06-09T20:17:33.736Z"
   },
   {
    "duration": 673,
    "start_time": "2023-06-09T20:17:33.828Z"
   },
   {
    "duration": 690,
    "start_time": "2023-06-09T20:17:34.503Z"
   },
   {
    "duration": 17,
    "start_time": "2023-06-09T20:18:37.076Z"
   },
   {
    "duration": 172,
    "start_time": "2023-06-09T20:19:04.220Z"
   },
   {
    "duration": 372,
    "start_time": "2023-06-09T20:19:28.142Z"
   },
   {
    "duration": 167,
    "start_time": "2023-06-09T20:19:32.197Z"
   },
   {
    "duration": 1823,
    "start_time": "2023-06-09T20:19:39.706Z"
   },
   {
    "duration": 1021,
    "start_time": "2023-06-09T20:19:41.532Z"
   },
   {
    "duration": 143,
    "start_time": "2023-06-09T20:19:42.555Z"
   },
   {
    "duration": 359,
    "start_time": "2023-06-09T20:19:42.700Z"
   },
   {
    "duration": 364,
    "start_time": "2023-06-09T20:19:43.061Z"
   },
   {
    "duration": 3,
    "start_time": "2023-06-09T20:19:43.427Z"
   },
   {
    "duration": 114,
    "start_time": "2023-06-09T20:19:43.431Z"
   },
   {
    "duration": 51,
    "start_time": "2023-06-09T20:19:43.547Z"
   },
   {
    "duration": 4,
    "start_time": "2023-06-09T20:19:43.600Z"
   },
   {
    "duration": 22,
    "start_time": "2023-06-09T20:19:43.606Z"
   },
   {
    "duration": 10,
    "start_time": "2023-06-09T20:19:43.630Z"
   },
   {
    "duration": 26,
    "start_time": "2023-06-09T20:19:43.642Z"
   },
   {
    "duration": 52,
    "start_time": "2023-06-09T20:19:43.670Z"
   },
   {
    "duration": 24,
    "start_time": "2023-06-09T20:19:43.724Z"
   },
   {
    "duration": 74,
    "start_time": "2023-06-09T20:19:43.749Z"
   },
   {
    "duration": 19,
    "start_time": "2023-06-09T20:19:43.825Z"
   },
   {
    "duration": 213,
    "start_time": "2023-06-09T20:19:43.845Z"
   },
   {
    "duration": 510,
    "start_time": "2023-06-09T20:19:44.060Z"
   },
   {
    "duration": 341,
    "start_time": "2023-06-09T20:19:44.571Z"
   },
   {
    "duration": 33,
    "start_time": "2023-06-09T20:19:44.914Z"
   },
   {
    "duration": 349,
    "start_time": "2023-06-09T20:19:44.949Z"
   },
   {
    "duration": 16,
    "start_time": "2023-06-09T20:19:45.299Z"
   },
   {
    "duration": 214,
    "start_time": "2023-06-09T20:19:45.317Z"
   },
   {
    "duration": 13,
    "start_time": "2023-06-09T20:19:45.532Z"
   },
   {
    "duration": 645,
    "start_time": "2023-06-09T20:19:45.548Z"
   },
   {
    "duration": 694,
    "start_time": "2023-06-09T20:19:46.194Z"
   },
   {
    "duration": 9,
    "start_time": "2023-06-09T20:21:06.807Z"
   },
   {
    "duration": 754,
    "start_time": "2023-06-09T20:21:17.704Z"
   },
   {
    "duration": 50,
    "start_time": "2023-06-09T20:23:21.115Z"
   },
   {
    "duration": 590,
    "start_time": "2023-06-09T20:23:22.265Z"
   },
   {
    "duration": 39,
    "start_time": "2023-06-09T20:23:34.545Z"
   },
   {
    "duration": 580,
    "start_time": "2023-06-09T20:23:35.228Z"
   },
   {
    "duration": 39,
    "start_time": "2023-06-09T20:23:41.060Z"
   },
   {
    "duration": 733,
    "start_time": "2023-06-09T20:23:41.495Z"
   },
   {
    "duration": 32,
    "start_time": "2023-06-09T20:24:39.018Z"
   },
   {
    "duration": 27,
    "start_time": "2023-06-09T20:24:54.783Z"
   },
   {
    "duration": 47,
    "start_time": "2023-06-09T20:25:50.995Z"
   },
   {
    "duration": 50,
    "start_time": "2023-06-09T20:26:13.865Z"
   },
   {
    "duration": 72,
    "start_time": "2023-06-09T20:35:42.235Z"
   },
   {
    "duration": 52,
    "start_time": "2023-06-09T20:35:50.588Z"
   },
   {
    "duration": 40,
    "start_time": "2023-06-09T20:35:57.519Z"
   },
   {
    "duration": 450,
    "start_time": "2023-06-09T20:40:03.572Z"
   },
   {
    "duration": 408,
    "start_time": "2023-06-09T20:40:14.717Z"
   },
   {
    "duration": 389,
    "start_time": "2023-06-09T20:40:31.620Z"
   },
   {
    "duration": 1852,
    "start_time": "2023-06-09T20:41:02.873Z"
   },
   {
    "duration": 905,
    "start_time": "2023-06-09T20:41:04.727Z"
   },
   {
    "duration": 134,
    "start_time": "2023-06-09T20:41:05.633Z"
   },
   {
    "duration": 335,
    "start_time": "2023-06-09T20:41:05.774Z"
   },
   {
    "duration": 361,
    "start_time": "2023-06-09T20:41:06.111Z"
   },
   {
    "duration": 3,
    "start_time": "2023-06-09T20:41:06.475Z"
   },
   {
    "duration": 99,
    "start_time": "2023-06-09T20:41:06.479Z"
   },
   {
    "duration": 36,
    "start_time": "2023-06-09T20:41:06.580Z"
   },
   {
    "duration": 3,
    "start_time": "2023-06-09T20:41:06.618Z"
   },
   {
    "duration": 42,
    "start_time": "2023-06-09T20:41:06.623Z"
   },
   {
    "duration": 15,
    "start_time": "2023-06-09T20:41:06.667Z"
   },
   {
    "duration": 25,
    "start_time": "2023-06-09T20:41:06.684Z"
   },
   {
    "duration": 58,
    "start_time": "2023-06-09T20:41:06.711Z"
   },
   {
    "duration": 24,
    "start_time": "2023-06-09T20:41:06.771Z"
   },
   {
    "duration": 84,
    "start_time": "2023-06-09T20:41:06.796Z"
   },
   {
    "duration": 18,
    "start_time": "2023-06-09T20:41:06.882Z"
   },
   {
    "duration": 121,
    "start_time": "2023-06-09T20:41:06.902Z"
   },
   {
    "duration": 442,
    "start_time": "2023-06-09T20:41:07.024Z"
   },
   {
    "duration": 319,
    "start_time": "2023-06-09T20:41:07.468Z"
   },
   {
    "duration": 32,
    "start_time": "2023-06-09T20:41:07.790Z"
   },
   {
    "duration": 343,
    "start_time": "2023-06-09T20:41:07.825Z"
   },
   {
    "duration": 19,
    "start_time": "2023-06-09T20:41:08.170Z"
   },
   {
    "duration": 105,
    "start_time": "2023-06-09T20:41:08.191Z"
   },
   {
    "duration": 484,
    "start_time": "2023-06-09T20:41:08.298Z"
   },
   {
    "duration": 546,
    "start_time": "2023-06-09T20:41:08.784Z"
   },
   {
    "duration": 720,
    "start_time": "2023-06-09T20:41:09.332Z"
   },
   {
    "duration": 18,
    "start_time": "2023-06-09T20:42:04.388Z"
   },
   {
    "duration": 1819,
    "start_time": "2023-06-09T20:42:12.739Z"
   },
   {
    "duration": 961,
    "start_time": "2023-06-09T20:42:14.560Z"
   },
   {
    "duration": 135,
    "start_time": "2023-06-09T20:42:15.523Z"
   },
   {
    "duration": 365,
    "start_time": "2023-06-09T20:42:15.660Z"
   },
   {
    "duration": 371,
    "start_time": "2023-06-09T20:42:16.026Z"
   },
   {
    "duration": 3,
    "start_time": "2023-06-09T20:42:16.399Z"
   },
   {
    "duration": 108,
    "start_time": "2023-06-09T20:42:16.403Z"
   },
   {
    "duration": 36,
    "start_time": "2023-06-09T20:42:16.512Z"
   },
   {
    "duration": 4,
    "start_time": "2023-06-09T20:42:16.550Z"
   },
   {
    "duration": 33,
    "start_time": "2023-06-09T20:42:16.557Z"
   },
   {
    "duration": 10,
    "start_time": "2023-06-09T20:42:16.592Z"
   },
   {
    "duration": 16,
    "start_time": "2023-06-09T20:42:16.603Z"
   },
   {
    "duration": 72,
    "start_time": "2023-06-09T20:42:16.620Z"
   },
   {
    "duration": 23,
    "start_time": "2023-06-09T20:42:16.693Z"
   },
   {
    "duration": 81,
    "start_time": "2023-06-09T20:42:16.718Z"
   },
   {
    "duration": 18,
    "start_time": "2023-06-09T20:42:16.801Z"
   },
   {
    "duration": 115,
    "start_time": "2023-06-09T20:42:16.820Z"
   },
   {
    "duration": 450,
    "start_time": "2023-06-09T20:42:16.937Z"
   },
   {
    "duration": 337,
    "start_time": "2023-06-09T20:42:17.389Z"
   },
   {
    "duration": 31,
    "start_time": "2023-06-09T20:42:17.727Z"
   },
   {
    "duration": 336,
    "start_time": "2023-06-09T20:42:17.760Z"
   },
   {
    "duration": 17,
    "start_time": "2023-06-09T20:42:18.097Z"
   },
   {
    "duration": 100,
    "start_time": "2023-06-09T20:42:18.115Z"
   },
   {
    "duration": 20,
    "start_time": "2023-06-09T20:42:18.217Z"
   },
   {
    "duration": 584,
    "start_time": "2023-06-09T20:42:18.239Z"
   },
   {
    "duration": 618,
    "start_time": "2023-06-09T20:42:18.825Z"
   },
   {
    "duration": 638,
    "start_time": "2023-06-09T20:42:50.304Z"
   },
   {
    "duration": 29,
    "start_time": "2023-06-09T20:44:17.547Z"
   },
   {
    "duration": 476,
    "start_time": "2023-06-09T20:45:16.191Z"
   },
   {
    "duration": 382,
    "start_time": "2023-06-09T20:45:44.288Z"
   },
   {
    "duration": 28,
    "start_time": "2023-06-09T20:45:46.000Z"
   },
   {
    "duration": 234,
    "start_time": "2023-06-09T20:46:14.076Z"
   },
   {
    "duration": 22,
    "start_time": "2023-06-09T20:46:17.606Z"
   },
   {
    "duration": 27,
    "start_time": "2023-06-09T20:46:34.217Z"
   },
   {
    "duration": 26,
    "start_time": "2023-06-09T20:46:49.988Z"
   },
   {
    "duration": 27,
    "start_time": "2023-06-09T20:46:57.288Z"
   },
   {
    "duration": 100,
    "start_time": "2023-06-09T20:47:44.934Z"
   },
   {
    "duration": 454,
    "start_time": "2023-06-09T20:48:04.787Z"
   },
   {
    "duration": 32,
    "start_time": "2023-06-09T20:48:28.859Z"
   },
   {
    "duration": 24,
    "start_time": "2023-06-09T20:48:35.447Z"
   },
   {
    "duration": 30,
    "start_time": "2023-06-09T20:48:47.074Z"
   },
   {
    "duration": 24,
    "start_time": "2023-06-09T20:48:53.502Z"
   },
   {
    "duration": 41,
    "start_time": "2023-06-09T20:49:43.505Z"
   },
   {
    "duration": 64,
    "start_time": "2023-06-09T20:49:57.575Z"
   },
   {
    "duration": 102,
    "start_time": "2023-06-09T20:50:30.034Z"
   },
   {
    "duration": 81,
    "start_time": "2023-06-09T20:50:38.115Z"
   },
   {
    "duration": 1856,
    "start_time": "2023-06-09T20:51:01.560Z"
   },
   {
    "duration": 972,
    "start_time": "2023-06-09T20:51:03.418Z"
   },
   {
    "duration": 141,
    "start_time": "2023-06-09T20:51:04.391Z"
   },
   {
    "duration": 392,
    "start_time": "2023-06-09T20:51:04.535Z"
   },
   {
    "duration": 376,
    "start_time": "2023-06-09T20:51:04.929Z"
   },
   {
    "duration": 3,
    "start_time": "2023-06-09T20:51:05.307Z"
   },
   {
    "duration": 110,
    "start_time": "2023-06-09T20:51:05.312Z"
   },
   {
    "duration": 37,
    "start_time": "2023-06-09T20:51:05.425Z"
   },
   {
    "duration": 22,
    "start_time": "2023-06-09T20:51:05.464Z"
   },
   {
    "duration": 17,
    "start_time": "2023-06-09T20:51:05.489Z"
   },
   {
    "duration": 10,
    "start_time": "2023-06-09T20:51:05.508Z"
   },
   {
    "duration": 26,
    "start_time": "2023-06-09T20:51:05.520Z"
   },
   {
    "duration": 64,
    "start_time": "2023-06-09T20:51:05.548Z"
   },
   {
    "duration": 23,
    "start_time": "2023-06-09T20:51:05.614Z"
   },
   {
    "duration": 74,
    "start_time": "2023-06-09T20:51:05.639Z"
   },
   {
    "duration": 18,
    "start_time": "2023-06-09T20:51:05.715Z"
   },
   {
    "duration": 132,
    "start_time": "2023-06-09T20:51:05.735Z"
   },
   {
    "duration": 468,
    "start_time": "2023-06-09T20:51:05.869Z"
   },
   {
    "duration": 331,
    "start_time": "2023-06-09T20:51:06.339Z"
   },
   {
    "duration": 38,
    "start_time": "2023-06-09T20:51:06.672Z"
   },
   {
    "duration": 338,
    "start_time": "2023-06-09T20:51:06.712Z"
   },
   {
    "duration": 34,
    "start_time": "2023-06-09T20:51:07.052Z"
   },
   {
    "duration": 100,
    "start_time": "2023-06-09T20:51:07.088Z"
   },
   {
    "duration": 576,
    "start_time": "2023-06-09T20:51:07.190Z"
   },
   {
    "duration": 590,
    "start_time": "2023-06-09T20:51:07.768Z"
   },
   {
    "duration": 793,
    "start_time": "2023-06-09T20:51:08.360Z"
   },
   {
    "duration": 644,
    "start_time": "2023-06-09T20:53:32.710Z"
   },
   {
    "duration": 245,
    "start_time": "2023-06-09T20:54:24.622Z"
   },
   {
    "duration": 29,
    "start_time": "2023-06-09T20:55:42.706Z"
   },
   {
    "duration": 4,
    "start_time": "2023-06-09T20:56:18.827Z"
   },
   {
    "duration": 4,
    "start_time": "2023-06-09T20:56:38.159Z"
   },
   {
    "duration": 1769,
    "start_time": "2023-06-09T20:58:17.336Z"
   },
   {
    "duration": 929,
    "start_time": "2023-06-09T20:58:19.107Z"
   },
   {
    "duration": 144,
    "start_time": "2023-06-09T20:58:20.038Z"
   },
   {
    "duration": 347,
    "start_time": "2023-06-09T20:58:20.185Z"
   },
   {
    "duration": 366,
    "start_time": "2023-06-09T20:58:20.534Z"
   },
   {
    "duration": 3,
    "start_time": "2023-06-09T20:58:20.902Z"
   },
   {
    "duration": 101,
    "start_time": "2023-06-09T20:58:20.906Z"
   },
   {
    "duration": 36,
    "start_time": "2023-06-09T20:58:21.008Z"
   },
   {
    "duration": 3,
    "start_time": "2023-06-09T20:58:21.046Z"
   },
   {
    "duration": 37,
    "start_time": "2023-06-09T20:58:21.052Z"
   },
   {
    "duration": 11,
    "start_time": "2023-06-09T20:58:21.091Z"
   },
   {
    "duration": 16,
    "start_time": "2023-06-09T20:58:21.104Z"
   },
   {
    "duration": 70,
    "start_time": "2023-06-09T20:58:21.122Z"
   },
   {
    "duration": 22,
    "start_time": "2023-06-09T20:58:21.194Z"
   },
   {
    "duration": 72,
    "start_time": "2023-06-09T20:58:21.217Z"
   },
   {
    "duration": 19,
    "start_time": "2023-06-09T20:58:21.292Z"
   },
   {
    "duration": 121,
    "start_time": "2023-06-09T20:58:21.312Z"
   },
   {
    "duration": 435,
    "start_time": "2023-06-09T20:58:21.435Z"
   },
   {
    "duration": 338,
    "start_time": "2023-06-09T20:58:21.872Z"
   },
   {
    "duration": 30,
    "start_time": "2023-06-09T20:58:22.212Z"
   },
   {
    "duration": 346,
    "start_time": "2023-06-09T20:58:22.244Z"
   },
   {
    "duration": 17,
    "start_time": "2023-06-09T20:58:22.591Z"
   },
   {
    "duration": 99,
    "start_time": "2023-06-09T20:58:22.610Z"
   },
   {
    "duration": 561,
    "start_time": "2023-06-09T20:58:22.711Z"
   },
   {
    "duration": 552,
    "start_time": "2023-06-09T20:58:23.274Z"
   },
   {
    "duration": 782,
    "start_time": "2023-06-09T20:58:23.828Z"
   },
   {
    "duration": 224,
    "start_time": "2023-06-09T20:58:24.612Z"
   },
   {
    "duration": 40,
    "start_time": "2023-06-09T20:58:24.839Z"
   },
   {
    "duration": 4,
    "start_time": "2023-06-09T20:58:24.880Z"
   },
   {
    "duration": 2008,
    "start_time": "2023-06-09T21:01:26.063Z"
   },
   {
    "duration": 1043,
    "start_time": "2023-06-09T21:01:28.074Z"
   },
   {
    "duration": 139,
    "start_time": "2023-06-09T21:01:29.119Z"
   },
   {
    "duration": 380,
    "start_time": "2023-06-09T21:01:29.260Z"
   },
   {
    "duration": 374,
    "start_time": "2023-06-09T21:01:29.642Z"
   },
   {
    "duration": 2,
    "start_time": "2023-06-09T21:01:30.018Z"
   },
   {
    "duration": 144,
    "start_time": "2023-06-09T21:01:30.022Z"
   },
   {
    "duration": 47,
    "start_time": "2023-06-09T21:01:30.168Z"
   },
   {
    "duration": 9,
    "start_time": "2023-06-09T21:01:30.217Z"
   },
   {
    "duration": 67,
    "start_time": "2023-06-09T21:01:30.229Z"
   },
   {
    "duration": 45,
    "start_time": "2023-06-09T21:01:30.298Z"
   },
   {
    "duration": 57,
    "start_time": "2023-06-09T21:01:30.345Z"
   },
   {
    "duration": 106,
    "start_time": "2023-06-09T21:01:30.404Z"
   },
   {
    "duration": 24,
    "start_time": "2023-06-09T21:01:30.512Z"
   },
   {
    "duration": 99,
    "start_time": "2023-06-09T21:01:30.538Z"
   },
   {
    "duration": 20,
    "start_time": "2023-06-09T21:01:30.639Z"
   },
   {
    "duration": 189,
    "start_time": "2023-06-09T21:01:30.661Z"
   },
   {
    "duration": 511,
    "start_time": "2023-06-09T21:01:30.852Z"
   },
   {
    "duration": 370,
    "start_time": "2023-06-09T21:01:31.365Z"
   },
   {
    "duration": 33,
    "start_time": "2023-06-09T21:01:31.737Z"
   },
   {
    "duration": 382,
    "start_time": "2023-06-09T21:01:31.772Z"
   },
   {
    "duration": 17,
    "start_time": "2023-06-09T21:01:32.155Z"
   },
   {
    "duration": 122,
    "start_time": "2023-06-09T21:01:32.174Z"
   },
   {
    "duration": 601,
    "start_time": "2023-06-09T21:01:32.299Z"
   },
   {
    "duration": 601,
    "start_time": "2023-06-09T21:01:32.902Z"
   },
   {
    "duration": 880,
    "start_time": "2023-06-09T21:01:33.505Z"
   },
   {
    "duration": 229,
    "start_time": "2023-06-09T21:01:34.388Z"
   },
   {
    "duration": 29,
    "start_time": "2023-06-09T21:01:34.620Z"
   },
   {
    "duration": 4,
    "start_time": "2023-06-09T21:01:34.651Z"
   },
   {
    "duration": 561,
    "start_time": "2023-06-09T21:01:57.074Z"
   },
   {
    "duration": 566,
    "start_time": "2023-06-09T21:02:00.524Z"
   },
   {
    "duration": 653,
    "start_time": "2023-06-09T21:02:07.835Z"
   },
   {
    "duration": 226,
    "start_time": "2023-06-09T21:02:11.087Z"
   },
   {
    "duration": 46,
    "start_time": "2023-06-09T21:02:18.061Z"
   },
   {
    "duration": 4,
    "start_time": "2023-06-09T21:02:19.003Z"
   },
   {
    "duration": 1853,
    "start_time": "2023-06-09T21:02:35.072Z"
   },
   {
    "duration": 930,
    "start_time": "2023-06-09T21:02:36.927Z"
   },
   {
    "duration": 142,
    "start_time": "2023-06-09T21:02:37.859Z"
   },
   {
    "duration": 363,
    "start_time": "2023-06-09T21:02:38.003Z"
   },
   {
    "duration": 393,
    "start_time": "2023-06-09T21:02:38.374Z"
   },
   {
    "duration": 10,
    "start_time": "2023-06-09T21:02:38.774Z"
   },
   {
    "duration": 102,
    "start_time": "2023-06-09T21:02:38.789Z"
   },
   {
    "duration": 37,
    "start_time": "2023-06-09T21:02:38.893Z"
   },
   {
    "duration": 4,
    "start_time": "2023-06-09T21:02:38.932Z"
   },
   {
    "duration": 22,
    "start_time": "2023-06-09T21:02:38.939Z"
   },
   {
    "duration": 23,
    "start_time": "2023-06-09T21:02:38.963Z"
   },
   {
    "duration": 15,
    "start_time": "2023-06-09T21:02:38.988Z"
   },
   {
    "duration": 46,
    "start_time": "2023-06-09T21:02:39.005Z"
   },
   {
    "duration": 52,
    "start_time": "2023-06-09T21:02:39.053Z"
   },
   {
    "duration": 86,
    "start_time": "2023-06-09T21:02:39.107Z"
   },
   {
    "duration": 17,
    "start_time": "2023-06-09T21:02:39.195Z"
   },
   {
    "duration": 124,
    "start_time": "2023-06-09T21:02:39.214Z"
   },
   {
    "duration": 417,
    "start_time": "2023-06-09T21:02:39.340Z"
   },
   {
    "duration": 331,
    "start_time": "2023-06-09T21:02:39.759Z"
   },
   {
    "duration": 32,
    "start_time": "2023-06-09T21:02:40.093Z"
   },
   {
    "duration": 335,
    "start_time": "2023-06-09T21:02:40.127Z"
   },
   {
    "duration": 24,
    "start_time": "2023-06-09T21:02:40.464Z"
   },
   {
    "duration": 108,
    "start_time": "2023-06-09T21:02:40.490Z"
   },
   {
    "duration": 606,
    "start_time": "2023-06-09T21:02:40.600Z"
   },
   {
    "duration": 584,
    "start_time": "2023-06-09T21:02:41.208Z"
   },
   {
    "duration": 740,
    "start_time": "2023-06-09T21:02:41.794Z"
   },
   {
    "duration": 221,
    "start_time": "2023-06-09T21:02:42.536Z"
   },
   {
    "duration": 42,
    "start_time": "2023-06-09T21:02:42.760Z"
   },
   {
    "duration": 5,
    "start_time": "2023-06-09T21:02:42.804Z"
   },
   {
    "duration": 34,
    "start_time": "2023-06-09T21:03:20.948Z"
   },
   {
    "duration": 1860,
    "start_time": "2023-06-09T21:04:08.196Z"
   },
   {
    "duration": 1039,
    "start_time": "2023-06-09T21:04:10.059Z"
   },
   {
    "duration": 142,
    "start_time": "2023-06-09T21:04:11.100Z"
   },
   {
    "duration": 401,
    "start_time": "2023-06-09T21:04:11.245Z"
   },
   {
    "duration": 388,
    "start_time": "2023-06-09T21:04:11.648Z"
   },
   {
    "duration": 3,
    "start_time": "2023-06-09T21:04:12.038Z"
   },
   {
    "duration": 112,
    "start_time": "2023-06-09T21:04:12.042Z"
   },
   {
    "duration": 42,
    "start_time": "2023-06-09T21:04:12.155Z"
   },
   {
    "duration": 4,
    "start_time": "2023-06-09T21:04:12.198Z"
   },
   {
    "duration": 19,
    "start_time": "2023-06-09T21:04:12.204Z"
   },
   {
    "duration": 9,
    "start_time": "2023-06-09T21:04:12.225Z"
   },
   {
    "duration": 49,
    "start_time": "2023-06-09T21:04:12.236Z"
   },
   {
    "duration": 48,
    "start_time": "2023-06-09T21:04:12.290Z"
   },
   {
    "duration": 23,
    "start_time": "2023-06-09T21:04:12.341Z"
   },
   {
    "duration": 76,
    "start_time": "2023-06-09T21:04:12.366Z"
   },
   {
    "duration": 39,
    "start_time": "2023-06-09T21:04:12.444Z"
   },
   {
    "duration": 126,
    "start_time": "2023-06-09T21:04:12.489Z"
   },
   {
    "duration": 454,
    "start_time": "2023-06-09T21:04:12.618Z"
   },
   {
    "duration": 351,
    "start_time": "2023-06-09T21:04:13.074Z"
   },
   {
    "duration": 27,
    "start_time": "2023-06-09T21:04:13.427Z"
   },
   {
    "duration": 381,
    "start_time": "2023-06-09T21:04:13.456Z"
   },
   {
    "duration": 17,
    "start_time": "2023-06-09T21:04:13.839Z"
   },
   {
    "duration": 118,
    "start_time": "2023-06-09T21:04:13.858Z"
   },
   {
    "duration": 743,
    "start_time": "2023-06-09T21:04:13.980Z"
   },
   {
    "duration": 638,
    "start_time": "2023-06-09T21:04:14.725Z"
   },
   {
    "duration": 817,
    "start_time": "2023-06-09T21:04:15.365Z"
   },
   {
    "duration": 243,
    "start_time": "2023-06-09T21:04:16.190Z"
   },
   {
    "duration": 10,
    "start_time": "2023-06-09T21:04:16.435Z"
   },
   {
    "duration": 44,
    "start_time": "2023-06-09T21:04:16.446Z"
   },
   {
    "duration": 4,
    "start_time": "2023-06-09T21:04:16.492Z"
   },
   {
    "duration": 48,
    "start_time": "2023-06-09T21:05:44.658Z"
   },
   {
    "duration": 28,
    "start_time": "2023-06-09T21:05:47.915Z"
   },
   {
    "duration": 4,
    "start_time": "2023-06-09T21:05:48.554Z"
   },
   {
    "duration": 221,
    "start_time": "2023-06-09T21:05:57.288Z"
   },
   {
    "duration": 151,
    "start_time": "2023-06-09T21:06:30.736Z"
   },
   {
    "duration": 134,
    "start_time": "2023-06-09T21:06:38.092Z"
   },
   {
    "duration": 165,
    "start_time": "2023-06-09T21:07:28.479Z"
   },
   {
    "duration": 178,
    "start_time": "2023-06-09T21:08:07.144Z"
   },
   {
    "duration": 138,
    "start_time": "2023-06-09T21:08:16.832Z"
   },
   {
    "duration": 25,
    "start_time": "2023-06-09T21:08:19.018Z"
   },
   {
    "duration": 4,
    "start_time": "2023-06-09T21:08:21.669Z"
   },
   {
    "duration": 1858,
    "start_time": "2023-06-09T21:08:51.168Z"
   },
   {
    "duration": 975,
    "start_time": "2023-06-09T21:08:53.028Z"
   },
   {
    "duration": 187,
    "start_time": "2023-06-09T21:08:54.006Z"
   },
   {
    "duration": 376,
    "start_time": "2023-06-09T21:08:54.196Z"
   },
   {
    "duration": 378,
    "start_time": "2023-06-09T21:08:54.574Z"
   },
   {
    "duration": 3,
    "start_time": "2023-06-09T21:08:54.954Z"
   },
   {
    "duration": 127,
    "start_time": "2023-06-09T21:08:54.958Z"
   },
   {
    "duration": 36,
    "start_time": "2023-06-09T21:08:55.088Z"
   },
   {
    "duration": 4,
    "start_time": "2023-06-09T21:08:55.126Z"
   },
   {
    "duration": 20,
    "start_time": "2023-06-09T21:08:55.132Z"
   },
   {
    "duration": 31,
    "start_time": "2023-06-09T21:08:55.154Z"
   },
   {
    "duration": 18,
    "start_time": "2023-06-09T21:08:55.191Z"
   },
   {
    "duration": 41,
    "start_time": "2023-06-09T21:08:55.211Z"
   },
   {
    "duration": 44,
    "start_time": "2023-06-09T21:08:55.254Z"
   },
   {
    "duration": 68,
    "start_time": "2023-06-09T21:08:55.300Z"
   },
   {
    "duration": 29,
    "start_time": "2023-06-09T21:08:55.375Z"
   },
   {
    "duration": 129,
    "start_time": "2023-06-09T21:08:55.405Z"
   },
   {
    "duration": 452,
    "start_time": "2023-06-09T21:08:55.536Z"
   },
   {
    "duration": 383,
    "start_time": "2023-06-09T21:08:55.991Z"
   },
   {
    "duration": 38,
    "start_time": "2023-06-09T21:08:56.376Z"
   },
   {
    "duration": 349,
    "start_time": "2023-06-09T21:08:56.416Z"
   },
   {
    "duration": 25,
    "start_time": "2023-06-09T21:08:56.767Z"
   },
   {
    "duration": 118,
    "start_time": "2023-06-09T21:08:56.794Z"
   },
   {
    "duration": 712,
    "start_time": "2023-06-09T21:08:56.915Z"
   },
   {
    "duration": 622,
    "start_time": "2023-06-09T21:08:57.630Z"
   },
   {
    "duration": 798,
    "start_time": "2023-06-09T21:08:58.254Z"
   },
   {
    "duration": 248,
    "start_time": "2023-06-09T21:08:59.055Z"
   },
   {
    "duration": 11,
    "start_time": "2023-06-09T21:08:59.306Z"
   },
   {
    "duration": 33,
    "start_time": "2023-06-09T21:08:59.320Z"
   },
   {
    "duration": 57,
    "start_time": "2023-06-09T21:08:59.356Z"
   },
   {
    "duration": 5,
    "start_time": "2023-06-09T21:08:59.414Z"
   },
   {
    "duration": 191,
    "start_time": "2023-06-09T21:09:28.844Z"
   },
   {
    "duration": 450,
    "start_time": "2023-06-09T21:09:33.613Z"
   },
   {
    "duration": 5,
    "start_time": "2023-06-09T21:09:44.000Z"
   },
   {
    "duration": 887,
    "start_time": "2023-06-09T21:09:44.007Z"
   },
   {
    "duration": 66,
    "start_time": "2023-06-09T21:09:44.896Z"
   },
   {
    "duration": 378,
    "start_time": "2023-06-09T21:09:44.964Z"
   },
   {
    "duration": 372,
    "start_time": "2023-06-09T21:09:45.344Z"
   },
   {
    "duration": 2,
    "start_time": "2023-06-09T21:09:45.718Z"
   },
   {
    "duration": 104,
    "start_time": "2023-06-09T21:09:45.722Z"
   },
   {
    "duration": 31,
    "start_time": "2023-06-09T21:09:45.828Z"
   },
   {
    "duration": 9,
    "start_time": "2023-06-09T21:09:45.875Z"
   },
   {
    "duration": 16,
    "start_time": "2023-06-09T21:09:45.891Z"
   },
   {
    "duration": 9,
    "start_time": "2023-06-09T21:09:45.909Z"
   },
   {
    "duration": 15,
    "start_time": "2023-06-09T21:09:45.920Z"
   },
   {
    "duration": 66,
    "start_time": "2023-06-09T21:09:45.937Z"
   },
   {
    "duration": 58,
    "start_time": "2023-06-09T21:09:49.934Z"
   },
   {
    "duration": 401,
    "start_time": "2023-06-09T21:09:50.445Z"
   },
   {
    "duration": 418,
    "start_time": "2023-06-09T21:10:19.443Z"
   },
   {
    "duration": 1824,
    "start_time": "2023-06-09T21:12:11.389Z"
   },
   {
    "duration": 942,
    "start_time": "2023-06-09T21:12:13.215Z"
   },
   {
    "duration": 143,
    "start_time": "2023-06-09T21:12:14.162Z"
   },
   {
    "duration": 368,
    "start_time": "2023-06-09T21:12:14.307Z"
   },
   {
    "duration": 377,
    "start_time": "2023-06-09T21:12:14.676Z"
   },
   {
    "duration": 2,
    "start_time": "2023-06-09T21:12:15.055Z"
   },
   {
    "duration": 106,
    "start_time": "2023-06-09T21:12:15.059Z"
   },
   {
    "duration": 40,
    "start_time": "2023-06-09T21:12:15.167Z"
   },
   {
    "duration": 4,
    "start_time": "2023-06-09T21:12:15.210Z"
   },
   {
    "duration": 20,
    "start_time": "2023-06-09T21:12:15.215Z"
   },
   {
    "duration": 9,
    "start_time": "2023-06-09T21:12:15.237Z"
   },
   {
    "duration": 42,
    "start_time": "2023-06-09T21:12:15.248Z"
   },
   {
    "duration": 51,
    "start_time": "2023-06-09T21:12:15.293Z"
   },
   {
    "duration": 424,
    "start_time": "2023-06-09T21:12:15.346Z"
   },
   {
    "duration": 436,
    "start_time": "2023-06-09T21:12:15.772Z"
   },
   {
    "duration": 28,
    "start_time": "2023-06-09T21:12:16.210Z"
   },
   {
    "duration": 78,
    "start_time": "2023-06-09T21:12:16.239Z"
   },
   {
    "duration": 20,
    "start_time": "2023-06-09T21:12:16.319Z"
   },
   {
    "duration": 127,
    "start_time": "2023-06-09T21:12:16.341Z"
   },
   {
    "duration": 422,
    "start_time": "2023-06-09T21:12:16.470Z"
   },
   {
    "duration": 332,
    "start_time": "2023-06-09T21:12:16.894Z"
   },
   {
    "duration": 27,
    "start_time": "2023-06-09T21:12:17.227Z"
   },
   {
    "duration": 351,
    "start_time": "2023-06-09T21:12:17.256Z"
   },
   {
    "duration": 20,
    "start_time": "2023-06-09T21:12:17.609Z"
   },
   {
    "duration": 98,
    "start_time": "2023-06-09T21:12:17.631Z"
   },
   {
    "duration": 661,
    "start_time": "2023-06-09T21:12:17.731Z"
   },
   {
    "duration": 554,
    "start_time": "2023-06-09T21:12:18.395Z"
   },
   {
    "duration": 747,
    "start_time": "2023-06-09T21:12:18.951Z"
   },
   {
    "duration": 230,
    "start_time": "2023-06-09T21:12:19.700Z"
   },
   {
    "duration": 10,
    "start_time": "2023-06-09T21:12:19.932Z"
   },
   {
    "duration": 43,
    "start_time": "2023-06-09T21:12:19.944Z"
   },
   {
    "duration": 34,
    "start_time": "2023-06-09T21:12:19.989Z"
   },
   {
    "duration": 5,
    "start_time": "2023-06-09T21:12:20.025Z"
   },
   {
    "duration": 423,
    "start_time": "2023-06-09T21:13:16.548Z"
   },
   {
    "duration": 1939,
    "start_time": "2023-06-09T21:13:22.722Z"
   },
   {
    "duration": 998,
    "start_time": "2023-06-09T21:13:24.663Z"
   },
   {
    "duration": 142,
    "start_time": "2023-06-09T21:13:25.662Z"
   },
   {
    "duration": 359,
    "start_time": "2023-06-09T21:13:25.805Z"
   },
   {
    "duration": 397,
    "start_time": "2023-06-09T21:13:26.166Z"
   },
   {
    "duration": 2,
    "start_time": "2023-06-09T21:13:26.565Z"
   },
   {
    "duration": 117,
    "start_time": "2023-06-09T21:13:26.569Z"
   },
   {
    "duration": 36,
    "start_time": "2023-06-09T21:13:26.689Z"
   },
   {
    "duration": 3,
    "start_time": "2023-06-09T21:13:26.727Z"
   },
   {
    "duration": 15,
    "start_time": "2023-06-09T21:13:26.732Z"
   },
   {
    "duration": 9,
    "start_time": "2023-06-09T21:13:26.748Z"
   },
   {
    "duration": 42,
    "start_time": "2023-06-09T21:13:26.758Z"
   },
   {
    "duration": 49,
    "start_time": "2023-06-09T21:13:26.801Z"
   },
   {
    "duration": 455,
    "start_time": "2023-06-09T21:13:26.852Z"
   },
   {
    "duration": 481,
    "start_time": "2023-06-09T21:13:27.309Z"
   },
   {
    "duration": 24,
    "start_time": "2023-06-09T21:13:27.793Z"
   },
   {
    "duration": 69,
    "start_time": "2023-06-09T21:13:27.818Z"
   },
   {
    "duration": 21,
    "start_time": "2023-06-09T21:13:27.890Z"
   },
   {
    "duration": 130,
    "start_time": "2023-06-09T21:13:27.913Z"
   },
   {
    "duration": 494,
    "start_time": "2023-06-09T21:13:28.044Z"
   },
   {
    "duration": 355,
    "start_time": "2023-06-09T21:13:28.541Z"
   },
   {
    "duration": 27,
    "start_time": "2023-06-09T21:13:28.898Z"
   },
   {
    "duration": 347,
    "start_time": "2023-06-09T21:13:28.927Z"
   },
   {
    "duration": 17,
    "start_time": "2023-06-09T21:13:29.287Z"
   },
   {
    "duration": 110,
    "start_time": "2023-06-09T21:13:29.305Z"
   },
   {
    "duration": 706,
    "start_time": "2023-06-09T21:13:29.417Z"
   },
   {
    "duration": 600,
    "start_time": "2023-06-09T21:13:30.125Z"
   },
   {
    "duration": 806,
    "start_time": "2023-06-09T21:13:30.727Z"
   },
   {
    "duration": 225,
    "start_time": "2023-06-09T21:13:31.535Z"
   },
   {
    "duration": 29,
    "start_time": "2023-06-09T21:13:31.762Z"
   },
   {
    "duration": 44,
    "start_time": "2023-06-09T21:13:31.793Z"
   },
   {
    "duration": 47,
    "start_time": "2023-06-09T21:13:31.839Z"
   },
   {
    "duration": 5,
    "start_time": "2023-06-09T21:13:31.889Z"
   },
   {
    "duration": 47,
    "start_time": "2023-06-10T12:20:10.363Z"
   },
   {
    "duration": 0,
    "start_time": "2023-06-10T12:20:10.412Z"
   },
   {
    "duration": 0,
    "start_time": "2023-06-10T12:20:10.413Z"
   },
   {
    "duration": 0,
    "start_time": "2023-06-10T12:20:10.414Z"
   },
   {
    "duration": 0,
    "start_time": "2023-06-10T12:20:10.415Z"
   },
   {
    "duration": 0,
    "start_time": "2023-06-10T12:20:10.416Z"
   },
   {
    "duration": 0,
    "start_time": "2023-06-10T12:20:10.417Z"
   },
   {
    "duration": 0,
    "start_time": "2023-06-10T12:20:10.418Z"
   },
   {
    "duration": 0,
    "start_time": "2023-06-10T12:20:10.419Z"
   },
   {
    "duration": 0,
    "start_time": "2023-06-10T12:20:10.420Z"
   },
   {
    "duration": 0,
    "start_time": "2023-06-10T12:20:10.421Z"
   },
   {
    "duration": 0,
    "start_time": "2023-06-10T12:20:10.422Z"
   },
   {
    "duration": 0,
    "start_time": "2023-06-10T12:20:10.457Z"
   },
   {
    "duration": 0,
    "start_time": "2023-06-10T12:20:10.459Z"
   },
   {
    "duration": 0,
    "start_time": "2023-06-10T12:20:10.460Z"
   },
   {
    "duration": 0,
    "start_time": "2023-06-10T12:20:10.461Z"
   },
   {
    "duration": 0,
    "start_time": "2023-06-10T12:20:10.461Z"
   },
   {
    "duration": 0,
    "start_time": "2023-06-10T12:20:10.462Z"
   },
   {
    "duration": 0,
    "start_time": "2023-06-10T12:20:10.464Z"
   },
   {
    "duration": 0,
    "start_time": "2023-06-10T12:20:10.465Z"
   },
   {
    "duration": 0,
    "start_time": "2023-06-10T12:20:10.466Z"
   },
   {
    "duration": 0,
    "start_time": "2023-06-10T12:20:10.467Z"
   },
   {
    "duration": 0,
    "start_time": "2023-06-10T12:20:10.467Z"
   },
   {
    "duration": 0,
    "start_time": "2023-06-10T12:20:10.469Z"
   },
   {
    "duration": 0,
    "start_time": "2023-06-10T12:20:10.470Z"
   },
   {
    "duration": 0,
    "start_time": "2023-06-10T12:20:10.470Z"
   },
   {
    "duration": 0,
    "start_time": "2023-06-10T12:20:10.471Z"
   },
   {
    "duration": 0,
    "start_time": "2023-06-10T12:20:10.472Z"
   },
   {
    "duration": 0,
    "start_time": "2023-06-10T12:20:10.473Z"
   },
   {
    "duration": 0,
    "start_time": "2023-06-10T12:20:10.474Z"
   },
   {
    "duration": 8,
    "start_time": "2023-06-10T12:20:10.477Z"
   },
   {
    "duration": 0,
    "start_time": "2023-06-10T12:20:10.486Z"
   },
   {
    "duration": 0,
    "start_time": "2023-06-10T12:20:10.487Z"
   },
   {
    "duration": 54668,
    "start_time": "2023-06-10T12:20:42.010Z"
   },
   {
    "duration": 3021,
    "start_time": "2023-06-10T12:21:36.681Z"
   },
   {
    "duration": 111,
    "start_time": "2023-06-10T12:21:39.703Z"
   },
   {
    "duration": 316,
    "start_time": "2023-06-10T12:21:39.816Z"
   },
   {
    "duration": 307,
    "start_time": "2023-06-10T12:21:40.134Z"
   },
   {
    "duration": 2,
    "start_time": "2023-06-10T12:21:40.442Z"
   },
   {
    "duration": 94,
    "start_time": "2023-06-10T12:21:40.446Z"
   },
   {
    "duration": 47,
    "start_time": "2023-06-10T12:21:40.541Z"
   },
   {
    "duration": 4,
    "start_time": "2023-06-10T12:21:40.590Z"
   },
   {
    "duration": 18,
    "start_time": "2023-06-10T12:21:40.596Z"
   },
   {
    "duration": 11,
    "start_time": "2023-06-10T12:21:40.615Z"
   },
   {
    "duration": 40,
    "start_time": "2023-06-10T12:21:40.627Z"
   },
   {
    "duration": 45,
    "start_time": "2023-06-10T12:21:40.668Z"
   },
   {
    "duration": 386,
    "start_time": "2023-06-10T12:21:40.715Z"
   },
   {
    "duration": 393,
    "start_time": "2023-06-10T12:21:41.103Z"
   },
   {
    "duration": 24,
    "start_time": "2023-06-10T12:21:41.498Z"
   },
   {
    "duration": 64,
    "start_time": "2023-06-10T12:21:41.524Z"
   },
   {
    "duration": 16,
    "start_time": "2023-06-10T12:21:41.590Z"
   },
   {
    "duration": 104,
    "start_time": "2023-06-10T12:21:41.607Z"
   },
   {
    "duration": 420,
    "start_time": "2023-06-10T12:21:41.713Z"
   },
   {
    "duration": 323,
    "start_time": "2023-06-10T12:21:42.134Z"
   },
   {
    "duration": 24,
    "start_time": "2023-06-10T12:21:42.459Z"
   },
   {
    "duration": 332,
    "start_time": "2023-06-10T12:21:42.484Z"
   },
   {
    "duration": 18,
    "start_time": "2023-06-10T12:21:42.818Z"
   },
   {
    "duration": 112,
    "start_time": "2023-06-10T12:21:42.838Z"
   },
   {
    "duration": 615,
    "start_time": "2023-06-10T12:21:42.952Z"
   },
   {
    "duration": 573,
    "start_time": "2023-06-10T12:21:43.568Z"
   },
   {
    "duration": 738,
    "start_time": "2023-06-10T12:21:44.144Z"
   },
   {
    "duration": 200,
    "start_time": "2023-06-10T12:21:44.884Z"
   },
   {
    "duration": 21,
    "start_time": "2023-06-10T12:21:45.086Z"
   },
   {
    "duration": 31,
    "start_time": "2023-06-10T12:21:45.108Z"
   },
   {
    "duration": 30,
    "start_time": "2023-06-10T12:21:45.141Z"
   },
   {
    "duration": 8,
    "start_time": "2023-06-10T12:21:45.172Z"
   },
   {
    "duration": 337,
    "start_time": "2023-06-10T12:29:16.289Z"
   },
   {
    "duration": 92,
    "start_time": "2023-06-10T12:29:49.184Z"
   },
   {
    "duration": 2223,
    "start_time": "2023-06-10T12:33:28.824Z"
   },
   {
    "duration": 927,
    "start_time": "2023-06-10T12:33:31.050Z"
   },
   {
    "duration": 118,
    "start_time": "2023-06-10T12:33:31.979Z"
   },
   {
    "duration": 310,
    "start_time": "2023-06-10T12:33:32.099Z"
   },
   {
    "duration": 295,
    "start_time": "2023-06-10T12:33:32.411Z"
   },
   {
    "duration": 2,
    "start_time": "2023-06-10T12:33:32.708Z"
   },
   {
    "duration": 101,
    "start_time": "2023-06-10T12:33:32.712Z"
   },
   {
    "duration": 43,
    "start_time": "2023-06-10T12:33:32.815Z"
   },
   {
    "duration": 4,
    "start_time": "2023-06-10T12:33:32.860Z"
   },
   {
    "duration": 16,
    "start_time": "2023-06-10T12:33:32.867Z"
   },
   {
    "duration": 15,
    "start_time": "2023-06-10T12:33:32.885Z"
   },
   {
    "duration": 17,
    "start_time": "2023-06-10T12:33:32.901Z"
   },
   {
    "duration": 69,
    "start_time": "2023-06-10T12:33:32.919Z"
   },
   {
    "duration": 389,
    "start_time": "2023-06-10T12:33:32.990Z"
   },
   {
    "duration": 394,
    "start_time": "2023-06-10T12:33:33.381Z"
   },
   {
    "duration": 25,
    "start_time": "2023-06-10T12:33:33.777Z"
   },
   {
    "duration": 73,
    "start_time": "2023-06-10T12:33:33.804Z"
   },
   {
    "duration": 21,
    "start_time": "2023-06-10T12:33:33.879Z"
   },
   {
    "duration": 137,
    "start_time": "2023-06-10T12:33:33.903Z"
   },
   {
    "duration": 305,
    "start_time": "2023-06-10T12:33:34.042Z"
   },
   {
    "duration": 334,
    "start_time": "2023-06-10T12:33:34.349Z"
   },
   {
    "duration": 29,
    "start_time": "2023-06-10T12:33:34.684Z"
   },
   {
    "duration": 368,
    "start_time": "2023-06-10T12:33:34.716Z"
   },
   {
    "duration": 19,
    "start_time": "2023-06-10T12:33:35.086Z"
   },
   {
    "duration": 109,
    "start_time": "2023-06-10T12:33:35.107Z"
   },
   {
    "duration": 794,
    "start_time": "2023-06-10T12:33:35.218Z"
   },
   {
    "duration": 701,
    "start_time": "2023-06-10T12:33:36.014Z"
   },
   {
    "duration": 668,
    "start_time": "2023-06-10T12:33:36.719Z"
   },
   {
    "duration": 252,
    "start_time": "2023-06-10T12:33:37.389Z"
   },
   {
    "duration": 17,
    "start_time": "2023-06-10T12:33:37.643Z"
   },
   {
    "duration": 28,
    "start_time": "2023-06-10T12:33:37.661Z"
   },
   {
    "duration": 28,
    "start_time": "2023-06-10T12:33:37.691Z"
   },
   {
    "duration": 4,
    "start_time": "2023-06-10T12:33:37.721Z"
   },
   {
    "duration": 43,
    "start_time": "2023-06-10T12:36:52.020Z"
   },
   {
    "duration": 214,
    "start_time": "2023-06-10T12:41:36.734Z"
   },
   {
    "duration": 4,
    "start_time": "2023-06-10T12:41:55.090Z"
   },
   {
    "duration": 356,
    "start_time": "2023-06-10T12:42:01.667Z"
   },
   {
    "duration": 321,
    "start_time": "2023-06-10T12:42:12.368Z"
   },
   {
    "duration": 75,
    "start_time": "2023-06-10T12:44:24.189Z"
   },
   {
    "duration": 17,
    "start_time": "2023-06-10T13:23:22.346Z"
   },
   {
    "duration": 184,
    "start_time": "2023-06-10T13:23:44.010Z"
   },
   {
    "duration": 16,
    "start_time": "2023-06-10T13:23:50.379Z"
   },
   {
    "duration": 14,
    "start_time": "2023-06-10T13:24:52.806Z"
   },
   {
    "duration": 74,
    "start_time": "2023-06-10T13:26:59.217Z"
   },
   {
    "duration": 23,
    "start_time": "2023-06-10T13:27:08.905Z"
   },
   {
    "duration": 26,
    "start_time": "2023-06-10T13:27:14.872Z"
   },
   {
    "duration": 42,
    "start_time": "2023-06-10T13:28:03.614Z"
   },
   {
    "duration": 34,
    "start_time": "2023-06-10T13:28:15.039Z"
   },
   {
    "duration": 36,
    "start_time": "2023-06-10T13:28:43.152Z"
   },
   {
    "duration": 39,
    "start_time": "2023-06-10T13:29:01.384Z"
   },
   {
    "duration": 32,
    "start_time": "2023-06-10T13:30:39.937Z"
   },
   {
    "duration": 39,
    "start_time": "2023-06-10T13:31:50.704Z"
   },
   {
    "duration": 42,
    "start_time": "2023-06-10T13:32:29.904Z"
   },
   {
    "duration": 22,
    "start_time": "2023-06-10T13:32:34.684Z"
   },
   {
    "duration": 18,
    "start_time": "2023-06-10T13:32:55.996Z"
   },
   {
    "duration": 2065,
    "start_time": "2023-06-10T13:33:03.662Z"
   },
   {
    "duration": 863,
    "start_time": "2023-06-10T13:33:05.729Z"
   },
   {
    "duration": 115,
    "start_time": "2023-06-10T13:33:06.594Z"
   },
   {
    "duration": 323,
    "start_time": "2023-06-10T13:33:06.711Z"
   },
   {
    "duration": 299,
    "start_time": "2023-06-10T13:33:07.036Z"
   },
   {
    "duration": 2,
    "start_time": "2023-06-10T13:33:07.336Z"
   },
   {
    "duration": 122,
    "start_time": "2023-06-10T13:33:07.340Z"
   },
   {
    "duration": 34,
    "start_time": "2023-06-10T13:33:07.465Z"
   },
   {
    "duration": 3,
    "start_time": "2023-06-10T13:33:07.501Z"
   },
   {
    "duration": 23,
    "start_time": "2023-06-10T13:33:07.507Z"
   },
   {
    "duration": 26,
    "start_time": "2023-06-10T13:33:07.532Z"
   },
   {
    "duration": 16,
    "start_time": "2023-06-10T13:33:07.559Z"
   },
   {
    "duration": 43,
    "start_time": "2023-06-10T13:33:07.577Z"
   },
   {
    "duration": 405,
    "start_time": "2023-06-10T13:33:07.622Z"
   },
   {
    "duration": 384,
    "start_time": "2023-06-10T13:33:08.029Z"
   },
   {
    "duration": 24,
    "start_time": "2023-06-10T13:33:08.415Z"
   },
   {
    "duration": 60,
    "start_time": "2023-06-10T13:33:08.441Z"
   },
   {
    "duration": 17,
    "start_time": "2023-06-10T13:33:08.502Z"
   },
   {
    "duration": 111,
    "start_time": "2023-06-10T13:33:08.521Z"
   },
   {
    "duration": 299,
    "start_time": "2023-06-10T13:33:08.634Z"
   },
   {
    "duration": 331,
    "start_time": "2023-06-10T13:33:08.935Z"
   },
   {
    "duration": 25,
    "start_time": "2023-06-10T13:33:09.268Z"
   },
   {
    "duration": 327,
    "start_time": "2023-06-10T13:33:09.295Z"
   },
   {
    "duration": 19,
    "start_time": "2023-06-10T13:33:09.624Z"
   },
   {
    "duration": 113,
    "start_time": "2023-06-10T13:33:09.644Z"
   },
   {
    "duration": 793,
    "start_time": "2023-06-10T13:33:09.759Z"
   },
   {
    "duration": 555,
    "start_time": "2023-06-10T13:33:10.557Z"
   },
   {
    "duration": 614,
    "start_time": "2023-06-10T13:33:11.115Z"
   },
   {
    "duration": 191,
    "start_time": "2023-06-10T13:33:11.731Z"
   },
   {
    "duration": 20,
    "start_time": "2023-06-10T13:33:11.924Z"
   },
   {
    "duration": 35,
    "start_time": "2023-06-10T13:33:11.946Z"
   },
   {
    "duration": 36,
    "start_time": "2023-06-10T13:33:11.983Z"
   },
   {
    "duration": 5,
    "start_time": "2023-06-10T13:33:12.020Z"
   },
   {
    "duration": 365,
    "start_time": "2023-06-10T13:33:12.026Z"
   },
   {
    "duration": 48,
    "start_time": "2023-06-10T13:33:12.393Z"
   },
   {
    "duration": 52,
    "start_time": "2023-06-10T13:33:24.173Z"
   },
   {
    "duration": 174,
    "start_time": "2023-06-10T13:34:20.680Z"
   },
   {
    "duration": 2113,
    "start_time": "2023-06-10T13:34:31.526Z"
   },
   {
    "duration": 958,
    "start_time": "2023-06-10T13:34:33.641Z"
   },
   {
    "duration": 129,
    "start_time": "2023-06-10T13:34:34.600Z"
   },
   {
    "duration": 354,
    "start_time": "2023-06-10T13:34:34.731Z"
   },
   {
    "duration": 374,
    "start_time": "2023-06-10T13:34:35.088Z"
   },
   {
    "duration": 3,
    "start_time": "2023-06-10T13:34:35.465Z"
   },
   {
    "duration": 116,
    "start_time": "2023-06-10T13:34:35.470Z"
   },
   {
    "duration": 38,
    "start_time": "2023-06-10T13:34:35.588Z"
   },
   {
    "duration": 4,
    "start_time": "2023-06-10T13:34:35.628Z"
   },
   {
    "duration": 59,
    "start_time": "2023-06-10T13:34:35.634Z"
   },
   {
    "duration": 23,
    "start_time": "2023-06-10T13:34:35.695Z"
   },
   {
    "duration": 33,
    "start_time": "2023-06-10T13:34:35.720Z"
   },
   {
    "duration": 52,
    "start_time": "2023-06-10T13:34:35.755Z"
   },
   {
    "duration": 468,
    "start_time": "2023-06-10T13:34:35.811Z"
   },
   {
    "duration": 449,
    "start_time": "2023-06-10T13:34:36.281Z"
   },
   {
    "duration": 32,
    "start_time": "2023-06-10T13:34:36.732Z"
   },
   {
    "duration": 57,
    "start_time": "2023-06-10T13:34:36.766Z"
   },
   {
    "duration": 34,
    "start_time": "2023-06-10T13:34:36.825Z"
   },
   {
    "duration": 519,
    "start_time": "2023-06-10T13:34:36.861Z"
   },
   {
    "duration": 336,
    "start_time": "2023-06-10T13:34:37.382Z"
   },
   {
    "duration": 335,
    "start_time": "2023-06-10T13:34:37.720Z"
   },
   {
    "duration": 26,
    "start_time": "2023-06-10T13:34:38.058Z"
   },
   {
    "duration": 335,
    "start_time": "2023-06-10T13:34:38.086Z"
   },
   {
    "duration": 17,
    "start_time": "2023-06-10T13:34:38.423Z"
   },
   {
    "duration": 97,
    "start_time": "2023-06-10T13:34:38.442Z"
   },
   {
    "duration": 786,
    "start_time": "2023-06-10T13:34:38.542Z"
   },
   {
    "duration": 587,
    "start_time": "2023-06-10T13:34:39.330Z"
   },
   {
    "duration": 673,
    "start_time": "2023-06-10T13:34:39.919Z"
   },
   {
    "duration": 200,
    "start_time": "2023-06-10T13:34:40.594Z"
   },
   {
    "duration": 11,
    "start_time": "2023-06-10T13:34:40.796Z"
   },
   {
    "duration": 31,
    "start_time": "2023-06-10T13:34:40.809Z"
   },
   {
    "duration": 37,
    "start_time": "2023-06-10T13:34:40.842Z"
   },
   {
    "duration": 355,
    "start_time": "2023-06-10T13:34:40.882Z"
   },
   {
    "duration": 384,
    "start_time": "2023-06-10T13:34:41.239Z"
   },
   {
    "duration": 164,
    "start_time": "2023-06-10T13:34:41.625Z"
   },
   {
    "duration": 211,
    "start_time": "2023-06-10T13:34:46.329Z"
   },
   {
    "duration": 36,
    "start_time": "2023-06-10T13:35:56.653Z"
   },
   {
    "duration": 38,
    "start_time": "2023-06-10T13:36:13.848Z"
   },
   {
    "duration": 34,
    "start_time": "2023-06-10T13:36:20.098Z"
   },
   {
    "duration": 2163,
    "start_time": "2023-06-10T13:36:24.983Z"
   },
   {
    "duration": 1027,
    "start_time": "2023-06-10T13:36:27.149Z"
   },
   {
    "duration": 128,
    "start_time": "2023-06-10T13:36:28.178Z"
   },
   {
    "duration": 349,
    "start_time": "2023-06-10T13:36:28.308Z"
   },
   {
    "duration": 358,
    "start_time": "2023-06-10T13:36:28.659Z"
   },
   {
    "duration": 3,
    "start_time": "2023-06-10T13:36:29.020Z"
   },
   {
    "duration": 122,
    "start_time": "2023-06-10T13:36:29.025Z"
   },
   {
    "duration": 44,
    "start_time": "2023-06-10T13:36:29.149Z"
   },
   {
    "duration": 4,
    "start_time": "2023-06-10T13:36:29.195Z"
   },
   {
    "duration": 34,
    "start_time": "2023-06-10T13:36:29.202Z"
   },
   {
    "duration": 20,
    "start_time": "2023-06-10T13:36:29.238Z"
   },
   {
    "duration": 18,
    "start_time": "2023-06-10T13:36:29.260Z"
   },
   {
    "duration": 49,
    "start_time": "2023-06-10T13:36:29.280Z"
   },
   {
    "duration": 444,
    "start_time": "2023-06-10T13:36:29.331Z"
   },
   {
    "duration": 461,
    "start_time": "2023-06-10T13:36:29.777Z"
   },
   {
    "duration": 28,
    "start_time": "2023-06-10T13:36:30.240Z"
   },
   {
    "duration": 56,
    "start_time": "2023-06-10T13:36:30.270Z"
   },
   {
    "duration": 38,
    "start_time": "2023-06-10T13:36:30.328Z"
   },
   {
    "duration": 137,
    "start_time": "2023-06-10T13:36:30.368Z"
   },
   {
    "duration": 357,
    "start_time": "2023-06-10T13:36:30.508Z"
   },
   {
    "duration": 349,
    "start_time": "2023-06-10T13:36:30.867Z"
   },
   {
    "duration": 38,
    "start_time": "2023-06-10T13:36:31.219Z"
   },
   {
    "duration": 351,
    "start_time": "2023-06-10T13:36:31.260Z"
   },
   {
    "duration": 20,
    "start_time": "2023-06-10T13:36:31.613Z"
   },
   {
    "duration": 113,
    "start_time": "2023-06-10T13:36:31.636Z"
   },
   {
    "duration": 788,
    "start_time": "2023-06-10T13:36:31.751Z"
   },
   {
    "duration": 621,
    "start_time": "2023-06-10T13:36:32.540Z"
   },
   {
    "duration": 686,
    "start_time": "2023-06-10T13:36:33.164Z"
   },
   {
    "duration": 281,
    "start_time": "2023-06-10T13:36:33.852Z"
   },
   {
    "duration": 23,
    "start_time": "2023-06-10T13:36:34.135Z"
   },
   {
    "duration": 34,
    "start_time": "2023-06-10T13:36:34.160Z"
   },
   {
    "duration": 29,
    "start_time": "2023-06-10T13:36:34.196Z"
   },
   {
    "duration": 5,
    "start_time": "2023-06-10T13:36:34.226Z"
   },
   {
    "duration": 363,
    "start_time": "2023-06-10T13:36:34.257Z"
   },
   {
    "duration": 66,
    "start_time": "2023-06-10T13:36:34.622Z"
   },
   {
    "duration": 13,
    "start_time": "2023-06-10T13:36:41.942Z"
   },
   {
    "duration": 11,
    "start_time": "2023-06-10T13:36:47.613Z"
   },
   {
    "duration": 4,
    "start_time": "2023-06-10T13:36:53.297Z"
   },
   {
    "duration": 43,
    "start_time": "2023-06-10T13:38:28.182Z"
   },
   {
    "duration": 14,
    "start_time": "2023-06-10T13:38:41.103Z"
   },
   {
    "duration": 2141,
    "start_time": "2023-06-10T13:38:52.433Z"
   },
   {
    "duration": 904,
    "start_time": "2023-06-10T13:38:54.576Z"
   },
   {
    "duration": 123,
    "start_time": "2023-06-10T13:38:55.482Z"
   },
   {
    "duration": 312,
    "start_time": "2023-06-10T13:38:55.607Z"
   },
   {
    "duration": 318,
    "start_time": "2023-06-10T13:38:55.921Z"
   },
   {
    "duration": 3,
    "start_time": "2023-06-10T13:38:56.240Z"
   },
   {
    "duration": 113,
    "start_time": "2023-06-10T13:38:56.244Z"
   },
   {
    "duration": 36,
    "start_time": "2023-06-10T13:38:56.359Z"
   },
   {
    "duration": 4,
    "start_time": "2023-06-10T13:38:56.397Z"
   },
   {
    "duration": 19,
    "start_time": "2023-06-10T13:38:56.402Z"
   },
   {
    "duration": 9,
    "start_time": "2023-06-10T13:38:56.423Z"
   },
   {
    "duration": 38,
    "start_time": "2023-06-10T13:38:56.434Z"
   },
   {
    "duration": 47,
    "start_time": "2023-06-10T13:38:56.473Z"
   },
   {
    "duration": 420,
    "start_time": "2023-06-10T13:38:56.523Z"
   },
   {
    "duration": 403,
    "start_time": "2023-06-10T13:38:56.945Z"
   },
   {
    "duration": 26,
    "start_time": "2023-06-10T13:38:57.350Z"
   },
   {
    "duration": 50,
    "start_time": "2023-06-10T13:38:57.378Z"
   },
   {
    "duration": 30,
    "start_time": "2023-06-10T13:38:57.430Z"
   },
   {
    "duration": 105,
    "start_time": "2023-06-10T13:38:57.462Z"
   },
   {
    "duration": 345,
    "start_time": "2023-06-10T13:38:57.569Z"
   },
   {
    "duration": 345,
    "start_time": "2023-06-10T13:38:57.916Z"
   },
   {
    "duration": 26,
    "start_time": "2023-06-10T13:38:58.262Z"
   },
   {
    "duration": 364,
    "start_time": "2023-06-10T13:38:58.290Z"
   },
   {
    "duration": 19,
    "start_time": "2023-06-10T13:38:58.657Z"
   },
   {
    "duration": 97,
    "start_time": "2023-06-10T13:38:58.678Z"
   },
   {
    "duration": 771,
    "start_time": "2023-06-10T13:38:58.777Z"
   },
   {
    "duration": 537,
    "start_time": "2023-06-10T13:38:59.549Z"
   },
   {
    "duration": 624,
    "start_time": "2023-06-10T13:39:00.088Z"
   },
   {
    "duration": 191,
    "start_time": "2023-06-10T13:39:00.714Z"
   },
   {
    "duration": 11,
    "start_time": "2023-06-10T13:39:00.907Z"
   },
   {
    "duration": 76,
    "start_time": "2023-06-10T13:39:00.920Z"
   },
   {
    "duration": 36,
    "start_time": "2023-06-10T13:39:00.998Z"
   },
   {
    "duration": 4,
    "start_time": "2023-06-10T13:39:01.036Z"
   },
   {
    "duration": 373,
    "start_time": "2023-06-10T13:39:01.042Z"
   },
   {
    "duration": 56,
    "start_time": "2023-06-10T13:39:01.418Z"
   },
   {
    "duration": 28,
    "start_time": "2023-06-10T13:39:01.476Z"
   },
   {
    "duration": 78,
    "start_time": "2023-06-10T13:39:01.506Z"
   },
   {
    "duration": 12,
    "start_time": "2023-06-10T13:39:28.695Z"
   },
   {
    "duration": 34,
    "start_time": "2023-06-10T13:39:30.345Z"
   },
   {
    "duration": 2107,
    "start_time": "2023-06-10T13:39:51.635Z"
   },
   {
    "duration": 918,
    "start_time": "2023-06-10T13:39:53.744Z"
   },
   {
    "duration": 120,
    "start_time": "2023-06-10T13:39:54.664Z"
   },
   {
    "duration": 317,
    "start_time": "2023-06-10T13:39:54.785Z"
   },
   {
    "duration": 309,
    "start_time": "2023-06-10T13:39:55.105Z"
   },
   {
    "duration": 2,
    "start_time": "2023-06-10T13:39:55.416Z"
   },
   {
    "duration": 100,
    "start_time": "2023-06-10T13:39:55.420Z"
   },
   {
    "duration": 43,
    "start_time": "2023-06-10T13:39:55.522Z"
   },
   {
    "duration": 4,
    "start_time": "2023-06-10T13:39:55.567Z"
   },
   {
    "duration": 19,
    "start_time": "2023-06-10T13:39:55.573Z"
   },
   {
    "duration": 10,
    "start_time": "2023-06-10T13:39:55.594Z"
   },
   {
    "duration": 16,
    "start_time": "2023-06-10T13:39:55.605Z"
   },
   {
    "duration": 72,
    "start_time": "2023-06-10T13:39:55.623Z"
   },
   {
    "duration": 398,
    "start_time": "2023-06-10T13:39:55.698Z"
   },
   {
    "duration": 422,
    "start_time": "2023-06-10T13:39:56.097Z"
   },
   {
    "duration": 24,
    "start_time": "2023-06-10T13:39:56.521Z"
   },
   {
    "duration": 61,
    "start_time": "2023-06-10T13:39:56.547Z"
   },
   {
    "duration": 16,
    "start_time": "2023-06-10T13:39:56.610Z"
   },
   {
    "duration": 114,
    "start_time": "2023-06-10T13:39:56.627Z"
   },
   {
    "duration": 327,
    "start_time": "2023-06-10T13:39:56.742Z"
   },
   {
    "duration": 319,
    "start_time": "2023-06-10T13:39:57.071Z"
   },
   {
    "duration": 25,
    "start_time": "2023-06-10T13:39:57.392Z"
   },
   {
    "duration": 341,
    "start_time": "2023-06-10T13:39:57.420Z"
   },
   {
    "duration": 20,
    "start_time": "2023-06-10T13:39:57.764Z"
   },
   {
    "duration": 111,
    "start_time": "2023-06-10T13:39:57.786Z"
   },
   {
    "duration": 801,
    "start_time": "2023-06-10T13:39:57.900Z"
   },
   {
    "duration": 604,
    "start_time": "2023-06-10T13:39:58.703Z"
   },
   {
    "duration": 671,
    "start_time": "2023-06-10T13:39:59.309Z"
   },
   {
    "duration": 190,
    "start_time": "2023-06-10T13:39:59.981Z"
   },
   {
    "duration": 11,
    "start_time": "2023-06-10T13:40:00.172Z"
   },
   {
    "duration": 35,
    "start_time": "2023-06-10T13:40:00.184Z"
   },
   {
    "duration": 37,
    "start_time": "2023-06-10T13:40:00.221Z"
   },
   {
    "duration": 4,
    "start_time": "2023-06-10T13:40:00.260Z"
   },
   {
    "duration": 329,
    "start_time": "2023-06-10T13:40:00.265Z"
   },
   {
    "duration": 75,
    "start_time": "2023-06-10T13:40:00.596Z"
   },
   {
    "duration": 55,
    "start_time": "2023-06-10T13:43:47.396Z"
   },
   {
    "duration": 4,
    "start_time": "2023-06-10T13:44:54.408Z"
   },
   {
    "duration": 168,
    "start_time": "2023-06-10T13:50:32.448Z"
   },
   {
    "duration": 70,
    "start_time": "2023-06-10T13:50:59.813Z"
   },
   {
    "duration": 2268,
    "start_time": "2023-06-10T13:52:33.947Z"
   },
   {
    "duration": 1012,
    "start_time": "2023-06-10T13:52:36.218Z"
   },
   {
    "duration": 135,
    "start_time": "2023-06-10T13:52:37.232Z"
   },
   {
    "duration": 329,
    "start_time": "2023-06-10T13:52:37.370Z"
   },
   {
    "duration": 359,
    "start_time": "2023-06-10T13:52:37.701Z"
   },
   {
    "duration": 2,
    "start_time": "2023-06-10T13:52:38.062Z"
   },
   {
    "duration": 111,
    "start_time": "2023-06-10T13:52:38.066Z"
   },
   {
    "duration": 38,
    "start_time": "2023-06-10T13:52:38.178Z"
   },
   {
    "duration": 5,
    "start_time": "2023-06-10T13:52:38.219Z"
   },
   {
    "duration": 42,
    "start_time": "2023-06-10T13:52:38.228Z"
   },
   {
    "duration": 11,
    "start_time": "2023-06-10T13:52:38.271Z"
   },
   {
    "duration": 28,
    "start_time": "2023-06-10T13:52:38.283Z"
   },
   {
    "duration": 58,
    "start_time": "2023-06-10T13:52:38.313Z"
   },
   {
    "duration": 425,
    "start_time": "2023-06-10T13:52:38.373Z"
   },
   {
    "duration": 429,
    "start_time": "2023-06-10T13:52:38.801Z"
   },
   {
    "duration": 33,
    "start_time": "2023-06-10T13:52:39.232Z"
   },
   {
    "duration": 55,
    "start_time": "2023-06-10T13:52:39.267Z"
   },
   {
    "duration": 34,
    "start_time": "2023-06-10T13:52:39.324Z"
   },
   {
    "duration": 108,
    "start_time": "2023-06-10T13:52:39.360Z"
   },
   {
    "duration": 320,
    "start_time": "2023-06-10T13:52:39.470Z"
   },
   {
    "duration": 316,
    "start_time": "2023-06-10T13:52:39.792Z"
   },
   {
    "duration": 23,
    "start_time": "2023-06-10T13:52:40.110Z"
   },
   {
    "duration": 358,
    "start_time": "2023-06-10T13:52:40.135Z"
   },
   {
    "duration": 18,
    "start_time": "2023-06-10T13:52:40.495Z"
   },
   {
    "duration": 105,
    "start_time": "2023-06-10T13:52:40.515Z"
   },
   {
    "duration": 774,
    "start_time": "2023-06-10T13:52:40.622Z"
   },
   {
    "duration": 555,
    "start_time": "2023-06-10T13:52:41.398Z"
   },
   {
    "duration": 617,
    "start_time": "2023-06-10T13:52:41.958Z"
   },
   {
    "duration": 192,
    "start_time": "2023-06-10T13:52:42.577Z"
   },
   {
    "duration": 9,
    "start_time": "2023-06-10T13:52:42.771Z"
   },
   {
    "duration": 34,
    "start_time": "2023-06-10T13:52:42.782Z"
   },
   {
    "duration": 27,
    "start_time": "2023-06-10T13:52:42.818Z"
   },
   {
    "duration": 24,
    "start_time": "2023-06-10T13:52:42.856Z"
   },
   {
    "duration": 5,
    "start_time": "2023-06-10T13:52:42.882Z"
   },
   {
    "duration": 354,
    "start_time": "2023-06-10T13:52:42.888Z"
   },
   {
    "duration": 79,
    "start_time": "2023-06-10T13:52:43.244Z"
   },
   {
    "duration": 833,
    "start_time": "2023-06-10T13:52:43.325Z"
   },
   {
    "duration": 136,
    "start_time": "2023-06-10T13:53:17.370Z"
   },
   {
    "duration": 15,
    "start_time": "2023-06-10T13:53:57.058Z"
   },
   {
    "duration": 591,
    "start_time": "2023-06-10T13:54:06.875Z"
   },
   {
    "duration": 56,
    "start_time": "2023-06-10T13:54:33.664Z"
   },
   {
    "duration": 482,
    "start_time": "2023-06-10T13:55:15.798Z"
   },
   {
    "duration": 473,
    "start_time": "2023-06-10T13:55:57.241Z"
   },
   {
    "duration": 631,
    "start_time": "2023-06-10T13:58:38.694Z"
   },
   {
    "duration": 4,
    "start_time": "2023-06-10T14:04:51.741Z"
   },
   {
    "duration": 4,
    "start_time": "2023-06-10T14:05:07.388Z"
   },
   {
    "duration": 19,
    "start_time": "2023-06-10T14:06:18.566Z"
   },
   {
    "duration": 5,
    "start_time": "2023-06-10T14:06:39.095Z"
   },
   {
    "duration": 2135,
    "start_time": "2023-06-10T14:07:09.651Z"
   },
   {
    "duration": 904,
    "start_time": "2023-06-10T14:07:11.788Z"
   },
   {
    "duration": 125,
    "start_time": "2023-06-10T14:07:12.694Z"
   },
   {
    "duration": 308,
    "start_time": "2023-06-10T14:07:12.822Z"
   },
   {
    "duration": 317,
    "start_time": "2023-06-10T14:07:13.132Z"
   },
   {
    "duration": 6,
    "start_time": "2023-06-10T14:07:13.451Z"
   },
   {
    "duration": 101,
    "start_time": "2023-06-10T14:07:13.459Z"
   },
   {
    "duration": 35,
    "start_time": "2023-06-10T14:07:13.562Z"
   },
   {
    "duration": 4,
    "start_time": "2023-06-10T14:07:13.599Z"
   },
   {
    "duration": 30,
    "start_time": "2023-06-10T14:07:13.605Z"
   },
   {
    "duration": 9,
    "start_time": "2023-06-10T14:07:13.636Z"
   },
   {
    "duration": 31,
    "start_time": "2023-06-10T14:07:13.647Z"
   },
   {
    "duration": 47,
    "start_time": "2023-06-10T14:07:13.680Z"
   },
   {
    "duration": 445,
    "start_time": "2023-06-10T14:07:13.729Z"
   },
   {
    "duration": 415,
    "start_time": "2023-06-10T14:07:14.175Z"
   },
   {
    "duration": 24,
    "start_time": "2023-06-10T14:07:14.591Z"
   },
   {
    "duration": 67,
    "start_time": "2023-06-10T14:07:14.616Z"
   },
   {
    "duration": 17,
    "start_time": "2023-06-10T14:07:14.684Z"
   },
   {
    "duration": 97,
    "start_time": "2023-06-10T14:07:14.702Z"
   },
   {
    "duration": 308,
    "start_time": "2023-06-10T14:07:14.800Z"
   },
   {
    "duration": 298,
    "start_time": "2023-06-10T14:07:15.110Z"
   },
   {
    "duration": 24,
    "start_time": "2023-06-10T14:07:15.410Z"
   },
   {
    "duration": 310,
    "start_time": "2023-06-10T14:07:15.435Z"
   },
   {
    "duration": 18,
    "start_time": "2023-06-10T14:07:15.747Z"
   },
   {
    "duration": 99,
    "start_time": "2023-06-10T14:07:15.767Z"
   },
   {
    "duration": 758,
    "start_time": "2023-06-10T14:07:15.868Z"
   },
   {
    "duration": 532,
    "start_time": "2023-06-10T14:07:16.627Z"
   },
   {
    "duration": 585,
    "start_time": "2023-06-10T14:07:17.162Z"
   },
   {
    "duration": 219,
    "start_time": "2023-06-10T14:07:17.749Z"
   },
   {
    "duration": 10,
    "start_time": "2023-06-10T14:07:17.970Z"
   },
   {
    "duration": 65,
    "start_time": "2023-06-10T14:07:17.982Z"
   },
   {
    "duration": 28,
    "start_time": "2023-06-10T14:07:18.049Z"
   },
   {
    "duration": 39,
    "start_time": "2023-06-10T14:07:18.079Z"
   },
   {
    "duration": 4,
    "start_time": "2023-06-10T14:07:18.120Z"
   },
   {
    "duration": 361,
    "start_time": "2023-06-10T14:07:18.125Z"
   },
   {
    "duration": 102,
    "start_time": "2023-06-10T14:07:18.488Z"
   },
   {
    "duration": 53,
    "start_time": "2023-06-10T14:07:18.592Z"
   },
   {
    "duration": 7,
    "start_time": "2023-06-10T14:07:18.657Z"
   },
   {
    "duration": 184,
    "start_time": "2023-06-10T14:07:18.666Z"
   },
   {
    "duration": 148,
    "start_time": "2023-06-10T14:08:08.407Z"
   },
   {
    "duration": 24,
    "start_time": "2023-06-10T14:08:43.665Z"
   },
   {
    "duration": 5,
    "start_time": "2023-06-10T14:09:18.121Z"
   },
   {
    "duration": 14,
    "start_time": "2023-06-10T14:09:25.664Z"
   },
   {
    "duration": 5,
    "start_time": "2023-06-10T14:10:03.607Z"
   },
   {
    "duration": 990,
    "start_time": "2023-06-10T14:10:03.614Z"
   },
   {
    "duration": 73,
    "start_time": "2023-06-10T14:10:04.606Z"
   },
   {
    "duration": 327,
    "start_time": "2023-06-10T14:10:04.682Z"
   },
   {
    "duration": 305,
    "start_time": "2023-06-10T14:10:05.010Z"
   },
   {
    "duration": 3,
    "start_time": "2023-06-10T14:10:05.317Z"
   },
   {
    "duration": 106,
    "start_time": "2023-06-10T14:10:05.321Z"
   },
   {
    "duration": 35,
    "start_time": "2023-06-10T14:10:05.429Z"
   },
   {
    "duration": 4,
    "start_time": "2023-06-10T14:10:05.466Z"
   },
   {
    "duration": 25,
    "start_time": "2023-06-10T14:10:05.471Z"
   },
   {
    "duration": 10,
    "start_time": "2023-06-10T14:10:05.498Z"
   },
   {
    "duration": 26,
    "start_time": "2023-06-10T14:10:05.510Z"
   },
   {
    "duration": 56,
    "start_time": "2023-06-10T14:10:05.538Z"
   },
   {
    "duration": 379,
    "start_time": "2023-06-10T14:10:05.596Z"
   },
   {
    "duration": 403,
    "start_time": "2023-06-10T14:10:05.977Z"
   },
   {
    "duration": 26,
    "start_time": "2023-06-10T14:10:06.382Z"
   },
   {
    "duration": 69,
    "start_time": "2023-06-10T14:10:06.410Z"
   },
   {
    "duration": 16,
    "start_time": "2023-06-10T14:10:06.481Z"
   },
   {
    "duration": 107,
    "start_time": "2023-06-10T14:10:06.499Z"
   },
   {
    "duration": 301,
    "start_time": "2023-06-10T14:10:06.608Z"
   },
   {
    "duration": 315,
    "start_time": "2023-06-10T14:10:06.911Z"
   },
   {
    "duration": 32,
    "start_time": "2023-06-10T14:10:07.228Z"
   },
   {
    "duration": 307,
    "start_time": "2023-06-10T14:10:07.262Z"
   },
   {
    "duration": 17,
    "start_time": "2023-06-10T14:10:07.572Z"
   },
   {
    "duration": 84,
    "start_time": "2023-06-10T14:10:07.590Z"
   },
   {
    "duration": 788,
    "start_time": "2023-06-10T14:10:07.677Z"
   },
   {
    "duration": 555,
    "start_time": "2023-06-10T14:10:08.467Z"
   },
   {
    "duration": 590,
    "start_time": "2023-06-10T14:10:09.024Z"
   },
   {
    "duration": 191,
    "start_time": "2023-06-10T14:10:09.615Z"
   },
   {
    "duration": 10,
    "start_time": "2023-06-10T14:10:09.807Z"
   },
   {
    "duration": 50,
    "start_time": "2023-06-10T14:10:09.819Z"
   },
   {
    "duration": 26,
    "start_time": "2023-06-10T14:10:09.871Z"
   },
   {
    "duration": 17,
    "start_time": "2023-06-10T14:10:13.385Z"
   },
   {
    "duration": 15,
    "start_time": "2023-06-10T14:10:15.528Z"
   },
   {
    "duration": 4,
    "start_time": "2023-06-10T14:11:42.735Z"
   },
   {
    "duration": 903,
    "start_time": "2023-06-10T14:11:42.741Z"
   },
   {
    "duration": 73,
    "start_time": "2023-06-10T14:11:43.645Z"
   },
   {
    "duration": 383,
    "start_time": "2023-06-10T14:11:43.720Z"
   },
   {
    "duration": 320,
    "start_time": "2023-06-10T14:11:44.105Z"
   },
   {
    "duration": 2,
    "start_time": "2023-06-10T14:11:44.426Z"
   },
   {
    "duration": 107,
    "start_time": "2023-06-10T14:11:44.430Z"
   },
   {
    "duration": 29,
    "start_time": "2023-06-10T14:11:44.539Z"
   },
   {
    "duration": 4,
    "start_time": "2023-06-10T14:11:44.571Z"
   },
   {
    "duration": 31,
    "start_time": "2023-06-10T14:11:44.577Z"
   },
   {
    "duration": 14,
    "start_time": "2023-06-10T14:11:44.610Z"
   },
   {
    "duration": 32,
    "start_time": "2023-06-10T14:11:44.626Z"
   },
   {
    "duration": 41,
    "start_time": "2023-06-10T14:11:44.659Z"
   },
   {
    "duration": 407,
    "start_time": "2023-06-10T14:11:44.702Z"
   },
   {
    "duration": 425,
    "start_time": "2023-06-10T14:11:45.111Z"
   },
   {
    "duration": 34,
    "start_time": "2023-06-10T14:11:45.538Z"
   },
   {
    "duration": 16,
    "start_time": "2023-06-10T14:11:45.574Z"
   },
   {
    "duration": 65,
    "start_time": "2023-06-10T14:11:45.592Z"
   },
   {
    "duration": 33,
    "start_time": "2023-06-10T14:11:58.314Z"
   },
   {
    "duration": 18,
    "start_time": "2023-06-10T14:11:58.777Z"
   },
   {
    "duration": 2272,
    "start_time": "2023-06-10T14:12:34.546Z"
   },
   {
    "duration": 956,
    "start_time": "2023-06-10T14:12:36.821Z"
   },
   {
    "duration": 124,
    "start_time": "2023-06-10T14:12:37.778Z"
   },
   {
    "duration": 322,
    "start_time": "2023-06-10T14:12:37.904Z"
   },
   {
    "duration": 321,
    "start_time": "2023-06-10T14:12:38.228Z"
   },
   {
    "duration": 8,
    "start_time": "2023-06-10T14:12:38.550Z"
   },
   {
    "duration": 99,
    "start_time": "2023-06-10T14:12:38.560Z"
   },
   {
    "duration": 38,
    "start_time": "2023-06-10T14:12:38.661Z"
   },
   {
    "duration": 4,
    "start_time": "2023-06-10T14:12:38.701Z"
   },
   {
    "duration": 26,
    "start_time": "2023-06-10T14:12:38.708Z"
   },
   {
    "duration": 28,
    "start_time": "2023-06-10T14:12:38.736Z"
   },
   {
    "duration": 18,
    "start_time": "2023-06-10T14:12:38.766Z"
   },
   {
    "duration": 49,
    "start_time": "2023-06-10T14:12:38.786Z"
   },
   {
    "duration": 432,
    "start_time": "2023-06-10T14:12:38.837Z"
   },
   {
    "duration": 429,
    "start_time": "2023-06-10T14:12:39.271Z"
   },
   {
    "duration": 24,
    "start_time": "2023-06-10T14:12:39.702Z"
   },
   {
    "duration": 62,
    "start_time": "2023-06-10T14:12:39.728Z"
   },
   {
    "duration": 16,
    "start_time": "2023-06-10T14:12:39.792Z"
   },
   {
    "duration": 118,
    "start_time": "2023-06-10T14:12:39.810Z"
   },
   {
    "duration": 314,
    "start_time": "2023-06-10T14:12:39.930Z"
   },
   {
    "duration": 330,
    "start_time": "2023-06-10T14:12:40.245Z"
   },
   {
    "duration": 24,
    "start_time": "2023-06-10T14:12:40.577Z"
   },
   {
    "duration": 331,
    "start_time": "2023-06-10T14:12:40.603Z"
   },
   {
    "duration": 24,
    "start_time": "2023-06-10T14:12:40.936Z"
   },
   {
    "duration": 94,
    "start_time": "2023-06-10T14:12:40.963Z"
   },
   {
    "duration": 810,
    "start_time": "2023-06-10T14:12:41.059Z"
   },
   {
    "duration": 574,
    "start_time": "2023-06-10T14:12:41.871Z"
   },
   {
    "duration": 608,
    "start_time": "2023-06-10T14:12:42.456Z"
   },
   {
    "duration": 214,
    "start_time": "2023-06-10T14:12:43.066Z"
   },
   {
    "duration": 10,
    "start_time": "2023-06-10T14:12:43.282Z"
   },
   {
    "duration": 49,
    "start_time": "2023-06-10T14:12:43.293Z"
   },
   {
    "duration": 32,
    "start_time": "2023-06-10T14:12:43.343Z"
   },
   {
    "duration": 4,
    "start_time": "2023-06-10T14:12:43.377Z"
   },
   {
    "duration": 364,
    "start_time": "2023-06-10T14:12:43.382Z"
   },
   {
    "duration": 110,
    "start_time": "2023-06-10T14:12:43.748Z"
   },
   {
    "duration": 206,
    "start_time": "2023-06-10T14:12:43.860Z"
   },
   {
    "duration": 13,
    "start_time": "2023-06-10T14:12:44.068Z"
   },
   {
    "duration": 235,
    "start_time": "2023-06-10T14:12:44.083Z"
   },
   {
    "duration": 13,
    "start_time": "2023-06-10T14:13:13.687Z"
   },
   {
    "duration": 6,
    "start_time": "2023-06-10T14:13:25.147Z"
   },
   {
    "duration": 16,
    "start_time": "2023-06-10T14:13:35.161Z"
   },
   {
    "duration": 9,
    "start_time": "2023-06-10T14:13:35.791Z"
   },
   {
    "duration": 14,
    "start_time": "2023-06-10T14:13:46.068Z"
   },
   {
    "duration": 8,
    "start_time": "2023-06-10T14:13:47.000Z"
   },
   {
    "duration": 14,
    "start_time": "2023-06-10T14:13:58.200Z"
   },
   {
    "duration": 7,
    "start_time": "2023-06-10T14:13:59.414Z"
   },
   {
    "duration": 13,
    "start_time": "2023-06-10T14:14:21.340Z"
   },
   {
    "duration": 8,
    "start_time": "2023-06-10T14:14:21.956Z"
   },
   {
    "duration": 12,
    "start_time": "2023-06-10T14:14:32.354Z"
   },
   {
    "duration": 8,
    "start_time": "2023-06-10T14:14:32.891Z"
   },
   {
    "duration": 2130,
    "start_time": "2023-06-10T14:14:55.528Z"
   },
   {
    "duration": 952,
    "start_time": "2023-06-10T14:14:57.660Z"
   },
   {
    "duration": 137,
    "start_time": "2023-06-10T14:14:58.614Z"
   },
   {
    "duration": 347,
    "start_time": "2023-06-10T14:14:58.757Z"
   },
   {
    "duration": 350,
    "start_time": "2023-06-10T14:14:59.107Z"
   },
   {
    "duration": 2,
    "start_time": "2023-06-10T14:14:59.460Z"
   },
   {
    "duration": 101,
    "start_time": "2023-06-10T14:14:59.464Z"
   },
   {
    "duration": 37,
    "start_time": "2023-06-10T14:14:59.568Z"
   },
   {
    "duration": 4,
    "start_time": "2023-06-10T14:14:59.607Z"
   },
   {
    "duration": 19,
    "start_time": "2023-06-10T14:14:59.614Z"
   },
   {
    "duration": 11,
    "start_time": "2023-06-10T14:14:59.658Z"
   },
   {
    "duration": 18,
    "start_time": "2023-06-10T14:14:59.671Z"
   },
   {
    "duration": 70,
    "start_time": "2023-06-10T14:14:59.691Z"
   },
   {
    "duration": 429,
    "start_time": "2023-06-10T14:14:59.765Z"
   },
   {
    "duration": 420,
    "start_time": "2023-06-10T14:15:00.196Z"
   },
   {
    "duration": 23,
    "start_time": "2023-06-10T14:15:00.618Z"
   },
   {
    "duration": 71,
    "start_time": "2023-06-10T14:15:00.643Z"
   },
   {
    "duration": 18,
    "start_time": "2023-06-10T14:15:00.716Z"
   },
   {
    "duration": 112,
    "start_time": "2023-06-10T14:15:00.736Z"
   },
   {
    "duration": 335,
    "start_time": "2023-06-10T14:15:00.850Z"
   },
   {
    "duration": 335,
    "start_time": "2023-06-10T14:15:01.187Z"
   },
   {
    "duration": 33,
    "start_time": "2023-06-10T14:15:01.524Z"
   },
   {
    "duration": 378,
    "start_time": "2023-06-10T14:15:01.559Z"
   },
   {
    "duration": 24,
    "start_time": "2023-06-10T14:15:01.939Z"
   },
   {
    "duration": 116,
    "start_time": "2023-06-10T14:15:01.965Z"
   },
   {
    "duration": 774,
    "start_time": "2023-06-10T14:15:02.083Z"
   },
   {
    "duration": 594,
    "start_time": "2023-06-10T14:15:02.859Z"
   },
   {
    "duration": 682,
    "start_time": "2023-06-10T14:15:03.458Z"
   },
   {
    "duration": 209,
    "start_time": "2023-06-10T14:15:04.143Z"
   },
   {
    "duration": 11,
    "start_time": "2023-06-10T14:15:04.357Z"
   },
   {
    "duration": 44,
    "start_time": "2023-06-10T14:15:04.370Z"
   },
   {
    "duration": 29,
    "start_time": "2023-06-10T14:15:04.416Z"
   },
   {
    "duration": 11,
    "start_time": "2023-06-10T14:15:04.447Z"
   },
   {
    "duration": 405,
    "start_time": "2023-06-10T14:15:04.460Z"
   },
   {
    "duration": 90,
    "start_time": "2023-06-10T14:15:04.867Z"
   },
   {
    "duration": 154,
    "start_time": "2023-06-10T14:15:04.959Z"
   },
   {
    "duration": 48,
    "start_time": "2023-06-10T14:15:05.115Z"
   },
   {
    "duration": 24,
    "start_time": "2023-06-10T14:15:05.165Z"
   },
   {
    "duration": 225,
    "start_time": "2023-06-10T14:15:05.191Z"
   },
   {
    "duration": 13,
    "start_time": "2023-06-10T14:16:01.029Z"
   },
   {
    "duration": 7,
    "start_time": "2023-06-10T14:16:01.412Z"
   },
   {
    "duration": 13,
    "start_time": "2023-06-10T14:16:08.812Z"
   },
   {
    "duration": 7,
    "start_time": "2023-06-10T14:16:11.138Z"
   },
   {
    "duration": 75,
    "start_time": "2023-06-10T14:16:29.956Z"
   },
   {
    "duration": 27,
    "start_time": "2023-06-10T14:16:42.312Z"
   },
   {
    "duration": 587,
    "start_time": "2023-06-10T14:17:45.845Z"
   },
   {
    "duration": 16,
    "start_time": "2023-06-10T14:18:08.674Z"
   },
   {
    "duration": 2059,
    "start_time": "2023-06-10T14:18:20.611Z"
   },
   {
    "duration": 906,
    "start_time": "2023-06-10T14:18:22.672Z"
   },
   {
    "duration": 118,
    "start_time": "2023-06-10T14:18:23.580Z"
   },
   {
    "duration": 343,
    "start_time": "2023-06-10T14:18:23.700Z"
   },
   {
    "duration": 318,
    "start_time": "2023-06-10T14:18:24.044Z"
   },
   {
    "duration": 2,
    "start_time": "2023-06-10T14:18:24.364Z"
   },
   {
    "duration": 103,
    "start_time": "2023-06-10T14:18:24.368Z"
   },
   {
    "duration": 36,
    "start_time": "2023-06-10T14:18:24.472Z"
   },
   {
    "duration": 4,
    "start_time": "2023-06-10T14:18:24.510Z"
   },
   {
    "duration": 36,
    "start_time": "2023-06-10T14:18:24.516Z"
   },
   {
    "duration": 12,
    "start_time": "2023-06-10T14:18:24.554Z"
   },
   {
    "duration": 27,
    "start_time": "2023-06-10T14:18:24.568Z"
   },
   {
    "duration": 49,
    "start_time": "2023-06-10T14:18:24.597Z"
   },
   {
    "duration": 441,
    "start_time": "2023-06-10T14:18:24.648Z"
   },
   {
    "duration": 429,
    "start_time": "2023-06-10T14:18:25.091Z"
   },
   {
    "duration": 26,
    "start_time": "2023-06-10T14:18:25.521Z"
   },
   {
    "duration": 65,
    "start_time": "2023-06-10T14:18:25.549Z"
   },
   {
    "duration": 17,
    "start_time": "2023-06-10T14:18:25.616Z"
   },
   {
    "duration": 123,
    "start_time": "2023-06-10T14:18:25.635Z"
   },
   {
    "duration": 311,
    "start_time": "2023-06-10T14:18:25.760Z"
   },
   {
    "duration": 331,
    "start_time": "2023-06-10T14:18:26.073Z"
   },
   {
    "duration": 26,
    "start_time": "2023-06-10T14:18:26.406Z"
   },
   {
    "duration": 365,
    "start_time": "2023-06-10T14:18:26.434Z"
   },
   {
    "duration": 20,
    "start_time": "2023-06-10T14:18:26.801Z"
   },
   {
    "duration": 122,
    "start_time": "2023-06-10T14:18:26.823Z"
   },
   {
    "duration": 832,
    "start_time": "2023-06-10T14:18:26.947Z"
   },
   {
    "duration": 630,
    "start_time": "2023-06-10T14:18:27.781Z"
   },
   {
    "duration": 679,
    "start_time": "2023-06-10T14:18:28.416Z"
   },
   {
    "duration": 214,
    "start_time": "2023-06-10T14:18:29.097Z"
   },
   {
    "duration": 12,
    "start_time": "2023-06-10T14:18:29.313Z"
   },
   {
    "duration": 49,
    "start_time": "2023-06-10T14:18:29.328Z"
   },
   {
    "duration": 31,
    "start_time": "2023-06-10T14:18:29.379Z"
   },
   {
    "duration": 5,
    "start_time": "2023-06-10T14:18:29.412Z"
   },
   {
    "duration": 492,
    "start_time": "2023-06-10T14:18:29.419Z"
   },
   {
    "duration": 109,
    "start_time": "2023-06-10T14:18:29.913Z"
   },
   {
    "duration": 92,
    "start_time": "2023-06-10T14:18:30.024Z"
   },
   {
    "duration": 40,
    "start_time": "2023-06-10T14:18:30.118Z"
   },
   {
    "duration": 235,
    "start_time": "2023-06-10T14:18:30.160Z"
   },
   {
    "duration": 14,
    "start_time": "2023-06-10T14:18:57.397Z"
   },
   {
    "duration": 614,
    "start_time": "2023-06-10T14:19:45.022Z"
   },
   {
    "duration": 17,
    "start_time": "2023-06-10T14:20:14.959Z"
   },
   {
    "duration": 5,
    "start_time": "2023-06-10T14:22:42.396Z"
   },
   {
    "duration": 541,
    "start_time": "2023-06-10T14:24:31.630Z"
   },
   {
    "duration": 10936,
    "start_time": "2023-06-10T14:25:16.843Z"
   },
   {
    "duration": 500,
    "start_time": "2023-06-10T14:25:50.589Z"
   },
   {
    "duration": 9786,
    "start_time": "2023-06-10T14:26:06.029Z"
   },
   {
    "duration": 9620,
    "start_time": "2023-06-10T14:26:47.038Z"
   },
   {
    "duration": 15,
    "start_time": "2023-06-10T14:27:26.553Z"
   },
   {
    "duration": 15,
    "start_time": "2023-06-10T14:27:29.871Z"
   },
   {
    "duration": 15,
    "start_time": "2023-06-10T14:27:33.480Z"
   },
   {
    "duration": 4,
    "start_time": "2023-06-10T14:27:37.307Z"
   },
   {
    "duration": 13,
    "start_time": "2023-06-10T14:27:51.244Z"
   },
   {
    "duration": 4,
    "start_time": "2023-06-10T14:27:54.366Z"
   },
   {
    "duration": 10254,
    "start_time": "2023-06-10T14:28:24.396Z"
   },
   {
    "duration": 13,
    "start_time": "2023-06-10T14:31:13.759Z"
   },
   {
    "duration": 22,
    "start_time": "2023-06-10T14:31:50.112Z"
   },
   {
    "duration": 1348,
    "start_time": "2023-06-10T14:31:59.380Z"
   },
   {
    "duration": 16,
    "start_time": "2023-06-10T14:32:03.972Z"
   },
   {
    "duration": 14,
    "start_time": "2023-06-10T14:33:07.024Z"
   },
   {
    "duration": 2026,
    "start_time": "2023-06-10T14:33:24.221Z"
   },
   {
    "duration": 963,
    "start_time": "2023-06-10T14:33:26.249Z"
   },
   {
    "duration": 135,
    "start_time": "2023-06-10T14:33:27.214Z"
   },
   {
    "duration": 349,
    "start_time": "2023-06-10T14:33:27.351Z"
   },
   {
    "duration": 356,
    "start_time": "2023-06-10T14:33:27.701Z"
   },
   {
    "duration": 3,
    "start_time": "2023-06-10T14:33:28.059Z"
   },
   {
    "duration": 114,
    "start_time": "2023-06-10T14:33:28.063Z"
   },
   {
    "duration": 36,
    "start_time": "2023-06-10T14:33:28.179Z"
   },
   {
    "duration": 4,
    "start_time": "2023-06-10T14:33:28.216Z"
   },
   {
    "duration": 20,
    "start_time": "2023-06-10T14:33:28.222Z"
   },
   {
    "duration": 11,
    "start_time": "2023-06-10T14:33:28.258Z"
   },
   {
    "duration": 18,
    "start_time": "2023-06-10T14:33:28.271Z"
   },
   {
    "duration": 74,
    "start_time": "2023-06-10T14:33:28.291Z"
   },
   {
    "duration": 440,
    "start_time": "2023-06-10T14:33:28.367Z"
   },
   {
    "duration": 427,
    "start_time": "2023-06-10T14:33:28.809Z"
   },
   {
    "duration": 28,
    "start_time": "2023-06-10T14:33:29.238Z"
   },
   {
    "duration": 59,
    "start_time": "2023-06-10T14:33:29.268Z"
   },
   {
    "duration": 18,
    "start_time": "2023-06-10T14:33:29.329Z"
   },
   {
    "duration": 112,
    "start_time": "2023-06-10T14:33:29.357Z"
   },
   {
    "duration": 323,
    "start_time": "2023-06-10T14:33:29.471Z"
   },
   {
    "duration": 342,
    "start_time": "2023-06-10T14:33:29.796Z"
   },
   {
    "duration": 30,
    "start_time": "2023-06-10T14:33:30.140Z"
   },
   {
    "duration": 365,
    "start_time": "2023-06-10T14:33:30.172Z"
   },
   {
    "duration": 25,
    "start_time": "2023-06-10T14:33:30.539Z"
   },
   {
    "duration": 110,
    "start_time": "2023-06-10T14:33:30.567Z"
   },
   {
    "duration": 811,
    "start_time": "2023-06-10T14:33:30.679Z"
   },
   {
    "duration": 566,
    "start_time": "2023-06-10T14:33:31.491Z"
   },
   {
    "duration": 629,
    "start_time": "2023-06-10T14:33:32.060Z"
   },
   {
    "duration": 191,
    "start_time": "2023-06-10T14:33:32.691Z"
   },
   {
    "duration": 11,
    "start_time": "2023-06-10T14:33:32.884Z"
   },
   {
    "duration": 27,
    "start_time": "2023-06-10T14:33:32.897Z"
   },
   {
    "duration": 47,
    "start_time": "2023-06-10T14:33:32.926Z"
   },
   {
    "duration": 4,
    "start_time": "2023-06-10T14:33:32.975Z"
   },
   {
    "duration": 392,
    "start_time": "2023-06-10T14:33:32.981Z"
   },
   {
    "duration": 70,
    "start_time": "2023-06-10T14:33:33.375Z"
   },
   {
    "duration": 74,
    "start_time": "2023-06-10T14:33:33.447Z"
   },
   {
    "duration": 38,
    "start_time": "2023-06-10T14:33:33.523Z"
   },
   {
    "duration": 1414,
    "start_time": "2023-06-10T14:33:33.562Z"
   },
   {
    "duration": 193,
    "start_time": "2023-06-10T14:33:34.978Z"
   },
   {
    "duration": 12,
    "start_time": "2023-06-10T14:34:38.506Z"
   },
   {
    "duration": 1474,
    "start_time": "2023-06-10T14:34:57.935Z"
   },
   {
    "duration": 1362,
    "start_time": "2023-06-10T14:35:09.716Z"
   },
   {
    "duration": 12,
    "start_time": "2023-06-10T14:35:55.357Z"
   },
   {
    "duration": 16,
    "start_time": "2023-06-10T14:39:32.985Z"
   },
   {
    "duration": 5,
    "start_time": "2023-06-10T14:39:50.771Z"
   },
   {
    "duration": 4,
    "start_time": "2023-06-10T14:40:06.194Z"
   },
   {
    "duration": 134,
    "start_time": "2023-06-10T14:42:53.588Z"
   },
   {
    "duration": 4,
    "start_time": "2023-06-10T14:43:15.512Z"
   },
   {
    "duration": 4,
    "start_time": "2023-06-10T14:43:20.473Z"
   },
   {
    "duration": 22,
    "start_time": "2023-06-10T14:43:36.619Z"
   },
   {
    "duration": 5558,
    "start_time": "2023-06-10T14:44:03.097Z"
   },
   {
    "duration": 3053,
    "start_time": "2023-06-10T14:44:08.658Z"
   },
   {
    "duration": 132,
    "start_time": "2023-06-10T14:44:11.713Z"
   },
   {
    "duration": 314,
    "start_time": "2023-06-10T14:44:11.848Z"
   },
   {
    "duration": 306,
    "start_time": "2023-06-10T14:44:12.165Z"
   },
   {
    "duration": 2,
    "start_time": "2023-06-10T14:44:12.473Z"
   },
   {
    "duration": 105,
    "start_time": "2023-06-10T14:44:12.477Z"
   },
   {
    "duration": 38,
    "start_time": "2023-06-10T14:44:12.584Z"
   },
   {
    "duration": 5,
    "start_time": "2023-06-10T14:44:12.624Z"
   },
   {
    "duration": 30,
    "start_time": "2023-06-10T14:44:12.632Z"
   },
   {
    "duration": 11,
    "start_time": "2023-06-10T14:44:12.663Z"
   },
   {
    "duration": 21,
    "start_time": "2023-06-10T14:44:12.676Z"
   },
   {
    "duration": 62,
    "start_time": "2023-06-10T14:44:12.699Z"
   },
   {
    "duration": 404,
    "start_time": "2023-06-10T14:44:12.763Z"
   },
   {
    "duration": 450,
    "start_time": "2023-06-10T14:44:13.169Z"
   },
   {
    "duration": 25,
    "start_time": "2023-06-10T14:44:13.620Z"
   },
   {
    "duration": 55,
    "start_time": "2023-06-10T14:44:13.656Z"
   },
   {
    "duration": 17,
    "start_time": "2023-06-10T14:44:13.713Z"
   },
   {
    "duration": 107,
    "start_time": "2023-06-10T14:44:13.732Z"
   },
   {
    "duration": 371,
    "start_time": "2023-06-10T14:44:13.842Z"
   },
   {
    "duration": 330,
    "start_time": "2023-06-10T14:44:14.215Z"
   },
   {
    "duration": 30,
    "start_time": "2023-06-10T14:44:14.547Z"
   },
   {
    "duration": 316,
    "start_time": "2023-06-10T14:44:14.579Z"
   },
   {
    "duration": 17,
    "start_time": "2023-06-10T14:44:14.897Z"
   },
   {
    "duration": 111,
    "start_time": "2023-06-10T14:44:14.916Z"
   },
   {
    "duration": 770,
    "start_time": "2023-06-10T14:44:15.029Z"
   },
   {
    "duration": 557,
    "start_time": "2023-06-10T14:44:15.800Z"
   },
   {
    "duration": 608,
    "start_time": "2023-06-10T14:44:16.360Z"
   },
   {
    "duration": 193,
    "start_time": "2023-06-10T14:44:16.970Z"
   },
   {
    "duration": 11,
    "start_time": "2023-06-10T14:44:17.165Z"
   },
   {
    "duration": 44,
    "start_time": "2023-06-10T14:44:17.177Z"
   },
   {
    "duration": 34,
    "start_time": "2023-06-10T14:44:17.223Z"
   },
   {
    "duration": 4,
    "start_time": "2023-06-10T14:44:17.259Z"
   },
   {
    "duration": 393,
    "start_time": "2023-06-10T14:44:17.265Z"
   },
   {
    "duration": 98,
    "start_time": "2023-06-10T14:44:17.660Z"
   },
   {
    "duration": 77,
    "start_time": "2023-06-10T14:44:17.760Z"
   },
   {
    "duration": 40,
    "start_time": "2023-06-10T14:44:17.839Z"
   },
   {
    "duration": 1326,
    "start_time": "2023-06-10T14:44:17.881Z"
   },
   {
    "duration": 22,
    "start_time": "2023-06-10T14:44:19.209Z"
   },
   {
    "duration": 52,
    "start_time": "2023-06-10T14:44:40.457Z"
   },
   {
    "duration": 6718,
    "start_time": "2023-06-10T14:44:56.979Z"
   },
   {
    "duration": 3041,
    "start_time": "2023-06-10T14:45:03.699Z"
   },
   {
    "duration": 117,
    "start_time": "2023-06-10T14:45:06.741Z"
   },
   {
    "duration": 329,
    "start_time": "2023-06-10T14:45:06.859Z"
   },
   {
    "duration": 292,
    "start_time": "2023-06-10T14:45:07.191Z"
   },
   {
    "duration": 3,
    "start_time": "2023-06-10T14:45:07.485Z"
   },
   {
    "duration": 110,
    "start_time": "2023-06-10T14:45:07.490Z"
   },
   {
    "duration": 40,
    "start_time": "2023-06-10T14:45:07.602Z"
   },
   {
    "duration": 14,
    "start_time": "2023-06-10T14:45:07.644Z"
   },
   {
    "duration": 34,
    "start_time": "2023-06-10T14:45:07.660Z"
   },
   {
    "duration": 11,
    "start_time": "2023-06-10T14:45:07.696Z"
   },
   {
    "duration": 18,
    "start_time": "2023-06-10T14:45:07.709Z"
   },
   {
    "duration": 54,
    "start_time": "2023-06-10T14:45:07.729Z"
   },
   {
    "duration": 408,
    "start_time": "2023-06-10T14:45:07.786Z"
   },
   {
    "duration": 406,
    "start_time": "2023-06-10T14:45:08.196Z"
   },
   {
    "duration": 23,
    "start_time": "2023-06-10T14:45:08.604Z"
   },
   {
    "duration": 56,
    "start_time": "2023-06-10T14:45:08.629Z"
   },
   {
    "duration": 17,
    "start_time": "2023-06-10T14:45:08.687Z"
   },
   {
    "duration": 111,
    "start_time": "2023-06-10T14:45:08.706Z"
   },
   {
    "duration": 312,
    "start_time": "2023-06-10T14:45:08.819Z"
   },
   {
    "duration": 295,
    "start_time": "2023-06-10T14:45:09.133Z"
   },
   {
    "duration": 26,
    "start_time": "2023-06-10T14:45:09.431Z"
   },
   {
    "duration": 303,
    "start_time": "2023-06-10T14:45:09.459Z"
   },
   {
    "duration": 16,
    "start_time": "2023-06-10T14:45:09.764Z"
   },
   {
    "duration": 108,
    "start_time": "2023-06-10T14:45:09.782Z"
   },
   {
    "duration": 753,
    "start_time": "2023-06-10T14:45:09.892Z"
   },
   {
    "duration": 580,
    "start_time": "2023-06-10T14:45:10.647Z"
   },
   {
    "duration": 605,
    "start_time": "2023-06-10T14:45:11.229Z"
   },
   {
    "duration": 198,
    "start_time": "2023-06-10T14:45:11.836Z"
   },
   {
    "duration": 21,
    "start_time": "2023-06-10T14:45:12.036Z"
   },
   {
    "duration": 49,
    "start_time": "2023-06-10T14:45:12.059Z"
   },
   {
    "duration": 33,
    "start_time": "2023-06-10T14:45:12.110Z"
   },
   {
    "duration": 4,
    "start_time": "2023-06-10T14:45:12.145Z"
   },
   {
    "duration": 400,
    "start_time": "2023-06-10T14:45:12.151Z"
   },
   {
    "duration": 94,
    "start_time": "2023-06-10T14:45:12.553Z"
   },
   {
    "duration": 79,
    "start_time": "2023-06-10T14:45:12.649Z"
   },
   {
    "duration": 42,
    "start_time": "2023-06-10T14:45:12.730Z"
   },
   {
    "duration": 1341,
    "start_time": "2023-06-10T14:45:12.774Z"
   },
   {
    "duration": 20,
    "start_time": "2023-06-10T14:45:14.117Z"
   },
   {
    "duration": 5,
    "start_time": "2023-06-10T14:45:14.139Z"
   },
   {
    "duration": 5692,
    "start_time": "2023-06-10T14:45:35.814Z"
   },
   {
    "duration": 3066,
    "start_time": "2023-06-10T14:45:41.508Z"
   },
   {
    "duration": 115,
    "start_time": "2023-06-10T14:45:44.576Z"
   },
   {
    "duration": 332,
    "start_time": "2023-06-10T14:45:44.693Z"
   },
   {
    "duration": 297,
    "start_time": "2023-06-10T14:45:45.027Z"
   },
   {
    "duration": 3,
    "start_time": "2023-06-10T14:45:45.325Z"
   },
   {
    "duration": 111,
    "start_time": "2023-06-10T14:45:45.330Z"
   },
   {
    "duration": 38,
    "start_time": "2023-06-10T14:45:45.442Z"
   },
   {
    "duration": 4,
    "start_time": "2023-06-10T14:45:45.482Z"
   },
   {
    "duration": 20,
    "start_time": "2023-06-10T14:45:45.489Z"
   },
   {
    "duration": 10,
    "start_time": "2023-06-10T14:45:45.511Z"
   },
   {
    "duration": 36,
    "start_time": "2023-06-10T14:45:45.522Z"
   },
   {
    "duration": 49,
    "start_time": "2023-06-10T14:45:45.560Z"
   },
   {
    "duration": 413,
    "start_time": "2023-06-10T14:45:45.611Z"
   },
   {
    "duration": 404,
    "start_time": "2023-06-10T14:45:46.026Z"
   },
   {
    "duration": 26,
    "start_time": "2023-06-10T14:45:46.432Z"
   },
   {
    "duration": 49,
    "start_time": "2023-06-10T14:45:46.460Z"
   },
   {
    "duration": 17,
    "start_time": "2023-06-10T14:45:46.511Z"
   },
   {
    "duration": 115,
    "start_time": "2023-06-10T14:45:46.529Z"
   },
   {
    "duration": 319,
    "start_time": "2023-06-10T14:45:46.646Z"
   },
   {
    "duration": 298,
    "start_time": "2023-06-10T14:45:46.966Z"
   },
   {
    "duration": 24,
    "start_time": "2023-06-10T14:45:47.266Z"
   },
   {
    "duration": 317,
    "start_time": "2023-06-10T14:45:47.292Z"
   },
   {
    "duration": 17,
    "start_time": "2023-06-10T14:45:47.611Z"
   },
   {
    "duration": 106,
    "start_time": "2023-06-10T14:45:47.630Z"
   },
   {
    "duration": 757,
    "start_time": "2023-06-10T14:45:47.738Z"
   },
   {
    "duration": 539,
    "start_time": "2023-06-10T14:45:48.497Z"
   },
   {
    "duration": 633,
    "start_time": "2023-06-10T14:45:49.039Z"
   },
   {
    "duration": 194,
    "start_time": "2023-06-10T14:45:49.673Z"
   },
   {
    "duration": 11,
    "start_time": "2023-06-10T14:45:49.869Z"
   },
   {
    "duration": 28,
    "start_time": "2023-06-10T14:45:49.882Z"
   },
   {
    "duration": 48,
    "start_time": "2023-06-10T14:45:49.912Z"
   },
   {
    "duration": 4,
    "start_time": "2023-06-10T14:45:49.962Z"
   },
   {
    "duration": 474,
    "start_time": "2023-06-10T14:45:49.969Z"
   },
   {
    "duration": 76,
    "start_time": "2023-06-10T14:45:50.444Z"
   },
   {
    "duration": 83,
    "start_time": "2023-06-10T14:45:50.522Z"
   },
   {
    "duration": 31,
    "start_time": "2023-06-10T14:45:50.607Z"
   },
   {
    "duration": 1440,
    "start_time": "2023-06-10T14:45:50.640Z"
   },
   {
    "duration": 20,
    "start_time": "2023-06-10T14:45:52.082Z"
   },
   {
    "duration": 43,
    "start_time": "2023-06-10T14:45:52.104Z"
   },
   {
    "duration": 265,
    "start_time": "2023-06-10T14:45:52.149Z"
   },
   {
    "duration": 2068,
    "start_time": "2023-06-10T14:45:58.679Z"
   },
   {
    "duration": 938,
    "start_time": "2023-06-10T14:46:00.749Z"
   },
   {
    "duration": 126,
    "start_time": "2023-06-10T14:46:01.689Z"
   },
   {
    "duration": 314,
    "start_time": "2023-06-10T14:46:01.817Z"
   },
   {
    "duration": 315,
    "start_time": "2023-06-10T14:46:02.134Z"
   },
   {
    "duration": 7,
    "start_time": "2023-06-10T14:46:02.450Z"
   },
   {
    "duration": 97,
    "start_time": "2023-06-10T14:46:02.458Z"
   },
   {
    "duration": 36,
    "start_time": "2023-06-10T14:46:02.557Z"
   },
   {
    "duration": 5,
    "start_time": "2023-06-10T14:46:02.595Z"
   },
   {
    "duration": 30,
    "start_time": "2023-06-10T14:46:02.602Z"
   },
   {
    "duration": 9,
    "start_time": "2023-06-10T14:46:02.634Z"
   },
   {
    "duration": 18,
    "start_time": "2023-06-10T14:46:02.657Z"
   },
   {
    "duration": 46,
    "start_time": "2023-06-10T14:46:02.676Z"
   },
   {
    "duration": 418,
    "start_time": "2023-06-10T14:46:02.724Z"
   },
   {
    "duration": 407,
    "start_time": "2023-06-10T14:46:03.144Z"
   },
   {
    "duration": 24,
    "start_time": "2023-06-10T14:46:03.553Z"
   },
   {
    "duration": 56,
    "start_time": "2023-06-10T14:46:03.578Z"
   },
   {
    "duration": 27,
    "start_time": "2023-06-10T14:46:03.636Z"
   },
   {
    "duration": 106,
    "start_time": "2023-06-10T14:46:03.664Z"
   },
   {
    "duration": 359,
    "start_time": "2023-06-10T14:46:03.772Z"
   },
   {
    "duration": 363,
    "start_time": "2023-06-10T14:46:04.133Z"
   },
   {
    "duration": 26,
    "start_time": "2023-06-10T14:46:04.498Z"
   },
   {
    "duration": 315,
    "start_time": "2023-06-10T14:46:04.526Z"
   },
   {
    "duration": 23,
    "start_time": "2023-06-10T14:46:04.843Z"
   },
   {
    "duration": 93,
    "start_time": "2023-06-10T14:46:04.868Z"
   },
   {
    "duration": 749,
    "start_time": "2023-06-10T14:46:04.962Z"
   },
   {
    "duration": 530,
    "start_time": "2023-06-10T14:46:05.713Z"
   },
   {
    "duration": 593,
    "start_time": "2023-06-10T14:46:06.247Z"
   },
   {
    "duration": 194,
    "start_time": "2023-06-10T14:46:06.842Z"
   },
   {
    "duration": 21,
    "start_time": "2023-06-10T14:46:07.038Z"
   },
   {
    "duration": 26,
    "start_time": "2023-06-10T14:46:07.061Z"
   },
   {
    "duration": 27,
    "start_time": "2023-06-10T14:46:07.089Z"
   },
   {
    "duration": 4,
    "start_time": "2023-06-10T14:46:07.118Z"
   },
   {
    "duration": 420,
    "start_time": "2023-06-10T14:46:07.123Z"
   },
   {
    "duration": 74,
    "start_time": "2023-06-10T14:46:07.544Z"
   },
   {
    "duration": 86,
    "start_time": "2023-06-10T14:46:07.620Z"
   },
   {
    "duration": 29,
    "start_time": "2023-06-10T14:46:07.707Z"
   },
   {
    "duration": 485,
    "start_time": "2023-06-10T14:46:07.738Z"
   },
   {
    "duration": 20,
    "start_time": "2023-06-10T14:46:08.225Z"
   },
   {
    "duration": 11,
    "start_time": "2023-06-10T14:46:08.247Z"
   },
   {
    "duration": 308,
    "start_time": "2023-06-10T14:46:08.260Z"
   },
   {
    "duration": 1340,
    "start_time": "2023-06-10T14:46:46.198Z"
   },
   {
    "duration": 20,
    "start_time": "2023-06-10T14:46:48.788Z"
   },
   {
    "duration": 4,
    "start_time": "2023-06-10T14:46:50.252Z"
   },
   {
    "duration": 7,
    "start_time": "2023-06-10T14:47:02.114Z"
   },
   {
    "duration": 4,
    "start_time": "2023-06-10T14:47:03.123Z"
   },
   {
    "duration": 273,
    "start_time": "2023-06-10T14:47:03.807Z"
   },
   {
    "duration": 2013,
    "start_time": "2023-06-10T14:47:46.763Z"
   },
   {
    "duration": 882,
    "start_time": "2023-06-10T14:47:48.778Z"
   },
   {
    "duration": 125,
    "start_time": "2023-06-10T14:47:49.662Z"
   },
   {
    "duration": 324,
    "start_time": "2023-06-10T14:47:49.790Z"
   },
   {
    "duration": 296,
    "start_time": "2023-06-10T14:47:50.116Z"
   },
   {
    "duration": 2,
    "start_time": "2023-06-10T14:47:50.414Z"
   },
   {
    "duration": 101,
    "start_time": "2023-06-10T14:47:50.418Z"
   },
   {
    "duration": 43,
    "start_time": "2023-06-10T14:47:50.521Z"
   },
   {
    "duration": 4,
    "start_time": "2023-06-10T14:47:50.565Z"
   },
   {
    "duration": 26,
    "start_time": "2023-06-10T14:47:50.571Z"
   },
   {
    "duration": 10,
    "start_time": "2023-06-10T14:47:50.599Z"
   },
   {
    "duration": 16,
    "start_time": "2023-06-10T14:47:50.611Z"
   },
   {
    "duration": 64,
    "start_time": "2023-06-10T14:47:50.629Z"
   },
   {
    "duration": 415,
    "start_time": "2023-06-10T14:47:50.695Z"
   },
   {
    "duration": 414,
    "start_time": "2023-06-10T14:47:51.112Z"
   },
   {
    "duration": 30,
    "start_time": "2023-06-10T14:47:51.528Z"
   },
   {
    "duration": 50,
    "start_time": "2023-06-10T14:47:51.559Z"
   },
   {
    "duration": 16,
    "start_time": "2023-06-10T14:47:51.611Z"
   },
   {
    "duration": 106,
    "start_time": "2023-06-10T14:47:51.628Z"
   },
   {
    "duration": 293,
    "start_time": "2023-06-10T14:47:51.736Z"
   },
   {
    "duration": 332,
    "start_time": "2023-06-10T14:47:52.031Z"
   },
   {
    "duration": 25,
    "start_time": "2023-06-10T14:47:52.365Z"
   },
   {
    "duration": 313,
    "start_time": "2023-06-10T14:47:52.392Z"
   },
   {
    "duration": 17,
    "start_time": "2023-06-10T14:47:52.707Z"
   },
   {
    "duration": 104,
    "start_time": "2023-06-10T14:47:52.725Z"
   },
   {
    "duration": 772,
    "start_time": "2023-06-10T14:47:52.831Z"
   },
   {
    "duration": 570,
    "start_time": "2023-06-10T14:47:53.605Z"
   },
   {
    "duration": 579,
    "start_time": "2023-06-10T14:47:54.179Z"
   },
   {
    "duration": 187,
    "start_time": "2023-06-10T14:47:54.760Z"
   },
   {
    "duration": 17,
    "start_time": "2023-06-10T14:47:54.949Z"
   },
   {
    "duration": 43,
    "start_time": "2023-06-10T14:47:54.967Z"
   },
   {
    "duration": 29,
    "start_time": "2023-06-10T14:47:55.012Z"
   },
   {
    "duration": 37,
    "start_time": "2023-06-10T14:47:55.044Z"
   },
   {
    "duration": 383,
    "start_time": "2023-06-10T14:47:55.083Z"
   },
   {
    "duration": 69,
    "start_time": "2023-06-10T14:47:55.468Z"
   },
   {
    "duration": 80,
    "start_time": "2023-06-10T14:47:55.539Z"
   },
   {
    "duration": 44,
    "start_time": "2023-06-10T14:47:55.621Z"
   },
   {
    "duration": 1360,
    "start_time": "2023-06-10T14:47:55.667Z"
   },
   {
    "duration": 7,
    "start_time": "2023-06-10T14:47:57.029Z"
   },
   {
    "duration": 4,
    "start_time": "2023-06-10T14:47:57.038Z"
   },
   {
    "duration": 397,
    "start_time": "2023-06-10T14:47:57.058Z"
   },
   {
    "duration": 2113,
    "start_time": "2023-06-10T14:48:52.287Z"
   },
   {
    "duration": 897,
    "start_time": "2023-06-10T14:48:54.402Z"
   },
   {
    "duration": 132,
    "start_time": "2023-06-10T14:48:55.301Z"
   },
   {
    "duration": 315,
    "start_time": "2023-06-10T14:48:55.436Z"
   },
   {
    "duration": 311,
    "start_time": "2023-06-10T14:48:55.757Z"
   },
   {
    "duration": 2,
    "start_time": "2023-06-10T14:48:56.070Z"
   },
   {
    "duration": 105,
    "start_time": "2023-06-10T14:48:56.074Z"
   },
   {
    "duration": 36,
    "start_time": "2023-06-10T14:48:56.180Z"
   },
   {
    "duration": 3,
    "start_time": "2023-06-10T14:48:56.218Z"
   },
   {
    "duration": 33,
    "start_time": "2023-06-10T14:48:56.224Z"
   },
   {
    "duration": 10,
    "start_time": "2023-06-10T14:48:56.259Z"
   },
   {
    "duration": 17,
    "start_time": "2023-06-10T14:48:56.270Z"
   },
   {
    "duration": 71,
    "start_time": "2023-06-10T14:48:56.289Z"
   },
   {
    "duration": 414,
    "start_time": "2023-06-10T14:48:56.361Z"
   },
   {
    "duration": 403,
    "start_time": "2023-06-10T14:48:56.776Z"
   },
   {
    "duration": 26,
    "start_time": "2023-06-10T14:48:57.180Z"
   },
   {
    "duration": 66,
    "start_time": "2023-06-10T14:48:57.207Z"
   },
   {
    "duration": 17,
    "start_time": "2023-06-10T14:48:57.274Z"
   },
   {
    "duration": 100,
    "start_time": "2023-06-10T14:48:57.292Z"
   },
   {
    "duration": 292,
    "start_time": "2023-06-10T14:48:57.394Z"
   },
   {
    "duration": 348,
    "start_time": "2023-06-10T14:48:57.688Z"
   },
   {
    "duration": 31,
    "start_time": "2023-06-10T14:48:58.039Z"
   },
   {
    "duration": 355,
    "start_time": "2023-06-10T14:48:58.072Z"
   },
   {
    "duration": 18,
    "start_time": "2023-06-10T14:48:58.428Z"
   },
   {
    "duration": 101,
    "start_time": "2023-06-10T14:48:58.448Z"
   },
   {
    "duration": 803,
    "start_time": "2023-06-10T14:48:58.551Z"
   },
   {
    "duration": 565,
    "start_time": "2023-06-10T14:48:59.357Z"
   },
   {
    "duration": 608,
    "start_time": "2023-06-10T14:48:59.925Z"
   },
   {
    "duration": 195,
    "start_time": "2023-06-10T14:49:00.535Z"
   },
   {
    "duration": 11,
    "start_time": "2023-06-10T14:49:00.731Z"
   },
   {
    "duration": 66,
    "start_time": "2023-06-10T14:49:00.744Z"
   },
   {
    "duration": 29,
    "start_time": "2023-06-10T14:49:00.811Z"
   },
   {
    "duration": 29,
    "start_time": "2023-06-10T14:49:00.842Z"
   },
   {
    "duration": 451,
    "start_time": "2023-06-10T14:49:00.873Z"
   },
   {
    "duration": 88,
    "start_time": "2023-06-10T14:49:01.326Z"
   },
   {
    "duration": 84,
    "start_time": "2023-06-10T14:49:01.416Z"
   },
   {
    "duration": 29,
    "start_time": "2023-06-10T14:49:01.502Z"
   },
   {
    "duration": 1816,
    "start_time": "2023-06-10T14:49:01.533Z"
   },
   {
    "duration": 4,
    "start_time": "2023-06-10T14:51:17.648Z"
   },
   {
    "duration": 8,
    "start_time": "2023-06-10T15:03:46.216Z"
   },
   {
    "duration": 284,
    "start_time": "2023-06-10T15:05:39.713Z"
   },
   {
    "duration": 4,
    "start_time": "2023-06-10T15:07:14.197Z"
   },
   {
    "duration": 6,
    "start_time": "2023-06-10T15:07:19.219Z"
   },
   {
    "duration": 10851,
    "start_time": "2023-06-10T15:07:19.855Z"
   },
   {
    "duration": 6,
    "start_time": "2023-06-10T15:09:44.645Z"
   },
   {
    "duration": 11908,
    "start_time": "2023-06-10T15:09:45.643Z"
   },
   {
    "duration": 13189,
    "start_time": "2023-06-10T15:14:32.956Z"
   },
   {
    "duration": 4,
    "start_time": "2023-06-10T15:16:54.354Z"
   },
   {
    "duration": 4,
    "start_time": "2023-06-10T15:17:07.825Z"
   },
   {
    "duration": 2,
    "start_time": "2023-06-10T15:17:18.229Z"
   },
   {
    "duration": 7,
    "start_time": "2023-06-10T15:18:27.631Z"
   },
   {
    "duration": 3,
    "start_time": "2023-06-10T15:18:29.751Z"
   },
   {
    "duration": 12763,
    "start_time": "2023-06-10T15:18:30.702Z"
   },
   {
    "duration": 6,
    "start_time": "2023-06-10T15:20:54.353Z"
   },
   {
    "duration": 3,
    "start_time": "2023-06-10T15:20:55.631Z"
   },
   {
    "duration": 12137,
    "start_time": "2023-06-10T15:20:56.986Z"
   },
   {
    "duration": 16,
    "start_time": "2023-06-10T15:21:41.252Z"
   },
   {
    "duration": 5,
    "start_time": "2023-06-10T15:21:53.290Z"
   },
   {
    "duration": 13,
    "start_time": "2023-06-10T15:22:01.264Z"
   },
   {
    "duration": 7,
    "start_time": "2023-06-10T15:23:30.879Z"
   },
   {
    "duration": 7,
    "start_time": "2023-06-10T15:23:32.062Z"
   },
   {
    "duration": 3,
    "start_time": "2023-06-10T15:23:32.523Z"
   },
   {
    "duration": 13006,
    "start_time": "2023-06-10T15:23:33.564Z"
   },
   {
    "duration": 6,
    "start_time": "2023-06-10T15:26:41.214Z"
   },
   {
    "duration": 57,
    "start_time": "2023-06-10T15:26:54.919Z"
   },
   {
    "duration": 995289,
    "start_time": "2023-06-10T15:27:02.200Z"
   },
   {
    "duration": 55,
    "start_time": "2023-06-10T16:02:14.695Z"
   },
   {
    "duration": 7,
    "start_time": "2023-06-10T16:03:00.408Z"
   },
   {
    "duration": 1014054,
    "start_time": "2023-06-10T16:03:05.280Z"
   },
   {
    "duration": 6,
    "start_time": "2023-06-10T16:26:49.282Z"
   },
   {
    "duration": 1050005,
    "start_time": "2023-06-10T16:27:01.086Z"
   },
   {
    "duration": 4,
    "start_time": "2023-06-10T19:15:23.443Z"
   },
   {
    "duration": 14,
    "start_time": "2023-06-10T19:15:57.576Z"
   },
   {
    "duration": 14,
    "start_time": "2023-06-10T19:16:10.547Z"
   },
   {
    "duration": 13,
    "start_time": "2023-06-10T19:16:19.707Z"
   },
   {
    "duration": 4,
    "start_time": "2023-06-10T19:18:55.092Z"
   },
   {
    "duration": 8,
    "start_time": "2023-06-10T19:31:26.766Z"
   },
   {
    "duration": 1032916,
    "start_time": "2023-06-10T19:31:28.594Z"
   },
   {
    "duration": 5,
    "start_time": "2023-06-10T19:53:26.669Z"
   },
   {
    "duration": 5,
    "start_time": "2023-06-10T19:53:36.502Z"
   },
   {
    "duration": 4,
    "start_time": "2023-06-10T20:01:05.643Z"
   },
   {
    "duration": 2053,
    "start_time": "2023-06-10T20:16:00.704Z"
   },
   {
    "duration": 909,
    "start_time": "2023-06-10T20:16:02.759Z"
   },
   {
    "duration": 124,
    "start_time": "2023-06-10T20:16:03.670Z"
   },
   {
    "duration": 326,
    "start_time": "2023-06-10T20:16:03.796Z"
   },
   {
    "duration": 296,
    "start_time": "2023-06-10T20:16:04.124Z"
   },
   {
    "duration": 3,
    "start_time": "2023-06-10T20:16:04.421Z"
   },
   {
    "duration": 99,
    "start_time": "2023-06-10T20:16:04.425Z"
   },
   {
    "duration": 42,
    "start_time": "2023-06-10T20:16:04.526Z"
   },
   {
    "duration": 4,
    "start_time": "2023-06-10T20:16:04.570Z"
   },
   {
    "duration": 21,
    "start_time": "2023-06-10T20:16:04.576Z"
   },
   {
    "duration": 20,
    "start_time": "2023-06-10T20:16:04.599Z"
   },
   {
    "duration": 36,
    "start_time": "2023-06-10T20:16:04.621Z"
   },
   {
    "duration": 47,
    "start_time": "2023-06-10T20:16:04.658Z"
   },
   {
    "duration": 402,
    "start_time": "2023-06-10T20:16:04.707Z"
   },
   {
    "duration": 401,
    "start_time": "2023-06-10T20:16:05.110Z"
   },
   {
    "duration": 25,
    "start_time": "2023-06-10T20:16:05.513Z"
   },
   {
    "duration": 60,
    "start_time": "2023-06-10T20:16:05.540Z"
   },
   {
    "duration": 17,
    "start_time": "2023-06-10T20:16:05.602Z"
   },
   {
    "duration": 127,
    "start_time": "2023-06-10T20:16:05.621Z"
   },
   {
    "duration": 317,
    "start_time": "2023-06-10T20:16:05.749Z"
   },
   {
    "duration": 309,
    "start_time": "2023-06-10T20:16:06.067Z"
   },
   {
    "duration": 25,
    "start_time": "2023-06-10T20:16:06.378Z"
   },
   {
    "duration": 329,
    "start_time": "2023-06-10T20:16:06.405Z"
   },
   {
    "duration": 25,
    "start_time": "2023-06-10T20:16:06.736Z"
   },
   {
    "duration": 96,
    "start_time": "2023-06-10T20:16:06.763Z"
   },
   {
    "duration": 782,
    "start_time": "2023-06-10T20:16:06.861Z"
   },
   {
    "duration": 530,
    "start_time": "2023-06-10T20:16:07.645Z"
   },
   {
    "duration": 589,
    "start_time": "2023-06-10T20:16:08.178Z"
   },
   {
    "duration": 189,
    "start_time": "2023-06-10T20:16:08.768Z"
   },
   {
    "duration": 11,
    "start_time": "2023-06-10T20:16:08.958Z"
   },
   {
    "duration": 26,
    "start_time": "2023-06-10T20:16:08.970Z"
   },
   {
    "duration": 27,
    "start_time": "2023-06-10T20:16:08.998Z"
   },
   {
    "duration": 4,
    "start_time": "2023-06-10T20:16:09.027Z"
   },
   {
    "duration": 395,
    "start_time": "2023-06-10T20:16:09.057Z"
   },
   {
    "duration": 72,
    "start_time": "2023-06-10T20:16:09.453Z"
   },
   {
    "duration": 82,
    "start_time": "2023-06-10T20:16:09.527Z"
   },
   {
    "duration": 28,
    "start_time": "2023-06-10T20:16:09.611Z"
   },
   {
    "duration": 1809,
    "start_time": "2023-06-10T20:16:09.640Z"
   },
   {
    "duration": 56,
    "start_time": "2023-06-10T20:16:11.451Z"
   },
   {
    "duration": 0,
    "start_time": "2023-06-10T20:16:11.509Z"
   },
   {
    "duration": 0,
    "start_time": "2023-06-10T20:16:11.510Z"
   },
   {
    "duration": 0,
    "start_time": "2023-06-10T20:16:11.511Z"
   },
   {
    "duration": 0,
    "start_time": "2023-06-10T20:16:11.512Z"
   },
   {
    "duration": 0,
    "start_time": "2023-06-10T20:16:11.512Z"
   },
   {
    "duration": 15,
    "start_time": "2023-06-10T20:18:11.498Z"
   },
   {
    "duration": 968276,
    "start_time": "2023-06-10T20:18:15.125Z"
   },
   {
    "duration": 66365,
    "start_time": "2023-06-10T20:34:42.800Z"
   },
   {
    "duration": 16,
    "start_time": "2023-06-10T20:36:07.403Z"
   },
   {
    "duration": 190739,
    "start_time": "2023-06-10T20:36:11.724Z"
   },
   {
    "duration": 15,
    "start_time": "2023-06-10T20:39:51.698Z"
   },
   {
    "duration": 21,
    "start_time": "2023-06-10T20:41:06.519Z"
   },
   {
    "duration": 16,
    "start_time": "2023-06-10T20:41:18.164Z"
   },
   {
    "duration": 3905823,
    "start_time": "2023-06-10T20:41:21.400Z"
   },
   {
    "duration": 104340,
    "start_time": "2023-06-10T21:47:25.428Z"
   },
   {
    "duration": 16,
    "start_time": "2023-06-10T21:50:00.522Z"
   },
   {
    "duration": 102692,
    "start_time": "2023-06-10T21:50:04.195Z"
   },
   {
    "duration": 18,
    "start_time": "2023-06-10T21:52:29.269Z"
   },
   {
    "duration": 101610,
    "start_time": "2023-06-10T21:52:34.254Z"
   },
   {
    "duration": 76,
    "start_time": "2023-06-10T21:54:24.663Z"
   },
   {
    "duration": 50,
    "start_time": "2023-06-10T21:54:36.048Z"
   },
   {
    "duration": 9,
    "start_time": "2023-06-10T21:55:16.315Z"
   },
   {
    "duration": 136,
    "start_time": "2023-06-10T22:13:34.297Z"
   },
   {
    "duration": 15,
    "start_time": "2023-06-10T22:14:36.375Z"
   },
   {
    "duration": 112,
    "start_time": "2023-06-10T22:14:52.037Z"
   },
   {
    "duration": 128,
    "start_time": "2023-06-10T22:15:13.775Z"
   },
   {
    "duration": 14,
    "start_time": "2023-06-10T22:15:34.107Z"
   },
   {
    "duration": 13,
    "start_time": "2023-06-10T22:15:45.156Z"
   },
   {
    "duration": 131,
    "start_time": "2023-06-10T22:15:57.585Z"
   },
   {
    "duration": 98,
    "start_time": "2023-06-10T22:16:05.591Z"
   },
   {
    "duration": 14,
    "start_time": "2023-06-10T22:16:16.896Z"
   },
   {
    "duration": 125,
    "start_time": "2023-06-10T22:16:21.650Z"
   },
   {
    "duration": 138,
    "start_time": "2023-06-10T22:16:31.567Z"
   },
   {
    "duration": 12,
    "start_time": "2023-06-10T22:17:42.056Z"
   },
   {
    "duration": 134,
    "start_time": "2023-06-10T22:17:45.597Z"
   },
   {
    "duration": 314,
    "start_time": "2023-06-10T22:18:21.862Z"
   },
   {
    "duration": 240,
    "start_time": "2023-06-10T22:18:26.489Z"
   },
   {
    "duration": 289,
    "start_time": "2023-06-10T22:18:31.438Z"
   },
   {
    "duration": 244,
    "start_time": "2023-06-10T22:18:35.436Z"
   },
   {
    "duration": 215,
    "start_time": "2023-06-10T22:18:40.608Z"
   },
   {
    "duration": 231,
    "start_time": "2023-06-10T22:18:44.278Z"
   },
   {
    "duration": 226,
    "start_time": "2023-06-10T22:19:15.676Z"
   },
   {
    "duration": 172,
    "start_time": "2023-06-10T22:20:21.576Z"
   },
   {
    "duration": 246,
    "start_time": "2023-06-10T22:20:26.538Z"
   },
   {
    "duration": 261,
    "start_time": "2023-06-10T22:20:50.587Z"
   },
   {
    "duration": 2299,
    "start_time": "2023-06-10T22:20:56.940Z"
   },
   {
    "duration": 490,
    "start_time": "2023-06-10T22:21:00.736Z"
   },
   {
    "duration": 259,
    "start_time": "2023-06-10T22:21:08.811Z"
   },
   {
    "duration": 298,
    "start_time": "2023-06-10T22:21:26.562Z"
   },
   {
    "duration": 283,
    "start_time": "2023-06-10T22:21:48.010Z"
   },
   {
    "duration": 320,
    "start_time": "2023-06-10T22:21:52.195Z"
   },
   {
    "duration": 345,
    "start_time": "2023-06-10T22:21:55.526Z"
   },
   {
    "duration": 354,
    "start_time": "2023-06-10T22:22:07.331Z"
   },
   {
    "duration": 359,
    "start_time": "2023-06-10T22:22:12.477Z"
   },
   {
    "duration": 253,
    "start_time": "2023-06-10T22:22:57.597Z"
   },
   {
    "duration": 263,
    "start_time": "2023-06-10T22:23:35.935Z"
   },
   {
    "duration": 367,
    "start_time": "2023-06-10T22:23:46.968Z"
   },
   {
    "duration": 618,
    "start_time": "2023-06-10T22:23:58.844Z"
   },
   {
    "duration": 364,
    "start_time": "2023-06-10T22:24:06.659Z"
   },
   {
    "duration": 379,
    "start_time": "2023-06-10T22:24:12.509Z"
   },
   {
    "duration": 339,
    "start_time": "2023-06-10T22:24:15.466Z"
   },
   {
    "duration": 360,
    "start_time": "2023-06-10T22:24:27.162Z"
   },
   {
    "duration": 348,
    "start_time": "2023-06-10T22:24:34.720Z"
   },
   {
    "duration": 2602,
    "start_time": "2023-06-10T22:25:40.660Z"
   },
   {
    "duration": 4,
    "start_time": "2023-06-10T22:29:42.935Z"
   },
   {
    "duration": 17,
    "start_time": "2023-06-10T22:32:37.536Z"
   },
   {
    "duration": 4,
    "start_time": "2023-06-10T22:34:34.822Z"
   },
   {
    "duration": 5,
    "start_time": "2023-06-10T22:34:39.123Z"
   },
   {
    "duration": 47,
    "start_time": "2023-06-11T18:08:26.146Z"
   },
   {
    "duration": 26088,
    "start_time": "2023-06-11T18:08:36.142Z"
   },
   {
    "duration": 0,
    "start_time": "2023-06-11T18:09:02.236Z"
   },
   {
    "duration": 12,
    "start_time": "2023-06-11T18:09:13.369Z"
   },
   {
    "duration": 12,
    "start_time": "2023-06-11T18:09:25.529Z"
   },
   {
    "duration": 24624,
    "start_time": "2023-06-11T18:12:36.387Z"
   },
   {
    "duration": 1221,
    "start_time": "2023-06-11T18:13:37.774Z"
   },
   {
    "duration": 110,
    "start_time": "2023-06-11T18:14:01.461Z"
   },
   {
    "duration": 450,
    "start_time": "2023-06-11T18:14:04.323Z"
   },
   {
    "duration": 410,
    "start_time": "2023-06-11T18:14:05.462Z"
   },
   {
    "duration": 4,
    "start_time": "2023-06-11T18:15:58.942Z"
   },
   {
    "duration": 16,
    "start_time": "2023-06-11T18:15:59.253Z"
   },
   {
    "duration": 13,
    "start_time": "2023-06-11T18:16:00.125Z"
   },
   {
    "duration": 18,
    "start_time": "2023-06-11T18:16:10.165Z"
   },
   {
    "duration": 50,
    "start_time": "2023-06-11T18:16:11.970Z"
   },
   {
    "duration": 459,
    "start_time": "2023-06-11T18:16:30.946Z"
   },
   {
    "duration": 487,
    "start_time": "2023-06-11T18:16:32.002Z"
   },
   {
    "duration": 24,
    "start_time": "2023-06-11T18:17:21.129Z"
   },
   {
    "duration": 68,
    "start_time": "2023-06-11T18:17:43.190Z"
   },
   {
    "duration": 19,
    "start_time": "2023-06-11T18:18:37.689Z"
   },
   {
    "duration": 6,
    "start_time": "2023-06-11T18:20:34.094Z"
   },
   {
    "duration": 285,
    "start_time": "2023-06-11T18:21:46.786Z"
   },
   {
    "duration": 295,
    "start_time": "2023-06-11T18:21:49.953Z"
   },
   {
    "duration": 29,
    "start_time": "2023-06-11T18:21:58.612Z"
   },
   {
    "duration": 347,
    "start_time": "2023-06-11T18:22:33.063Z"
   },
   {
    "duration": 21,
    "start_time": "2023-06-11T18:22:36.537Z"
   },
   {
    "duration": 90,
    "start_time": "2023-06-11T18:23:16.206Z"
   },
   {
    "duration": 648,
    "start_time": "2023-06-11T18:23:31.377Z"
   },
   {
    "duration": 696,
    "start_time": "2023-06-11T18:23:35.073Z"
   },
   {
    "duration": 643,
    "start_time": "2023-06-11T18:23:51.131Z"
   },
   {
    "duration": 231,
    "start_time": "2023-06-11T18:24:17.316Z"
   },
   {
    "duration": 12,
    "start_time": "2023-06-11T18:25:03.186Z"
   },
   {
    "duration": 26,
    "start_time": "2023-06-11T18:25:03.662Z"
   },
   {
    "duration": 31,
    "start_time": "2023-06-11T18:25:04.036Z"
   },
   {
    "duration": 5,
    "start_time": "2023-06-11T18:25:04.462Z"
   },
   {
    "duration": 144,
    "start_time": "2023-06-11T18:25:21.059Z"
   },
   {
    "duration": 443,
    "start_time": "2023-06-11T18:29:24.720Z"
   },
   {
    "duration": 65,
    "start_time": "2023-06-11T18:29:51.629Z"
   },
   {
    "duration": 75,
    "start_time": "2023-06-11T18:30:38.420Z"
   },
   {
    "duration": 28,
    "start_time": "2023-06-11T18:30:39.015Z"
   },
   {
    "duration": 1834,
    "start_time": "2023-06-11T18:30:39.563Z"
   },
   {
    "duration": 6,
    "start_time": "2023-06-11T18:30:58.630Z"
   },
   {
    "duration": 4,
    "start_time": "2023-06-11T18:31:08.504Z"
   },
   {
    "duration": 51,
    "start_time": "2023-06-11T19:29:51.193Z"
   },
   {
    "duration": 56007,
    "start_time": "2023-06-11T19:29:53.747Z"
   },
   {
    "duration": 3690,
    "start_time": "2023-06-11T19:31:04.721Z"
   },
   {
    "duration": 138,
    "start_time": "2023-06-11T19:31:14.687Z"
   },
   {
    "duration": 402,
    "start_time": "2023-06-11T19:31:15.506Z"
   },
   {
    "duration": 395,
    "start_time": "2023-06-11T19:31:17.622Z"
   },
   {
    "duration": 3,
    "start_time": "2023-06-11T19:31:20.336Z"
   },
   {
    "duration": 111,
    "start_time": "2023-06-11T19:31:23.531Z"
   },
   {
    "duration": 46,
    "start_time": "2023-06-11T19:31:26.826Z"
   },
   {
    "duration": 6,
    "start_time": "2023-06-11T19:31:30.088Z"
   },
   {
    "duration": 19,
    "start_time": "2023-06-11T19:31:30.882Z"
   },
   {
    "duration": 15,
    "start_time": "2023-06-11T19:31:31.748Z"
   },
   {
    "duration": 19,
    "start_time": "2023-06-11T19:31:32.288Z"
   },
   {
    "duration": 47,
    "start_time": "2023-06-11T19:31:33.500Z"
   },
   {
    "duration": 567,
    "start_time": "2023-06-11T19:31:39.257Z"
   },
   {
    "duration": 471,
    "start_time": "2023-06-11T19:31:40.319Z"
   },
   {
    "duration": 25,
    "start_time": "2023-06-11T19:31:47.387Z"
   },
   {
    "duration": 76,
    "start_time": "2023-06-11T19:31:51.242Z"
   },
   {
    "duration": 18,
    "start_time": "2023-06-11T19:31:53.504Z"
   },
   {
    "duration": 149,
    "start_time": "2023-06-11T19:31:54.624Z"
   },
   {
    "duration": 385,
    "start_time": "2023-06-11T19:34:22.544Z"
   },
   {
    "duration": 353,
    "start_time": "2023-06-11T19:34:25.489Z"
   },
   {
    "duration": 25,
    "start_time": "2023-06-11T19:34:28.021Z"
   },
   {
    "duration": 398,
    "start_time": "2023-06-11T19:34:28.942Z"
   },
   {
    "duration": 19,
    "start_time": "2023-06-11T19:34:31.189Z"
   },
   {
    "duration": 96,
    "start_time": "2023-06-11T19:34:32.940Z"
   },
   {
    "duration": 783,
    "start_time": "2023-06-11T19:34:33.710Z"
   },
   {
    "duration": 784,
    "start_time": "2023-06-11T19:34:34.735Z"
   },
   {
    "duration": 780,
    "start_time": "2023-06-11T19:34:38.994Z"
   },
   {
    "duration": 233,
    "start_time": "2023-06-11T19:34:43.112Z"
   },
   {
    "duration": 17,
    "start_time": "2023-06-11T19:34:44.083Z"
   },
   {
    "duration": 29,
    "start_time": "2023-06-11T19:34:45.589Z"
   },
   {
    "duration": 52,
    "start_time": "2023-06-11T19:34:46.138Z"
   },
   {
    "duration": 4,
    "start_time": "2023-06-11T19:34:48.649Z"
   },
   {
    "duration": 135,
    "start_time": "2023-06-11T19:34:57.723Z"
   },
   {
    "duration": 167,
    "start_time": "2023-06-11T19:36:01.963Z"
   },
   {
    "duration": 4,
    "start_time": "2023-06-11T19:36:03.694Z"
   },
   {
    "duration": 398,
    "start_time": "2023-06-11T19:37:05.152Z"
   },
   {
    "duration": 5,
    "start_time": "2023-06-11T19:37:21.091Z"
   },
   {
    "duration": 1022,
    "start_time": "2023-06-11T19:37:21.099Z"
   },
   {
    "duration": 79,
    "start_time": "2023-06-11T19:37:22.123Z"
   },
   {
    "duration": 410,
    "start_time": "2023-06-11T19:37:22.205Z"
   },
   {
    "duration": 402,
    "start_time": "2023-06-11T19:37:22.616Z"
   },
   {
    "duration": 2,
    "start_time": "2023-06-11T19:37:23.020Z"
   },
   {
    "duration": 128,
    "start_time": "2023-06-11T19:37:23.023Z"
   },
   {
    "duration": 30,
    "start_time": "2023-06-11T19:37:23.153Z"
   },
   {
    "duration": 5,
    "start_time": "2023-06-11T19:37:23.186Z"
   },
   {
    "duration": 26,
    "start_time": "2023-06-11T19:37:23.193Z"
   },
   {
    "duration": 11,
    "start_time": "2023-06-11T19:37:23.221Z"
   },
   {
    "duration": 53,
    "start_time": "2023-06-11T19:37:23.233Z"
   },
   {
    "duration": 57,
    "start_time": "2023-06-11T19:37:23.288Z"
   },
   {
    "duration": 440,
    "start_time": "2023-06-11T19:37:23.346Z"
   },
   {
    "duration": 531,
    "start_time": "2023-06-11T19:37:23.788Z"
   },
   {
    "duration": 26,
    "start_time": "2023-06-11T19:37:24.321Z"
   },
   {
    "duration": 54,
    "start_time": "2023-06-11T19:37:24.372Z"
   },
   {
    "duration": 15,
    "start_time": "2023-06-11T19:37:24.428Z"
   },
   {
    "duration": 161,
    "start_time": "2023-06-11T19:37:24.445Z"
   },
   {
    "duration": 349,
    "start_time": "2023-06-11T19:37:24.608Z"
   },
   {
    "duration": 359,
    "start_time": "2023-06-11T19:37:24.974Z"
   },
   {
    "duration": 32,
    "start_time": "2023-06-11T19:37:25.335Z"
   },
   {
    "duration": 373,
    "start_time": "2023-06-11T19:37:25.369Z"
   },
   {
    "duration": 28,
    "start_time": "2023-06-11T19:37:25.745Z"
   },
   {
    "duration": 88,
    "start_time": "2023-06-11T19:37:25.775Z"
   },
   {
    "duration": 882,
    "start_time": "2023-06-11T19:37:25.866Z"
   },
   {
    "duration": 675,
    "start_time": "2023-06-11T19:37:26.749Z"
   },
   {
    "duration": 725,
    "start_time": "2023-06-11T19:37:27.426Z"
   },
   {
    "duration": 249,
    "start_time": "2023-06-11T19:37:28.153Z"
   },
   {
    "duration": 11,
    "start_time": "2023-06-11T19:37:28.404Z"
   },
   {
    "duration": 66,
    "start_time": "2023-06-11T19:37:28.416Z"
   },
   {
    "duration": 36,
    "start_time": "2023-06-11T19:37:28.484Z"
   },
   {
    "duration": 148,
    "start_time": "2023-06-11T19:37:28.522Z"
   },
   {
    "duration": 164,
    "start_time": "2023-06-11T19:37:28.672Z"
   },
   {
    "duration": 3,
    "start_time": "2023-06-11T19:37:28.838Z"
   },
   {
    "duration": 276,
    "start_time": "2023-06-11T19:37:32.217Z"
   },
   {
    "duration": 23,
    "start_time": "2023-06-11T19:39:07.615Z"
   },
   {
    "duration": 5,
    "start_time": "2023-06-11T19:40:04.488Z"
   },
   {
    "duration": 941,
    "start_time": "2023-06-11T19:40:04.495Z"
   },
   {
    "duration": 75,
    "start_time": "2023-06-11T19:40:05.438Z"
   },
   {
    "duration": 375,
    "start_time": "2023-06-11T19:40:05.515Z"
   },
   {
    "duration": 364,
    "start_time": "2023-06-11T19:40:05.893Z"
   },
   {
    "duration": 18,
    "start_time": "2023-06-11T19:40:06.267Z"
   },
   {
    "duration": 107,
    "start_time": "2023-06-11T19:40:06.289Z"
   },
   {
    "duration": 26,
    "start_time": "2023-06-11T19:40:06.397Z"
   },
   {
    "duration": 4,
    "start_time": "2023-06-11T19:40:06.425Z"
   },
   {
    "duration": 44,
    "start_time": "2023-06-11T19:40:06.430Z"
   },
   {
    "duration": 13,
    "start_time": "2023-06-11T19:40:06.476Z"
   },
   {
    "duration": 36,
    "start_time": "2023-06-11T19:40:06.492Z"
   },
   {
    "duration": 53,
    "start_time": "2023-06-11T19:40:06.530Z"
   },
   {
    "duration": 437,
    "start_time": "2023-06-11T19:40:06.587Z"
   },
   {
    "duration": 476,
    "start_time": "2023-06-11T19:40:07.025Z"
   },
   {
    "duration": 25,
    "start_time": "2023-06-11T19:40:07.503Z"
   },
   {
    "duration": 79,
    "start_time": "2023-06-11T19:40:07.530Z"
   },
   {
    "duration": 17,
    "start_time": "2023-06-11T19:40:07.610Z"
   },
   {
    "duration": 119,
    "start_time": "2023-06-11T19:40:07.628Z"
   },
   {
    "duration": 359,
    "start_time": "2023-06-11T19:40:07.748Z"
   },
   {
    "duration": 401,
    "start_time": "2023-06-11T19:40:08.108Z"
   },
   {
    "duration": 27,
    "start_time": "2023-06-11T19:40:08.511Z"
   },
   {
    "duration": 401,
    "start_time": "2023-06-11T19:40:08.540Z"
   },
   {
    "duration": 28,
    "start_time": "2023-06-11T19:40:08.943Z"
   },
   {
    "duration": 86,
    "start_time": "2023-06-11T19:40:08.973Z"
   },
   {
    "duration": 861,
    "start_time": "2023-06-11T19:40:09.061Z"
   },
   {
    "duration": 706,
    "start_time": "2023-06-11T19:40:09.924Z"
   },
   {
    "duration": 755,
    "start_time": "2023-06-11T19:40:10.632Z"
   },
   {
    "duration": 239,
    "start_time": "2023-06-11T19:40:11.389Z"
   },
   {
    "duration": 15,
    "start_time": "2023-06-11T19:40:11.630Z"
   },
   {
    "duration": 64,
    "start_time": "2023-06-11T19:40:11.647Z"
   },
   {
    "duration": 28,
    "start_time": "2023-06-11T19:40:11.712Z"
   },
   {
    "duration": 159,
    "start_time": "2023-06-11T19:40:11.742Z"
   },
   {
    "duration": 209,
    "start_time": "2023-06-11T19:40:11.903Z"
   },
   {
    "duration": 4,
    "start_time": "2023-06-11T19:40:12.114Z"
   },
   {
    "duration": 19,
    "start_time": "2023-06-11T19:40:12.119Z"
   },
   {
    "duration": 298,
    "start_time": "2023-06-11T19:40:12.139Z"
   },
   {
    "duration": 344,
    "start_time": "2023-06-11T19:41:43.955Z"
   },
   {
    "duration": 18,
    "start_time": "2023-06-11T19:42:57.629Z"
   },
   {
    "duration": 893,
    "start_time": "2023-06-11T19:44:22.207Z"
   },
   {
    "duration": 945,
    "start_time": "2023-06-11T19:44:31.289Z"
   },
   {
    "duration": 26,
    "start_time": "2023-06-11T19:44:38.987Z"
   },
   {
    "duration": 12,
    "start_time": "2023-06-11T19:47:34.315Z"
   },
   {
    "duration": 50,
    "start_time": "2023-06-11T19:47:38.899Z"
   },
   {
    "duration": 28,
    "start_time": "2023-06-11T19:47:48.600Z"
   },
   {
    "duration": 20,
    "start_time": "2023-06-11T19:47:55.509Z"
   },
   {
    "duration": 5,
    "start_time": "2023-06-11T19:48:18.387Z"
   },
   {
    "duration": 940,
    "start_time": "2023-06-11T19:48:18.394Z"
   },
   {
    "duration": 72,
    "start_time": "2023-06-11T19:48:19.335Z"
   },
   {
    "duration": 338,
    "start_time": "2023-06-11T19:48:19.408Z"
   },
   {
    "duration": 402,
    "start_time": "2023-06-11T19:48:19.748Z"
   },
   {
    "duration": 7,
    "start_time": "2023-06-11T19:48:20.152Z"
   },
   {
    "duration": 94,
    "start_time": "2023-06-11T19:48:20.167Z"
   },
   {
    "duration": 24,
    "start_time": "2023-06-11T19:48:20.263Z"
   },
   {
    "duration": 4,
    "start_time": "2023-06-11T19:48:20.289Z"
   },
   {
    "duration": 26,
    "start_time": "2023-06-11T19:48:20.294Z"
   },
   {
    "duration": 10,
    "start_time": "2023-06-11T19:48:20.322Z"
   },
   {
    "duration": 37,
    "start_time": "2023-06-11T19:48:20.334Z"
   },
   {
    "duration": 40,
    "start_time": "2023-06-11T19:48:20.374Z"
   },
   {
    "duration": 388,
    "start_time": "2023-06-11T19:48:20.415Z"
   },
   {
    "duration": 447,
    "start_time": "2023-06-11T19:48:20.805Z"
   },
   {
    "duration": 33,
    "start_time": "2023-06-11T19:48:21.257Z"
   },
   {
    "duration": 65,
    "start_time": "2023-06-11T19:48:21.292Z"
   },
   {
    "duration": 29,
    "start_time": "2023-06-11T19:48:21.360Z"
   },
   {
    "duration": 109,
    "start_time": "2023-06-11T19:48:21.391Z"
   },
   {
    "duration": 306,
    "start_time": "2023-06-11T19:48:21.502Z"
   },
   {
    "duration": 502,
    "start_time": "2023-06-11T19:48:21.810Z"
   },
   {
    "duration": 26,
    "start_time": "2023-06-11T19:48:22.314Z"
   },
   {
    "duration": 367,
    "start_time": "2023-06-11T19:48:22.341Z"
   },
   {
    "duration": 16,
    "start_time": "2023-06-11T19:48:22.710Z"
   },
   {
    "duration": 74,
    "start_time": "2023-06-11T19:48:22.727Z"
   },
   {
    "duration": 650,
    "start_time": "2023-06-11T19:48:22.803Z"
   },
   {
    "duration": 761,
    "start_time": "2023-06-11T19:48:23.455Z"
   },
   {
    "duration": 638,
    "start_time": "2023-06-11T19:48:24.218Z"
   },
   {
    "duration": 249,
    "start_time": "2023-06-11T19:48:24.861Z"
   },
   {
    "duration": 11,
    "start_time": "2023-06-11T19:48:25.112Z"
   },
   {
    "duration": 42,
    "start_time": "2023-06-11T19:48:25.125Z"
   },
   {
    "duration": 33,
    "start_time": "2023-06-11T19:48:25.168Z"
   },
   {
    "duration": 156,
    "start_time": "2023-06-11T19:48:25.203Z"
   },
   {
    "duration": 163,
    "start_time": "2023-06-11T19:48:25.362Z"
   },
   {
    "duration": 4,
    "start_time": "2023-06-11T19:48:25.526Z"
   },
   {
    "duration": 52,
    "start_time": "2023-06-11T19:48:25.532Z"
   },
   {
    "duration": 23,
    "start_time": "2023-06-11T19:48:25.586Z"
   },
   {
    "duration": 38,
    "start_time": "2023-06-11T19:48:25.611Z"
   },
   {
    "duration": 22,
    "start_time": "2023-06-11T19:48:25.651Z"
   },
   {
    "duration": 19,
    "start_time": "2023-06-11T19:48:29.130Z"
   },
   {
    "duration": 396,
    "start_time": "2023-06-11T19:48:29.761Z"
   },
   {
    "duration": 200,
    "start_time": "2023-06-11T19:49:59.573Z"
   },
   {
    "duration": 76,
    "start_time": "2023-06-11T19:50:05.273Z"
   },
   {
    "duration": 28,
    "start_time": "2023-06-11T19:50:07.732Z"
   },
   {
    "duration": 1460,
    "start_time": "2023-06-11T19:50:15.453Z"
   },
   {
    "duration": 16,
    "start_time": "2023-06-11T19:50:22.783Z"
   },
   {
    "duration": 2098,
    "start_time": "2023-06-11T20:11:45.391Z"
   },
   {
    "duration": 929,
    "start_time": "2023-06-11T20:11:47.492Z"
   },
   {
    "duration": 121,
    "start_time": "2023-06-11T20:11:48.423Z"
   },
   {
    "duration": 324,
    "start_time": "2023-06-11T20:11:48.546Z"
   },
   {
    "duration": 316,
    "start_time": "2023-06-11T20:11:48.873Z"
   },
   {
    "duration": 2,
    "start_time": "2023-06-11T20:11:49.191Z"
   },
   {
    "duration": 103,
    "start_time": "2023-06-11T20:11:49.195Z"
   },
   {
    "duration": 37,
    "start_time": "2023-06-11T20:11:49.300Z"
   },
   {
    "duration": 19,
    "start_time": "2023-06-11T20:11:49.338Z"
   },
   {
    "duration": 19,
    "start_time": "2023-06-11T20:11:49.359Z"
   },
   {
    "duration": 10,
    "start_time": "2023-06-11T20:11:49.380Z"
   },
   {
    "duration": 18,
    "start_time": "2023-06-11T20:11:49.391Z"
   },
   {
    "duration": 76,
    "start_time": "2023-06-11T20:11:49.411Z"
   },
   {
    "duration": 430,
    "start_time": "2023-06-11T20:11:49.490Z"
   },
   {
    "duration": 435,
    "start_time": "2023-06-11T20:11:49.922Z"
   },
   {
    "duration": 25,
    "start_time": "2023-06-11T20:11:50.359Z"
   },
   {
    "duration": 63,
    "start_time": "2023-06-11T20:11:50.386Z"
   },
   {
    "duration": 25,
    "start_time": "2023-06-11T20:11:50.458Z"
   },
   {
    "duration": 112,
    "start_time": "2023-06-11T20:11:50.485Z"
   },
   {
    "duration": 333,
    "start_time": "2023-06-11T20:11:50.599Z"
   },
   {
    "duration": 309,
    "start_time": "2023-06-11T20:11:50.934Z"
   },
   {
    "duration": 28,
    "start_time": "2023-06-11T20:11:51.244Z"
   },
   {
    "duration": 346,
    "start_time": "2023-06-11T20:11:51.275Z"
   },
   {
    "duration": 22,
    "start_time": "2023-06-11T20:11:51.623Z"
   },
   {
    "duration": 87,
    "start_time": "2023-06-11T20:11:51.647Z"
   },
   {
    "duration": 810,
    "start_time": "2023-06-11T20:11:51.736Z"
   },
   {
    "duration": 565,
    "start_time": "2023-06-11T20:11:52.548Z"
   },
   {
    "duration": 627,
    "start_time": "2023-06-11T20:11:53.114Z"
   },
   {
    "duration": 229,
    "start_time": "2023-06-11T20:11:53.744Z"
   },
   {
    "duration": 17,
    "start_time": "2023-06-11T20:11:53.975Z"
   },
   {
    "duration": 42,
    "start_time": "2023-06-11T20:11:53.997Z"
   },
   {
    "duration": 36,
    "start_time": "2023-06-11T20:11:54.042Z"
   },
   {
    "duration": 119,
    "start_time": "2023-06-11T20:11:54.080Z"
   },
   {
    "duration": 146,
    "start_time": "2023-06-11T20:11:54.201Z"
   },
   {
    "duration": 9,
    "start_time": "2023-06-11T20:11:54.349Z"
   },
   {
    "duration": 179,
    "start_time": "2023-06-11T20:11:54.359Z"
   },
   {
    "duration": 0,
    "start_time": "2023-06-11T20:11:54.540Z"
   },
   {
    "duration": 0,
    "start_time": "2023-06-11T20:11:54.541Z"
   },
   {
    "duration": 0,
    "start_time": "2023-06-11T20:11:54.543Z"
   },
   {
    "duration": 0,
    "start_time": "2023-06-11T20:11:54.557Z"
   },
   {
    "duration": 0,
    "start_time": "2023-06-11T20:11:54.558Z"
   },
   {
    "duration": 0,
    "start_time": "2023-06-11T20:11:54.559Z"
   },
   {
    "duration": 0,
    "start_time": "2023-06-11T20:11:54.560Z"
   },
   {
    "duration": 0,
    "start_time": "2023-06-11T20:11:54.562Z"
   },
   {
    "duration": 0,
    "start_time": "2023-06-11T20:11:54.563Z"
   },
   {
    "duration": 0,
    "start_time": "2023-06-11T20:11:54.564Z"
   },
   {
    "duration": 0,
    "start_time": "2023-06-11T20:11:54.567Z"
   },
   {
    "duration": 0,
    "start_time": "2023-06-11T20:11:54.568Z"
   },
   {
    "duration": 0,
    "start_time": "2023-06-11T20:11:54.569Z"
   },
   {
    "duration": 0,
    "start_time": "2023-06-11T20:11:54.570Z"
   },
   {
    "duration": 0,
    "start_time": "2023-06-11T20:11:54.571Z"
   },
   {
    "duration": 0,
    "start_time": "2023-06-11T20:11:54.572Z"
   },
   {
    "duration": 0,
    "start_time": "2023-06-11T20:11:54.573Z"
   },
   {
    "duration": 2127,
    "start_time": "2023-06-11T20:12:40.142Z"
   },
   {
    "duration": 944,
    "start_time": "2023-06-11T20:12:42.272Z"
   },
   {
    "duration": 125,
    "start_time": "2023-06-11T20:12:43.218Z"
   },
   {
    "duration": 313,
    "start_time": "2023-06-11T20:12:43.345Z"
   },
   {
    "duration": 382,
    "start_time": "2023-06-11T20:12:43.660Z"
   },
   {
    "duration": 2,
    "start_time": "2023-06-11T20:12:44.045Z"
   },
   {
    "duration": 93,
    "start_time": "2023-06-11T20:12:44.056Z"
   },
   {
    "duration": 37,
    "start_time": "2023-06-11T20:12:44.157Z"
   },
   {
    "duration": 5,
    "start_time": "2023-06-11T20:12:44.196Z"
   },
   {
    "duration": 17,
    "start_time": "2023-06-11T20:12:44.203Z"
   },
   {
    "duration": 37,
    "start_time": "2023-06-11T20:12:44.222Z"
   },
   {
    "duration": 18,
    "start_time": "2023-06-11T20:12:44.261Z"
   },
   {
    "duration": 47,
    "start_time": "2023-06-11T20:12:44.280Z"
   },
   {
    "duration": 435,
    "start_time": "2023-06-11T20:12:44.331Z"
   },
   {
    "duration": 496,
    "start_time": "2023-06-11T20:12:44.768Z"
   },
   {
    "duration": 23,
    "start_time": "2023-06-11T20:12:45.266Z"
   },
   {
    "duration": 92,
    "start_time": "2023-06-11T20:12:45.291Z"
   },
   {
    "duration": 19,
    "start_time": "2023-06-11T20:12:45.385Z"
   },
   {
    "duration": 114,
    "start_time": "2023-06-11T20:12:45.406Z"
   },
   {
    "duration": 338,
    "start_time": "2023-06-11T20:12:45.522Z"
   },
   {
    "duration": 342,
    "start_time": "2023-06-11T20:12:45.863Z"
   },
   {
    "duration": 27,
    "start_time": "2023-06-11T20:12:46.207Z"
   },
   {
    "duration": 343,
    "start_time": "2023-06-11T20:12:46.235Z"
   },
   {
    "duration": 18,
    "start_time": "2023-06-11T20:12:46.580Z"
   },
   {
    "duration": 98,
    "start_time": "2023-06-11T20:12:46.600Z"
   },
   {
    "duration": 809,
    "start_time": "2023-06-11T20:12:46.700Z"
   },
   {
    "duration": 625,
    "start_time": "2023-06-11T20:12:47.511Z"
   },
   {
    "duration": 636,
    "start_time": "2023-06-11T20:12:48.138Z"
   },
   {
    "duration": 203,
    "start_time": "2023-06-11T20:12:48.776Z"
   },
   {
    "duration": 12,
    "start_time": "2023-06-11T20:12:48.981Z"
   },
   {
    "duration": 32,
    "start_time": "2023-06-11T20:12:48.995Z"
   },
   {
    "duration": 38,
    "start_time": "2023-06-11T20:12:49.029Z"
   },
   {
    "duration": 122,
    "start_time": "2023-06-11T20:12:49.069Z"
   },
   {
    "duration": 147,
    "start_time": "2023-06-11T20:12:49.192Z"
   },
   {
    "duration": 5,
    "start_time": "2023-06-11T20:12:49.341Z"
   },
   {
    "duration": 20,
    "start_time": "2023-06-11T20:12:49.358Z"
   },
   {
    "duration": 32,
    "start_time": "2023-06-11T20:12:49.380Z"
   },
   {
    "duration": 37,
    "start_time": "2023-06-11T20:12:49.414Z"
   },
   {
    "duration": 20,
    "start_time": "2023-06-11T20:12:49.457Z"
   },
   {
    "duration": 308,
    "start_time": "2023-06-11T20:12:49.479Z"
   },
   {
    "duration": 67,
    "start_time": "2023-06-11T20:12:49.791Z"
   },
   {
    "duration": 64,
    "start_time": "2023-06-11T20:12:49.860Z"
   },
   {
    "duration": 37,
    "start_time": "2023-06-11T20:12:49.926Z"
   },
   {
    "duration": 1526,
    "start_time": "2023-06-11T20:12:49.965Z"
   },
   {
    "duration": 15,
    "start_time": "2023-06-11T20:12:51.493Z"
   },
   {
    "duration": 809276,
    "start_time": "2023-06-11T20:12:51.510Z"
   },
   {
    "duration": 0,
    "start_time": "2023-06-11T20:26:20.788Z"
   },
   {
    "duration": 0,
    "start_time": "2023-06-11T20:26:20.789Z"
   },
   {
    "duration": 0,
    "start_time": "2023-06-11T20:26:20.790Z"
   },
   {
    "duration": 0,
    "start_time": "2023-06-11T20:26:20.791Z"
   },
   {
    "duration": 0,
    "start_time": "2023-06-11T20:26:20.792Z"
   },
   {
    "duration": 0,
    "start_time": "2023-06-11T20:26:20.794Z"
   },
   {
    "duration": 0,
    "start_time": "2023-06-11T20:26:20.794Z"
   },
   {
    "duration": 2135,
    "start_time": "2023-06-11T20:27:44.059Z"
   },
   {
    "duration": 932,
    "start_time": "2023-06-11T20:27:46.196Z"
   },
   {
    "duration": 122,
    "start_time": "2023-06-11T20:27:47.130Z"
   },
   {
    "duration": 306,
    "start_time": "2023-06-11T20:27:47.257Z"
   },
   {
    "duration": 322,
    "start_time": "2023-06-11T20:27:47.565Z"
   },
   {
    "duration": 3,
    "start_time": "2023-06-11T20:27:47.890Z"
   },
   {
    "duration": 104,
    "start_time": "2023-06-11T20:27:47.895Z"
   },
   {
    "duration": 40,
    "start_time": "2023-06-11T20:27:48.001Z"
   },
   {
    "duration": 16,
    "start_time": "2023-06-11T20:27:48.043Z"
   },
   {
    "duration": 21,
    "start_time": "2023-06-11T20:27:48.062Z"
   },
   {
    "duration": 11,
    "start_time": "2023-06-11T20:27:48.084Z"
   },
   {
    "duration": 18,
    "start_time": "2023-06-11T20:27:48.097Z"
   },
   {
    "duration": 76,
    "start_time": "2023-06-11T20:27:48.117Z"
   },
   {
    "duration": 426,
    "start_time": "2023-06-11T20:27:48.195Z"
   },
   {
    "duration": 431,
    "start_time": "2023-06-11T20:27:48.623Z"
   },
   {
    "duration": 25,
    "start_time": "2023-06-11T20:27:49.056Z"
   },
   {
    "duration": 53,
    "start_time": "2023-06-11T20:27:49.083Z"
   },
   {
    "duration": 32,
    "start_time": "2023-06-11T20:27:49.138Z"
   },
   {
    "duration": 105,
    "start_time": "2023-06-11T20:27:49.171Z"
   },
   {
    "duration": 303,
    "start_time": "2023-06-11T20:27:49.278Z"
   },
   {
    "duration": 323,
    "start_time": "2023-06-11T20:27:49.583Z"
   },
   {
    "duration": 25,
    "start_time": "2023-06-11T20:27:49.909Z"
   },
   {
    "duration": 316,
    "start_time": "2023-06-11T20:27:49.936Z"
   },
   {
    "duration": 18,
    "start_time": "2023-06-11T20:27:50.254Z"
   },
   {
    "duration": 100,
    "start_time": "2023-06-11T20:27:50.274Z"
   },
   {
    "duration": 735,
    "start_time": "2023-06-11T20:27:50.376Z"
   },
   {
    "duration": 601,
    "start_time": "2023-06-11T20:27:51.112Z"
   },
   {
    "duration": 651,
    "start_time": "2023-06-11T20:27:51.717Z"
   },
   {
    "duration": 190,
    "start_time": "2023-06-11T20:27:52.370Z"
   },
   {
    "duration": 11,
    "start_time": "2023-06-11T20:27:52.562Z"
   },
   {
    "duration": 35,
    "start_time": "2023-06-11T20:27:52.574Z"
   },
   {
    "duration": 50,
    "start_time": "2023-06-11T20:27:52.611Z"
   },
   {
    "duration": 129,
    "start_time": "2023-06-11T20:27:52.663Z"
   },
   {
    "duration": 153,
    "start_time": "2023-06-11T20:27:52.793Z"
   },
   {
    "duration": 11,
    "start_time": "2023-06-11T20:27:52.948Z"
   },
   {
    "duration": 32,
    "start_time": "2023-06-11T20:27:52.961Z"
   },
   {
    "duration": 60,
    "start_time": "2023-06-11T20:27:52.995Z"
   },
   {
    "duration": 36,
    "start_time": "2023-06-11T20:27:53.057Z"
   },
   {
    "duration": 20,
    "start_time": "2023-06-11T20:27:53.095Z"
   },
   {
    "duration": 314,
    "start_time": "2023-06-11T20:27:53.117Z"
   },
   {
    "duration": 72,
    "start_time": "2023-06-11T20:27:53.433Z"
   },
   {
    "duration": 69,
    "start_time": "2023-06-11T20:27:53.507Z"
   },
   {
    "duration": 25,
    "start_time": "2023-06-11T20:27:53.577Z"
   },
   {
    "duration": 1465,
    "start_time": "2023-06-11T20:27:53.604Z"
   },
   {
    "duration": 15,
    "start_time": "2023-06-11T20:27:55.071Z"
   },
   {
    "duration": 843356,
    "start_time": "2023-06-11T20:27:55.088Z"
   },
   {
    "duration": 473211,
    "start_time": "2023-06-11T20:41:58.446Z"
   },
   {
    "duration": 3416266,
    "start_time": "2023-06-11T20:49:51.659Z"
   },
   {
    "duration": 86289,
    "start_time": "2023-06-11T21:46:47.926Z"
   },
   {
    "duration": 0,
    "start_time": "2023-06-11T21:48:14.216Z"
   },
   {
    "duration": 0,
    "start_time": "2023-06-11T21:48:14.218Z"
   },
   {
    "duration": 0,
    "start_time": "2023-06-11T21:48:14.219Z"
   },
   {
    "duration": 0,
    "start_time": "2023-06-11T21:48:14.220Z"
   },
   {
    "duration": 16,
    "start_time": "2023-06-11T21:52:02.249Z"
   },
   {
    "duration": 85443,
    "start_time": "2023-06-11T21:52:08.919Z"
   },
   {
    "duration": 10,
    "start_time": "2023-06-11T21:53:43.260Z"
   },
   {
    "duration": 977,
    "start_time": "2023-06-11T21:53:54.627Z"
   },
   {
    "duration": 335,
    "start_time": "2023-06-11T21:54:19.166Z"
   },
   {
    "duration": 4796,
    "start_time": "2023-06-11T21:57:40.566Z"
   },
   {
    "duration": 4,
    "start_time": "2023-06-11T21:58:34.514Z"
   },
   {
    "duration": 6,
    "start_time": "2023-06-11T21:58:46.343Z"
   }
  ],
  "kernelspec": {
   "display_name": "Python 3 (ipykernel)",
   "language": "python",
   "name": "python3"
  },
  "language_info": {
   "codemirror_mode": {
    "name": "ipython",
    "version": 3
   },
   "file_extension": ".py",
   "mimetype": "text/x-python",
   "name": "python",
   "nbconvert_exporter": "python",
   "pygments_lexer": "ipython3",
   "version": "3.9.7"
  },
  "toc": {
   "base_numbering": 1,
   "nav_menu": {},
   "number_sections": true,
   "sideBar": true,
   "skip_h1_title": true,
   "title_cell": "Table of Contents",
   "title_sidebar": "Contents",
   "toc_cell": false,
   "toc_position": {},
   "toc_section_display": true,
   "toc_window_display": false
  }
 },
 "nbformat": 4,
 "nbformat_minor": 2
}
