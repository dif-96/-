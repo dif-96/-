{
 "cells": [
  {
   "cell_type": "markdown",
   "metadata": {
    "toc": true
   },
   "source": [
    "<h1>Содержание<span class=\"tocSkip\"></span></h1>\n",
    "<div class=\"toc\"><ul class=\"toc-item\"><li><span><a href=\"#Подготовка\" data-toc-modified-id=\"Подготовка-1\"><span class=\"toc-item-num\">1&nbsp;&nbsp;</span>Подготовка</a></span></li><li><span><a href=\"#Обучение\" data-toc-modified-id=\"Обучение-2\"><span class=\"toc-item-num\">2&nbsp;&nbsp;</span>Обучение</a></span></li><li><span><a href=\"#Выводы\" data-toc-modified-id=\"Выводы-3\"><span class=\"toc-item-num\">3&nbsp;&nbsp;</span>Выводы</a></span></li><li><span><a href=\"#Чек-лист-проверки\" data-toc-modified-id=\"Чек-лист-проверки-4\"><span class=\"toc-item-num\">4&nbsp;&nbsp;</span>Чек-лист проверки</a></span></li></ul></div>"
   ]
  },
  {
   "cell_type": "markdown",
   "metadata": {},
   "source": [
    "# Проект для «Викишоп»"
   ]
  },
  {
   "cell_type": "markdown",
   "metadata": {},
   "source": [
    "Интернет-магазин «Викишоп» запускает новый сервис. Теперь пользователи могут редактировать и дополнять описания товаров, как в вики-сообществах. То есть клиенты предлагают свои правки и комментируют изменения других. Магазину нужен инструмент, который будет искать токсичные комментарии и отправлять их на модерацию. \n",
    "\n",
    "Необходимо обучить модель классифицировать комментарии на позитивные и негативные. В моем распоряжении набор данных с разметкой о токсичности правок.\n",
    "\n",
    "**Задача:** Пострить модель со значением метрики качества *F1* не меньше 0.75. \n",
    "\n",
    "**Описание данных:** Данные находятся в файле `toxic_comments.csv`. Столбец *text* в нём содержит текст комментария, а *toxic* — целевой признак."
   ]
  },
  {
   "cell_type": "code",
   "execution_count": 1,
   "metadata": {},
   "outputs": [
    {
     "name": "stderr",
     "output_type": "stream",
     "text": [
      "[nltk_data] Downloading package stopwords to\n",
      "[nltk_data]     C:\\Users\\dif-9\\AppData\\Roaming\\nltk_data...\n",
      "[nltk_data]   Package stopwords is already up-to-date!\n"
     ]
    },
    {
     "data": {
      "text/plain": [
       "True"
      ]
     },
     "execution_count": 1,
     "metadata": {},
     "output_type": "execute_result"
    }
   ],
   "source": [
    "# ! pip install nltk\n",
    "# ! pip install swifter\n",
    "# ! pip install razdel\n",
    "# ! pip install tqdm\n",
    "import pandas as pd\n",
    "import numpy as np\n",
    "\n",
    "import nltk\n",
    "from nltk.corpus import stopwords\n",
    "from nltk.stem import WordNetLemmatizer \n",
    "from nltk import pos_tag\n",
    "import re\n",
    "import swifter\n",
    "from razdel import tokenize\n",
    "from tqdm.notebook import tqdm\n",
    "\n",
    "from sklearn.model_selection import train_test_split, cross_val_score, RandomizedSearchCV\n",
    "from sklearn.feature_extraction.text import TfidfVectorizer, CountVectorizer\n",
    "from sklearn.linear_model import LogisticRegression\n",
    "from sklearn.metrics import accuracy_score, f1_score, roc_curve, confusion_matrix\n",
    "from catboost import CatBoostClassifier\n",
    "\n",
    "import matplotlib.pyplot as plt\n",
    "import seaborn as sns\n",
    "\n",
    "import warnings\n",
    "warnings.simplefilter(\"ignore\")\n",
    "\n",
    "nltk.download('stopwords')"
   ]
  },
  {
   "cell_type": "markdown",
   "metadata": {},
   "source": [
    "## Подготовка"
   ]
  },
  {
   "cell_type": "markdown",
   "metadata": {},
   "source": [
    "Загружу данные"
   ]
  },
  {
   "cell_type": "code",
   "execution_count": 2,
   "metadata": {},
   "outputs": [],
   "source": [
    "try:\n",
    "    df = pd.read_csv('toxic_comments.csv')\n",
    "except:\n",
    "    df = pd.read_csv('/datasets/toxic_comments.csv')\n",
    "data = df.copy()"
   ]
  },
  {
   "cell_type": "code",
   "execution_count": 3,
   "metadata": {},
   "outputs": [
    {
     "data": {
      "text/html": [
       "<div>\n",
       "<style scoped>\n",
       "    .dataframe tbody tr th:only-of-type {\n",
       "        vertical-align: middle;\n",
       "    }\n",
       "\n",
       "    .dataframe tbody tr th {\n",
       "        vertical-align: top;\n",
       "    }\n",
       "\n",
       "    .dataframe thead th {\n",
       "        text-align: right;\n",
       "    }\n",
       "</style>\n",
       "<table border=\"1\" class=\"dataframe\">\n",
       "  <thead>\n",
       "    <tr style=\"text-align: right;\">\n",
       "      <th></th>\n",
       "      <th>Unnamed: 0</th>\n",
       "      <th>text</th>\n",
       "      <th>toxic</th>\n",
       "    </tr>\n",
       "  </thead>\n",
       "  <tbody>\n",
       "    <tr>\n",
       "      <th>0</th>\n",
       "      <td>0</td>\n",
       "      <td>Explanation\\nWhy the edits made under my usern...</td>\n",
       "      <td>0</td>\n",
       "    </tr>\n",
       "    <tr>\n",
       "      <th>1</th>\n",
       "      <td>1</td>\n",
       "      <td>D'aww! He matches this background colour I'm s...</td>\n",
       "      <td>0</td>\n",
       "    </tr>\n",
       "    <tr>\n",
       "      <th>2</th>\n",
       "      <td>2</td>\n",
       "      <td>Hey man, I'm really not trying to edit war. It...</td>\n",
       "      <td>0</td>\n",
       "    </tr>\n",
       "    <tr>\n",
       "      <th>3</th>\n",
       "      <td>3</td>\n",
       "      <td>\"\\nMore\\nI can't make any real suggestions on ...</td>\n",
       "      <td>0</td>\n",
       "    </tr>\n",
       "    <tr>\n",
       "      <th>4</th>\n",
       "      <td>4</td>\n",
       "      <td>You, sir, are my hero. Any chance you remember...</td>\n",
       "      <td>0</td>\n",
       "    </tr>\n",
       "  </tbody>\n",
       "</table>\n",
       "</div>"
      ],
      "text/plain": [
       "   Unnamed: 0                                               text  toxic\n",
       "0           0  Explanation\\nWhy the edits made under my usern...      0\n",
       "1           1  D'aww! He matches this background colour I'm s...      0\n",
       "2           2  Hey man, I'm really not trying to edit war. It...      0\n",
       "3           3  \"\\nMore\\nI can't make any real suggestions on ...      0\n",
       "4           4  You, sir, are my hero. Any chance you remember...      0"
      ]
     },
     "execution_count": 3,
     "metadata": {},
     "output_type": "execute_result"
    }
   ],
   "source": [
    "data.head()"
   ]
  },
  {
   "cell_type": "code",
   "execution_count": 4,
   "metadata": {},
   "outputs": [
    {
     "data": {
      "image/png": "[encoded data removed]",
      "text/plain": [
       "<Figure size 432x288 with 1 Axes>"
      ]
     },
     "metadata": {},
     "output_type": "display_data"
    }
   ],
   "source": [
    "plt.pie(data['toxic'].value_counts(), labels=['Добрые', 'Токсичные'], \n",
    "        radius=1.2, autopct='%1.1f%%', colors=sns.color_palette('pastel')[0:2])\n",
    "plt.title('Соотношение токсичных и доброжелательных комментариев');"
   ]
  },
  {
   "cell_type": "markdown",
   "metadata": {},
   "source": [
    "Токсичных комментариев в 10 раз меньше доброжелательных/нейтральных.\n",
    "\n",
    "Выполню чистку каждого комментария, избавившись от цифр/знаков с помощью регулярных выражений. Лемматизация проводится с помощью `WordNetLemmatizer` c учетом part-of-speech (POS)."
   ]
  },
  {
   "cell_type": "code",
   "execution_count": 5,
   "metadata": {},
   "outputs": [
    {
     "name": "stderr",
     "output_type": "stream",
     "text": [
      "[nltk_data] Downloading package punkt to\n",
      "[nltk_data]     C:\\Users\\dif-9\\AppData\\Roaming\\nltk_data...\n",
      "[nltk_data]   Package punkt is already up-to-date!\n"
     ]
    }
   ],
   "source": [
    "def clear_text(text):\n",
    "    text = text.lower().strip('\\n').strip('\\r').strip('\\t')\n",
    "    text_sub = re.sub(r'[^a-zA-Z\\'t\\'m\\'s]', ' ', text)\n",
    "    text_list = text_sub.split()\n",
    "    return ' '.join(text_list)\n",
    "\n",
    "wnl = WordNetLemmatizer()\n",
    "nltk.download('punkt')\n",
    "def penn2morphy(penntag):\n",
    "    \"\"\" Converts Penn Treebank tags to WordNet. \"\"\"\n",
    "    morphy_tag = {'NN':'n', 'JJ':'a',\n",
    "                  'VB':'v', 'RB':'r'}\n",
    "    try:\n",
    "        return morphy_tag[penntag[:2]]\n",
    "    except:\n",
    "        return 'n' \n",
    "\n",
    "def lemmatize_sent(text): \n",
    "    return ' '.join([wnl.lemmatize(word.lower(), pos=penn2morphy(tag)) \n",
    "            for word, tag in pos_tag(nltk.word_tokenize(text))])"
   ]
  },
  {
   "cell_type": "code",
   "execution_count": 6,
   "metadata": {},
   "outputs": [
    {
     "data": {
      "application/vnd.jupyter.widget-view+json": {
       "model_id": "17df75831592470eb0e6bc662e6b9c3d",
       "version_major": 2,
       "version_minor": 0
      },
      "text/plain": [
       "Pandas Apply:   0%|          | 0/159292 [00:00<?, ?it/s]"
      ]
     },
     "metadata": {},
     "output_type": "display_data"
    },
    {
     "name": "stdout",
     "output_type": "stream",
     "text": [
      "Wall time: 6.93 s\n"
     ]
    }
   ],
   "source": [
    "%%time\n",
    "data['clear'] = data['text'].swifter.apply(clear_text)"
   ]
  },
  {
   "cell_type": "code",
   "execution_count": 7,
   "metadata": {},
   "outputs": [
    {
     "data": {
      "text/html": [
       "<div>\n",
       "<style scoped>\n",
       "    .dataframe tbody tr th:only-of-type {\n",
       "        vertical-align: middle;\n",
       "    }\n",
       "\n",
       "    .dataframe tbody tr th {\n",
       "        vertical-align: top;\n",
       "    }\n",
       "\n",
       "    .dataframe thead th {\n",
       "        text-align: right;\n",
       "    }\n",
       "</style>\n",
       "<table border=\"1\" class=\"dataframe\">\n",
       "  <thead>\n",
       "    <tr style=\"text-align: right;\">\n",
       "      <th></th>\n",
       "      <th>Unnamed: 0</th>\n",
       "      <th>text</th>\n",
       "      <th>toxic</th>\n",
       "      <th>clear</th>\n",
       "    </tr>\n",
       "  </thead>\n",
       "  <tbody>\n",
       "    <tr>\n",
       "      <th>0</th>\n",
       "      <td>0</td>\n",
       "      <td>Explanation\\nWhy the edits made under my usern...</td>\n",
       "      <td>0</td>\n",
       "      <td>explanation why the edits made under my userna...</td>\n",
       "    </tr>\n",
       "    <tr>\n",
       "      <th>1</th>\n",
       "      <td>1</td>\n",
       "      <td>D'aww! He matches this background colour I'm s...</td>\n",
       "      <td>0</td>\n",
       "      <td>d'aww he matches this background colour i'm se...</td>\n",
       "    </tr>\n",
       "    <tr>\n",
       "      <th>2</th>\n",
       "      <td>2</td>\n",
       "      <td>Hey man, I'm really not trying to edit war. It...</td>\n",
       "      <td>0</td>\n",
       "      <td>hey man i'm really not trying to edit war it's...</td>\n",
       "    </tr>\n",
       "    <tr>\n",
       "      <th>3</th>\n",
       "      <td>3</td>\n",
       "      <td>\"\\nMore\\nI can't make any real suggestions on ...</td>\n",
       "      <td>0</td>\n",
       "      <td>more i can't make any real suggestions on impr...</td>\n",
       "    </tr>\n",
       "    <tr>\n",
       "      <th>4</th>\n",
       "      <td>4</td>\n",
       "      <td>You, sir, are my hero. Any chance you remember...</td>\n",
       "      <td>0</td>\n",
       "      <td>you sir are my hero any chance you remember wh...</td>\n",
       "    </tr>\n",
       "    <tr>\n",
       "      <th>...</th>\n",
       "      <td>...</td>\n",
       "      <td>...</td>\n",
       "      <td>...</td>\n",
       "      <td>...</td>\n",
       "    </tr>\n",
       "    <tr>\n",
       "      <th>159287</th>\n",
       "      <td>159446</td>\n",
       "      <td>\":::::And for the second time of asking, when ...</td>\n",
       "      <td>0</td>\n",
       "      <td>and for the second time of asking when your vi...</td>\n",
       "    </tr>\n",
       "    <tr>\n",
       "      <th>159288</th>\n",
       "      <td>159447</td>\n",
       "      <td>You should be ashamed of yourself \\n\\nThat is ...</td>\n",
       "      <td>0</td>\n",
       "      <td>you should be ashamed of yourself that is a ho...</td>\n",
       "    </tr>\n",
       "    <tr>\n",
       "      <th>159289</th>\n",
       "      <td>159448</td>\n",
       "      <td>Spitzer \\n\\nUmm, theres no actual article for ...</td>\n",
       "      <td>0</td>\n",
       "      <td>spitzer umm theres no actual article for prost...</td>\n",
       "    </tr>\n",
       "    <tr>\n",
       "      <th>159290</th>\n",
       "      <td>159449</td>\n",
       "      <td>And it looks like it was actually you who put ...</td>\n",
       "      <td>0</td>\n",
       "      <td>and it looks like it was actually you who put ...</td>\n",
       "    </tr>\n",
       "    <tr>\n",
       "      <th>159291</th>\n",
       "      <td>159450</td>\n",
       "      <td>\"\\nAnd ... I really don't think you understand...</td>\n",
       "      <td>0</td>\n",
       "      <td>and i really don't think you understand i came...</td>\n",
       "    </tr>\n",
       "  </tbody>\n",
       "</table>\n",
       "<p>159292 rows × 4 columns</p>\n",
       "</div>"
      ],
      "text/plain": [
       "        Unnamed: 0                                               text  toxic  \\\n",
       "0                0  Explanation\\nWhy the edits made under my usern...      0   \n",
       "1                1  D'aww! He matches this background colour I'm s...      0   \n",
       "2                2  Hey man, I'm really not trying to edit war. It...      0   \n",
       "3                3  \"\\nMore\\nI can't make any real suggestions on ...      0   \n",
       "4                4  You, sir, are my hero. Any chance you remember...      0   \n",
       "...            ...                                                ...    ...   \n",
       "159287      159446  \":::::And for the second time of asking, when ...      0   \n",
       "159288      159447  You should be ashamed of yourself \\n\\nThat is ...      0   \n",
       "159289      159448  Spitzer \\n\\nUmm, theres no actual article for ...      0   \n",
       "159290      159449  And it looks like it was actually you who put ...      0   \n",
       "159291      159450  \"\\nAnd ... I really don't think you understand...      0   \n",
       "\n",
       "                                                    clear  \n",
       "0       explanation why the edits made under my userna...  \n",
       "1       d'aww he matches this background colour i'm se...  \n",
       "2       hey man i'm really not trying to edit war it's...  \n",
       "3       more i can't make any real suggestions on impr...  \n",
       "4       you sir are my hero any chance you remember wh...  \n",
       "...                                                   ...  \n",
       "159287  and for the second time of asking when your vi...  \n",
       "159288  you should be ashamed of yourself that is a ho...  \n",
       "159289  spitzer umm theres no actual article for prost...  \n",
       "159290  and it looks like it was actually you who put ...  \n",
       "159291  and i really don't think you understand i came...  \n",
       "\n",
       "[159292 rows x 4 columns]"
      ]
     },
     "execution_count": 7,
     "metadata": {},
     "output_type": "execute_result"
    }
   ],
   "source": [
    "data"
   ]
  },
  {
   "cell_type": "code",
   "execution_count": 8,
   "metadata": {},
   "outputs": [
    {
     "data": {
      "application/vnd.jupyter.widget-view+json": {
       "model_id": "8846e70d300d4b2f81980a6e612b6eb6",
       "version_major": 2,
       "version_minor": 0
      },
      "text/plain": [
       "Pandas Apply:   0%|          | 0/159292 [00:00<?, ?it/s]"
      ]
     },
     "metadata": {},
     "output_type": "display_data"
    },
    {
     "name": "stdout",
     "output_type": "stream",
     "text": [
      "Wall time: 13min 46s\n"
     ]
    }
   ],
   "source": [
    "%%time\n",
    "data['lemma'] = data['clear'].progress_apply(lemmatize_sent)"
   ]
  },
  {
   "cell_type": "code",
   "execution_count": 9,
   "metadata": {},
   "outputs": [
    {
     "data": {
      "text/html": [
       "<div>\n",
       "<style scoped>\n",
       "    .dataframe tbody tr th:only-of-type {\n",
       "        vertical-align: middle;\n",
       "    }\n",
       "\n",
       "    .dataframe tbody tr th {\n",
       "        vertical-align: top;\n",
       "    }\n",
       "\n",
       "    .dataframe thead th {\n",
       "        text-align: right;\n",
       "    }\n",
       "</style>\n",
       "<table border=\"1\" class=\"dataframe\">\n",
       "  <thead>\n",
       "    <tr style=\"text-align: right;\">\n",
       "      <th></th>\n",
       "      <th>Unnamed: 0</th>\n",
       "      <th>text</th>\n",
       "      <th>toxic</th>\n",
       "      <th>clear</th>\n",
       "      <th>lemma</th>\n",
       "    </tr>\n",
       "  </thead>\n",
       "  <tbody>\n",
       "    <tr>\n",
       "      <th>0</th>\n",
       "      <td>0</td>\n",
       "      <td>Explanation\\nWhy the edits made under my usern...</td>\n",
       "      <td>0</td>\n",
       "      <td>explanation why the edits made under my userna...</td>\n",
       "      <td>explanation why the edits make under my userna...</td>\n",
       "    </tr>\n",
       "    <tr>\n",
       "      <th>1</th>\n",
       "      <td>1</td>\n",
       "      <td>D'aww! He matches this background colour I'm s...</td>\n",
       "      <td>0</td>\n",
       "      <td>d'aww he matches this background colour i'm se...</td>\n",
       "      <td>d'aww he match this background colour i 'm see...</td>\n",
       "    </tr>\n",
       "    <tr>\n",
       "      <th>2</th>\n",
       "      <td>2</td>\n",
       "      <td>Hey man, I'm really not trying to edit war. It...</td>\n",
       "      <td>0</td>\n",
       "      <td>hey man i'm really not trying to edit war it's...</td>\n",
       "      <td>hey man i 'm really not try to edit war it 's ...</td>\n",
       "    </tr>\n",
       "    <tr>\n",
       "      <th>3</th>\n",
       "      <td>3</td>\n",
       "      <td>\"\\nMore\\nI can't make any real suggestions on ...</td>\n",
       "      <td>0</td>\n",
       "      <td>more i can't make any real suggestions on impr...</td>\n",
       "      <td>more i ca n't make any real suggestion on impr...</td>\n",
       "    </tr>\n",
       "    <tr>\n",
       "      <th>4</th>\n",
       "      <td>4</td>\n",
       "      <td>You, sir, are my hero. Any chance you remember...</td>\n",
       "      <td>0</td>\n",
       "      <td>you sir are my hero any chance you remember wh...</td>\n",
       "      <td>you sir be my hero any chance you remember wha...</td>\n",
       "    </tr>\n",
       "  </tbody>\n",
       "</table>\n",
       "</div>"
      ],
      "text/plain": [
       "   Unnamed: 0                                               text  toxic  \\\n",
       "0           0  Explanation\\nWhy the edits made under my usern...      0   \n",
       "1           1  D'aww! He matches this background colour I'm s...      0   \n",
       "2           2  Hey man, I'm really not trying to edit war. It...      0   \n",
       "3           3  \"\\nMore\\nI can't make any real suggestions on ...      0   \n",
       "4           4  You, sir, are my hero. Any chance you remember...      0   \n",
       "\n",
       "                                               clear  \\\n",
       "0  explanation why the edits made under my userna...   \n",
       "1  d'aww he matches this background colour i'm se...   \n",
       "2  hey man i'm really not trying to edit war it's...   \n",
       "3  more i can't make any real suggestions on impr...   \n",
       "4  you sir are my hero any chance you remember wh...   \n",
       "\n",
       "                                               lemma  \n",
       "0  explanation why the edits make under my userna...  \n",
       "1  d'aww he match this background colour i 'm see...  \n",
       "2  hey man i 'm really not try to edit war it 's ...  \n",
       "3  more i ca n't make any real suggestion on impr...  \n",
       "4  you sir be my hero any chance you remember wha...  "
      ]
     },
     "execution_count": 9,
     "metadata": {},
     "output_type": "execute_result"
    }
   ],
   "source": [
    "data.head()"
   ]
  },
  {
   "cell_type": "markdown",
   "metadata": {},
   "source": [
    "Разделю данные на обучающие и тестовые признаки и таргет, используя стратификацию по целевому признаку, чтобы разбиение учитывало дисбаланс классов. В отдельные выборки выделю признаки без лемматизации."
   ]
  },
  {
   "cell_type": "code",
   "execution_count": 10,
   "metadata": {},
   "outputs": [
    {
     "data": {
      "text/plain": [
       "((143362,), (143362,), (15930,), (15930,), 0.10000502222333828)"
      ]
     },
     "execution_count": 10,
     "metadata": {},
     "output_type": "execute_result"
    }
   ],
   "source": [
    "RANDOM_STATE = 42\n",
    "train, test = train_test_split(data, random_state=RANDOM_STATE, test_size=0.1, shuffle=True, stratify=data['toxic'])\n",
    "\n",
    "X_train = train['lemma']\n",
    "X_test = test['lemma']\n",
    "\n",
    "y_train = train['toxic']\n",
    "y_test = test['toxic']\n",
    "\n",
    "X_train_clear = train['clear']\n",
    "X_test_clear = test['clear']\n",
    "\n",
    "X_train.shape, y_train.shape, X_test.shape, y_test.shape, y_test.shape[0]/data.shape[0]"
   ]
  },
  {
   "cell_type": "markdown",
   "metadata": {},
   "source": [
    "## Обучение"
   ]
  },
  {
   "cell_type": "markdown",
   "metadata": {},
   "source": [
    "Решать задачу классификации комментариев на токсичность буду с помощью логистической регрессии. Кросс-валидация осуществляется по метрике F1. Учитывается дисбаланс классов\n",
    "\n",
    "Для перевода текста в вектор признаков использую:\n",
    "* мешок со словами\n",
    "* N-граммы\n",
    "* TF-IDF\n",
    "\n",
    "Применять эти методы буду к лемматизированной выборке и без."
   ]
  },
  {
   "cell_type": "code",
   "execution_count": 11,
   "metadata": {},
   "outputs": [],
   "source": [
    "stop_words = set(stopwords.words('english'))\n",
    "\n",
    "def vect(count_vect, X_tr, X_te):\n",
    "    '''Функция векторизации теста'''\n",
    "    X_tr_vect = count_vect.fit_transform(X_tr)\n",
    "    X_te_vect = count_vect.transform(X_te)\n",
    "    return X_tr_vect, X_te_vect\n",
    "\n",
    "def logistic_regression(X_tr, y_tr, label):\n",
    "    '''Функция логистической регрессии'''\n",
    "    print(f'=============== {label} ===============')\n",
    "    model = LogisticRegression(class_weight='balanced', random_state=RANDOM_STATE)\n",
    "    scores = cross_val_score(model, X_tr, y_tr, cv=5, scoring='f1')\n",
    "    print('Средняя f1 кросс-валидации:', scores.mean())\n",
    "    model.fit(X_tr, y_tr)\n",
    "    return model, scores.mean()\n",
    "\n",
    "def solver(count_vect, X_tr, X_te, y_tr, label):\n",
    "    '''Функция по переводу текста в вектор и обучении логистической регрессии'''\n",
    "    X_tr_vect, X_te_vect = vect(count_vect, X_tr, X_te)\n",
    "    model, sc = logistic_regression(X_tr_vect, y_tr, label)\n",
    "    return model, sc, X_te_vect"
   ]
  },
  {
   "cell_type": "code",
   "execution_count": 12,
   "metadata": {},
   "outputs": [
    {
     "name": "stdout",
     "output_type": "stream",
     "text": [
      "=============== мешок слов с лемматизацией ===============\n",
      "Средняя f1 кросс-валидации: 0.7511181047450819\n",
      "=============== мешок слов без лемматизации ===============\n",
      "Средняя f1 кросс-валидации: 0.7607025192104473\n",
      "=============== N-грамма с лемматизацией ===============\n",
      "Средняя f1 кросс-валидации: 0.45340441393966985\n",
      "=============== N-грамма без лемматизации ===============\n",
      "Средняя f1 кросс-валидации: 0.42887135807009286\n",
      "=============== Tf-idf с лемматизацией ===============\n",
      "Средняя f1 кросс-валидации: 0.7434035776637989\n",
      "=============== Tf-idf без лемматизации ===============\n",
      "Средняя f1 кросс-валидации: 0.753728470065567\n"
     ]
    }
   ],
   "source": [
    "bow_mod, bow_sc, X_test_bow = solver(CountVectorizer(stop_words=stop_words, max_df = 0.75),\n",
    "                                     X_train,\n",
    "                                     X_test,\n",
    "                                     y_train, \n",
    "                                     'мешок слов с лемматизацией')\n",
    "\n",
    "bow_mod_clear, bow_sc_clear, X_test_bow_clear = solver(CountVectorizer(stop_words=stop_words, max_df = 0.75),\n",
    "                                                       X_train_clear,\n",
    "                                                       X_test_clear,\n",
    "                                                       y_train,\n",
    "                                                       'мешок слов без лемматизации')\n",
    "\n",
    "ngram_mod, ngram_sc, X_test_ngram = solver(CountVectorizer(ngram_range=(2, 5), stop_words=stop_words, max_df = 0.75),\n",
    "                                           X_train.values.astype('U'),\n",
    "                                           X_test.values.astype('U'),\n",
    "                                           y_train,\n",
    "                                           'N-грамма с лемматизацией')\n",
    "\n",
    "ngram_mod_clear, ngram_sc_clear, X_test_ngram_clear = solver(CountVectorizer(ngram_range=(2, 5), stop_words=stop_words, max_df = 0.75),\n",
    "                                                             X_train_clear.astype('U'),\n",
    "                                                             X_test_clear.astype('U'),\n",
    "                                                             y_train,\n",
    "                                                             'N-грамма без лемматизации')\n",
    "\n",
    "tf_idf_mod, tf_idf_sc, X_test_tf_idf = solver(TfidfVectorizer(stop_words=stop_words),\n",
    "                                              X_train.values.astype('U'),\n",
    "                                              X_test.values.astype('U'),\n",
    "                                              y_train,\n",
    "                                              'Tf-idf с лемматизацией')\n",
    "\n",
    "tf_idf_mod_clear, tf_idf_sc_clear, X_test_tf_idf_clear = solver(TfidfVectorizer(stop_words=stop_words),\n",
    "                                                                X_train_clear.values.astype('U'),\n",
    "                                                                X_test_clear.values.astype('U'),\n",
    "                                                                y_train,\n",
    "                                                                'Tf-idf без лемматизации')"
   ]
  },
  {
   "cell_type": "code",
   "execution_count": 13,
   "metadata": {},
   "outputs": [
    {
     "data": {
      "text/html": [
       "<div>\n",
       "<style scoped>\n",
       "    .dataframe tbody tr th:only-of-type {\n",
       "        vertical-align: middle;\n",
       "    }\n",
       "\n",
       "    .dataframe tbody tr th {\n",
       "        vertical-align: top;\n",
       "    }\n",
       "\n",
       "    .dataframe thead th {\n",
       "        text-align: right;\n",
       "    }\n",
       "</style>\n",
       "<table border=\"1\" class=\"dataframe\">\n",
       "  <thead>\n",
       "    <tr style=\"text-align: right;\">\n",
       "      <th></th>\n",
       "      <th>с лемматизацией</th>\n",
       "      <th>без лемматизации</th>\n",
       "    </tr>\n",
       "  </thead>\n",
       "  <tbody>\n",
       "    <tr>\n",
       "      <th>Мешок слов</th>\n",
       "      <td>0.751118</td>\n",
       "      <td>0.760703</td>\n",
       "    </tr>\n",
       "    <tr>\n",
       "      <th>N-грамма</th>\n",
       "      <td>0.453404</td>\n",
       "      <td>0.428871</td>\n",
       "    </tr>\n",
       "    <tr>\n",
       "      <th>TF-IDF</th>\n",
       "      <td>0.743404</td>\n",
       "      <td>0.753728</td>\n",
       "    </tr>\n",
       "  </tbody>\n",
       "</table>\n",
       "</div>"
      ],
      "text/plain": [
       "            с лемматизацией  без лемматизации\n",
       "Мешок слов         0.751118          0.760703\n",
       "N-грамма           0.453404          0.428871\n",
       "TF-IDF             0.743404          0.753728"
      ]
     },
     "execution_count": 13,
     "metadata": {},
     "output_type": "execute_result"
    }
   ],
   "source": [
    "table = pd.DataFrame({'Мешок слов' : [bow_sc, bow_sc_clear], \n",
    "                      'N-грамма' : [ngram_sc, ngram_sc_clear],\n",
    "                      'TF-IDF' : [tf_idf_sc, tf_idf_sc_clear]},\n",
    "                      index=['с лемматизацией', 'без лемматизации']).T\n",
    "table"
   ]
  },
  {
   "cell_type": "markdown",
   "metadata": {},
   "source": [
    "Попробую лучшую векторизацию (мешок слов без лемматизации) обучить на модели градиентного бустинга. Кросс-валидацию выполню с помощью RandomizedSearchCV. Изменяемыми гиперпараметрами являются число деревьев, глубина дедревьев и скорость обучения."
   ]
  },
  {
   "cell_type": "code",
   "execution_count": 14,
   "metadata": {},
   "outputs": [],
   "source": [
    "def grid_search(model, param, X_tr, y_tr):\n",
    "    grid = RandomizedSearchCV(model, param, n_jobs=-1, cv=5, scoring='f1')\n",
    "    grid.fit(X_tr, y_tr)\n",
    "    best_score = grid.best_score_.mean()\n",
    "    print('RЛучшая f1 кросс-валидации:', best_score)\n",
    "    return best_score, grid.best_params_, grid.best_estimator_\n",
    "\n",
    "def cat_boost(X_tr, y_tr, param, label):\n",
    "    print(f'=============== {label} ===============')\n",
    "    clf = CatBoostClassifier(random_state=RANDOM_STATE, verbose=False)\n",
    "    score_cv, m, best = grid_search(clf, param, X_tr, y_tr)\n",
    "    best.fit(X_tr, y_tr)\n",
    "    return clf, score_cv.mean()\n",
    "\n",
    "def solver2(count_vect, X_tr, X_te, y_tr, param, label):\n",
    "    '''Функция по переводу текста в вектор и обучении логистической регрессии'''\n",
    "    X_tr_vect, X_te_vect = vect(count_vect, X_tr, X_te)\n",
    "    model, sc = cat_boost(X_tr_vect, y_tr, param, label)\n",
    "    return model, sc, X_te_vect"
   ]
  },
  {
   "cell_type": "code",
   "execution_count": 15,
   "metadata": {},
   "outputs": [
    {
     "name": "stdout",
     "output_type": "stream",
     "text": [
      "=============== мешок слов без лемматизации ===============\n",
      "RЛучшая f1 кросс-валидации: 0.7393194724503815\n",
      "Wall time: 47min 10s\n"
     ]
    }
   ],
   "source": [
    "%%time\n",
    "bow_mod2, bow_sc2, X_test_bow2 = solver2(CountVectorizer(stop_words=stop_words, max_df = 0.75),\n",
    "                                         X_train_clear,\n",
    "                                         X_test_clear,\n",
    "                                         y_train,\n",
    "                                         {'iterations': range(10, 101, 10),\n",
    "                                           'depth': range(2, 11),\n",
    "                                           'learning_rate': np.arange(0, 1.2, 0.2)},\n",
    "                                         'мешок слов без лемматизации')"
   ]
  },
  {
   "cell_type": "markdown",
   "metadata": {},
   "source": [
    "Самая лучшая модель при обучении оказалась с использованием метода векторизации текста 'мешок слов' БЕЗ леммантизации. Это неожиданно. Значит, `WordNetLemmatizer` не справился. При данной векторизации и отсутствии лемматизации модель CarBoost дала оценку ниже.\n",
    "\n",
    "Найду оценку тестовой выборки лучшей модели - логистической регрессии с 'мешком слов' и БЕЗ леммантизации."
   ]
  },
  {
   "cell_type": "code",
   "execution_count": 16,
   "metadata": {},
   "outputs": [
    {
     "data": {
      "text/plain": [
       "0.7691435053885423"
      ]
     },
     "execution_count": 16,
     "metadata": {},
     "output_type": "execute_result"
    }
   ],
   "source": [
    "f1_score(y_test, bow_mod_clear.predict(X_test_bow_clear))"
   ]
  },
  {
   "cell_type": "code",
   "execution_count": 17,
   "metadata": {},
   "outputs": [
    {
     "data": {
      "image/png": "[encoded data removed]",
      "text/plain": [
       "<Figure size 432x288 with 2 Axes>"
      ]
     },
     "metadata": {
      "needs_background": "light"
     },
     "output_type": "display_data"
    }
   ],
   "source": [
    "sns.heatmap(confusion_matrix(y_test, bow_mod_clear.predict(X_test_bow_clear)), \n",
    "                             annot=True, \n",
    "                             cmap=\"Purples\", \n",
    "                             linewidths=1.5, \n",
    "                             square=True, \n",
    "                             fmt=\".0f\", \n",
    "                             annot_kws={'fontsize': 15})\n",
    "plt.title('Матрица ошибок');"
   ]
  },
  {
   "cell_type": "code",
   "execution_count": 18,
   "metadata": {},
   "outputs": [
    {
     "data": {
      "image/png": "[encoded data removed]",
      "text/plain": [
       "<Figure size 432x288 with 1 Axes>"
      ]
     },
     "metadata": {
      "needs_background": "light"
     },
     "output_type": "display_data"
    }
   ],
   "source": [
    "probabilities = bow_mod_clear.predict_proba(X_test_bow_clear)[:, 1]\n",
    "fpr, tpr, threshold = roc_curve(y_test, probabilities)\n",
    "\n",
    "plt.plot(fpr, tpr)\n",
    "plt.plot([0, 1], [0, 1])\n",
    "plt.title('ROC-криивая')\n",
    "plt.xlabel('FPR')\n",
    "plt.ylabel('TPR');"
   ]
  },
  {
   "cell_type": "markdown",
   "metadata": {},
   "source": [
    "F1-score составил выше заданного порога в 0.75. Задача решена."
   ]
  },
  {
   "cell_type": "markdown",
   "metadata": {},
   "source": [
    "## Выводы"
   ]
  },
  {
   "cell_type": "markdown",
   "metadata": {},
   "source": [
    "Лушей моделью оказалась с использованием метода векторизации текста 'мешок слов' без леммантизации.\n",
    "Улучшить модель можно несколькими способами:\n",
    "* использовав другие библиотеки для лемматизации\n",
    "* найти лучшие гиперпараметры логистической регресии\n",
    "* применить другие модели\n",
    "* BERT"
   ]
  }
 ],
 "metadata": {
  "kernelspec": {
   "display_name": "Python 3 (ipykernel)",
   "language": "python",
   "name": "python3"
  },
  "language_info": {
   "codemirror_mode": {
    "name": "ipython",
    "version": 3
   },
   "file_extension": ".py",
   "mimetype": "text/x-python",
   "name": "python",
   "nbconvert_exporter": "python",
   "pygments_lexer": "ipython3",
   "version": "3.9.7"
  },
  "toc": {
   "base_numbering": 1,
   "nav_menu": {},
   "number_sections": true,
   "sideBar": true,
   "skip_h1_title": true,
   "title_cell": "Содержание",
   "title_sidebar": "Contents",
   "toc_cell": true,
   "toc_position": {
    "height": "calc(100% - 180px)",
    "left": "10px",
    "top": "150px",
    "width": "302.391px"
   },
   "toc_section_display": true,
   "toc_window_display": false
  }
 },
 "nbformat": 4,
 "nbformat_minor": 2
}
