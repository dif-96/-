{
 "cells": [
  {
   "cell_type": "markdown",
   "id": "7b2f7c22",
   "metadata": {},
   "source": [
    "# Описание проекта\n",
    "\n",
    "Модель должна предсказать коэффициент восстановления золота из золотосодержащей руды. В моем распоряжении данные с параметрами добычи и очистки.\n",
    "\n",
    "\n",
    "Когда добытая руда проходит первичную обработку, получается дроблёная смесь. Её отправляют на флотацию (обогащение) и двухэтапную очистку.\n",
    "- **флотация:**\n",
    " *Во флотационную установку подаётся смесь золотосодержащей руды. После обогащения получается черновой концентрат и «отвальные хвосты», то есть остатки продукта с низкой концентрацией ценных металлов.\n",
    "На стабильность этого процесса влияет непостоянное и неоптимальное физико-химическое состояние флотационной пульпы (смеси твёрдых частиц и жидкости).*\n",
    "- **очистка:**\n",
    " *Черновой концентрат проходит две очистки. На выходе получается финальный концентрат и новые отвальные хвосты.*\n",
    "\n",
    "**Наименование признаков имеет вид:**\n",
    "\n",
    "[этап].[тип_параметра].[название_параметра]\n",
    "\n",
    "где: \n",
    "**[этап]:**\n",
    "- `'rougher'` — флотация\n",
    "- `'primary_cleaner'` — первичная очистка\n",
    "- `'secondary_cleaner'` — вторичная очистка\n",
    "- `'final'` — финальные характеристики\n",
    "\n",
    "**[тип_параметра]:**\n",
    "- `'input'` — параметры сырья\n",
    "- `'output'` — параметры продукта\n",
    "- `'state'` — параметры, характеризующие текущее состояние этапа\n",
    "- `'calculation'` — расчётные характеристики\n",
    "\n",
    "**Параметры этапов:**\n",
    "- `'air amount'` — объём воздуха\n",
    "- `'fluid levels'` — уровень жидкости\n",
    "- `'feed size'` — размер гранул сырья\n",
    "- `'feed rate'` — скорость подачи\n",
    "\n",
    "**Задача:** Нужно спрогнозировать сразу две величины:\n",
    "- эффективность обогащения чернового концентрата `'rougher.output.recovery'`\n",
    "- эффективность обогащения финального концентрата `'final.output.recovery'`\n",
    "\n",
    "Итоговая метрика складывается из двух sMAPE: rougher и final\n",
    "\n",
    "**Цель:** построить модель, предсказывающую коэффициент восстановления золота из золотосодержащей руды"
   ]
  },
  {
   "cell_type": "code",
   "execution_count": 1,
   "id": "cfbad779",
   "metadata": {},
   "outputs": [],
   "source": [
    "#pip install catboost\n",
    "import pandas as pd\n",
    "import numpy as np\n",
    "from numpy import arange\n",
    "import matplotlib.pyplot as plt\n",
    "import seaborn as sns\n",
    "\n",
    "from sklearn.metrics import mean_absolute_error, make_scorer\n",
    "from sklearn.impute import KNNImputer\n",
    "from sklearn.preprocessing import StandardScaler\n",
    "from sklearn.model_selection import GridSearchCV, RandomizedSearchCV, cross_val_score\n",
    "from sklearn.ensemble import RandomForestRegressor\n",
    "from sklearn.tree import DecisionTreeRegressor\n",
    "from sklearn.linear_model import LinearRegression, Lasso\n",
    "from sklearn.dummy import DummyRegressor\n",
    "\n",
    "from catboost import CatBoostRegressor\n",
    "\n",
    "import warnings\n",
    "warnings.simplefilter(\"ignore\")"
   ]
  },
  {
   "cell_type": "markdown",
   "id": "621abb23",
   "metadata": {},
   "source": [
    "# 1. Подготовка данных"
   ]
  },
  {
   "cell_type": "markdown",
   "id": "94cfbf7b",
   "metadata": {},
   "source": [
    "### 1.1. Открытие и изучение файлов"
   ]
  },
  {
   "cell_type": "code",
   "execution_count": 2,
   "id": "5732d799",
   "metadata": {},
   "outputs": [],
   "source": [
    "try:\n",
    "    gold_industry_test = pd.read_csv('gold_industry_test.csv', parse_dates=['date'])\n",
    "    gold_industry_train = pd.read_csv('gold_industry_train.csv', parse_dates=['date'])\n",
    "    gold_industry_full = pd.read_csv('gold_industry_full.csv', parse_dates=['date'])\n",
    "except:\n",
    "    gold_industry_test = pd.read_csv('/datasets/gold_industry_test.csv', parse_dates=['date'])\n",
    "    gold_industry_train = pd.read_csv('/datasets/gold_industry_train.csv', parse_dates=['date'])\n",
    "    gold_industry_full = pd.read_csv('/datasets/gold_industry_full.csv', parse_dates=['date'])"
   ]
  },
  {
   "cell_type": "code",
   "execution_count": 3,
   "id": "edcff1db",
   "metadata": {},
   "outputs": [],
   "source": [
    "def info(df):\n",
    "    '''Функция первичного изучения датасетов'''\n",
    "    print('Размер датасета:', df.shape)\n",
    "    print('Пропуски в', df.isna().sum()[df.isna().sum() > 0].count(), 'столбцах')\n",
    "    print('Столбец с максимальным числом пропусков имеет', np.round(df.isna().sum()[df.isna().sum() > 0].max() / df.shape[0] * 100, 2), '% пропусков')\n",
    "    print('Количество дубликатов в \"data\":', df['date'].duplicated().sum())\n",
    "    print('Типы столбцов:\\n', df.dtypes.value_counts())\n",
    "    return df.head()"
   ]
  },
  {
   "cell_type": "code",
   "execution_count": 4,
   "id": "abd8b8d1",
   "metadata": {},
   "outputs": [
    {
     "name": "stdout",
     "output_type": "stream",
     "text": [
      "Размер датасета: (4860, 53)\n",
      "Пропуски в 44 столбцах\n",
      "Столбец с максимальным числом пропусков имеет 2.59 % пропусков\n",
      "Количество дубликатов в \"data\": 0\n",
      "Типы столбцов:\n",
      " float64           52\n",
      "datetime64[ns]     1\n",
      "dtype: int64\n"
     ]
    },
    {
     "data": {
      "text/html": [
       "<div>\n",
       "<style scoped>\n",
       "    .dataframe tbody tr th:only-of-type {\n",
       "        vertical-align: middle;\n",
       "    }\n",
       "\n",
       "    .dataframe tbody tr th {\n",
       "        vertical-align: top;\n",
       "    }\n",
       "\n",
       "    .dataframe thead th {\n",
       "        text-align: right;\n",
       "    }\n",
       "</style>\n",
       "<table border=\"1\" class=\"dataframe\">\n",
       "  <thead>\n",
       "    <tr style=\"text-align: right;\">\n",
       "      <th></th>\n",
       "      <th>date</th>\n",
       "      <th>rougher.input.feed_au</th>\n",
       "      <th>rougher.input.feed_ag</th>\n",
       "      <th>rougher.input.feed_pb</th>\n",
       "      <th>rougher.input.feed_sol</th>\n",
       "      <th>rougher.input.feed_rate</th>\n",
       "      <th>rougher.input.feed_size</th>\n",
       "      <th>rougher.input.floatbank10_sulfate</th>\n",
       "      <th>rougher.input.floatbank10_xanthate</th>\n",
       "      <th>rougher.state.floatbank10_a_air</th>\n",
       "      <th>...</th>\n",
       "      <th>secondary_cleaner.state.floatbank4_a_air</th>\n",
       "      <th>secondary_cleaner.state.floatbank4_a_level</th>\n",
       "      <th>secondary_cleaner.state.floatbank4_b_air</th>\n",
       "      <th>secondary_cleaner.state.floatbank4_b_level</th>\n",
       "      <th>secondary_cleaner.state.floatbank5_a_air</th>\n",
       "      <th>secondary_cleaner.state.floatbank5_a_level</th>\n",
       "      <th>secondary_cleaner.state.floatbank5_b_air</th>\n",
       "      <th>secondary_cleaner.state.floatbank5_b_level</th>\n",
       "      <th>secondary_cleaner.state.floatbank6_a_air</th>\n",
       "      <th>secondary_cleaner.state.floatbank6_a_level</th>\n",
       "    </tr>\n",
       "  </thead>\n",
       "  <tbody>\n",
       "    <tr>\n",
       "      <th>0</th>\n",
       "      <td>2017-12-09 14:59:59</td>\n",
       "      <td>4.365491</td>\n",
       "      <td>6.158718</td>\n",
       "      <td>3.875727</td>\n",
       "      <td>39.135119</td>\n",
       "      <td>555.820208</td>\n",
       "      <td>94.544358</td>\n",
       "      <td>6.146982</td>\n",
       "      <td>9.308612</td>\n",
       "      <td>1196.238112</td>\n",
       "      <td>...</td>\n",
       "      <td>23.018622</td>\n",
       "      <td>-500.492702</td>\n",
       "      <td>20.020205</td>\n",
       "      <td>-500.220296</td>\n",
       "      <td>17.963512</td>\n",
       "      <td>-499.939490</td>\n",
       "      <td>12.990306</td>\n",
       "      <td>-500.080993</td>\n",
       "      <td>19.990336</td>\n",
       "      <td>-499.191575</td>\n",
       "    </tr>\n",
       "    <tr>\n",
       "      <th>1</th>\n",
       "      <td>2017-12-09 15:59:59</td>\n",
       "      <td>4.362781</td>\n",
       "      <td>6.048130</td>\n",
       "      <td>3.902537</td>\n",
       "      <td>39.713906</td>\n",
       "      <td>544.731687</td>\n",
       "      <td>123.742430</td>\n",
       "      <td>6.210119</td>\n",
       "      <td>9.297709</td>\n",
       "      <td>1201.904177</td>\n",
       "      <td>...</td>\n",
       "      <td>23.024963</td>\n",
       "      <td>-501.153409</td>\n",
       "      <td>20.054122</td>\n",
       "      <td>-500.314711</td>\n",
       "      <td>17.979515</td>\n",
       "      <td>-499.272871</td>\n",
       "      <td>12.992404</td>\n",
       "      <td>-499.976268</td>\n",
       "      <td>20.013986</td>\n",
       "      <td>-500.625471</td>\n",
       "    </tr>\n",
       "    <tr>\n",
       "      <th>2</th>\n",
       "      <td>2017-12-09 16:59:59</td>\n",
       "      <td>5.081681</td>\n",
       "      <td>6.082745</td>\n",
       "      <td>4.564078</td>\n",
       "      <td>37.208683</td>\n",
       "      <td>558.155110</td>\n",
       "      <td>82.610855</td>\n",
       "      <td>7.363824</td>\n",
       "      <td>9.003562</td>\n",
       "      <td>1200.826926</td>\n",
       "      <td>...</td>\n",
       "      <td>22.993827</td>\n",
       "      <td>-501.559663</td>\n",
       "      <td>20.029144</td>\n",
       "      <td>-500.000662</td>\n",
       "      <td>18.012723</td>\n",
       "      <td>-500.024764</td>\n",
       "      <td>13.016445</td>\n",
       "      <td>-500.058432</td>\n",
       "      <td>19.973767</td>\n",
       "      <td>-501.394155</td>\n",
       "    </tr>\n",
       "    <tr>\n",
       "      <th>3</th>\n",
       "      <td>2017-12-09 17:59:59</td>\n",
       "      <td>5.145949</td>\n",
       "      <td>6.084374</td>\n",
       "      <td>4.768124</td>\n",
       "      <td>36.808874</td>\n",
       "      <td>539.713765</td>\n",
       "      <td>77.984784</td>\n",
       "      <td>6.927072</td>\n",
       "      <td>8.955597</td>\n",
       "      <td>1199.292489</td>\n",
       "      <td>...</td>\n",
       "      <td>23.032807</td>\n",
       "      <td>-501.287889</td>\n",
       "      <td>19.977466</td>\n",
       "      <td>-500.159903</td>\n",
       "      <td>17.980463</td>\n",
       "      <td>-500.504602</td>\n",
       "      <td>12.949071</td>\n",
       "      <td>-500.009937</td>\n",
       "      <td>20.010332</td>\n",
       "      <td>-508.337973</td>\n",
       "    </tr>\n",
       "    <tr>\n",
       "      <th>4</th>\n",
       "      <td>2017-12-09 18:59:59</td>\n",
       "      <td>5.735249</td>\n",
       "      <td>6.165220</td>\n",
       "      <td>4.512346</td>\n",
       "      <td>37.810642</td>\n",
       "      <td>558.713584</td>\n",
       "      <td>86.434874</td>\n",
       "      <td>7.823471</td>\n",
       "      <td>7.490356</td>\n",
       "      <td>1198.005449</td>\n",
       "      <td>...</td>\n",
       "      <td>23.001911</td>\n",
       "      <td>-499.947838</td>\n",
       "      <td>20.023735</td>\n",
       "      <td>-499.713680</td>\n",
       "      <td>17.990955</td>\n",
       "      <td>-500.334769</td>\n",
       "      <td>13.007523</td>\n",
       "      <td>-499.968459</td>\n",
       "      <td>19.995999</td>\n",
       "      <td>-499.788805</td>\n",
       "    </tr>\n",
       "  </tbody>\n",
       "</table>\n",
       "<p>5 rows × 53 columns</p>\n",
       "</div>"
      ],
      "text/plain": [
       "                 date  rougher.input.feed_au  rougher.input.feed_ag  \\\n",
       "0 2017-12-09 14:59:59               4.365491               6.158718   \n",
       "1 2017-12-09 15:59:59               4.362781               6.048130   \n",
       "2 2017-12-09 16:59:59               5.081681               6.082745   \n",
       "3 2017-12-09 17:59:59               5.145949               6.084374   \n",
       "4 2017-12-09 18:59:59               5.735249               6.165220   \n",
       "\n",
       "   rougher.input.feed_pb  rougher.input.feed_sol  rougher.input.feed_rate  \\\n",
       "0               3.875727               39.135119               555.820208   \n",
       "1               3.902537               39.713906               544.731687   \n",
       "2               4.564078               37.208683               558.155110   \n",
       "3               4.768124               36.808874               539.713765   \n",
       "4               4.512346               37.810642               558.713584   \n",
       "\n",
       "   rougher.input.feed_size  rougher.input.floatbank10_sulfate  \\\n",
       "0                94.544358                           6.146982   \n",
       "1               123.742430                           6.210119   \n",
       "2                82.610855                           7.363824   \n",
       "3                77.984784                           6.927072   \n",
       "4                86.434874                           7.823471   \n",
       "\n",
       "   rougher.input.floatbank10_xanthate  rougher.state.floatbank10_a_air  ...  \\\n",
       "0                            9.308612                      1196.238112  ...   \n",
       "1                            9.297709                      1201.904177  ...   \n",
       "2                            9.003562                      1200.826926  ...   \n",
       "3                            8.955597                      1199.292489  ...   \n",
       "4                            7.490356                      1198.005449  ...   \n",
       "\n",
       "   secondary_cleaner.state.floatbank4_a_air  \\\n",
       "0                                 23.018622   \n",
       "1                                 23.024963   \n",
       "2                                 22.993827   \n",
       "3                                 23.032807   \n",
       "4                                 23.001911   \n",
       "\n",
       "   secondary_cleaner.state.floatbank4_a_level  \\\n",
       "0                                 -500.492702   \n",
       "1                                 -501.153409   \n",
       "2                                 -501.559663   \n",
       "3                                 -501.287889   \n",
       "4                                 -499.947838   \n",
       "\n",
       "   secondary_cleaner.state.floatbank4_b_air  \\\n",
       "0                                 20.020205   \n",
       "1                                 20.054122   \n",
       "2                                 20.029144   \n",
       "3                                 19.977466   \n",
       "4                                 20.023735   \n",
       "\n",
       "   secondary_cleaner.state.floatbank4_b_level  \\\n",
       "0                                 -500.220296   \n",
       "1                                 -500.314711   \n",
       "2                                 -500.000662   \n",
       "3                                 -500.159903   \n",
       "4                                 -499.713680   \n",
       "\n",
       "   secondary_cleaner.state.floatbank5_a_air  \\\n",
       "0                                 17.963512   \n",
       "1                                 17.979515   \n",
       "2                                 18.012723   \n",
       "3                                 17.980463   \n",
       "4                                 17.990955   \n",
       "\n",
       "   secondary_cleaner.state.floatbank5_a_level  \\\n",
       "0                                 -499.939490   \n",
       "1                                 -499.272871   \n",
       "2                                 -500.024764   \n",
       "3                                 -500.504602   \n",
       "4                                 -500.334769   \n",
       "\n",
       "   secondary_cleaner.state.floatbank5_b_air  \\\n",
       "0                                 12.990306   \n",
       "1                                 12.992404   \n",
       "2                                 13.016445   \n",
       "3                                 12.949071   \n",
       "4                                 13.007523   \n",
       "\n",
       "   secondary_cleaner.state.floatbank5_b_level  \\\n",
       "0                                 -500.080993   \n",
       "1                                 -499.976268   \n",
       "2                                 -500.058432   \n",
       "3                                 -500.009937   \n",
       "4                                 -499.968459   \n",
       "\n",
       "   secondary_cleaner.state.floatbank6_a_air  \\\n",
       "0                                 19.990336   \n",
       "1                                 20.013986   \n",
       "2                                 19.973767   \n",
       "3                                 20.010332   \n",
       "4                                 19.995999   \n",
       "\n",
       "   secondary_cleaner.state.floatbank6_a_level  \n",
       "0                                 -499.191575  \n",
       "1                                 -500.625471  \n",
       "2                                 -501.394155  \n",
       "3                                 -508.337973  \n",
       "4                                 -499.788805  \n",
       "\n",
       "[5 rows x 53 columns]"
      ]
     },
     "execution_count": 4,
     "metadata": {},
     "output_type": "execute_result"
    }
   ],
   "source": [
    "info(gold_industry_test)"
   ]
  },
  {
   "cell_type": "markdown",
   "id": "2b8603d4",
   "metadata": {},
   "source": [
    "Тестовый датасет `gold_industry_test` состоит 4860 строк и 53 столбцов. В 44 столбцах имеются пропуски. Доля пропусков в стобце с наибольшем их числом не привышает 2.59%. Дубликатов по столбцу `'data'` нет. Все столбцы, кроме `'date'`, имеют тип `float64`. `'date'` - `datetime64`."
   ]
  },
  {
   "cell_type": "code",
   "execution_count": 5,
   "id": "5d23e751",
   "metadata": {},
   "outputs": [
    {
     "name": "stdout",
     "output_type": "stream",
     "text": [
      "Размер датасета: (14579, 87)\n",
      "Пропуски в 39 столбцах\n",
      "Столбец с максимальным числом пропусков имеет 6.31 % пропусков\n",
      "Количество дубликатов в \"data\": 0\n",
      "Типы столбцов:\n",
      " float64           86\n",
      "datetime64[ns]     1\n",
      "dtype: int64\n"
     ]
    },
    {
     "data": {
      "text/html": [
       "<div>\n",
       "<style scoped>\n",
       "    .dataframe tbody tr th:only-of-type {\n",
       "        vertical-align: middle;\n",
       "    }\n",
       "\n",
       "    .dataframe tbody tr th {\n",
       "        vertical-align: top;\n",
       "    }\n",
       "\n",
       "    .dataframe thead th {\n",
       "        text-align: right;\n",
       "    }\n",
       "</style>\n",
       "<table border=\"1\" class=\"dataframe\">\n",
       "  <thead>\n",
       "    <tr style=\"text-align: right;\">\n",
       "      <th></th>\n",
       "      <th>date</th>\n",
       "      <th>rougher.input.feed_au</th>\n",
       "      <th>rougher.input.feed_ag</th>\n",
       "      <th>rougher.input.feed_pb</th>\n",
       "      <th>rougher.input.feed_sol</th>\n",
       "      <th>rougher.input.feed_rate</th>\n",
       "      <th>rougher.input.feed_size</th>\n",
       "      <th>rougher.input.floatbank10_sulfate</th>\n",
       "      <th>rougher.input.floatbank10_xanthate</th>\n",
       "      <th>rougher.state.floatbank10_a_air</th>\n",
       "      <th>...</th>\n",
       "      <th>secondary_cleaner.output.tail_sol</th>\n",
       "      <th>final.output.concentrate_au</th>\n",
       "      <th>final.output.concentrate_ag</th>\n",
       "      <th>final.output.concentrate_pb</th>\n",
       "      <th>final.output.concentrate_sol</th>\n",
       "      <th>final.output.recovery</th>\n",
       "      <th>final.output.tail_au</th>\n",
       "      <th>final.output.tail_ag</th>\n",
       "      <th>final.output.tail_pb</th>\n",
       "      <th>final.output.tail_sol</th>\n",
       "    </tr>\n",
       "  </thead>\n",
       "  <tbody>\n",
       "    <tr>\n",
       "      <th>0</th>\n",
       "      <td>2016-01-15 00:00:00</td>\n",
       "      <td>6.486150</td>\n",
       "      <td>6.100378</td>\n",
       "      <td>2.284912</td>\n",
       "      <td>36.808594</td>\n",
       "      <td>523.546326</td>\n",
       "      <td>55.486599</td>\n",
       "      <td>11.986616</td>\n",
       "      <td>6.007990</td>\n",
       "      <td>999.706909</td>\n",
       "      <td>...</td>\n",
       "      <td>8.764648</td>\n",
       "      <td>42.192020</td>\n",
       "      <td>6.055403</td>\n",
       "      <td>9.889648</td>\n",
       "      <td>5.507324</td>\n",
       "      <td>70.541216</td>\n",
       "      <td>2.143149</td>\n",
       "      <td>10.411962</td>\n",
       "      <td>0.895447</td>\n",
       "      <td>16.904297</td>\n",
       "    </tr>\n",
       "    <tr>\n",
       "      <th>1</th>\n",
       "      <td>2016-01-15 01:00:00</td>\n",
       "      <td>6.478583</td>\n",
       "      <td>6.161113</td>\n",
       "      <td>2.266033</td>\n",
       "      <td>35.753385</td>\n",
       "      <td>525.290581</td>\n",
       "      <td>57.278666</td>\n",
       "      <td>11.971193</td>\n",
       "      <td>6.005766</td>\n",
       "      <td>1000.286398</td>\n",
       "      <td>...</td>\n",
       "      <td>9.001494</td>\n",
       "      <td>42.701629</td>\n",
       "      <td>6.029369</td>\n",
       "      <td>9.968944</td>\n",
       "      <td>5.257781</td>\n",
       "      <td>69.266198</td>\n",
       "      <td>2.224930</td>\n",
       "      <td>10.462676</td>\n",
       "      <td>0.927452</td>\n",
       "      <td>16.634514</td>\n",
       "    </tr>\n",
       "    <tr>\n",
       "      <th>2</th>\n",
       "      <td>2016-01-15 02:00:00</td>\n",
       "      <td>6.362222</td>\n",
       "      <td>6.116455</td>\n",
       "      <td>2.159622</td>\n",
       "      <td>35.971630</td>\n",
       "      <td>530.026610</td>\n",
       "      <td>57.510649</td>\n",
       "      <td>11.920603</td>\n",
       "      <td>6.197377</td>\n",
       "      <td>999.719565</td>\n",
       "      <td>...</td>\n",
       "      <td>8.842896</td>\n",
       "      <td>42.657501</td>\n",
       "      <td>6.055926</td>\n",
       "      <td>10.213995</td>\n",
       "      <td>5.383759</td>\n",
       "      <td>68.116445</td>\n",
       "      <td>2.257889</td>\n",
       "      <td>10.507046</td>\n",
       "      <td>0.953716</td>\n",
       "      <td>16.208849</td>\n",
       "    </tr>\n",
       "    <tr>\n",
       "      <th>3</th>\n",
       "      <td>2016-01-15 03:00:00</td>\n",
       "      <td>6.118189</td>\n",
       "      <td>6.043309</td>\n",
       "      <td>2.037807</td>\n",
       "      <td>36.862241</td>\n",
       "      <td>542.590390</td>\n",
       "      <td>57.792734</td>\n",
       "      <td>11.630094</td>\n",
       "      <td>6.203177</td>\n",
       "      <td>999.814770</td>\n",
       "      <td>...</td>\n",
       "      <td>9.122857</td>\n",
       "      <td>42.689819</td>\n",
       "      <td>6.047977</td>\n",
       "      <td>9.977019</td>\n",
       "      <td>4.858634</td>\n",
       "      <td>68.347543</td>\n",
       "      <td>2.146849</td>\n",
       "      <td>10.422762</td>\n",
       "      <td>0.883763</td>\n",
       "      <td>16.532835</td>\n",
       "    </tr>\n",
       "    <tr>\n",
       "      <th>4</th>\n",
       "      <td>2016-01-15 04:00:00</td>\n",
       "      <td>5.663707</td>\n",
       "      <td>6.060915</td>\n",
       "      <td>1.786875</td>\n",
       "      <td>34.347666</td>\n",
       "      <td>540.531893</td>\n",
       "      <td>56.047189</td>\n",
       "      <td>10.957755</td>\n",
       "      <td>6.198826</td>\n",
       "      <td>999.678690</td>\n",
       "      <td>...</td>\n",
       "      <td>8.871028</td>\n",
       "      <td>42.774141</td>\n",
       "      <td>6.148599</td>\n",
       "      <td>10.142511</td>\n",
       "      <td>4.939416</td>\n",
       "      <td>66.927016</td>\n",
       "      <td>2.055292</td>\n",
       "      <td>10.360302</td>\n",
       "      <td>0.792826</td>\n",
       "      <td>16.525686</td>\n",
       "    </tr>\n",
       "  </tbody>\n",
       "</table>\n",
       "<p>5 rows × 87 columns</p>\n",
       "</div>"
      ],
      "text/plain": [
       "                 date  rougher.input.feed_au  rougher.input.feed_ag  \\\n",
       "0 2016-01-15 00:00:00               6.486150               6.100378   \n",
       "1 2016-01-15 01:00:00               6.478583               6.161113   \n",
       "2 2016-01-15 02:00:00               6.362222               6.116455   \n",
       "3 2016-01-15 03:00:00               6.118189               6.043309   \n",
       "4 2016-01-15 04:00:00               5.663707               6.060915   \n",
       "\n",
       "   rougher.input.feed_pb  rougher.input.feed_sol  rougher.input.feed_rate  \\\n",
       "0               2.284912               36.808594               523.546326   \n",
       "1               2.266033               35.753385               525.290581   \n",
       "2               2.159622               35.971630               530.026610   \n",
       "3               2.037807               36.862241               542.590390   \n",
       "4               1.786875               34.347666               540.531893   \n",
       "\n",
       "   rougher.input.feed_size  rougher.input.floatbank10_sulfate  \\\n",
       "0                55.486599                          11.986616   \n",
       "1                57.278666                          11.971193   \n",
       "2                57.510649                          11.920603   \n",
       "3                57.792734                          11.630094   \n",
       "4                56.047189                          10.957755   \n",
       "\n",
       "   rougher.input.floatbank10_xanthate  rougher.state.floatbank10_a_air  ...  \\\n",
       "0                            6.007990                       999.706909  ...   \n",
       "1                            6.005766                      1000.286398  ...   \n",
       "2                            6.197377                       999.719565  ...   \n",
       "3                            6.203177                       999.814770  ...   \n",
       "4                            6.198826                       999.678690  ...   \n",
       "\n",
       "   secondary_cleaner.output.tail_sol  final.output.concentrate_au  \\\n",
       "0                           8.764648                    42.192020   \n",
       "1                           9.001494                    42.701629   \n",
       "2                           8.842896                    42.657501   \n",
       "3                           9.122857                    42.689819   \n",
       "4                           8.871028                    42.774141   \n",
       "\n",
       "   final.output.concentrate_ag  final.output.concentrate_pb  \\\n",
       "0                     6.055403                     9.889648   \n",
       "1                     6.029369                     9.968944   \n",
       "2                     6.055926                    10.213995   \n",
       "3                     6.047977                     9.977019   \n",
       "4                     6.148599                    10.142511   \n",
       "\n",
       "   final.output.concentrate_sol  final.output.recovery  final.output.tail_au  \\\n",
       "0                      5.507324              70.541216              2.143149   \n",
       "1                      5.257781              69.266198              2.224930   \n",
       "2                      5.383759              68.116445              2.257889   \n",
       "3                      4.858634              68.347543              2.146849   \n",
       "4                      4.939416              66.927016              2.055292   \n",
       "\n",
       "   final.output.tail_ag  final.output.tail_pb  final.output.tail_sol  \n",
       "0             10.411962              0.895447              16.904297  \n",
       "1             10.462676              0.927452              16.634514  \n",
       "2             10.507046              0.953716              16.208849  \n",
       "3             10.422762              0.883763              16.532835  \n",
       "4             10.360302              0.792826              16.525686  \n",
       "\n",
       "[5 rows x 87 columns]"
      ]
     },
     "execution_count": 5,
     "metadata": {},
     "output_type": "execute_result"
    }
   ],
   "source": [
    "info(gold_industry_train)"
   ]
  },
  {
   "cell_type": "markdown",
   "id": "c5371849",
   "metadata": {},
   "source": [
    "Обучающий датасет `gold_industry_train` состоит 14579 строк и 87 столбцов. Необходимо в дальнейшем понять, каких столбцов в тестовом датасете нет. В 39 столбцах имеются пропуски. Доля пропусков в стобце с наибольшем их числом не привышает 6.31%. Дубликатов по столбцу `'data'` нет. Все столбцы, кроме `'date',` имеют тип `float64`. `'date'` - `datetime64`."
   ]
  },
  {
   "cell_type": "code",
   "execution_count": 6,
   "id": "36e6f8ba",
   "metadata": {},
   "outputs": [
    {
     "name": "stdout",
     "output_type": "stream",
     "text": [
      "Размер датасета: (19439, 87)\n",
      "Пропуски в 63 столбцах\n",
      "Столбец с максимальным числом пропусков имеет 8.99 % пропусков\n",
      "Количество дубликатов в \"data\": 0\n",
      "Типы столбцов:\n",
      " float64           86\n",
      "datetime64[ns]     1\n",
      "dtype: int64\n"
     ]
    },
    {
     "data": {
      "text/html": [
       "<div>\n",
       "<style scoped>\n",
       "    .dataframe tbody tr th:only-of-type {\n",
       "        vertical-align: middle;\n",
       "    }\n",
       "\n",
       "    .dataframe tbody tr th {\n",
       "        vertical-align: top;\n",
       "    }\n",
       "\n",
       "    .dataframe thead th {\n",
       "        text-align: right;\n",
       "    }\n",
       "</style>\n",
       "<table border=\"1\" class=\"dataframe\">\n",
       "  <thead>\n",
       "    <tr style=\"text-align: right;\">\n",
       "      <th></th>\n",
       "      <th>date</th>\n",
       "      <th>rougher.input.feed_au</th>\n",
       "      <th>rougher.input.feed_ag</th>\n",
       "      <th>rougher.input.feed_pb</th>\n",
       "      <th>rougher.input.feed_sol</th>\n",
       "      <th>rougher.input.feed_rate</th>\n",
       "      <th>rougher.input.feed_size</th>\n",
       "      <th>rougher.input.floatbank10_sulfate</th>\n",
       "      <th>rougher.input.floatbank10_xanthate</th>\n",
       "      <th>rougher.state.floatbank10_a_air</th>\n",
       "      <th>...</th>\n",
       "      <th>secondary_cleaner.output.tail_sol</th>\n",
       "      <th>final.output.concentrate_au</th>\n",
       "      <th>final.output.concentrate_ag</th>\n",
       "      <th>final.output.concentrate_pb</th>\n",
       "      <th>final.output.concentrate_sol</th>\n",
       "      <th>final.output.recovery</th>\n",
       "      <th>final.output.tail_au</th>\n",
       "      <th>final.output.tail_ag</th>\n",
       "      <th>final.output.tail_pb</th>\n",
       "      <th>final.output.tail_sol</th>\n",
       "    </tr>\n",
       "  </thead>\n",
       "  <tbody>\n",
       "    <tr>\n",
       "      <th>0</th>\n",
       "      <td>2016-01-15 00:00:00</td>\n",
       "      <td>6.486150</td>\n",
       "      <td>6.100378</td>\n",
       "      <td>2.284912</td>\n",
       "      <td>36.808594</td>\n",
       "      <td>523.546326</td>\n",
       "      <td>55.486599</td>\n",
       "      <td>11.986616</td>\n",
       "      <td>6.007990</td>\n",
       "      <td>999.706909</td>\n",
       "      <td>...</td>\n",
       "      <td>8.764648</td>\n",
       "      <td>42.192020</td>\n",
       "      <td>6.055403</td>\n",
       "      <td>9.889648</td>\n",
       "      <td>5.507324</td>\n",
       "      <td>70.541216</td>\n",
       "      <td>2.143149</td>\n",
       "      <td>10.411962</td>\n",
       "      <td>0.895447</td>\n",
       "      <td>16.904297</td>\n",
       "    </tr>\n",
       "    <tr>\n",
       "      <th>1</th>\n",
       "      <td>2016-01-15 01:00:00</td>\n",
       "      <td>6.478583</td>\n",
       "      <td>6.161113</td>\n",
       "      <td>2.266033</td>\n",
       "      <td>35.753385</td>\n",
       "      <td>525.290581</td>\n",
       "      <td>57.278666</td>\n",
       "      <td>11.971193</td>\n",
       "      <td>6.005766</td>\n",
       "      <td>1000.286398</td>\n",
       "      <td>...</td>\n",
       "      <td>9.001494</td>\n",
       "      <td>42.701629</td>\n",
       "      <td>6.029369</td>\n",
       "      <td>9.968944</td>\n",
       "      <td>5.257781</td>\n",
       "      <td>69.266198</td>\n",
       "      <td>2.224930</td>\n",
       "      <td>10.462676</td>\n",
       "      <td>0.927452</td>\n",
       "      <td>16.634514</td>\n",
       "    </tr>\n",
       "    <tr>\n",
       "      <th>2</th>\n",
       "      <td>2016-01-15 02:00:00</td>\n",
       "      <td>6.362222</td>\n",
       "      <td>6.116455</td>\n",
       "      <td>2.159622</td>\n",
       "      <td>35.971630</td>\n",
       "      <td>530.026610</td>\n",
       "      <td>57.510649</td>\n",
       "      <td>11.920603</td>\n",
       "      <td>6.197377</td>\n",
       "      <td>999.719565</td>\n",
       "      <td>...</td>\n",
       "      <td>8.842896</td>\n",
       "      <td>42.657501</td>\n",
       "      <td>6.055926</td>\n",
       "      <td>10.213995</td>\n",
       "      <td>5.383759</td>\n",
       "      <td>68.116445</td>\n",
       "      <td>2.257889</td>\n",
       "      <td>10.507046</td>\n",
       "      <td>0.953716</td>\n",
       "      <td>16.208849</td>\n",
       "    </tr>\n",
       "    <tr>\n",
       "      <th>3</th>\n",
       "      <td>2016-01-15 03:00:00</td>\n",
       "      <td>6.118189</td>\n",
       "      <td>6.043309</td>\n",
       "      <td>2.037807</td>\n",
       "      <td>36.862241</td>\n",
       "      <td>542.590390</td>\n",
       "      <td>57.792734</td>\n",
       "      <td>11.630094</td>\n",
       "      <td>6.203177</td>\n",
       "      <td>999.814770</td>\n",
       "      <td>...</td>\n",
       "      <td>9.122857</td>\n",
       "      <td>42.689819</td>\n",
       "      <td>6.047977</td>\n",
       "      <td>9.977019</td>\n",
       "      <td>4.858634</td>\n",
       "      <td>68.347543</td>\n",
       "      <td>2.146849</td>\n",
       "      <td>10.422762</td>\n",
       "      <td>0.883763</td>\n",
       "      <td>16.532835</td>\n",
       "    </tr>\n",
       "    <tr>\n",
       "      <th>4</th>\n",
       "      <td>2016-01-15 04:00:00</td>\n",
       "      <td>5.663707</td>\n",
       "      <td>6.060915</td>\n",
       "      <td>1.786875</td>\n",
       "      <td>34.347666</td>\n",
       "      <td>540.531893</td>\n",
       "      <td>56.047189</td>\n",
       "      <td>10.957755</td>\n",
       "      <td>6.198826</td>\n",
       "      <td>999.678690</td>\n",
       "      <td>...</td>\n",
       "      <td>8.871028</td>\n",
       "      <td>42.774141</td>\n",
       "      <td>6.148599</td>\n",
       "      <td>10.142511</td>\n",
       "      <td>4.939416</td>\n",
       "      <td>66.927016</td>\n",
       "      <td>2.055292</td>\n",
       "      <td>10.360302</td>\n",
       "      <td>0.792826</td>\n",
       "      <td>16.525686</td>\n",
       "    </tr>\n",
       "  </tbody>\n",
       "</table>\n",
       "<p>5 rows × 87 columns</p>\n",
       "</div>"
      ],
      "text/plain": [
       "                 date  rougher.input.feed_au  rougher.input.feed_ag  \\\n",
       "0 2016-01-15 00:00:00               6.486150               6.100378   \n",
       "1 2016-01-15 01:00:00               6.478583               6.161113   \n",
       "2 2016-01-15 02:00:00               6.362222               6.116455   \n",
       "3 2016-01-15 03:00:00               6.118189               6.043309   \n",
       "4 2016-01-15 04:00:00               5.663707               6.060915   \n",
       "\n",
       "   rougher.input.feed_pb  rougher.input.feed_sol  rougher.input.feed_rate  \\\n",
       "0               2.284912               36.808594               523.546326   \n",
       "1               2.266033               35.753385               525.290581   \n",
       "2               2.159622               35.971630               530.026610   \n",
       "3               2.037807               36.862241               542.590390   \n",
       "4               1.786875               34.347666               540.531893   \n",
       "\n",
       "   rougher.input.feed_size  rougher.input.floatbank10_sulfate  \\\n",
       "0                55.486599                          11.986616   \n",
       "1                57.278666                          11.971193   \n",
       "2                57.510649                          11.920603   \n",
       "3                57.792734                          11.630094   \n",
       "4                56.047189                          10.957755   \n",
       "\n",
       "   rougher.input.floatbank10_xanthate  rougher.state.floatbank10_a_air  ...  \\\n",
       "0                            6.007990                       999.706909  ...   \n",
       "1                            6.005766                      1000.286398  ...   \n",
       "2                            6.197377                       999.719565  ...   \n",
       "3                            6.203177                       999.814770  ...   \n",
       "4                            6.198826                       999.678690  ...   \n",
       "\n",
       "   secondary_cleaner.output.tail_sol  final.output.concentrate_au  \\\n",
       "0                           8.764648                    42.192020   \n",
       "1                           9.001494                    42.701629   \n",
       "2                           8.842896                    42.657501   \n",
       "3                           9.122857                    42.689819   \n",
       "4                           8.871028                    42.774141   \n",
       "\n",
       "   final.output.concentrate_ag  final.output.concentrate_pb  \\\n",
       "0                     6.055403                     9.889648   \n",
       "1                     6.029369                     9.968944   \n",
       "2                     6.055926                    10.213995   \n",
       "3                     6.047977                     9.977019   \n",
       "4                     6.148599                    10.142511   \n",
       "\n",
       "   final.output.concentrate_sol  final.output.recovery  final.output.tail_au  \\\n",
       "0                      5.507324              70.541216              2.143149   \n",
       "1                      5.257781              69.266198              2.224930   \n",
       "2                      5.383759              68.116445              2.257889   \n",
       "3                      4.858634              68.347543              2.146849   \n",
       "4                      4.939416              66.927016              2.055292   \n",
       "\n",
       "   final.output.tail_ag  final.output.tail_pb  final.output.tail_sol  \n",
       "0             10.411962              0.895447              16.904297  \n",
       "1             10.462676              0.927452              16.634514  \n",
       "2             10.507046              0.953716              16.208849  \n",
       "3             10.422762              0.883763              16.532835  \n",
       "4             10.360302              0.792826              16.525686  \n",
       "\n",
       "[5 rows x 87 columns]"
      ]
     },
     "execution_count": 6,
     "metadata": {},
     "output_type": "execute_result"
    }
   ],
   "source": [
    "info(gold_industry_full)"
   ]
  },
  {
   "cell_type": "markdown",
   "id": "7d2c96d7",
   "metadata": {},
   "source": [
    "Так как `gold_industry_full` является суммой из тестового и обучающего датасета,  то ожидаемо, что его размер строк равен сумме  двух столбцов - 19439, а количество столбцов как у обучающего - 87 столбцов"
   ]
  },
  {
   "cell_type": "markdown",
   "id": "f39ca4cf",
   "metadata": {},
   "source": [
    "### 1.2. Проверяю что эффективность обогащения рассчитана правильно.\n",
    "Вычисляю её на обучающей выборке для признака `'rougher.output.recovery'`.\n",
    "Для расчета эффективного обогащиния необходимо знать:\n",
    "- долю золота в концентрате после флотации (`'rougher.output.concentrate_au'`),\n",
    "- долю золота в сырье до флотации (`'rougher.input.feed_au'`),\n",
    "- долю золота в отвальных хвостах после флотации (`'rougher.output.tail_au'`)."
   ]
  },
  {
   "cell_type": "code",
   "execution_count": 7,
   "id": "58e4e07a",
   "metadata": {},
   "outputs": [
    {
     "data": {
      "text/plain": [
       "0        87.107763\n",
       "1        86.843261\n",
       "2        86.842308\n",
       "3        87.226430\n",
       "4        86.688794\n",
       "           ...    \n",
       "14574    87.684717\n",
       "14575    90.677361\n",
       "14576    89.574376\n",
       "14577    87.724007\n",
       "14578    88.890579\n",
       "Name: rougher.output.recovery, Length: 14579, dtype: float64"
      ]
     },
     "execution_count": 7,
     "metadata": {},
     "output_type": "execute_result"
    }
   ],
   "source": [
    "gold_industry_train['rougher.output.recovery']"
   ]
  },
  {
   "cell_type": "code",
   "execution_count": 8,
   "id": "c876d6e1",
   "metadata": {},
   "outputs": [
    {
     "data": {
      "text/plain": [
       "0        87.107763\n",
       "1        86.843261\n",
       "2        86.842308\n",
       "3        87.226430\n",
       "4        86.688794\n",
       "           ...    \n",
       "14574    87.684717\n",
       "14575    90.677361\n",
       "14576    89.574376\n",
       "14577    87.724007\n",
       "14578    88.890579\n",
       "Length: 14579, dtype: float64"
      ]
     },
     "execution_count": 8,
     "metadata": {},
     "output_type": "execute_result"
    }
   ],
   "source": [
    "recovery_cal = gold_industry_train['rougher.output.concentrate_au']*(gold_industry_train['rougher.input.feed_au'] - gold_industry_train['rougher.output.tail_au'])\n",
    "recovery_cal = recovery_cal * 100 / (gold_industry_train['rougher.input.feed_au']*(gold_industry_train['rougher.output.concentrate_au'] - gold_industry_train['rougher.output.tail_au']))\n",
    "recovery_cal"
   ]
  },
  {
   "cell_type": "markdown",
   "id": "ba388b0a",
   "metadata": {},
   "source": [
    "Нахожу среднюю абсолютную ошибку эффективности обогащения между нашей расчетной (`recovery_cal`) и той, что приведена в обучающем датасете. "
   ]
  },
  {
   "cell_type": "code",
   "execution_count": 9,
   "id": "bbc823f1",
   "metadata": {},
   "outputs": [
    {
     "name": "stdout",
     "output_type": "stream",
     "text": [
      "MAE: 1.1181885454685472e-14 %\n"
     ]
    }
   ],
   "source": [
    "print('MAE:', mean_absolute_error(recovery_cal, gold_industry_train['rougher.output.recovery']), '%')"
   ]
  },
  {
   "cell_type": "markdown",
   "id": "8990c2a0",
   "metadata": {},
   "source": [
    "Средняя абсолютная ошибка почти равна нулю (не ноль из-за округления). То есть можно считать, что эффективность обогащения на этапе флотации в обучающем датасете рассчитано правильно."
   ]
  },
  {
   "cell_type": "markdown",
   "id": "c086a059",
   "metadata": {},
   "source": [
    "### 1.3. Анализ признаков, недоступные в тестовой выборке"
   ]
  },
  {
   "cell_type": "code",
   "execution_count": 10,
   "id": "e16a7b4d",
   "metadata": {
    "scrolled": true
   },
   "outputs": [
    {
     "name": "stdout",
     "output_type": "stream",
     "text": [
      "34\n"
     ]
    },
    {
     "data": {
      "text/plain": [
       "['rougher.calculation.sulfate_to_au_concentrate',\n",
       " 'rougher.calculation.floatbank10_sulfate_to_au_feed',\n",
       " 'rougher.calculation.floatbank11_sulfate_to_au_feed',\n",
       " 'rougher.calculation.au_pb_ratio',\n",
       " 'rougher.output.concentrate_au',\n",
       " 'rougher.output.concentrate_ag',\n",
       " 'rougher.output.concentrate_pb',\n",
       " 'rougher.output.concentrate_sol',\n",
       " 'rougher.output.recovery',\n",
       " 'rougher.output.tail_au',\n",
       " 'rougher.output.tail_ag',\n",
       " 'rougher.output.tail_pb',\n",
       " 'rougher.output.tail_sol',\n",
       " 'primary_cleaner.output.concentrate_au',\n",
       " 'primary_cleaner.output.concentrate_ag',\n",
       " 'primary_cleaner.output.concentrate_pb',\n",
       " 'primary_cleaner.output.concentrate_sol',\n",
       " 'primary_cleaner.output.tail_au',\n",
       " 'primary_cleaner.output.tail_ag',\n",
       " 'primary_cleaner.output.tail_pb',\n",
       " 'primary_cleaner.output.tail_sol',\n",
       " 'secondary_cleaner.output.tail_au',\n",
       " 'secondary_cleaner.output.tail_ag',\n",
       " 'secondary_cleaner.output.tail_pb',\n",
       " 'secondary_cleaner.output.tail_sol',\n",
       " 'final.output.concentrate_au',\n",
       " 'final.output.concentrate_ag',\n",
       " 'final.output.concentrate_pb',\n",
       " 'final.output.concentrate_sol',\n",
       " 'final.output.recovery',\n",
       " 'final.output.tail_au',\n",
       " 'final.output.tail_ag',\n",
       " 'final.output.tail_pb',\n",
       " 'final.output.tail_sol']"
      ]
     },
     "execution_count": 10,
     "metadata": {},
     "output_type": "execute_result"
    }
   ],
   "source": [
    "# список с названиями колонок, которых нет в тестовой выборке\n",
    "not_in_test = []\n",
    "# список с названиями колонок, которые есть в тестовой выборке\n",
    "in_test = []\n",
    "[not_in_test.append(col) if col not in list(gold_industry_test.columns) else in_test.append(col) for col in list(gold_industry_train.columns)]\n",
    "print(len(not_in_test))\n",
    "not_in_test"
   ]
  },
  {
   "cell_type": "markdown",
   "id": "08a20544",
   "metadata": {},
   "source": [
    "В обучающей выборке на 34 столбца больше, чем в тестовой:\n",
    "- 4, характеризующие расчётные характеристики,\n",
    "- 34, характеризующие параметры продукта (не известные на момент добычи) на разных этапах добычи.\n",
    "\n",
    "Таким образом нельзя обучать модель по этим признакам, так как они отсутствуют в обучающем датасете. Далее их устраню, но сначала проведу предобработку данных."
   ]
  },
  {
   "cell_type": "markdown",
   "id": "80db9982",
   "metadata": {},
   "source": [
    "### 1.4. Предобработка данных"
   ]
  },
  {
   "cell_type": "markdown",
   "id": "eac21e3e",
   "metadata": {},
   "source": [
    "Проверю пропуски в обучающей выборке"
   ]
  },
  {
   "cell_type": "code",
   "execution_count": 11,
   "id": "cf729eb0",
   "metadata": {},
   "outputs": [
    {
     "data": {
      "text/plain": [
       "date                       0\n",
       "rougher.input.feed_au      0\n",
       "rougher.input.feed_ag      0\n",
       "rougher.input.feed_pb     72\n",
       "rougher.input.feed_sol    77\n",
       "                          ..\n",
       "final.output.recovery      0\n",
       "final.output.tail_au       0\n",
       "final.output.tail_ag       1\n",
       "final.output.tail_pb      75\n",
       "final.output.tail_sol      5\n",
       "Length: 87, dtype: int64"
      ]
     },
     "execution_count": 11,
     "metadata": {},
     "output_type": "execute_result"
    }
   ],
   "source": [
    "gold_industry_train.isna().sum()"
   ]
  },
  {
   "cell_type": "markdown",
   "id": "f5a28d4c",
   "metadata": {},
   "source": [
    "Известно, что данные индексируются датой и временем получения информации (признак `'date'`). Соседние по времени параметры часто похожи. Поэтому заполню пропуски методом `'ffill'`, которые заполняются предыдущими значениями."
   ]
  },
  {
   "cell_type": "code",
   "execution_count": 12,
   "id": "8be1305f",
   "metadata": {},
   "outputs": [
    {
     "data": {
      "text/plain": [
       "0"
      ]
     },
     "execution_count": 12,
     "metadata": {},
     "output_type": "execute_result"
    }
   ],
   "source": [
    "gold_industry_train = gold_industry_train.fillna(method='ffill')\n",
    "gold_industry_train.isna().sum().sum()"
   ]
  },
  {
   "cell_type": "markdown",
   "id": "5b516586",
   "metadata": {},
   "source": [
    "Посмотрю на выбросы составляющих смеси золотоносной руды."
   ]
  },
  {
   "cell_type": "code",
   "execution_count": 13,
   "id": "4c216702",
   "metadata": {},
   "outputs": [
    {
     "data": {
      "image/png": "[encoded data removed]",
      "text/plain": [
       "<Figure size 1440x720 with 4 Axes>"
      ]
     },
     "metadata": {
      "needs_background": "light"
     },
     "output_type": "display_data"
    }
   ],
   "source": [
    "gold_industry_train[in_test[1:5]].hist(figsize=(20, 10), bins=30, density=True);"
   ]
  },
  {
   "cell_type": "code",
   "execution_count": 14,
   "id": "4ec7ac9b",
   "metadata": {},
   "outputs": [
    {
     "data": {
      "image/png": "[encoded data removed]",
      "text/plain": [
       "<Figure size 1440x720 with 1 Axes>"
      ]
     },
     "metadata": {
      "needs_background": "light"
     },
     "output_type": "display_data"
    }
   ],
   "source": [
    "plt.figure(figsize=(20, 10))\n",
    "sns.boxplot(data=gold_industry_train[in_test[1:5]])\n",
    "plt.title('Выбросы составляющих смеси золотоносной руды');"
   ]
  },
  {
   "cell_type": "markdown",
   "id": "b5f29457",
   "metadata": {},
   "source": [
    "Имеются много выбрасов в концентрациях золота, серебра, свинца и других металлов. Очищу их только на обучающем датасете."
   ]
  },
  {
   "cell_type": "code",
   "execution_count": 15,
   "id": "3a2daa31",
   "metadata": {},
   "outputs": [
    {
     "data": {
      "text/plain": [
       "(14579, 87)"
      ]
     },
     "execution_count": 15,
     "metadata": {},
     "output_type": "execute_result"
    }
   ],
   "source": [
    "gold_industry_train.shape"
   ]
  },
  {
   "cell_type": "code",
   "execution_count": 16,
   "id": "8f126f39",
   "metadata": {},
   "outputs": [],
   "source": [
    "def whiskers_min(df):\n",
    "    '''Функция определния нижней границы выбросов'''\n",
    "    df_min = df.quantile(0.25) - 1.5 * (df.quantile(0.75) - df.quantile(0.25))\n",
    "    return df_min\n",
    "def whiskers_max(df):\n",
    "    '''Функция определния верхней границы выбросов'''\n",
    "    df_max = df.quantile(0.75) + 1.5 * (df.quantile(0.75) - df.quantile(0.25))\n",
    "    return df_max\n",
    "\n",
    "for u in in_test[1:5]:\n",
    "    gold_industry_train = gold_industry_train[(whiskers_min(gold_industry_train[u]) < gold_industry_train[u]) & (whiskers_max(gold_industry_train[u]) > gold_industry_train[u])]"
   ]
  },
  {
   "cell_type": "code",
   "execution_count": 17,
   "id": "4b974f84",
   "metadata": {},
   "outputs": [
    {
     "data": {
      "text/plain": [
       "(13871, 87)"
      ]
     },
     "execution_count": 17,
     "metadata": {},
     "output_type": "execute_result"
    }
   ],
   "source": [
    "gold_industry_train.shape"
   ]
  },
  {
   "cell_type": "markdown",
   "id": "c3affcf0",
   "metadata": {},
   "source": [
    "Очистил 5.43% обучающей выборки."
   ]
  },
  {
   "cell_type": "markdown",
   "id": "fce72761",
   "metadata": {},
   "source": [
    "# 2. Анализ данных"
   ]
  },
  {
   "cell_type": "markdown",
   "id": "9a312859",
   "metadata": {},
   "source": [
    "Посмотрю, как меняется концентрация металлов (Au, Ag, Pb) на различных этапах: в сырье, в черновом концентрате, в концентрате после первой очистки и в финальном концентрате."
   ]
  },
  {
   "cell_type": "code",
   "execution_count": 18,
   "id": "3f06eac5",
   "metadata": {},
   "outputs": [
    {
     "data": {
      "text/html": [
       "<div>\n",
       "<style scoped>\n",
       "    .dataframe tbody tr th:only-of-type {\n",
       "        vertical-align: middle;\n",
       "    }\n",
       "\n",
       "    .dataframe tbody tr th {\n",
       "        vertical-align: top;\n",
       "    }\n",
       "\n",
       "    .dataframe thead th {\n",
       "        text-align: right;\n",
       "    }\n",
       "</style>\n",
       "<table border=\"1\" class=\"dataframe\">\n",
       "  <thead>\n",
       "    <tr style=\"text-align: right;\">\n",
       "      <th></th>\n",
       "      <th>rougher.input.feed</th>\n",
       "      <th>rougher.output.concentrate</th>\n",
       "      <th>rougher.output.tail</th>\n",
       "      <th>primary_cleaner.output.concentrate</th>\n",
       "      <th>primary_cleaner.output.tail</th>\n",
       "      <th>secondary_cleaner.output.tail</th>\n",
       "      <th>final.output.concentrate</th>\n",
       "      <th>final.output.tail</th>\n",
       "    </tr>\n",
       "  </thead>\n",
       "  <tbody>\n",
       "    <tr>\n",
       "      <th>au</th>\n",
       "      <td>8.430337</td>\n",
       "      <td>19.756371</td>\n",
       "      <td>1.850035</td>\n",
       "      <td>32.138840</td>\n",
       "      <td>3.958954</td>\n",
       "      <td>4.351665</td>\n",
       "      <td>44.185627</td>\n",
       "      <td>3.095065</td>\n",
       "    </tr>\n",
       "    <tr>\n",
       "      <th>ag</th>\n",
       "      <td>8.930708</td>\n",
       "      <td>11.951774</td>\n",
       "      <td>5.653833</td>\n",
       "      <td>8.520356</td>\n",
       "      <td>16.074837</td>\n",
       "      <td>14.480986</td>\n",
       "      <td>5.198665</td>\n",
       "      <td>9.741639</td>\n",
       "    </tr>\n",
       "    <tr>\n",
       "      <th>pb</th>\n",
       "      <td>3.629634</td>\n",
       "      <td>7.547887</td>\n",
       "      <td>0.657524</td>\n",
       "      <td>9.831757</td>\n",
       "      <td>3.406007</td>\n",
       "      <td>5.641948</td>\n",
       "      <td>9.987386</td>\n",
       "      <td>2.726567</td>\n",
       "    </tr>\n",
       "  </tbody>\n",
       "</table>\n",
       "</div>"
      ],
      "text/plain": [
       "    rougher.input.feed  rougher.output.concentrate  rougher.output.tail  \\\n",
       "au            8.430337                   19.756371             1.850035   \n",
       "ag            8.930708                   11.951774             5.653833   \n",
       "pb            3.629634                    7.547887             0.657524   \n",
       "\n",
       "    primary_cleaner.output.concentrate  primary_cleaner.output.tail  \\\n",
       "au                           32.138840                     3.958954   \n",
       "ag                            8.520356                    16.074837   \n",
       "pb                            9.831757                     3.406007   \n",
       "\n",
       "    secondary_cleaner.output.tail  final.output.concentrate  final.output.tail  \n",
       "au                       4.351665                 44.185627           3.095065  \n",
       "ag                      14.480986                  5.198665           9.741639  \n",
       "pb                       5.641948                  9.987386           2.726567  "
      ]
     },
     "execution_count": 18,
     "metadata": {},
     "output_type": "execute_result"
    }
   ],
   "source": [
    "au_ag_pb = pd.DataFrame({'rougher.input.feed' : gold_industry_train[in_test[1:4]].mean().values,\n",
    "              'rougher.output.concentrate' : gold_industry_train[not_in_test[4:7]].mean().values,\n",
    "              'rougher.output.tail' : gold_industry_train[not_in_test[9:12]].mean().values,\n",
    "              'primary_cleaner.output.concentrate' : gold_industry_train[not_in_test[13:16]].mean().values,\n",
    "              'primary_cleaner.output.tail' : gold_industry_train[not_in_test[17:20]].mean().values,\n",
    "              'secondary_cleaner.output.tail' : gold_industry_train[not_in_test[21:24]].mean().values,\n",
    "              'final.output.concentrate' : gold_industry_train[not_in_test[25:28]].mean().values,\n",
    "              'final.output.tail' : gold_industry_train[not_in_test[30:33]].mean().values},\n",
    "              index = ['au', 'ag', 'pb'])\n",
    "au_ag_pb"
   ]
  },
  {
   "cell_type": "code",
   "execution_count": 19,
   "id": "3736aacd",
   "metadata": {},
   "outputs": [
    {
     "data": {
      "image/png": "[encoded data removed]",
      "text/plain": [
       "<Figure size 1080x432 with 1 Axes>"
      ]
     },
     "metadata": {
      "needs_background": "light"
     },
     "output_type": "display_data"
    },
    {
     "data": {
      "image/png": "[encoded data removed]",
      "text/plain": [
       "<Figure size 1080x432 with 1 Axes>"
      ]
     },
     "metadata": {
      "needs_background": "light"
     },
     "output_type": "display_data"
    }
   ],
   "source": [
    "au_ag_pb[['rougher.input.feed',\n",
    "          'rougher.output.concentrate',\n",
    "          'primary_cleaner.output.concentrate',\n",
    "          'final.output.concentrate']].T.plot(figsize=(15, 6), grid=True,\n",
    "                                              title='Концентрация Au, Ag, Pb на разных этапах очистки');\n",
    "\n",
    "au_ag_pb[['rougher.output.tail',\n",
    "          'primary_cleaner.output.tail',\n",
    "          'secondary_cleaner.output.tail',\n",
    "          'final.output.tail']].T.plot(figsize=(15, 6), grid=True,\n",
    "                                       title='Концентрация Au, Ag, Pb в отвальных хвостах на разных этапах очистки');"
   ]
  },
  {
   "cell_type": "code",
   "execution_count": 20,
   "id": "a65905af",
   "metadata": {},
   "outputs": [
    {
     "data": {
      "image/png": "[encoded data removed]",
      "text/plain": [
       "<Figure size 1080x720 with 2 Axes>"
      ]
     },
     "metadata": {
      "needs_background": "light"
     },
     "output_type": "display_data"
    }
   ],
   "source": [
    "plt.figure(figsize=(15, 10))\n",
    "plt.subplot(2, 1, 1)\n",
    "au_ag_pb.sum()[['rougher.input.feed',\n",
    "                'rougher.output.concentrate',\n",
    "                'primary_cleaner.output.concentrate',\n",
    "                'final.output.concentrate']].plot(grid=True,\n",
    "                                              title='Cуммарная концентрация металлов на разных стадиях');\n",
    "plt.subplot(2, 1, 2)\n",
    "au_ag_pb.sum()[['rougher.output.tail',\n",
    "                'primary_cleaner.output.tail',\n",
    "                'secondary_cleaner.output.tail',\n",
    "                'final.output.tail']].plot(grid=True,\n",
    "                                              title='Cуммарная концентрация металлов в отвальных хвостах на разных стадиях');"
   ]
  },
  {
   "cell_type": "markdown",
   "id": "104e8cc4",
   "metadata": {},
   "source": [
    "Концентрация золота линейно возрастает после каждого этапа очистки. Концентрация серебра (Ag) возрастает после флотации, а далее падает из-за того, что элемент усиленно начинает вымываться и уходить с отвальными хвостами, начиная с первичной очистки. В финальном концентрате серебра почти в 2 раза меньше, чем в исходном сырье. Концентрация свинца монотонно растет на каждом этапе, несмотря на то, что и вымывается его с каждым этапом больше.\n",
    "\n",
    "Суммарная концентрация металлов Au, Ag, Pb увеличивается на кажом этапе отистки руды. В отвальных хвостах суммарная концентрация увеличивается ко второму этапу очистки. Однако финальная концентрация падает. Это может произойти из-за того, что отвальные хвосты после каждого этапа смешиваются в общем коллекторе, и финальная концентрация - рузельтат смешения.\n",
    "\n",
    "Несмотря на увеличение концентрации золота почти в 5 раз за весь цикл, технология не совершенна, так как в отвальных хвостах также растет концентрация золота. Особенно на первом и втором этапе очистки. Теоретически, сам финальный отвальный хвост можно подать на вход флотационной установки и дополнительно его очистить, уменьшив потери золота и увеличив эффективность всего процесса."
   ]
  },
  {
   "cell_type": "markdown",
   "id": "a7575bbc",
   "metadata": {},
   "source": [
    "Сравню распределения размеров гранул исходного сырья на обучающей и тестовой выборках."
   ]
  },
  {
   "cell_type": "code",
   "execution_count": 21,
   "id": "018df9dc",
   "metadata": {},
   "outputs": [
    {
     "data": {
      "image/png": "[encoded data removed]",
      "text/plain": [
       "<Figure size 1080x432 with 1 Axes>"
      ]
     },
     "metadata": {
      "needs_background": "light"
     },
     "output_type": "display_data"
    }
   ],
   "source": [
    "plt.figure(figsize=(15, 6))\n",
    "gold_industry_train['rougher.input.feed_size'].hist(density=True, bins=30, alpha=0.5, label='Train')\n",
    "gold_industry_test['rougher.input.feed_size'].hist(density=True, bins=30, alpha=0.5, label='Test')\n",
    "plt.title('Hаспределениt размеров гранул исходного сырья')\n",
    "plt.legend();"
   ]
  },
  {
   "cell_type": "markdown",
   "id": "478f5a57",
   "metadata": {},
   "source": [
    "Распределения не сильно отличаются друг от друга. Эта значит, что могу применять обученную модель на тестовых данных, и оценка модели не будет неправильной"
   ]
  },
  {
   "cell_type": "code",
   "execution_count": 22,
   "id": "90cfcc68",
   "metadata": {},
   "outputs": [
    {
     "data": {
      "text/html": [
       "<div>\n",
       "<style scoped>\n",
       "    .dataframe tbody tr th:only-of-type {\n",
       "        vertical-align: middle;\n",
       "    }\n",
       "\n",
       "    .dataframe tbody tr th {\n",
       "        vertical-align: top;\n",
       "    }\n",
       "\n",
       "    .dataframe thead th {\n",
       "        text-align: right;\n",
       "    }\n",
       "</style>\n",
       "<table border=\"1\" class=\"dataframe\">\n",
       "  <thead>\n",
       "    <tr style=\"text-align: right;\">\n",
       "      <th></th>\n",
       "      <th>train</th>\n",
       "      <th>test</th>\n",
       "    </tr>\n",
       "  </thead>\n",
       "  <tbody>\n",
       "    <tr>\n",
       "      <th>count</th>\n",
       "      <td>13871.000000</td>\n",
       "      <td>4816.000000</td>\n",
       "    </tr>\n",
       "    <tr>\n",
       "      <th>mean</th>\n",
       "      <td>58.532147</td>\n",
       "      <td>59.113400</td>\n",
       "    </tr>\n",
       "    <tr>\n",
       "      <th>std</th>\n",
       "      <td>20.419170</td>\n",
       "      <td>19.125122</td>\n",
       "    </tr>\n",
       "    <tr>\n",
       "      <th>min</th>\n",
       "      <td>0.049194</td>\n",
       "      <td>0.046369</td>\n",
       "    </tr>\n",
       "    <tr>\n",
       "      <th>25%</th>\n",
       "      <td>47.399737</td>\n",
       "      <td>47.596984</td>\n",
       "    </tr>\n",
       "    <tr>\n",
       "      <th>50%</th>\n",
       "      <td>54.356317</td>\n",
       "      <td>55.509481</td>\n",
       "    </tr>\n",
       "    <tr>\n",
       "      <th>75%</th>\n",
       "      <td>63.985271</td>\n",
       "      <td>66.661547</td>\n",
       "    </tr>\n",
       "    <tr>\n",
       "      <th>max</th>\n",
       "      <td>484.967466</td>\n",
       "      <td>363.989699</td>\n",
       "    </tr>\n",
       "  </tbody>\n",
       "</table>\n",
       "</div>"
      ],
      "text/plain": [
       "              train         test\n",
       "count  13871.000000  4816.000000\n",
       "mean      58.532147    59.113400\n",
       "std       20.419170    19.125122\n",
       "min        0.049194     0.046369\n",
       "25%       47.399737    47.596984\n",
       "50%       54.356317    55.509481\n",
       "75%       63.985271    66.661547\n",
       "max      484.967466   363.989699"
      ]
     },
     "execution_count": 22,
     "metadata": {},
     "output_type": "execute_result"
    }
   ],
   "source": [
    "pd.DataFrame({'train' : gold_industry_train['rougher.input.feed_size'],\n",
    "              'test' : gold_industry_test['rougher.input.feed_size']}).describe()"
   ]
  },
  {
   "cell_type": "markdown",
   "id": "bc68d850",
   "metadata": {},
   "source": [
    "# 3. Построение модели"
   ]
  },
  {
   "cell_type": "markdown",
   "id": "81e9d5b1",
   "metadata": {},
   "source": [
    "Необходимо предсказать две целевые переменные:\n",
    "- эффективность обогащения чернового концентрата `'rougher.output.recovery'`;\n",
    "- эффективность обогащения финального концентрата `'final.output.recovery'`.\n",
    "\n",
    "Предсказывать `'rougher.output.recovery'` буду только по этапу флотации, используя типы параметров `input` и `state`, которые есть в тестовой выборке.\n",
    "\n",
    "Предсказывать `'final.output.recovery'` буду по всем этапам вместе взятым, используя типы параметров `input` и `state`, которые есть в тестовой выборке."
   ]
  },
  {
   "cell_type": "code",
   "execution_count": 23,
   "id": "7befdfae",
   "metadata": {
    "scrolled": true
   },
   "outputs": [
    {
     "data": {
      "text/plain": [
       "['date',\n",
       " 'rougher.input.feed_au',\n",
       " 'rougher.input.feed_ag',\n",
       " 'rougher.input.feed_pb',\n",
       " 'rougher.input.feed_sol',\n",
       " 'rougher.input.feed_rate',\n",
       " 'rougher.input.feed_size',\n",
       " 'rougher.input.floatbank10_sulfate',\n",
       " 'rougher.input.floatbank10_xanthate',\n",
       " 'rougher.state.floatbank10_a_air',\n",
       " 'rougher.state.floatbank10_a_level',\n",
       " 'rougher.state.floatbank10_b_air',\n",
       " 'rougher.state.floatbank10_b_level',\n",
       " 'rougher.state.floatbank10_c_air',\n",
       " 'rougher.state.floatbank10_c_level',\n",
       " 'rougher.state.floatbank10_d_air',\n",
       " 'rougher.state.floatbank10_d_level',\n",
       " 'rougher.state.floatbank10_e_air',\n",
       " 'rougher.state.floatbank10_e_level',\n",
       " 'rougher.state.floatbank10_f_air',\n",
       " 'rougher.state.floatbank10_f_level',\n",
       " 'rougher.input.floatbank11_sulfate',\n",
       " 'rougher.input.floatbank11_xanthate',\n",
       " 'primary_cleaner.input.sulfate',\n",
       " 'primary_cleaner.input.depressant',\n",
       " 'primary_cleaner.input.feed_size',\n",
       " 'primary_cleaner.input.xanthate',\n",
       " 'primary_cleaner.state.floatbank8_a_air',\n",
       " 'primary_cleaner.state.floatbank8_a_level',\n",
       " 'primary_cleaner.state.floatbank8_b_air',\n",
       " 'primary_cleaner.state.floatbank8_b_level',\n",
       " 'primary_cleaner.state.floatbank8_c_air',\n",
       " 'primary_cleaner.state.floatbank8_c_level',\n",
       " 'primary_cleaner.state.floatbank8_d_air',\n",
       " 'primary_cleaner.state.floatbank8_d_level',\n",
       " 'secondary_cleaner.state.floatbank2_a_air',\n",
       " 'secondary_cleaner.state.floatbank2_a_level',\n",
       " 'secondary_cleaner.state.floatbank2_b_air',\n",
       " 'secondary_cleaner.state.floatbank2_b_level',\n",
       " 'secondary_cleaner.state.floatbank3_a_air',\n",
       " 'secondary_cleaner.state.floatbank3_a_level',\n",
       " 'secondary_cleaner.state.floatbank3_b_air',\n",
       " 'secondary_cleaner.state.floatbank3_b_level',\n",
       " 'secondary_cleaner.state.floatbank4_a_air',\n",
       " 'secondary_cleaner.state.floatbank4_a_level',\n",
       " 'secondary_cleaner.state.floatbank4_b_air',\n",
       " 'secondary_cleaner.state.floatbank4_b_level',\n",
       " 'secondary_cleaner.state.floatbank5_a_air',\n",
       " 'secondary_cleaner.state.floatbank5_a_level',\n",
       " 'secondary_cleaner.state.floatbank5_b_air',\n",
       " 'secondary_cleaner.state.floatbank5_b_level',\n",
       " 'secondary_cleaner.state.floatbank6_a_air',\n",
       " 'secondary_cleaner.state.floatbank6_a_level']"
      ]
     },
     "execution_count": 23,
     "metadata": {},
     "output_type": "execute_result"
    }
   ],
   "source": [
    "in_test"
   ]
  },
  {
   "cell_type": "markdown",
   "id": "7b74933b",
   "metadata": {},
   "source": [
    "Пропуски в обучающей выборке заполнил раннее методом `'ffill'`. В тестовой выборке достаточно удалить пропуски вообще"
   ]
  },
  {
   "cell_type": "code",
   "execution_count": 24,
   "id": "a483bb6f",
   "metadata": {
    "scrolled": true
   },
   "outputs": [
    {
     "data": {
      "text/plain": [
       "date                                            0\n",
       "rougher.input.feed_au                           0\n",
       "rougher.input.feed_ag                           0\n",
       "rougher.input.feed_pb                          28\n",
       "rougher.input.feed_sol                         22\n",
       "rougher.input.feed_rate                         4\n",
       "rougher.input.feed_size                        44\n",
       "rougher.input.floatbank10_sulfate               3\n",
       "rougher.input.floatbank10_xanthate              1\n",
       "rougher.state.floatbank10_a_air                 1\n",
       "rougher.state.floatbank10_a_level               1\n",
       "rougher.state.floatbank10_b_air                 1\n",
       "rougher.state.floatbank10_b_level               1\n",
       "rougher.state.floatbank10_c_air                 1\n",
       "rougher.state.floatbank10_c_level               1\n",
       "rougher.state.floatbank10_d_air                 0\n",
       "rougher.state.floatbank10_d_level               0\n",
       "rougher.state.floatbank10_e_air                 7\n",
       "rougher.state.floatbank10_e_level               0\n",
       "rougher.state.floatbank10_f_air                 0\n",
       "rougher.state.floatbank10_f_level               0\n",
       "rougher.input.floatbank11_sulfate               8\n",
       "rougher.input.floatbank11_xanthate             46\n",
       "primary_cleaner.input.sulfate                   1\n",
       "primary_cleaner.input.depressant                9\n",
       "primary_cleaner.input.feed_size                 0\n",
       "primary_cleaner.input.xanthate                 43\n",
       "primary_cleaner.state.floatbank8_a_air          1\n",
       "primary_cleaner.state.floatbank8_a_level        1\n",
       "primary_cleaner.state.floatbank8_b_air          1\n",
       "primary_cleaner.state.floatbank8_b_level        1\n",
       "primary_cleaner.state.floatbank8_c_air          2\n",
       "primary_cleaner.state.floatbank8_c_level        1\n",
       "primary_cleaner.state.floatbank8_d_air          2\n",
       "primary_cleaner.state.floatbank8_d_level        1\n",
       "secondary_cleaner.state.floatbank2_a_air      126\n",
       "secondary_cleaner.state.floatbank2_a_level      1\n",
       "secondary_cleaner.state.floatbank2_b_air        1\n",
       "secondary_cleaner.state.floatbank2_b_level      1\n",
       "secondary_cleaner.state.floatbank3_a_air        1\n",
       "secondary_cleaner.state.floatbank3_a_level      1\n",
       "secondary_cleaner.state.floatbank3_b_air        1\n",
       "secondary_cleaner.state.floatbank3_b_level      1\n",
       "secondary_cleaner.state.floatbank4_a_air        1\n",
       "secondary_cleaner.state.floatbank4_a_level      1\n",
       "secondary_cleaner.state.floatbank4_b_air        1\n",
       "secondary_cleaner.state.floatbank4_b_level      1\n",
       "secondary_cleaner.state.floatbank5_a_air        1\n",
       "secondary_cleaner.state.floatbank5_a_level      1\n",
       "secondary_cleaner.state.floatbank5_b_air        1\n",
       "secondary_cleaner.state.floatbank5_b_level      1\n",
       "secondary_cleaner.state.floatbank6_a_air        1\n",
       "secondary_cleaner.state.floatbank6_a_level      1\n",
       "dtype: int64"
      ]
     },
     "execution_count": 24,
     "metadata": {},
     "output_type": "execute_result"
    }
   ],
   "source": [
    "gold_industry_test.isna().sum()"
   ]
  },
  {
   "cell_type": "code",
   "execution_count": 25,
   "id": "492dfc1e",
   "metadata": {},
   "outputs": [],
   "source": [
    "gold_industry_test = gold_industry_test.dropna()"
   ]
  },
  {
   "cell_type": "code",
   "execution_count": 26,
   "id": "7714dc03",
   "metadata": {},
   "outputs": [
    {
     "data": {
      "text/plain": [
       "0"
      ]
     },
     "execution_count": 26,
     "metadata": {},
     "output_type": "execute_result"
    }
   ],
   "source": [
    "gold_industry_test.isna().sum().sum()"
   ]
  },
  {
   "cell_type": "code",
   "execution_count": 27,
   "id": "c522b6f8",
   "metadata": {},
   "outputs": [
    {
     "data": {
      "text/plain": [
       "(4537, 53)"
      ]
     },
     "execution_count": 27,
     "metadata": {},
     "output_type": "execute_result"
    }
   ],
   "source": [
    "gold_industry_test.shape"
   ]
  },
  {
   "cell_type": "markdown",
   "id": "cde01f98",
   "metadata": {},
   "source": [
    "Удалил 6.64% пропусков в обучающей выборке."
   ]
  },
  {
   "cell_type": "markdown",
   "id": "c18959d2",
   "metadata": {},
   "source": [
    "Разобъю наши выборки на обучающие и тестовые признаки и таргеты для двух случаев. Также найду целевую переменную для тестовой выборки из датасета `gold_industry_full`, сопоставляя даты признаков и таргета. Так как не исследую зависимость эффективности обогащения от времени, а оно используется лишь для маркировки сбора данных, то можно смело удалить признак `'date'`."
   ]
  },
  {
   "cell_type": "code",
   "execution_count": 28,
   "id": "75d9052c",
   "metadata": {},
   "outputs": [],
   "source": [
    "X_rougher_train = gold_industry_train[in_test[1:23]]\n",
    "X_rougher_test = gold_industry_test[in_test[1:23]]\n",
    "\n",
    "X_final_train = gold_industry_train[in_test].drop(columns=['date'], axis=1)\n",
    "X_final_test = gold_industry_test[in_test].drop(columns=['date'], axis=1)\n",
    "\n",
    "y_rougher_test = gold_industry_full.set_index('date').loc[gold_industry_test['date'].values, 'rougher.output.recovery']\n",
    "y_final_test = gold_industry_full.set_index('date').loc[gold_industry_test['date'].values, 'final.output.recovery']\n",
    "\n",
    "y_rougher_train = gold_industry_train.loc[X_rougher_train.index, 'rougher.output.recovery']\n",
    "y_final_train = gold_industry_train.loc[X_final_train.index, 'final.output.recovery']"
   ]
  },
  {
   "cell_type": "code",
   "execution_count": 29,
   "id": "8d8e56ee",
   "metadata": {},
   "outputs": [
    {
     "name": "stdout",
     "output_type": "stream",
     "text": [
      "Размер признаков обучающей выборки флотации: (13871, 22)\n",
      "Размер признаков обучающей выборки всего цикла очистки: (13871, 52)\n"
     ]
    }
   ],
   "source": [
    "print('Размер признаков обучающей выборки флотации:', X_rougher_train.shape)\n",
    "print('Размер признаков обучающей выборки всего цикла очистки:', X_final_train.shape)"
   ]
  },
  {
   "cell_type": "code",
   "execution_count": 30,
   "id": "21e0d8ab",
   "metadata": {},
   "outputs": [
    {
     "name": "stdout",
     "output_type": "stream",
     "text": [
      "Размер тестовых признаков и таргета флотации совпадает\n",
      "Размер тестовых признаков и таргета всего цикла очистки совпадает\n",
      "Размер обучающих признаков и таргета флотации совпадает\n",
      "Размер обучающих признаков и таргета всего цикла очистки совпадает\n"
     ]
    }
   ],
   "source": [
    "if X_final_test.shape[0] == y_final_test.shape[0]:\n",
    "    print('Размер тестовых признаков и таргета флотации совпадает')\n",
    "else:\n",
    "    print('Ахтунг! Размер тестовых признаков и таргета флотации НЕ совпадает')\n",
    "\n",
    "if X_rougher_test.shape[0] == y_rougher_test.shape[0]:\n",
    "    print('Размер тестовых признаков и таргета всего цикла очистки совпадает')\n",
    "else:\n",
    "    print('Ахтунг! Размер тестовых признаков и таргета всего цикла очистки НЕ совпадает')\n",
    "    \n",
    "if X_final_train.shape[0] == y_final_train.shape[0]:\n",
    "    print('Размер обучающих признаков и таргета флотации совпадает')\n",
    "else:\n",
    "    print('Ахтунг! Размер тестовых признаков и таргета флотации НЕ совпадает')\n",
    "\n",
    "if X_rougher_train.shape[0] == y_rougher_train.shape[0]:\n",
    "    print('Размер обучающих признаков и таргета всего цикла очистки совпадает')\n",
    "else:\n",
    "    print('Ахтунг! Размер тестовых признаков и таргета всего цикла очистки НЕ совпадает')"
   ]
  },
  {
   "cell_type": "code",
   "execution_count": 31,
   "id": "87cab7c8",
   "metadata": {},
   "outputs": [
    {
     "name": "stdout",
     "output_type": "stream",
     "text": [
      "Количество пропусков в выборке флотации: 0\n",
      "Количество пропусков в выборке всего цикла очистки: 0\n"
     ]
    }
   ],
   "source": [
    "print('Количество пропусков в выборке флотации:', y_rougher_test.isna().sum())\n",
    "print('Количество пропусков в выборке всего цикла очистки:', y_final_test.isna().sum())"
   ]
  },
  {
   "cell_type": "markdown",
   "id": "8df909c2",
   "metadata": {},
   "source": [
    "Исследую мультиколлинеарность линейной корреляцией Пирсона."
   ]
  },
  {
   "cell_type": "code",
   "execution_count": 32,
   "id": "e0572014",
   "metadata": {},
   "outputs": [
    {
     "data": {
      "image/png": "[encoded data removed]",
      "text/plain": [
       "<Figure size 1440x1440 with 2 Axes>"
      ]
     },
     "metadata": {
      "needs_background": "light"
     },
     "output_type": "display_data"
    }
   ],
   "source": [
    "plt.figure(figsize=(20, 20))\n",
    "sns.heatmap(X_final_train.corr())\n",
    "plt.title('Корреляционная матрица');"
   ]
  },
  {
   "cell_type": "markdown",
   "id": "756eb081",
   "metadata": {},
   "source": [
    "Столбцы с `'rougher.state.floatbank10_b_air'` по `'rougher.state.floatbank10_f_level'` через сильно линейно коррелируют между собой. Аналогично у диапазона признаков `'primary_cleaner.state.floatbank8_a_air'`-`'primary_cleaner.state.floatbank8_c_air'` и `'secondary_cleaner.state.floatbank2_a_air'`-`'secondary_cleaner.state.floatbank2_b_air'`. Исключу данные столбцы."
   ]
  },
  {
   "cell_type": "code",
   "execution_count": 33,
   "id": "029376d7",
   "metadata": {},
   "outputs": [],
   "source": [
    "X_rougher_train = X_rougher_train.drop(columns=in_test[11:21], axis=1)\n",
    "X_rougher_test = X_rougher_test.drop(columns=in_test[11:21], axis=1)\n",
    "X_final_train = X_final_train.drop(columns=(in_test[11:21]+in_test[27:33]+in_test[35:39]), axis=1)\n",
    "X_final_test = X_final_test.drop(columns=(in_test[11:21]+in_test[27:33]+in_test[35:39]), axis=1)"
   ]
  },
  {
   "cell_type": "markdown",
   "id": "18137302",
   "metadata": {},
   "source": [
    "Отмасштабирую признаки"
   ]
  },
  {
   "cell_type": "code",
   "execution_count": 34,
   "id": "e2eb4e5e",
   "metadata": {},
   "outputs": [],
   "source": [
    "scaler_rougher = StandardScaler()\n",
    "scaler_rougher.fit(X_rougher_train)\n",
    "X_rougher_train = scaler_rougher.transform(X_rougher_train)\n",
    "X_rougher_test = scaler_rougher.transform(X_rougher_test)\n",
    "\n",
    "scaler_final = StandardScaler()\n",
    "scaler_final.fit(X_final_train)\n",
    "X_final_train = scaler_final.transform(X_final_train)\n",
    "X_final_test = scaler_final.transform(X_final_test)"
   ]
  },
  {
   "cell_type": "markdown",
   "id": "d68ef40f",
   "metadata": {},
   "source": [
    "### 3.1. Функция для вычисления итоговой sMAPE"
   ]
  },
  {
   "cell_type": "code",
   "execution_count": 35,
   "id": "1fe55a1b",
   "metadata": {},
   "outputs": [],
   "source": [
    "def smape(predict, y_true):\n",
    "    '''Функция вычисления sMAPE.\n",
    "    На входе принимает предсказание и таргет.\n",
    "    На выходе - оценка'''\n",
    "    smape = abs(y_true - predict)*2 / (abs(y_true) + abs(predict))\n",
    "    smape = smape.sum() / len(predict)\n",
    "    smape = smape * 100\n",
    "    return np.round(smape, 2)\n",
    "\n",
    "def general_smape(smape_rougher, smape_final):\n",
    "    '''Функция вычисления комбинированного sMAPE.\n",
    "    На входе принимает sMAPE флотации и sMAPE всего цикла очистки.\n",
    "    На выходе - комбинированная sMAPE'''\n",
    "    gen_smape = 0.25 * smape_rougher + 0.75 * smape_final\n",
    "    return np.round(gen_smape, 2)"
   ]
  },
  {
   "cell_type": "markdown",
   "id": "b6bca336",
   "metadata": {},
   "source": [
    "### 3.2. Обучение модели"
   ]
  },
  {
   "cell_type": "markdown",
   "id": "2f48df0e",
   "metadata": {},
   "source": [
    "Буду рассматривать три модели регрессии для каждого случая (флотация и полный цикл очистки):\n",
    "- линейная регрессия,\n",
    "- дерево решений,\n",
    "- случайный лес,\n",
    "- градиентный бустинг.\n",
    "\n",
    "Оценивать гиперпараметры буду с помощью кроссвалидации, которая уже встроена в GridSearchCV (для случайного леса RandomizedSearchCV). Качество кросс-валидации определяю пользовательской метрикой sMAPE через `make_scorer`. Для линейной же регрессии воспользуюсь `cross_val_score`. Далее, по лучшим гиперпараметрам найду предсказания, сравню его таргетом той же sMAPE, а после по наименьшим sMAPE найду общую комбинированную sMAPE."
   ]
  },
  {
   "cell_type": "code",
   "execution_count": 36,
   "id": "c7ccd14a",
   "metadata": {},
   "outputs": [],
   "source": [
    "def grid_search(model, param, X_train, y_train):\n",
    "    '''Функция подбора гиперпараметров с помощью GridSearchCV.\n",
    "       На входе принимает модель, словарь с гиперпараметрами, фичи и таргет.\n",
    "       На выходе - оценка кроссвалидации и словарь с лучшими гиперпараметрами'''\n",
    "    \n",
    "    grid = GridSearchCV(model, param, n_jobs=-1, cv=5, scoring=make_scorer(smape, greater_is_better=False))\n",
    "    grid.fit(X_train, y_train)\n",
    "    print('Средняя sMAPE кросс-валидации:', -grid.best_score_)\n",
    "    return -grid.best_score_, grid.best_params_\n",
    "\n",
    "def grid_search_random(model, param, X_train, y_train):\n",
    "    '''Функция подбора гиперпараметров с помощью RandomizedGridSearchCV.\n",
    "       На входе принимает модель, словарь с гиперпараметрами, фичи и таргет.\n",
    "       На выходе - оценка кроссвалидации и словарь с лучшими гиперпараметрами'''\n",
    "    \n",
    "    grid = RandomizedSearchCV(model, param, n_jobs=-1, cv=5, scoring=make_scorer(smape, greater_is_better=False))\n",
    "    grid.fit(X_train, y_train)\n",
    "    print('Средняя sMAPE кросс-валидации:', -grid.best_score_)\n",
    "    return -grid.best_score_, grid.best_params_\n",
    "\n",
    "def linear_regression(X_train, y_train, X_test, y_test):\n",
    "    '''Функция линейной регрессии.\n",
    "       На входе принимает фичи и таргеты обучающей и тестовой выборок.\n",
    "       На выходе - оценка кроссвалидации и оценка sMAPE'''\n",
    "    print('=============== линейная регрессия ===============')\n",
    "    clf = LinearRegression()\n",
    "    scores = cross_val_score(clf, X_train, y_train, cv=5, scoring=make_scorer(smape, greater_is_better=False))\n",
    "    print('Средняя sMAPE кросс-валидации:', -scores.mean())\n",
    "    clf.fit(X_train, y_train)\n",
    "    print('Оценка sMAPE на обучающей выборке:', smape(clf.predict(X_train), y_train))\n",
    "    predict = clf.predict(X_test)\n",
    "    return -scores.mean(), smape(predict, y_test)\n",
    "\n",
    "def lasso(X_train, y_train, X_test, y_test, param):\n",
    "    '''Функция Лассо-регрессии.\n",
    "       На входе принимает фичи и таргеты обучающей и тестовой выборок.\n",
    "       На выходе - оценка кроссвалидации и оценка sMAPE'''\n",
    "    print('=============== лассо-регрессия ===============')\n",
    "    clf = Lasso(random_state=12345)\n",
    "    score, alpha_ = grid_search(clf, param, X_train, y_train)\n",
    "    clf = Lasso(alpha=alpha_['alpha'], random_state=12345)\n",
    "    clf.fit(X_train, y_train)\n",
    "    print('Оценка sMAPE на обучающей выборке:', smape(clf.predict(X_train), y_train))\n",
    "    predict = clf.predict(X_test)\n",
    "    return score, smape(predict, y_test)\n",
    "\n",
    "def decision_tree(X_train, y_train, X_test, y_test, param):\n",
    "    '''Функция решающего дерева.\n",
    "       На входе принимает фичи и таргеты обучающей и тестовой выборок.\n",
    "       На выходе - оценка кроссвалидации и оценка sMAPE'''\n",
    "    print('=============== дерево решений ===============')\n",
    "    clf = DecisionTreeRegressor(random_state=12345)\n",
    "    score, m = grid_search(clf, param, X_train, y_train)\n",
    "    clf = DecisionTreeRegressor(random_state=12345,\n",
    "                                max_depth=m['max_depth'],\n",
    "                                min_samples_split=m['min_samples_split'],\n",
    "                                min_samples_leaf=m['min_samples_leaf'])\n",
    "    clf.fit(X_train, y_train)\n",
    "    print('Оценка sMAPE на обучающей выборке:', smape(clf.predict(X_train), y_train))\n",
    "    predict = clf.predict(X_test)\n",
    "    return score, smape(predict, y_test)\n",
    "\n",
    "def random_forest_tree(X_train, y_train, X_test, y_test, param):\n",
    "    '''Функция случайного леса.\n",
    "       На входе принимает фичи и таргеты обучающей и тестовой выборок.\n",
    "       На выходе - оценка кроссвалидации и оценка sMAPE'''\n",
    "    print('=============== случайный лес ===============')\n",
    "    clf = RandomForestRegressor(random_state=12345)\n",
    "    score, m = grid_search_random(clf, param, X_train, y_train)\n",
    "    clf = RandomForestRegressor(random_state=12345,\n",
    "                                n_estimators=m['n_estimators'],\n",
    "                                max_depth=m['max_depth'],\n",
    "                                min_samples_split=m['min_samples_split'],\n",
    "                                min_samples_leaf=m['min_samples_leaf'])\n",
    "    clf.fit(X_train, y_train)\n",
    "    print('Оценка sMAPE на обучающей выборке:', smape(clf.predict(X_train), y_train))\n",
    "    predict = clf.predict(X_test)\n",
    "    return score, smape(predict, y_test)\n",
    "\n",
    "def cat_boost(X_train, y_train, X_test, y_test, param):\n",
    "    '''Функция градиентного бустинга.\n",
    "       На входе принимает фичи и таргеты обучающей и тестовой выборок.\n",
    "       На выходе - оценка кроссвалидации и оценка sMAPE'''\n",
    "    print('=============== градиентный бустинг ===============')\n",
    "    clf = CatBoostRegressor(random_state=12345, verbose=False)\n",
    "    score, m = grid_search_random(clf, param, X_train, y_train)\n",
    "    clf = CatBoostRegressor(random_state=12345,\n",
    "                            verbose=False,\n",
    "                            iterations=m['iterations'],\n",
    "                            depth=m['depth'],\n",
    "                            l2_leaf_reg=m['l2_leaf_reg'])\n",
    "    clf.fit(X_train, y_train)\n",
    "    print('Оценка sMAPE на обучающей выборке:', smape(clf.predict(X_train), y_train))\n",
    "    predict = clf.predict(X_test)\n",
    "    return score, smape(predict, y_test)"
   ]
  },
  {
   "cell_type": "code",
   "execution_count": 37,
   "id": "474349a5",
   "metadata": {},
   "outputs": [
    {
     "name": "stdout",
     "output_type": "stream",
     "text": [
      "=============== линейная регрессия ===============\n",
      "Средняя sMAPE кросс-валидации: 12.29\n",
      "Оценка sMAPE на обучающей выборке: 11.48\n",
      "=============== линейная регрессия ===============\n",
      "Средняя sMAPE кросс-валидации: 10.459999999999999\n",
      "Оценка sMAPE на обучающей выборке: 8.86\n"
     ]
    }
   ],
   "source": [
    "s_rougher_linear, smape_rougher_linear = linear_regression(X_rougher_train, y_rougher_train, X_rougher_test, y_rougher_test)\n",
    "# print('Оценка sMAPE:', s_rougher_linear)\n",
    "s_final_linear, smape_final_linear = linear_regression(X_final_train, y_final_train, X_final_test, y_final_test)\n",
    "# print('Оценка sMAPE:', s_final_linear)"
   ]
  },
  {
   "cell_type": "code",
   "execution_count": 38,
   "id": "04b68a5b",
   "metadata": {},
   "outputs": [
    {
     "name": "stdout",
     "output_type": "stream",
     "text": [
      "=============== лассо-регрессия ===============\n",
      "Средняя sMAPE кросс-валидации: 12.026\n",
      "Оценка sMAPE на обучающей выборке: 11.42\n",
      "=============== лассо-регрессия ===============\n",
      "Средняя sMAPE кросс-валидации: 9.604\n",
      "Оценка sMAPE на обучающей выборке: 9.02\n"
     ]
    }
   ],
   "source": [
    "s_rougher_lasso, smape_rougher_lasso = lasso(X_rougher_train, y_rougher_train, X_rougher_test, y_rougher_test, {'alpha' : arange(0, 1, 0.01)})\n",
    "# print('Оценка sMAPE:', s_rougher_lasso)\n",
    "s_final_lasso, smape_final_lasso = lasso(X_final_train, y_final_train, X_final_test, y_final_test, {'alpha' : arange(0, 1, 0.01)})\n",
    "# print('Оценка sMAPE:', s_final_lasso)"
   ]
  },
  {
   "cell_type": "code",
   "execution_count": 39,
   "id": "daf0c83c",
   "metadata": {},
   "outputs": [
    {
     "name": "stdout",
     "output_type": "stream",
     "text": [
      "=============== дерево решений ===============\n",
      "Средняя sMAPE кросс-валидации: 12.436\n",
      "Оценка sMAPE на обучающей выборке: 11.49\n",
      "=============== дерево решений ===============\n",
      "Средняя sMAPE кросс-валидации: 10.006\n",
      "Оценка sMAPE на обучающей выборке: 9.24\n"
     ]
    }
   ],
   "source": [
    "s_rougher_decision_tree, smape_rougher_decision_tree = decision_tree(X_rougher_train, y_rougher_train, X_rougher_test, \n",
    "                                                                     y_rougher_test,\n",
    "                                                                    {'max_depth' : range(1, 11),\n",
    "                                                                     'min_samples_split' : range(2, 11, 2),\n",
    "                                                                     'min_samples_leaf' : range(1, 11, 2)})\n",
    "# print('Оценка sMAPE:', s_rougher_decision_tree)\n",
    "s_final_decision_tree, smape_final_decision_tree = decision_tree(X_final_train, y_final_train, X_final_test, y_final_test, \n",
    "                                                                {'max_depth' : range(1, 11),\n",
    "                                                                 'min_samples_split' : range(2, 11, 2),\n",
    "                                                                 'min_samples_leaf' : range(1, 11, 2)})\n",
    "# print('Оценка sMAPE:', s_final_decision_tree)"
   ]
  },
  {
   "cell_type": "code",
   "execution_count": 40,
   "id": "3c4b8181",
   "metadata": {},
   "outputs": [
    {
     "name": "stdout",
     "output_type": "stream",
     "text": [
      "=============== случайный лес ===============\n",
      "Средняя sMAPE кросс-валидации: 12.261999999999999\n",
      "Оценка sMAPE на обучающей выборке: 10.77\n",
      "=============== случайный лес ===============\n",
      "Средняя sMAPE кросс-валидации: 9.726000000000003\n",
      "Оценка sMAPE на обучающей выборке: 9.06\n"
     ]
    }
   ],
   "source": [
    "s_rougher_random_forest, smape_rougher_random_forest = random_forest_tree(X_rougher_train, y_rougher_train, \n",
    "                                                                          X_rougher_test, y_rougher_test, \n",
    "                                                                         {'n_estimators' : range(1, 101, 20),\n",
    "                                                                          'max_depth' : range(1, 11),\n",
    "                                                                          'min_samples_split' : range(2, 11, 2),\n",
    "                                                                          'min_samples_leaf' : range(1, 11, 2)})\n",
    "# print('Оценка sMAPE:', s_rougher_random_forest)\n",
    "s_final_random_forest, smape_final_random_forest = random_forest_tree(X_final_train, y_final_train, X_final_test, y_final_test, \n",
    "                                                                     {'n_estimators' : range(1, 101, 20),\n",
    "                                                                      'max_depth' : range(1, 11),\n",
    "                                                                      'min_samples_split' : range(2, 11, 2),\n",
    "                                                                      'min_samples_leaf' : range(1, 11, 2)})\n",
    "# print('Оценка sMAPE:', s_final_random_forest)"
   ]
  },
  {
   "cell_type": "code",
   "execution_count": 41,
   "id": "9b1d7a28",
   "metadata": {},
   "outputs": [
    {
     "name": "stdout",
     "output_type": "stream",
     "text": [
      "=============== градиентный бустинг ===============\n",
      "Средняя sMAPE кросс-валидации: 11.616\n",
      "Оценка sMAPE на обучающей выборке: 10.42\n",
      "=============== градиентный бустинг ===============\n",
      "Средняя sMAPE кросс-валидации: 9.286000000000001\n",
      "Оценка sMAPE на обучающей выборке: 8.27\n"
     ]
    }
   ],
   "source": [
    "s_rougher_cat_boost, smape_rougher_cat_boost = cat_boost(X_rougher_train, y_rougher_train, X_rougher_test, y_rougher_test,\n",
    "                                                        {'iterations': range(20, 101, 20),\n",
    "                                                         'depth': range(2, 11),\n",
    "                                                         'l2_leaf_reg': range(1, 10, 2)})\n",
    "# print('Оценка sMAPE:', s_rougher_cat_boost)\n",
    "s_final_cat_boost, smape_final_cat_boost = cat_boost(X_final_train, y_final_train, X_final_test, y_final_test,\n",
    "                                                    {'iterations': range(20, 101, 20),\n",
    "                                                     'depth': range(2, 11),\n",
    "                                                     'l2_leaf_reg': range(1, 10, 2)})\n",
    "# print('Оценка sMAPE:', s_final_cat_boost)"
   ]
  },
  {
   "cell_type": "code",
   "execution_count": 42,
   "id": "7b0a073a",
   "metadata": {},
   "outputs": [
    {
     "data": {
      "text/html": [
       "<div>\n",
       "<style scoped>\n",
       "    .dataframe tbody tr th:only-of-type {\n",
       "        vertical-align: middle;\n",
       "    }\n",
       "\n",
       "    .dataframe tbody tr th {\n",
       "        vertical-align: top;\n",
       "    }\n",
       "\n",
       "    .dataframe thead th {\n",
       "        text-align: right;\n",
       "    }\n",
       "</style>\n",
       "<table border=\"1\" class=\"dataframe\">\n",
       "  <thead>\n",
       "    <tr style=\"text-align: right;\">\n",
       "      <th></th>\n",
       "      <th>rougher</th>\n",
       "      <th>final</th>\n",
       "    </tr>\n",
       "  </thead>\n",
       "  <tbody>\n",
       "    <tr>\n",
       "      <th>linear</th>\n",
       "      <td>12.290</td>\n",
       "      <td>10.460</td>\n",
       "    </tr>\n",
       "    <tr>\n",
       "      <th>lasso</th>\n",
       "      <td>12.026</td>\n",
       "      <td>9.604</td>\n",
       "    </tr>\n",
       "    <tr>\n",
       "      <th>decision_tree</th>\n",
       "      <td>12.436</td>\n",
       "      <td>10.006</td>\n",
       "    </tr>\n",
       "    <tr>\n",
       "      <th>random_forest</th>\n",
       "      <td>12.262</td>\n",
       "      <td>9.726</td>\n",
       "    </tr>\n",
       "    <tr>\n",
       "      <th>cat_boost</th>\n",
       "      <td>11.616</td>\n",
       "      <td>9.286</td>\n",
       "    </tr>\n",
       "  </tbody>\n",
       "</table>\n",
       "</div>"
      ],
      "text/plain": [
       "               rougher   final\n",
       "linear          12.290  10.460\n",
       "lasso           12.026   9.604\n",
       "decision_tree   12.436  10.006\n",
       "random_forest   12.262   9.726\n",
       "cat_boost       11.616   9.286"
      ]
     },
     "execution_count": 42,
     "metadata": {},
     "output_type": "execute_result"
    }
   ],
   "source": [
    "table_smape = pd.DataFrame({'linear' : [s_rougher_linear, s_final_linear], \n",
    "                            'lasso' : [s_rougher_lasso, s_final_lasso],\n",
    "                            'decision_tree' : [s_rougher_decision_tree, s_final_decision_tree],\n",
    "                            'random_forest' : [s_rougher_random_forest, s_final_random_forest],\n",
    "                            'cat_boost' : [s_rougher_cat_boost, s_final_cat_boost]},\n",
    "                            index=['rougher', 'final']).T\n",
    "table_smape"
   ]
  },
  {
   "cell_type": "code",
   "execution_count": 43,
   "id": "eacc5fc1",
   "metadata": {},
   "outputs": [
    {
     "name": "stdout",
     "output_type": "stream",
     "text": [
      "Для процесса флотации минимальный sMAPE: cat_boost    11.616\n",
      "Name: rougher, dtype: float64\n",
      "--------------------------------------------------------\n",
      "Для для всего процесса очистки минимальный sMAPE: cat_boost    9.286\n",
      "Name: final, dtype: float64\n"
     ]
    }
   ],
   "source": [
    "print('Для процесса флотации минимальный sMAPE:', table_smape.loc[table_smape['rougher'] == table_smape['rougher'].min(), 'rougher'])\n",
    "print('--------------------------------------------------------')\n",
    "print('Для для всего процесса очистки минимальный sMAPE:', table_smape.loc[table_smape['final'] == table_smape['final'].min(), 'final'])"
   ]
  },
  {
   "cell_type": "markdown",
   "id": "f2ae6db9",
   "metadata": {},
   "source": [
    "Минимальные sMAPE по результатам кросс-валидации для процесса флотации и для всего  процесса очистки у модели градиентного бустинга. Рассчитаю, основываясь на наилучшие параметры этих моделей, sMAPE на предсказании по тестовым выборкам, подсчитав комбинированный sMAPE"
   ]
  },
  {
   "cell_type": "code",
   "execution_count": 44,
   "id": "2356f679",
   "metadata": {},
   "outputs": [
    {
     "name": "stdout",
     "output_type": "stream",
     "text": [
      "sMAPE модели процесса флотации: 4.96\n",
      "sMAPE всего процесса очистки: 7.37\n",
      "Общий минимальный sMAPE: 6.77\n"
     ]
    }
   ],
   "source": [
    "print('sMAPE модели процесса флотации:', smape_rougher_cat_boost)\n",
    "print('sMAPE всего процесса очистки:', smape_final_cat_boost)\n",
    "print('Общий минимальный sMAPE:', general_smape(smape_rougher_cat_boost, smape_final_cat_boost))"
   ]
  },
  {
   "cell_type": "markdown",
   "id": "9406a4e9",
   "metadata": {},
   "source": [
    "Сравню оценку к константной моделью."
   ]
  },
  {
   "cell_type": "code",
   "execution_count": 45,
   "id": "74a86e87",
   "metadata": {},
   "outputs": [
    {
     "name": "stdout",
     "output_type": "stream",
     "text": [
      "sMAPE константной модели процесса флотации: 6.98\n",
      "sMAPE константной модели всего процесса очистки: 20.59\n",
      "Комбинированный sMAPE константной модели: 17.19\n"
     ]
    }
   ],
   "source": [
    "dum_rougher = DummyRegressor()\n",
    "dum_rougher.fit(X_rougher_train, y_rougher_train)\n",
    "predict_rougher = dum_rougher.predict(X_rougher_test)\n",
    "smape_rougher = smape(predict_rougher, y_rougher_test)\n",
    "print('sMAPE константной модели процесса флотации:', smape_rougher)\n",
    "\n",
    "dum_final = DummyRegressor()\n",
    "dum_final.fit(X_final_train, y_final_train)\n",
    "predict_final = dum_rougher.predict(X_final_test)\n",
    "smape_final = smape(predict_final, y_final_test)\n",
    "print('sMAPE константной модели всего процесса очистки:', smape_final)\n",
    "\n",
    "print('Комбинированный sMAPE константной модели:', general_smape(smape_rougher, smape_final))"
   ]
  },
  {
   "cell_type": "markdown",
   "id": "55cd0c5f",
   "metadata": {},
   "source": [
    "# Вывод\n",
    "\n",
    "В этом проекте по сырым данным с параметрами добычи и очистки золота были построены несколько моделей по предсказанию коэффициент восстановления золота из золотосодержащей руды:\n",
    "- эффективность обогащения чернового концентрата `'rougher.output.recovery'`,\n",
    "- эффективность обогащения финального концентрата `'final.output.recovery'`.\n",
    "\n",
    "Рассматривались три модели для каждой прогнозируемой переменной:\n",
    "- линейная регрессия,\n",
    "- дерево решений,\n",
    "- случайный лес,\n",
    "- градиентный бустинг.\n",
    "\n",
    "Оценку проводил с помощью метрики качества — sMAPE (англ. Symmetric Mean Absolute Percentage Error, «симметричное среднее абсолютное процентное отклонение»), которая одинаково учитывает масштаб и целевого признака, и предсказания. Итоговая метрика всего технологического цикла очистки золота складывается из эффективности обогащения чернового концентрата и эффективности обогащения финального концентрата.\n",
    "\n",
    "Выяснил, что наименьшую sMAPE можно получить с помощью модели градиентного бустинга для процесса флотации и всего процесса очистки. Проверил утверждение на адекватность с помошью констанстной модели."
   ]
  }
 ],
 "metadata": {
  "ExecuteTimeLog": [
   {
    "duration": 682,
    "start_time": "2023-06-05T09:36:02.275Z"
   }
  ],
  "kernelspec": {
   "display_name": "Python 3 (ipykernel)",
   "language": "python",
   "name": "python3"
  },
  "language_info": {
   "codemirror_mode": {
    "name": "ipython",
    "version": 3
   },
   "file_extension": ".py",
   "mimetype": "text/x-python",
   "name": "python",
   "nbconvert_exporter": "python",
   "pygments_lexer": "ipython3",
   "version": "3.9.7"
  },
  "toc": {
   "base_numbering": 1,
   "nav_menu": {},
   "number_sections": true,
   "sideBar": true,
   "skip_h1_title": true,
   "title_cell": "Table of Contents",
   "title_sidebar": "Contents",
   "toc_cell": false,
   "toc_position": {},
   "toc_section_display": true,
   "toc_window_display": false
  }
 },
 "nbformat": 4,
 "nbformat_minor": 5
}
